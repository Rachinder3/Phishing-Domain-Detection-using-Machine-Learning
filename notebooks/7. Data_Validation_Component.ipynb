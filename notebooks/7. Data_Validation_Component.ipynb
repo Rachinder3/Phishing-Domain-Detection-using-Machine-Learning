{
 "cells": [
  {
   "cell_type": "code",
   "execution_count": 1,
   "metadata": {},
   "outputs": [],
   "source": [
    "base_url = \"..//dataset//\""
   ]
  },
  {
   "cell_type": "markdown",
   "metadata": {},
   "source": [
    "# Loading libraries"
   ]
  },
  {
   "cell_type": "code",
   "execution_count": 2,
   "metadata": {},
   "outputs": [],
   "source": [
    "import pandas as pd\n",
    "import numpy as np\n",
    "\n",
    "pd.pandas.set_option('display.max_columns',None)"
   ]
  },
  {
   "cell_type": "markdown",
   "metadata": {},
   "source": [
    "# Ingesting the data"
   ]
  },
  {
   "cell_type": "code",
   "execution_count": 3,
   "metadata": {},
   "outputs": [],
   "source": [
    "df = pd.read_csv(base_url+'phishing_full.csv')"
   ]
  },
  {
   "cell_type": "code",
   "execution_count": 4,
   "metadata": {},
   "outputs": [],
   "source": [
    "top_features = ['directory_length', 'time_domain_activation', 'length_url',\n",
    "       'file_length', 'qty_slash_url', 'qty_plus_directory', 'domain_length',\n",
    "       'qty_vowels_domain', 'qty_asterisk_directory', 'qty_hyphen_directory',\n",
    "       'qty_dot_domain', 'qty_underline_directory', 'qty_percent_directory',\n",
    "       'qty_dot_url', 'qty_hyphen_url', 'qty_hyphen_file', 'qty_hyphen_domain',\n",
    "       'params_length', 'qty_underline_url', 'qty_tld_url', 'qty_plus_params',\n",
    "       'qty_percent_url', 'qty_equal_params', 'qty_dot_params',\n",
    "       'qty_percent_params', 'qty_underline_params']\n",
    "top_features.append('phishing')"
   ]
  },
  {
   "cell_type": "code",
   "execution_count": 5,
   "metadata": {},
   "outputs": [],
   "source": [
    "df = df[top_features]"
   ]
  },
  {
   "cell_type": "markdown",
   "metadata": {},
   "source": [
    "# Schema Validation"
   ]
  },
  {
   "cell_type": "markdown",
   "metadata": {},
   "source": [
    "### Creating the schema"
   ]
  },
  {
   "cell_type": "code",
   "execution_count": 6,
   "metadata": {},
   "outputs": [
    {
     "data": {
      "text/plain": [
       "array([dtype('int64'), dtype('int64'), dtype('int64'), dtype('int64'),\n",
       "       dtype('int64'), dtype('int64'), dtype('int64'), dtype('int64'),\n",
       "       dtype('int64'), dtype('int64'), dtype('int64'), dtype('int64'),\n",
       "       dtype('int64'), dtype('int64'), dtype('int64'), dtype('int64'),\n",
       "       dtype('int64'), dtype('int64'), dtype('int64'), dtype('int64'),\n",
       "       dtype('int64'), dtype('int64'), dtype('int64'), dtype('int64'),\n",
       "       dtype('int64'), dtype('int64'), dtype('int64')], dtype=object)"
      ]
     },
     "execution_count": 6,
     "metadata": {},
     "output_type": "execute_result"
    }
   ],
   "source": [
    "df.dtypes.values"
   ]
  },
  {
   "cell_type": "code",
   "execution_count": 7,
   "metadata": {},
   "outputs": [],
   "source": [
    "data_types = [str(i)for i in df.dtypes.values]"
   ]
  },
  {
   "cell_type": "code",
   "execution_count": 8,
   "metadata": {},
   "outputs": [
    {
     "data": {
      "text/plain": [
       "['int64',\n",
       " 'int64',\n",
       " 'int64',\n",
       " 'int64',\n",
       " 'int64',\n",
       " 'int64',\n",
       " 'int64',\n",
       " 'int64',\n",
       " 'int64',\n",
       " 'int64',\n",
       " 'int64',\n",
       " 'int64',\n",
       " 'int64',\n",
       " 'int64',\n",
       " 'int64',\n",
       " 'int64',\n",
       " 'int64',\n",
       " 'int64',\n",
       " 'int64',\n",
       " 'int64',\n",
       " 'int64',\n",
       " 'int64',\n",
       " 'int64',\n",
       " 'int64',\n",
       " 'int64',\n",
       " 'int64',\n",
       " 'int64']"
      ]
     },
     "execution_count": 8,
     "metadata": {},
     "output_type": "execute_result"
    }
   ],
   "source": [
    "data_types"
   ]
  },
  {
   "cell_type": "code",
   "execution_count": 9,
   "metadata": {},
   "outputs": [],
   "source": [
    "columns = df.columns"
   ]
  },
  {
   "cell_type": "code",
   "execution_count": 10,
   "metadata": {},
   "outputs": [],
   "source": [
    "current_schema = dict(zip(columns,data_types))"
   ]
  },
  {
   "cell_type": "code",
   "execution_count": 11,
   "metadata": {},
   "outputs": [
    {
     "data": {
      "text/plain": [
       "{'directory_length': 'int64',\n",
       " 'time_domain_activation': 'int64',\n",
       " 'length_url': 'int64',\n",
       " 'file_length': 'int64',\n",
       " 'qty_slash_url': 'int64',\n",
       " 'qty_plus_directory': 'int64',\n",
       " 'domain_length': 'int64',\n",
       " 'qty_vowels_domain': 'int64',\n",
       " 'qty_asterisk_directory': 'int64',\n",
       " 'qty_hyphen_directory': 'int64',\n",
       " 'qty_dot_domain': 'int64',\n",
       " 'qty_underline_directory': 'int64',\n",
       " 'qty_percent_directory': 'int64',\n",
       " 'qty_dot_url': 'int64',\n",
       " 'qty_hyphen_url': 'int64',\n",
       " 'qty_hyphen_file': 'int64',\n",
       " 'qty_hyphen_domain': 'int64',\n",
       " 'params_length': 'int64',\n",
       " 'qty_underline_url': 'int64',\n",
       " 'qty_tld_url': 'int64',\n",
       " 'qty_plus_params': 'int64',\n",
       " 'qty_percent_url': 'int64',\n",
       " 'qty_equal_params': 'int64',\n",
       " 'qty_dot_params': 'int64',\n",
       " 'qty_percent_params': 'int64',\n",
       " 'qty_underline_params': 'int64',\n",
       " 'phishing': 'int64'}"
      ]
     },
     "execution_count": 11,
     "metadata": {},
     "output_type": "execute_result"
    }
   ],
   "source": [
    "current_schema"
   ]
  },
  {
   "cell_type": "markdown",
   "metadata": {},
   "source": [
    "#### Dumping in yaml so that can be used in schema"
   ]
  },
  {
   "cell_type": "code",
   "execution_count": 12,
   "metadata": {},
   "outputs": [],
   "source": [
    "import os\n",
    "import yaml"
   ]
  },
  {
   "cell_type": "code",
   "execution_count": 13,
   "metadata": {},
   "outputs": [],
   "source": [
    "os.chdir(\"..\")"
   ]
  },
  {
   "cell_type": "code",
   "execution_count": null,
   "metadata": {},
   "outputs": [],
   "source": []
  },
  {
   "cell_type": "code",
   "execution_count": 14,
   "metadata": {},
   "outputs": [],
   "source": [
    "with open(r\"column_types.yaml\",'w') as file:\n",
    "    yaml.safe_dump(current_schema,file)"
   ]
  },
  {
   "cell_type": "code",
   "execution_count": null,
   "metadata": {},
   "outputs": [],
   "source": []
  },
  {
   "cell_type": "markdown",
   "metadata": {},
   "source": [
    "## Building configuration for Data Validation"
   ]
  },
  {
   "cell_type": "code",
   "execution_count": 15,
   "metadata": {},
   "outputs": [],
   "source": [
    "from phishing_domain_detection.constants import *\n"
   ]
  },
  {
   "cell_type": "code",
   "execution_count": 16,
   "metadata": {},
   "outputs": [],
   "source": [
    "from phishing_domain_detection.config.configuration import Configuration"
   ]
  },
  {
   "cell_type": "code",
   "execution_count": 17,
   "metadata": {},
   "outputs": [],
   "source": [
    "config = Configuration()"
   ]
  },
  {
   "cell_type": "code",
   "execution_count": 18,
   "metadata": {},
   "outputs": [],
   "source": [
    "data_validation_config = config.get_data_validation_config()"
   ]
  },
  {
   "cell_type": "code",
   "execution_count": 19,
   "metadata": {},
   "outputs": [
    {
     "data": {
      "text/plain": [
       "DataValidationConfig(schema_file_path='c:\\\\Users\\\\rachi\\\\Desktop\\\\inueuron\\\\PERSONAL PROJECTS\\\\Phishing-Domain-Detection-using-Machine-Learning\\\\config\\\\schema.yaml', report_file_path='c:\\\\Users\\\\rachi\\\\Desktop\\\\inueuron\\\\PERSONAL PROJECTS\\\\Phishing-Domain-Detection-using-Machine-Learning\\\\phishing_domain_detection\\\\artifacts\\\\data_validation\\\\2022-08-17_16-34-46\\\\report.json', report_page_file_path='c:\\\\Users\\\\rachi\\\\Desktop\\\\inueuron\\\\PERSONAL PROJECTS\\\\Phishing-Domain-Detection-using-Machine-Learning\\\\phishing_domain_detection\\\\artifacts\\\\data_validation\\\\2022-08-17_16-34-46\\\\report.html')"
      ]
     },
     "execution_count": 19,
     "metadata": {},
     "output_type": "execute_result"
    }
   ],
   "source": [
    "data_validation_config"
   ]
  },
  {
   "cell_type": "markdown",
   "metadata": {},
   "source": [
    "## Reading the schema file"
   ]
  },
  {
   "cell_type": "code",
   "execution_count": 20,
   "metadata": {},
   "outputs": [],
   "source": [
    "from phishing_domain_detection.util.util import *"
   ]
  },
  {
   "cell_type": "code",
   "execution_count": 21,
   "metadata": {},
   "outputs": [],
   "source": [
    "desired_schema = read_yaml_file(data_validation_config.schema_file_path)"
   ]
  },
  {
   "cell_type": "code",
   "execution_count": 22,
   "metadata": {},
   "outputs": [
    {
     "data": {
      "text/plain": [
       "{'columns': {'directory_length': 'int64',\n",
       "  'domain_length': 'int64',\n",
       "  'file_length': 'int64',\n",
       "  'length_url': 'int64',\n",
       "  'params_length': 'int64',\n",
       "  'qty_asterisk_directory': 'int64',\n",
       "  'qty_dot_domain': 'int64',\n",
       "  'qty_dot_params': 'int64',\n",
       "  'qty_dot_url': 'int64',\n",
       "  'qty_equal_params': 'int64',\n",
       "  'qty_hyphen_directory': 'int64',\n",
       "  'qty_hyphen_domain': 'int64',\n",
       "  'qty_hyphen_file': 'int64',\n",
       "  'qty_hyphen_url': 'int64',\n",
       "  'qty_percent_directory': 'int64',\n",
       "  'qty_percent_params': 'int64',\n",
       "  'qty_percent_url': 'int64',\n",
       "  'qty_plus_directory': 'int64',\n",
       "  'qty_plus_params': 'int64',\n",
       "  'qty_slash_url': 'int64',\n",
       "  'qty_tld_url': 'int64',\n",
       "  'qty_underline_directory': 'int64',\n",
       "  'qty_underline_params': 'int64',\n",
       "  'qty_underline_url': 'int64',\n",
       "  'qty_vowels_domain': 'int64',\n",
       "  'time_domain_activation': 'int64'},\n",
       " 'target_column': 'phishing'}"
      ]
     },
     "execution_count": 22,
     "metadata": {},
     "output_type": "execute_result"
    }
   ],
   "source": [
    "desired_schema"
   ]
  },
  {
   "cell_type": "code",
   "execution_count": 23,
   "metadata": {},
   "outputs": [
    {
     "data": {
      "text/plain": [
       "dict_keys(['columns', 'target_column'])"
      ]
     },
     "execution_count": 23,
     "metadata": {},
     "output_type": "execute_result"
    }
   ],
   "source": [
    "desired_schema.keys()"
   ]
  },
  {
   "cell_type": "code",
   "execution_count": 24,
   "metadata": {},
   "outputs": [],
   "source": [
    "from phishing_domain_detection.entity.config_entity import  DataValidationConfig, DataIngestionConfig"
   ]
  },
  {
   "cell_type": "code",
   "execution_count": 25,
   "metadata": {},
   "outputs": [],
   "source": [
    "from phishing_domain_detection.component.data_ingestion import DataIngestion\n",
    "from phishing_domain_detection.config.configuration import  Configuration"
   ]
  },
  {
   "cell_type": "code",
   "execution_count": 26,
   "metadata": {},
   "outputs": [],
   "source": [
    "config = Configuration()"
   ]
  },
  {
   "cell_type": "code",
   "execution_count": 27,
   "metadata": {},
   "outputs": [],
   "source": [
    "di_config = config.get_data_ingestion_config()"
   ]
  },
  {
   "cell_type": "code",
   "execution_count": 28,
   "metadata": {},
   "outputs": [],
   "source": [
    "di = DataIngestion(di_config)"
   ]
  },
  {
   "cell_type": "code",
   "execution_count": 29,
   "metadata": {},
   "outputs": [],
   "source": [
    "data_ingestion_artifact = di.initiate_data_ingestion()"
   ]
  },
  {
   "cell_type": "code",
   "execution_count": 30,
   "metadata": {},
   "outputs": [
    {
     "data": {
      "text/plain": [
       "'c:\\\\Users\\\\rachi\\\\Desktop\\\\inueuron\\\\PERSONAL PROJECTS\\\\Phishing-Domain-Detection-using-Machine-Learning\\\\phishing_domain_detection\\\\artifacts\\\\data_ingestion\\\\2022-08-17_16-34-46\\\\ingested_data\\\\train\\\\phishing_full'"
      ]
     },
     "execution_count": 30,
     "metadata": {},
     "output_type": "execute_result"
    }
   ],
   "source": [
    "data_ingestion_artifact.train_file_path"
   ]
  },
  {
   "cell_type": "markdown",
   "metadata": {},
   "source": [
    "\n",
    "# Ingesting Training and Testing Files and comparing with our custom schema"
   ]
  },
  {
   "cell_type": "code",
   "execution_count": 31,
   "metadata": {},
   "outputs": [],
   "source": [
    "import pandas as pd"
   ]
  },
  {
   "cell_type": "code",
   "execution_count": 32,
   "metadata": {},
   "outputs": [],
   "source": [
    "ingested_train_df = pd.read_csv(data_ingestion_artifact.train_file_path)"
   ]
  },
  {
   "cell_type": "code",
   "execution_count": 33,
   "metadata": {},
   "outputs": [
    {
     "data": {
      "text/html": [
       "<div>\n",
       "<style scoped>\n",
       "    .dataframe tbody tr th:only-of-type {\n",
       "        vertical-align: middle;\n",
       "    }\n",
       "\n",
       "    .dataframe tbody tr th {\n",
       "        vertical-align: top;\n",
       "    }\n",
       "\n",
       "    .dataframe thead th {\n",
       "        text-align: right;\n",
       "    }\n",
       "</style>\n",
       "<table border=\"1\" class=\"dataframe\">\n",
       "  <thead>\n",
       "    <tr style=\"text-align: right;\">\n",
       "      <th></th>\n",
       "      <th>directory_length</th>\n",
       "      <th>time_domain_activation</th>\n",
       "      <th>length_url</th>\n",
       "      <th>file_length</th>\n",
       "      <th>qty_slash_url</th>\n",
       "      <th>qty_plus_directory</th>\n",
       "      <th>domain_length</th>\n",
       "      <th>qty_vowels_domain</th>\n",
       "      <th>qty_asterisk_directory</th>\n",
       "      <th>qty_hyphen_directory</th>\n",
       "      <th>qty_dot_domain</th>\n",
       "      <th>qty_underline_directory</th>\n",
       "      <th>qty_percent_directory</th>\n",
       "      <th>qty_dot_url</th>\n",
       "      <th>qty_hyphen_url</th>\n",
       "      <th>qty_hyphen_file</th>\n",
       "      <th>qty_hyphen_domain</th>\n",
       "      <th>params_length</th>\n",
       "      <th>qty_underline_url</th>\n",
       "      <th>qty_tld_url</th>\n",
       "      <th>qty_plus_params</th>\n",
       "      <th>qty_percent_url</th>\n",
       "      <th>qty_equal_params</th>\n",
       "      <th>qty_dot_params</th>\n",
       "      <th>qty_percent_params</th>\n",
       "      <th>qty_underline_params</th>\n",
       "      <th>phishing</th>\n",
       "    </tr>\n",
       "  </thead>\n",
       "  <tbody>\n",
       "    <tr>\n",
       "      <th>0</th>\n",
       "      <td>-1</td>\n",
       "      <td>6659</td>\n",
       "      <td>26</td>\n",
       "      <td>-1</td>\n",
       "      <td>0</td>\n",
       "      <td>-1</td>\n",
       "      <td>26</td>\n",
       "      <td>7</td>\n",
       "      <td>-1</td>\n",
       "      <td>-1</td>\n",
       "      <td>2</td>\n",
       "      <td>-1</td>\n",
       "      <td>-1</td>\n",
       "      <td>2</td>\n",
       "      <td>0</td>\n",
       "      <td>-1</td>\n",
       "      <td>0</td>\n",
       "      <td>-1</td>\n",
       "      <td>0</td>\n",
       "      <td>1</td>\n",
       "      <td>-1</td>\n",
       "      <td>0</td>\n",
       "      <td>-1</td>\n",
       "      <td>-1</td>\n",
       "      <td>-1</td>\n",
       "      <td>-1</td>\n",
       "      <td>0</td>\n",
       "    </tr>\n",
       "    <tr>\n",
       "      <th>1</th>\n",
       "      <td>1</td>\n",
       "      <td>7078</td>\n",
       "      <td>19</td>\n",
       "      <td>0</td>\n",
       "      <td>1</td>\n",
       "      <td>0</td>\n",
       "      <td>18</td>\n",
       "      <td>5</td>\n",
       "      <td>0</td>\n",
       "      <td>0</td>\n",
       "      <td>2</td>\n",
       "      <td>0</td>\n",
       "      <td>0</td>\n",
       "      <td>2</td>\n",
       "      <td>0</td>\n",
       "      <td>0</td>\n",
       "      <td>0</td>\n",
       "      <td>-1</td>\n",
       "      <td>0</td>\n",
       "      <td>1</td>\n",
       "      <td>-1</td>\n",
       "      <td>0</td>\n",
       "      <td>-1</td>\n",
       "      <td>-1</td>\n",
       "      <td>-1</td>\n",
       "      <td>-1</td>\n",
       "      <td>0</td>\n",
       "    </tr>\n",
       "    <tr>\n",
       "      <th>2</th>\n",
       "      <td>19</td>\n",
       "      <td>1233</td>\n",
       "      <td>32</td>\n",
       "      <td>0</td>\n",
       "      <td>4</td>\n",
       "      <td>0</td>\n",
       "      <td>13</td>\n",
       "      <td>6</td>\n",
       "      <td>0</td>\n",
       "      <td>0</td>\n",
       "      <td>1</td>\n",
       "      <td>0</td>\n",
       "      <td>0</td>\n",
       "      <td>1</td>\n",
       "      <td>1</td>\n",
       "      <td>0</td>\n",
       "      <td>1</td>\n",
       "      <td>-1</td>\n",
       "      <td>0</td>\n",
       "      <td>1</td>\n",
       "      <td>-1</td>\n",
       "      <td>0</td>\n",
       "      <td>-1</td>\n",
       "      <td>-1</td>\n",
       "      <td>-1</td>\n",
       "      <td>-1</td>\n",
       "      <td>1</td>\n",
       "    </tr>\n",
       "    <tr>\n",
       "      <th>3</th>\n",
       "      <td>1</td>\n",
       "      <td>3519</td>\n",
       "      <td>14</td>\n",
       "      <td>0</td>\n",
       "      <td>1</td>\n",
       "      <td>0</td>\n",
       "      <td>13</td>\n",
       "      <td>4</td>\n",
       "      <td>0</td>\n",
       "      <td>0</td>\n",
       "      <td>1</td>\n",
       "      <td>0</td>\n",
       "      <td>0</td>\n",
       "      <td>1</td>\n",
       "      <td>1</td>\n",
       "      <td>0</td>\n",
       "      <td>1</td>\n",
       "      <td>-1</td>\n",
       "      <td>0</td>\n",
       "      <td>1</td>\n",
       "      <td>-1</td>\n",
       "      <td>0</td>\n",
       "      <td>-1</td>\n",
       "      <td>-1</td>\n",
       "      <td>-1</td>\n",
       "      <td>-1</td>\n",
       "      <td>0</td>\n",
       "    </tr>\n",
       "    <tr>\n",
       "      <th>4</th>\n",
       "      <td>1</td>\n",
       "      <td>3460</td>\n",
       "      <td>27</td>\n",
       "      <td>0</td>\n",
       "      <td>1</td>\n",
       "      <td>0</td>\n",
       "      <td>26</td>\n",
       "      <td>8</td>\n",
       "      <td>0</td>\n",
       "      <td>0</td>\n",
       "      <td>3</td>\n",
       "      <td>0</td>\n",
       "      <td>0</td>\n",
       "      <td>3</td>\n",
       "      <td>0</td>\n",
       "      <td>0</td>\n",
       "      <td>0</td>\n",
       "      <td>-1</td>\n",
       "      <td>0</td>\n",
       "      <td>1</td>\n",
       "      <td>-1</td>\n",
       "      <td>0</td>\n",
       "      <td>-1</td>\n",
       "      <td>-1</td>\n",
       "      <td>-1</td>\n",
       "      <td>-1</td>\n",
       "      <td>0</td>\n",
       "    </tr>\n",
       "    <tr>\n",
       "      <th>...</th>\n",
       "      <td>...</td>\n",
       "      <td>...</td>\n",
       "      <td>...</td>\n",
       "      <td>...</td>\n",
       "      <td>...</td>\n",
       "      <td>...</td>\n",
       "      <td>...</td>\n",
       "      <td>...</td>\n",
       "      <td>...</td>\n",
       "      <td>...</td>\n",
       "      <td>...</td>\n",
       "      <td>...</td>\n",
       "      <td>...</td>\n",
       "      <td>...</td>\n",
       "      <td>...</td>\n",
       "      <td>...</td>\n",
       "      <td>...</td>\n",
       "      <td>...</td>\n",
       "      <td>...</td>\n",
       "      <td>...</td>\n",
       "      <td>...</td>\n",
       "      <td>...</td>\n",
       "      <td>...</td>\n",
       "      <td>...</td>\n",
       "      <td>...</td>\n",
       "      <td>...</td>\n",
       "      <td>...</td>\n",
       "    </tr>\n",
       "    <tr>\n",
       "      <th>70912</th>\n",
       "      <td>1</td>\n",
       "      <td>-1</td>\n",
       "      <td>15</td>\n",
       "      <td>0</td>\n",
       "      <td>1</td>\n",
       "      <td>0</td>\n",
       "      <td>14</td>\n",
       "      <td>5</td>\n",
       "      <td>0</td>\n",
       "      <td>0</td>\n",
       "      <td>2</td>\n",
       "      <td>0</td>\n",
       "      <td>0</td>\n",
       "      <td>2</td>\n",
       "      <td>0</td>\n",
       "      <td>0</td>\n",
       "      <td>0</td>\n",
       "      <td>-1</td>\n",
       "      <td>0</td>\n",
       "      <td>1</td>\n",
       "      <td>-1</td>\n",
       "      <td>0</td>\n",
       "      <td>-1</td>\n",
       "      <td>-1</td>\n",
       "      <td>-1</td>\n",
       "      <td>-1</td>\n",
       "      <td>0</td>\n",
       "    </tr>\n",
       "    <tr>\n",
       "      <th>70913</th>\n",
       "      <td>-1</td>\n",
       "      <td>6767</td>\n",
       "      <td>15</td>\n",
       "      <td>-1</td>\n",
       "      <td>0</td>\n",
       "      <td>-1</td>\n",
       "      <td>15</td>\n",
       "      <td>4</td>\n",
       "      <td>-1</td>\n",
       "      <td>-1</td>\n",
       "      <td>2</td>\n",
       "      <td>-1</td>\n",
       "      <td>-1</td>\n",
       "      <td>2</td>\n",
       "      <td>0</td>\n",
       "      <td>-1</td>\n",
       "      <td>0</td>\n",
       "      <td>-1</td>\n",
       "      <td>0</td>\n",
       "      <td>1</td>\n",
       "      <td>-1</td>\n",
       "      <td>0</td>\n",
       "      <td>-1</td>\n",
       "      <td>-1</td>\n",
       "      <td>-1</td>\n",
       "      <td>-1</td>\n",
       "      <td>0</td>\n",
       "    </tr>\n",
       "    <tr>\n",
       "      <th>70914</th>\n",
       "      <td>56</td>\n",
       "      <td>88</td>\n",
       "      <td>77</td>\n",
       "      <td>0</td>\n",
       "      <td>6</td>\n",
       "      <td>0</td>\n",
       "      <td>21</td>\n",
       "      <td>6</td>\n",
       "      <td>0</td>\n",
       "      <td>3</td>\n",
       "      <td>1</td>\n",
       "      <td>0</td>\n",
       "      <td>0</td>\n",
       "      <td>2</td>\n",
       "      <td>3</td>\n",
       "      <td>0</td>\n",
       "      <td>0</td>\n",
       "      <td>-1</td>\n",
       "      <td>0</td>\n",
       "      <td>1</td>\n",
       "      <td>-1</td>\n",
       "      <td>0</td>\n",
       "      <td>-1</td>\n",
       "      <td>-1</td>\n",
       "      <td>-1</td>\n",
       "      <td>-1</td>\n",
       "      <td>1</td>\n",
       "    </tr>\n",
       "    <tr>\n",
       "      <th>70915</th>\n",
       "      <td>28</td>\n",
       "      <td>1914</td>\n",
       "      <td>48</td>\n",
       "      <td>9</td>\n",
       "      <td>5</td>\n",
       "      <td>0</td>\n",
       "      <td>20</td>\n",
       "      <td>6</td>\n",
       "      <td>0</td>\n",
       "      <td>0</td>\n",
       "      <td>1</td>\n",
       "      <td>0</td>\n",
       "      <td>0</td>\n",
       "      <td>2</td>\n",
       "      <td>0</td>\n",
       "      <td>0</td>\n",
       "      <td>0</td>\n",
       "      <td>-1</td>\n",
       "      <td>0</td>\n",
       "      <td>1</td>\n",
       "      <td>-1</td>\n",
       "      <td>0</td>\n",
       "      <td>-1</td>\n",
       "      <td>-1</td>\n",
       "      <td>-1</td>\n",
       "      <td>-1</td>\n",
       "      <td>1</td>\n",
       "    </tr>\n",
       "    <tr>\n",
       "      <th>70916</th>\n",
       "      <td>17</td>\n",
       "      <td>1891</td>\n",
       "      <td>54</td>\n",
       "      <td>10</td>\n",
       "      <td>2</td>\n",
       "      <td>0</td>\n",
       "      <td>21</td>\n",
       "      <td>5</td>\n",
       "      <td>0</td>\n",
       "      <td>0</td>\n",
       "      <td>2</td>\n",
       "      <td>0</td>\n",
       "      <td>0</td>\n",
       "      <td>3</td>\n",
       "      <td>0</td>\n",
       "      <td>0</td>\n",
       "      <td>0</td>\n",
       "      <td>16</td>\n",
       "      <td>1</td>\n",
       "      <td>1</td>\n",
       "      <td>0</td>\n",
       "      <td>0</td>\n",
       "      <td>1</td>\n",
       "      <td>0</td>\n",
       "      <td>0</td>\n",
       "      <td>1</td>\n",
       "      <td>1</td>\n",
       "    </tr>\n",
       "  </tbody>\n",
       "</table>\n",
       "<p>70917 rows × 27 columns</p>\n",
       "</div>"
      ],
      "text/plain": [
       "       directory_length  time_domain_activation  length_url  file_length  \\\n",
       "0                    -1                    6659          26           -1   \n",
       "1                     1                    7078          19            0   \n",
       "2                    19                    1233          32            0   \n",
       "3                     1                    3519          14            0   \n",
       "4                     1                    3460          27            0   \n",
       "...                 ...                     ...         ...          ...   \n",
       "70912                 1                      -1          15            0   \n",
       "70913                -1                    6767          15           -1   \n",
       "70914                56                      88          77            0   \n",
       "70915                28                    1914          48            9   \n",
       "70916                17                    1891          54           10   \n",
       "\n",
       "       qty_slash_url  qty_plus_directory  domain_length  qty_vowels_domain  \\\n",
       "0                  0                  -1             26                  7   \n",
       "1                  1                   0             18                  5   \n",
       "2                  4                   0             13                  6   \n",
       "3                  1                   0             13                  4   \n",
       "4                  1                   0             26                  8   \n",
       "...              ...                 ...            ...                ...   \n",
       "70912              1                   0             14                  5   \n",
       "70913              0                  -1             15                  4   \n",
       "70914              6                   0             21                  6   \n",
       "70915              5                   0             20                  6   \n",
       "70916              2                   0             21                  5   \n",
       "\n",
       "       qty_asterisk_directory  qty_hyphen_directory  qty_dot_domain  \\\n",
       "0                          -1                    -1               2   \n",
       "1                           0                     0               2   \n",
       "2                           0                     0               1   \n",
       "3                           0                     0               1   \n",
       "4                           0                     0               3   \n",
       "...                       ...                   ...             ...   \n",
       "70912                       0                     0               2   \n",
       "70913                      -1                    -1               2   \n",
       "70914                       0                     3               1   \n",
       "70915                       0                     0               1   \n",
       "70916                       0                     0               2   \n",
       "\n",
       "       qty_underline_directory  qty_percent_directory  qty_dot_url  \\\n",
       "0                           -1                     -1            2   \n",
       "1                            0                      0            2   \n",
       "2                            0                      0            1   \n",
       "3                            0                      0            1   \n",
       "4                            0                      0            3   \n",
       "...                        ...                    ...          ...   \n",
       "70912                        0                      0            2   \n",
       "70913                       -1                     -1            2   \n",
       "70914                        0                      0            2   \n",
       "70915                        0                      0            2   \n",
       "70916                        0                      0            3   \n",
       "\n",
       "       qty_hyphen_url  qty_hyphen_file  qty_hyphen_domain  params_length  \\\n",
       "0                   0               -1                  0             -1   \n",
       "1                   0                0                  0             -1   \n",
       "2                   1                0                  1             -1   \n",
       "3                   1                0                  1             -1   \n",
       "4                   0                0                  0             -1   \n",
       "...               ...              ...                ...            ...   \n",
       "70912               0                0                  0             -1   \n",
       "70913               0               -1                  0             -1   \n",
       "70914               3                0                  0             -1   \n",
       "70915               0                0                  0             -1   \n",
       "70916               0                0                  0             16   \n",
       "\n",
       "       qty_underline_url  qty_tld_url  qty_plus_params  qty_percent_url  \\\n",
       "0                      0            1               -1                0   \n",
       "1                      0            1               -1                0   \n",
       "2                      0            1               -1                0   \n",
       "3                      0            1               -1                0   \n",
       "4                      0            1               -1                0   \n",
       "...                  ...          ...              ...              ...   \n",
       "70912                  0            1               -1                0   \n",
       "70913                  0            1               -1                0   \n",
       "70914                  0            1               -1                0   \n",
       "70915                  0            1               -1                0   \n",
       "70916                  1            1                0                0   \n",
       "\n",
       "       qty_equal_params  qty_dot_params  qty_percent_params  \\\n",
       "0                    -1              -1                  -1   \n",
       "1                    -1              -1                  -1   \n",
       "2                    -1              -1                  -1   \n",
       "3                    -1              -1                  -1   \n",
       "4                    -1              -1                  -1   \n",
       "...                 ...             ...                 ...   \n",
       "70912                -1              -1                  -1   \n",
       "70913                -1              -1                  -1   \n",
       "70914                -1              -1                  -1   \n",
       "70915                -1              -1                  -1   \n",
       "70916                 1               0                   0   \n",
       "\n",
       "       qty_underline_params  phishing  \n",
       "0                        -1         0  \n",
       "1                        -1         0  \n",
       "2                        -1         1  \n",
       "3                        -1         0  \n",
       "4                        -1         0  \n",
       "...                     ...       ...  \n",
       "70912                    -1         0  \n",
       "70913                    -1         0  \n",
       "70914                    -1         1  \n",
       "70915                    -1         1  \n",
       "70916                     1         1  \n",
       "\n",
       "[70917 rows x 27 columns]"
      ]
     },
     "execution_count": 33,
     "metadata": {},
     "output_type": "execute_result"
    }
   ],
   "source": [
    "ingested_train_df"
   ]
  },
  {
   "cell_type": "markdown",
   "metadata": {},
   "source": [
    "## Checking column number"
   ]
  },
  {
   "cell_type": "code",
   "execution_count": 34,
   "metadata": {},
   "outputs": [
    {
     "data": {
      "text/plain": [
       "True"
      ]
     },
     "execution_count": 34,
     "metadata": {},
     "output_type": "execute_result"
    }
   ],
   "source": [
    "len(ingested_train_df.columns) == len(desired_schema['columns'])+1"
   ]
  },
  {
   "cell_type": "markdown",
   "metadata": {},
   "source": [
    "## Checking if schemas are same"
   ]
  },
  {
   "cell_type": "code",
   "execution_count": 35,
   "metadata": {},
   "outputs": [
    {
     "data": {
      "text/plain": [
       "True"
      ]
     },
     "execution_count": 35,
     "metadata": {},
     "output_type": "execute_result"
    }
   ],
   "source": [
    "desired_schema_with_target = set(desired_schema['columns'])\n",
    "desired_schema_with_target.add(desired_schema['target_column'])\n",
    "set(ingested_train_df.columns) == desired_schema_with_target"
   ]
  },
  {
   "cell_type": "code",
   "execution_count": 36,
   "metadata": {},
   "outputs": [],
   "source": [
    "from phishing_domain_detection.component.data_validation import DataValidation"
   ]
  },
  {
   "cell_type": "code",
   "execution_count": null,
   "metadata": {},
   "outputs": [],
   "source": []
  },
  {
   "cell_type": "code",
   "execution_count": 39,
   "metadata": {},
   "outputs": [],
   "source": [
    "dv = DataValidation(data_ingestion_artifact=data_ingestion_artifact, data_validation_config=config.get_data_validation_config(), training_pipeline_config=config.get_training_pipeline_config())"
   ]
  },
  {
   "cell_type": "code",
   "execution_count": 40,
   "metadata": {},
   "outputs": [],
   "source": [
    "dv.does_train_test_file_exists()"
   ]
  },
  {
   "cell_type": "code",
   "execution_count": 41,
   "metadata": {},
   "outputs": [],
   "source": [
    "dv.validate_schema()"
   ]
  },
  {
   "cell_type": "code",
   "execution_count": 42,
   "metadata": {},
   "outputs": [],
   "source": [
    "dv.validate_schema()"
   ]
  },
  {
   "cell_type": "code",
   "execution_count": null,
   "metadata": {},
   "outputs": [],
   "source": []
  },
  {
   "cell_type": "markdown",
   "metadata": {},
   "source": [
    "# Data Drift"
   ]
  },
  {
   "cell_type": "markdown",
   "metadata": {},
   "source": [
    "### Oldest Ingested Data"
   ]
  },
  {
   "cell_type": "code",
   "execution_count": 43,
   "metadata": {},
   "outputs": [],
   "source": [
    "from phishing_domain_detection.constants import *"
   ]
  },
  {
   "cell_type": "code",
   "execution_count": 44,
   "metadata": {},
   "outputs": [
    {
     "data": {
      "text/plain": [
       "'data_ingestion'"
      ]
     },
     "execution_count": 44,
     "metadata": {},
     "output_type": "execute_result"
    }
   ],
   "source": [
    "DATA_INGESTION_ARTIFACT_DIR_KEY"
   ]
  },
  {
   "cell_type": "code",
   "execution_count": 45,
   "metadata": {},
   "outputs": [],
   "source": [
    "training_pipeline_config = config.get_training_pipeline_config()"
   ]
  },
  {
   "cell_type": "code",
   "execution_count": 46,
   "metadata": {},
   "outputs": [],
   "source": [
    "data_ingestion_dir = os.path.join(training_pipeline_config.artifact_dir, DATA_INGESTION_ARTIFACT_DIR_KEY)"
   ]
  },
  {
   "cell_type": "code",
   "execution_count": 47,
   "metadata": {},
   "outputs": [
    {
     "data": {
      "text/plain": [
       "'c:\\\\Users\\\\rachi\\\\Desktop\\\\inueuron\\\\PERSONAL PROJECTS\\\\Phishing-Domain-Detection-using-Machine-Learning\\\\phishing_domain_detection\\\\artifacts\\\\data_ingestion'"
      ]
     },
     "execution_count": 47,
     "metadata": {},
     "output_type": "execute_result"
    }
   ],
   "source": [
    "data_ingestion_dir"
   ]
  },
  {
   "cell_type": "code",
   "execution_count": 48,
   "metadata": {},
   "outputs": [],
   "source": [
    "ingestions = os.listdir(data_ingestion_dir)"
   ]
  },
  {
   "cell_type": "code",
   "execution_count": 49,
   "metadata": {},
   "outputs": [],
   "source": [
    "import datetime"
   ]
  },
  {
   "cell_type": "code",
   "execution_count": 50,
   "metadata": {},
   "outputs": [
    {
     "data": {
      "text/plain": [
       "datetime.datetime(2022, 8, 15, 1, 6, 17)"
      ]
     },
     "execution_count": 50,
     "metadata": {},
     "output_type": "execute_result"
    }
   ],
   "source": [
    "datetime.datetime.strptime(ingestions[0],'%Y-%m-%d_%H-%M-%S')"
   ]
  },
  {
   "cell_type": "code",
   "execution_count": 51,
   "metadata": {},
   "outputs": [],
   "source": [
    "all_times = [datetime.datetime.strptime(ingestion,'%Y-%m-%d_%H-%M-%S') for ingestion in ingestions]"
   ]
  },
  {
   "cell_type": "code",
   "execution_count": 52,
   "metadata": {},
   "outputs": [],
   "source": [
    "oldest_time_stamp = min(all_times)"
   ]
  },
  {
   "cell_type": "code",
   "execution_count": 53,
   "metadata": {},
   "outputs": [
    {
     "data": {
      "text/plain": [
       "datetime.datetime(2022, 8, 15, 1, 6, 17)"
      ]
     },
     "execution_count": 53,
     "metadata": {},
     "output_type": "execute_result"
    }
   ],
   "source": [
    "oldest_time_stamp"
   ]
  },
  {
   "cell_type": "code",
   "execution_count": 54,
   "metadata": {},
   "outputs": [],
   "source": [
    "t_s = datetime.datetime.strftime(oldest_time_stamp,'%Y-%m-%d_%H-%M-%S')"
   ]
  },
  {
   "cell_type": "code",
   "execution_count": 55,
   "metadata": {},
   "outputs": [
    {
     "data": {
      "text/plain": [
       "'2022-08-15_01-06-17'"
      ]
     },
     "execution_count": 55,
     "metadata": {},
     "output_type": "execute_result"
    }
   ],
   "source": [
    "t_s"
   ]
  },
  {
   "cell_type": "code",
   "execution_count": 56,
   "metadata": {},
   "outputs": [
    {
     "data": {
      "text/plain": [
       "'c:\\\\Users\\\\rachi\\\\Desktop\\\\inueuron\\\\PERSONAL PROJECTS\\\\Phishing-Domain-Detection-using-Machine-Learning\\\\phishing_domain_detection\\\\artifacts\\\\data_ingestion\\\\2022-08-17_16-34-46\\\\ingested_data\\\\train\\\\phishing_full'"
      ]
     },
     "execution_count": 56,
     "metadata": {},
     "output_type": "execute_result"
    }
   ],
   "source": [
    "data_ingestion_artifact.train_file_path"
   ]
  },
  {
   "cell_type": "code",
   "execution_count": 57,
   "metadata": {},
   "outputs": [],
   "source": [
    "import re"
   ]
  },
  {
   "cell_type": "code",
   "execution_count": null,
   "metadata": {},
   "outputs": [],
   "source": []
  },
  {
   "cell_type": "code",
   "execution_count": 58,
   "metadata": {},
   "outputs": [],
   "source": [
    "oldest_train_file_path = re.sub(pattern=\"\\d{4}-\\d{2}-\\d{2}_\\d{2}-\\d{2}-\\d{2}\",string=data_ingestion_artifact.train_file_path, repl=t_s)"
   ]
  },
  {
   "cell_type": "code",
   "execution_count": null,
   "metadata": {},
   "outputs": [],
   "source": []
  },
  {
   "cell_type": "markdown",
   "metadata": {},
   "source": [
    "##### Testing oldest file"
   ]
  },
  {
   "cell_type": "code",
   "execution_count": 60,
   "metadata": {},
   "outputs": [
    {
     "data": {
      "text/html": [
       "<div>\n",
       "<style scoped>\n",
       "    .dataframe tbody tr th:only-of-type {\n",
       "        vertical-align: middle;\n",
       "    }\n",
       "\n",
       "    .dataframe tbody tr th {\n",
       "        vertical-align: top;\n",
       "    }\n",
       "\n",
       "    .dataframe thead th {\n",
       "        text-align: right;\n",
       "    }\n",
       "</style>\n",
       "<table border=\"1\" class=\"dataframe\">\n",
       "  <thead>\n",
       "    <tr style=\"text-align: right;\">\n",
       "      <th></th>\n",
       "      <th>directory_length</th>\n",
       "      <th>time_domain_activation</th>\n",
       "      <th>length_url</th>\n",
       "      <th>file_length</th>\n",
       "      <th>qty_slash_url</th>\n",
       "      <th>qty_plus_directory</th>\n",
       "      <th>domain_length</th>\n",
       "      <th>qty_vowels_domain</th>\n",
       "      <th>qty_asterisk_directory</th>\n",
       "      <th>qty_hyphen_directory</th>\n",
       "      <th>qty_dot_domain</th>\n",
       "      <th>qty_underline_directory</th>\n",
       "      <th>qty_percent_directory</th>\n",
       "      <th>qty_dot_url</th>\n",
       "      <th>qty_hyphen_url</th>\n",
       "      <th>qty_hyphen_file</th>\n",
       "      <th>qty_hyphen_domain</th>\n",
       "      <th>params_length</th>\n",
       "      <th>qty_underline_url</th>\n",
       "      <th>qty_tld_url</th>\n",
       "      <th>qty_plus_params</th>\n",
       "      <th>qty_percent_url</th>\n",
       "      <th>qty_equal_params</th>\n",
       "      <th>qty_dot_params</th>\n",
       "      <th>qty_percent_params</th>\n",
       "      <th>qty_underline_params</th>\n",
       "      <th>phishing</th>\n",
       "    </tr>\n",
       "  </thead>\n",
       "  <tbody>\n",
       "    <tr>\n",
       "      <th>0</th>\n",
       "      <td>-1</td>\n",
       "      <td>6659</td>\n",
       "      <td>26</td>\n",
       "      <td>-1</td>\n",
       "      <td>0</td>\n",
       "      <td>-1</td>\n",
       "      <td>26</td>\n",
       "      <td>7</td>\n",
       "      <td>-1</td>\n",
       "      <td>-1</td>\n",
       "      <td>2</td>\n",
       "      <td>-1</td>\n",
       "      <td>-1</td>\n",
       "      <td>2</td>\n",
       "      <td>0</td>\n",
       "      <td>-1</td>\n",
       "      <td>0</td>\n",
       "      <td>-1</td>\n",
       "      <td>0</td>\n",
       "      <td>1</td>\n",
       "      <td>-1</td>\n",
       "      <td>0</td>\n",
       "      <td>-1</td>\n",
       "      <td>-1</td>\n",
       "      <td>-1</td>\n",
       "      <td>-1</td>\n",
       "      <td>0</td>\n",
       "    </tr>\n",
       "    <tr>\n",
       "      <th>1</th>\n",
       "      <td>1</td>\n",
       "      <td>7078</td>\n",
       "      <td>19</td>\n",
       "      <td>0</td>\n",
       "      <td>1</td>\n",
       "      <td>0</td>\n",
       "      <td>18</td>\n",
       "      <td>5</td>\n",
       "      <td>0</td>\n",
       "      <td>0</td>\n",
       "      <td>2</td>\n",
       "      <td>0</td>\n",
       "      <td>0</td>\n",
       "      <td>2</td>\n",
       "      <td>0</td>\n",
       "      <td>0</td>\n",
       "      <td>0</td>\n",
       "      <td>-1</td>\n",
       "      <td>0</td>\n",
       "      <td>1</td>\n",
       "      <td>-1</td>\n",
       "      <td>0</td>\n",
       "      <td>-1</td>\n",
       "      <td>-1</td>\n",
       "      <td>-1</td>\n",
       "      <td>-1</td>\n",
       "      <td>0</td>\n",
       "    </tr>\n",
       "    <tr>\n",
       "      <th>2</th>\n",
       "      <td>19</td>\n",
       "      <td>1233</td>\n",
       "      <td>32</td>\n",
       "      <td>0</td>\n",
       "      <td>4</td>\n",
       "      <td>0</td>\n",
       "      <td>13</td>\n",
       "      <td>6</td>\n",
       "      <td>0</td>\n",
       "      <td>0</td>\n",
       "      <td>1</td>\n",
       "      <td>0</td>\n",
       "      <td>0</td>\n",
       "      <td>1</td>\n",
       "      <td>1</td>\n",
       "      <td>0</td>\n",
       "      <td>1</td>\n",
       "      <td>-1</td>\n",
       "      <td>0</td>\n",
       "      <td>1</td>\n",
       "      <td>-1</td>\n",
       "      <td>0</td>\n",
       "      <td>-1</td>\n",
       "      <td>-1</td>\n",
       "      <td>-1</td>\n",
       "      <td>-1</td>\n",
       "      <td>1</td>\n",
       "    </tr>\n",
       "    <tr>\n",
       "      <th>3</th>\n",
       "      <td>1</td>\n",
       "      <td>3519</td>\n",
       "      <td>14</td>\n",
       "      <td>0</td>\n",
       "      <td>1</td>\n",
       "      <td>0</td>\n",
       "      <td>13</td>\n",
       "      <td>4</td>\n",
       "      <td>0</td>\n",
       "      <td>0</td>\n",
       "      <td>1</td>\n",
       "      <td>0</td>\n",
       "      <td>0</td>\n",
       "      <td>1</td>\n",
       "      <td>1</td>\n",
       "      <td>0</td>\n",
       "      <td>1</td>\n",
       "      <td>-1</td>\n",
       "      <td>0</td>\n",
       "      <td>1</td>\n",
       "      <td>-1</td>\n",
       "      <td>0</td>\n",
       "      <td>-1</td>\n",
       "      <td>-1</td>\n",
       "      <td>-1</td>\n",
       "      <td>-1</td>\n",
       "      <td>0</td>\n",
       "    </tr>\n",
       "    <tr>\n",
       "      <th>4</th>\n",
       "      <td>1</td>\n",
       "      <td>3460</td>\n",
       "      <td>27</td>\n",
       "      <td>0</td>\n",
       "      <td>1</td>\n",
       "      <td>0</td>\n",
       "      <td>26</td>\n",
       "      <td>8</td>\n",
       "      <td>0</td>\n",
       "      <td>0</td>\n",
       "      <td>3</td>\n",
       "      <td>0</td>\n",
       "      <td>0</td>\n",
       "      <td>3</td>\n",
       "      <td>0</td>\n",
       "      <td>0</td>\n",
       "      <td>0</td>\n",
       "      <td>-1</td>\n",
       "      <td>0</td>\n",
       "      <td>1</td>\n",
       "      <td>-1</td>\n",
       "      <td>0</td>\n",
       "      <td>-1</td>\n",
       "      <td>-1</td>\n",
       "      <td>-1</td>\n",
       "      <td>-1</td>\n",
       "      <td>0</td>\n",
       "    </tr>\n",
       "    <tr>\n",
       "      <th>...</th>\n",
       "      <td>...</td>\n",
       "      <td>...</td>\n",
       "      <td>...</td>\n",
       "      <td>...</td>\n",
       "      <td>...</td>\n",
       "      <td>...</td>\n",
       "      <td>...</td>\n",
       "      <td>...</td>\n",
       "      <td>...</td>\n",
       "      <td>...</td>\n",
       "      <td>...</td>\n",
       "      <td>...</td>\n",
       "      <td>...</td>\n",
       "      <td>...</td>\n",
       "      <td>...</td>\n",
       "      <td>...</td>\n",
       "      <td>...</td>\n",
       "      <td>...</td>\n",
       "      <td>...</td>\n",
       "      <td>...</td>\n",
       "      <td>...</td>\n",
       "      <td>...</td>\n",
       "      <td>...</td>\n",
       "      <td>...</td>\n",
       "      <td>...</td>\n",
       "      <td>...</td>\n",
       "      <td>...</td>\n",
       "    </tr>\n",
       "    <tr>\n",
       "      <th>70912</th>\n",
       "      <td>1</td>\n",
       "      <td>-1</td>\n",
       "      <td>15</td>\n",
       "      <td>0</td>\n",
       "      <td>1</td>\n",
       "      <td>0</td>\n",
       "      <td>14</td>\n",
       "      <td>5</td>\n",
       "      <td>0</td>\n",
       "      <td>0</td>\n",
       "      <td>2</td>\n",
       "      <td>0</td>\n",
       "      <td>0</td>\n",
       "      <td>2</td>\n",
       "      <td>0</td>\n",
       "      <td>0</td>\n",
       "      <td>0</td>\n",
       "      <td>-1</td>\n",
       "      <td>0</td>\n",
       "      <td>1</td>\n",
       "      <td>-1</td>\n",
       "      <td>0</td>\n",
       "      <td>-1</td>\n",
       "      <td>-1</td>\n",
       "      <td>-1</td>\n",
       "      <td>-1</td>\n",
       "      <td>0</td>\n",
       "    </tr>\n",
       "    <tr>\n",
       "      <th>70913</th>\n",
       "      <td>-1</td>\n",
       "      <td>6767</td>\n",
       "      <td>15</td>\n",
       "      <td>-1</td>\n",
       "      <td>0</td>\n",
       "      <td>-1</td>\n",
       "      <td>15</td>\n",
       "      <td>4</td>\n",
       "      <td>-1</td>\n",
       "      <td>-1</td>\n",
       "      <td>2</td>\n",
       "      <td>-1</td>\n",
       "      <td>-1</td>\n",
       "      <td>2</td>\n",
       "      <td>0</td>\n",
       "      <td>-1</td>\n",
       "      <td>0</td>\n",
       "      <td>-1</td>\n",
       "      <td>0</td>\n",
       "      <td>1</td>\n",
       "      <td>-1</td>\n",
       "      <td>0</td>\n",
       "      <td>-1</td>\n",
       "      <td>-1</td>\n",
       "      <td>-1</td>\n",
       "      <td>-1</td>\n",
       "      <td>0</td>\n",
       "    </tr>\n",
       "    <tr>\n",
       "      <th>70914</th>\n",
       "      <td>56</td>\n",
       "      <td>88</td>\n",
       "      <td>77</td>\n",
       "      <td>0</td>\n",
       "      <td>6</td>\n",
       "      <td>0</td>\n",
       "      <td>21</td>\n",
       "      <td>6</td>\n",
       "      <td>0</td>\n",
       "      <td>3</td>\n",
       "      <td>1</td>\n",
       "      <td>0</td>\n",
       "      <td>0</td>\n",
       "      <td>2</td>\n",
       "      <td>3</td>\n",
       "      <td>0</td>\n",
       "      <td>0</td>\n",
       "      <td>-1</td>\n",
       "      <td>0</td>\n",
       "      <td>1</td>\n",
       "      <td>-1</td>\n",
       "      <td>0</td>\n",
       "      <td>-1</td>\n",
       "      <td>-1</td>\n",
       "      <td>-1</td>\n",
       "      <td>-1</td>\n",
       "      <td>1</td>\n",
       "    </tr>\n",
       "    <tr>\n",
       "      <th>70915</th>\n",
       "      <td>28</td>\n",
       "      <td>1914</td>\n",
       "      <td>48</td>\n",
       "      <td>9</td>\n",
       "      <td>5</td>\n",
       "      <td>0</td>\n",
       "      <td>20</td>\n",
       "      <td>6</td>\n",
       "      <td>0</td>\n",
       "      <td>0</td>\n",
       "      <td>1</td>\n",
       "      <td>0</td>\n",
       "      <td>0</td>\n",
       "      <td>2</td>\n",
       "      <td>0</td>\n",
       "      <td>0</td>\n",
       "      <td>0</td>\n",
       "      <td>-1</td>\n",
       "      <td>0</td>\n",
       "      <td>1</td>\n",
       "      <td>-1</td>\n",
       "      <td>0</td>\n",
       "      <td>-1</td>\n",
       "      <td>-1</td>\n",
       "      <td>-1</td>\n",
       "      <td>-1</td>\n",
       "      <td>1</td>\n",
       "    </tr>\n",
       "    <tr>\n",
       "      <th>70916</th>\n",
       "      <td>17</td>\n",
       "      <td>1891</td>\n",
       "      <td>54</td>\n",
       "      <td>10</td>\n",
       "      <td>2</td>\n",
       "      <td>0</td>\n",
       "      <td>21</td>\n",
       "      <td>5</td>\n",
       "      <td>0</td>\n",
       "      <td>0</td>\n",
       "      <td>2</td>\n",
       "      <td>0</td>\n",
       "      <td>0</td>\n",
       "      <td>3</td>\n",
       "      <td>0</td>\n",
       "      <td>0</td>\n",
       "      <td>0</td>\n",
       "      <td>16</td>\n",
       "      <td>1</td>\n",
       "      <td>1</td>\n",
       "      <td>0</td>\n",
       "      <td>0</td>\n",
       "      <td>1</td>\n",
       "      <td>0</td>\n",
       "      <td>0</td>\n",
       "      <td>1</td>\n",
       "      <td>1</td>\n",
       "    </tr>\n",
       "  </tbody>\n",
       "</table>\n",
       "<p>70917 rows × 27 columns</p>\n",
       "</div>"
      ],
      "text/plain": [
       "       directory_length  time_domain_activation  length_url  file_length  \\\n",
       "0                    -1                    6659          26           -1   \n",
       "1                     1                    7078          19            0   \n",
       "2                    19                    1233          32            0   \n",
       "3                     1                    3519          14            0   \n",
       "4                     1                    3460          27            0   \n",
       "...                 ...                     ...         ...          ...   \n",
       "70912                 1                      -1          15            0   \n",
       "70913                -1                    6767          15           -1   \n",
       "70914                56                      88          77            0   \n",
       "70915                28                    1914          48            9   \n",
       "70916                17                    1891          54           10   \n",
       "\n",
       "       qty_slash_url  qty_plus_directory  domain_length  qty_vowels_domain  \\\n",
       "0                  0                  -1             26                  7   \n",
       "1                  1                   0             18                  5   \n",
       "2                  4                   0             13                  6   \n",
       "3                  1                   0             13                  4   \n",
       "4                  1                   0             26                  8   \n",
       "...              ...                 ...            ...                ...   \n",
       "70912              1                   0             14                  5   \n",
       "70913              0                  -1             15                  4   \n",
       "70914              6                   0             21                  6   \n",
       "70915              5                   0             20                  6   \n",
       "70916              2                   0             21                  5   \n",
       "\n",
       "       qty_asterisk_directory  qty_hyphen_directory  qty_dot_domain  \\\n",
       "0                          -1                    -1               2   \n",
       "1                           0                     0               2   \n",
       "2                           0                     0               1   \n",
       "3                           0                     0               1   \n",
       "4                           0                     0               3   \n",
       "...                       ...                   ...             ...   \n",
       "70912                       0                     0               2   \n",
       "70913                      -1                    -1               2   \n",
       "70914                       0                     3               1   \n",
       "70915                       0                     0               1   \n",
       "70916                       0                     0               2   \n",
       "\n",
       "       qty_underline_directory  qty_percent_directory  qty_dot_url  \\\n",
       "0                           -1                     -1            2   \n",
       "1                            0                      0            2   \n",
       "2                            0                      0            1   \n",
       "3                            0                      0            1   \n",
       "4                            0                      0            3   \n",
       "...                        ...                    ...          ...   \n",
       "70912                        0                      0            2   \n",
       "70913                       -1                     -1            2   \n",
       "70914                        0                      0            2   \n",
       "70915                        0                      0            2   \n",
       "70916                        0                      0            3   \n",
       "\n",
       "       qty_hyphen_url  qty_hyphen_file  qty_hyphen_domain  params_length  \\\n",
       "0                   0               -1                  0             -1   \n",
       "1                   0                0                  0             -1   \n",
       "2                   1                0                  1             -1   \n",
       "3                   1                0                  1             -1   \n",
       "4                   0                0                  0             -1   \n",
       "...               ...              ...                ...            ...   \n",
       "70912               0                0                  0             -1   \n",
       "70913               0               -1                  0             -1   \n",
       "70914               3                0                  0             -1   \n",
       "70915               0                0                  0             -1   \n",
       "70916               0                0                  0             16   \n",
       "\n",
       "       qty_underline_url  qty_tld_url  qty_plus_params  qty_percent_url  \\\n",
       "0                      0            1               -1                0   \n",
       "1                      0            1               -1                0   \n",
       "2                      0            1               -1                0   \n",
       "3                      0            1               -1                0   \n",
       "4                      0            1               -1                0   \n",
       "...                  ...          ...              ...              ...   \n",
       "70912                  0            1               -1                0   \n",
       "70913                  0            1               -1                0   \n",
       "70914                  0            1               -1                0   \n",
       "70915                  0            1               -1                0   \n",
       "70916                  1            1                0                0   \n",
       "\n",
       "       qty_equal_params  qty_dot_params  qty_percent_params  \\\n",
       "0                    -1              -1                  -1   \n",
       "1                    -1              -1                  -1   \n",
       "2                    -1              -1                  -1   \n",
       "3                    -1              -1                  -1   \n",
       "4                    -1              -1                  -1   \n",
       "...                 ...             ...                 ...   \n",
       "70912                -1              -1                  -1   \n",
       "70913                -1              -1                  -1   \n",
       "70914                -1              -1                  -1   \n",
       "70915                -1              -1                  -1   \n",
       "70916                 1               0                   0   \n",
       "\n",
       "       qty_underline_params  phishing  \n",
       "0                        -1         0  \n",
       "1                        -1         0  \n",
       "2                        -1         1  \n",
       "3                        -1         0  \n",
       "4                        -1         0  \n",
       "...                     ...       ...  \n",
       "70912                    -1         0  \n",
       "70913                    -1         0  \n",
       "70914                    -1         1  \n",
       "70915                    -1         1  \n",
       "70916                     1         1  \n",
       "\n",
       "[70917 rows x 27 columns]"
      ]
     },
     "execution_count": 60,
     "metadata": {},
     "output_type": "execute_result"
    }
   ],
   "source": [
    "dv.get_oldest_train_file()"
   ]
  },
  {
   "cell_type": "markdown",
   "metadata": {},
   "source": [
    "# Checking Drift present or not with report.json file"
   ]
  },
  {
   "cell_type": "code",
   "execution_count": 71,
   "metadata": {},
   "outputs": [],
   "source": [
    "path = \"phishing_domain_detection\\\\artifacts\\\\data_validation\\\\2022-08-17_17-17-44\\\\report.json\""
   ]
  },
  {
   "cell_type": "code",
   "execution_count": 72,
   "metadata": {},
   "outputs": [],
   "source": [
    "import json"
   ]
  },
  {
   "cell_type": "code",
   "execution_count": 76,
   "metadata": {},
   "outputs": [],
   "source": [
    "drift_report = json.load(open(path))"
   ]
  },
  {
   "cell_type": "code",
   "execution_count": 78,
   "metadata": {},
   "outputs": [
    {
     "data": {
      "text/plain": [
       "dict_keys(['data_drift', 'timestamp'])"
      ]
     },
     "execution_count": 78,
     "metadata": {},
     "output_type": "execute_result"
    }
   ],
   "source": [
    "drift_report.keys()"
   ]
  },
  {
   "cell_type": "code",
   "execution_count": 84,
   "metadata": {},
   "outputs": [
    {
     "data": {
      "text/plain": [
       "False"
      ]
     },
     "execution_count": 84,
     "metadata": {},
     "output_type": "execute_result"
    }
   ],
   "source": [
    "drift_report['data_drift']['data']['metrics']['dataset_drift']"
   ]
  },
  {
   "cell_type": "code",
   "execution_count": null,
   "metadata": {},
   "outputs": [],
   "source": []
  }
 ],
 "metadata": {
  "kernelspec": {
   "display_name": "Python 3.7.0 (conda)",
   "language": "python",
   "name": "python3"
  },
  "language_info": {
   "codemirror_mode": {
    "name": "ipython",
    "version": 3
   },
   "file_extension": ".py",
   "mimetype": "text/x-python",
   "name": "python",
   "nbconvert_exporter": "python",
   "pygments_lexer": "ipython3",
   "version": "3.7.0"
  },
  "orig_nbformat": 4,
  "vscode": {
   "interpreter": {
    "hash": "3076e57f7e845b049a649ef4bfee429470fec951874b133ec4bf7644af5a1074"
   }
  }
 },
 "nbformat": 4,
 "nbformat_minor": 2
}
