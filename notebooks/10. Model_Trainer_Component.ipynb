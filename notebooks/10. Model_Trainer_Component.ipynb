{
 "cells": [
  {
   "cell_type": "code",
   "execution_count": 1,
   "metadata": {},
   "outputs": [],
   "source": [
    "import os"
   ]
  },
  {
   "cell_type": "code",
   "execution_count": 2,
   "metadata": {},
   "outputs": [],
   "source": [
    "os.chdir('..')"
   ]
  },
  {
   "cell_type": "code",
   "execution_count": 4,
   "metadata": {},
   "outputs": [],
   "source": [
    "from phishing_domain_detection.config.configuration import Configuration"
   ]
  },
  {
   "cell_type": "markdown",
   "metadata": {},
   "source": [
    "# Checking the Model Trainer Config entity"
   ]
  },
  {
   "cell_type": "code",
   "execution_count": 5,
   "metadata": {},
   "outputs": [
    {
     "data": {
      "text/plain": [
       "ModelTrainerConfig(trained_model_file_path='c:\\\\Users\\\\rachi\\\\Desktop\\\\inueuron\\\\PERSONAL PROJECTS\\\\Phishing-Domain-Detection-using-Machine-Learning\\\\phishing_domain_detection\\\\artifacts\\\\model_trainer\\\\2022-08-21_00-15-51\\\\trained_model\\\\model.joblib', scoring_parameter_for_grid_search_cv='recall', base_recall=0.9, base_precision=0.8, model_config_file_path='config\\\\model.yaml')"
      ]
     },
     "execution_count": 5,
     "metadata": {},
     "output_type": "execute_result"
    }
   ],
   "source": [
    "Configuration().get_model_trainer_config()"
   ]
  },
  {
   "cell_type": "code",
   "execution_count": null,
   "metadata": {},
   "outputs": [],
   "source": []
  }
 ],
 "metadata": {
  "kernelspec": {
   "display_name": "Python 3.7.0 (conda)",
   "language": "python",
   "name": "python3"
  },
  "language_info": {
   "codemirror_mode": {
    "name": "ipython",
    "version": 3
   },
   "file_extension": ".py",
   "mimetype": "text/x-python",
   "name": "python",
   "nbconvert_exporter": "python",
   "pygments_lexer": "ipython3",
   "version": "3.7.0"
  },
  "orig_nbformat": 4,
  "vscode": {
   "interpreter": {
    "hash": "3076e57f7e845b049a649ef4bfee429470fec951874b133ec4bf7644af5a1074"
   }
  }
 },
 "nbformat": 4,
 "nbformat_minor": 2
}
