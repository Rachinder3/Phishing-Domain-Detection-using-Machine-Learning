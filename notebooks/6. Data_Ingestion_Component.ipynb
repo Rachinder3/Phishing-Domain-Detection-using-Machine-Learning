{
 "cells": [
  {
   "cell_type": "code",
   "execution_count": 1,
   "id": "6f30c7cc",
   "metadata": {},
   "outputs": [],
   "source": [
    "base_url = \"..//dataset//\""
   ]
  },
  {
   "cell_type": "markdown",
   "id": "7c3135e3",
   "metadata": {},
   "source": [
    "# Loading Libraries"
   ]
  },
  {
   "cell_type": "code",
   "execution_count": 2,
   "id": "e8e0bf01",
   "metadata": {},
   "outputs": [],
   "source": [
    "import sqlite3\n",
    "import pandas as pd"
   ]
  },
  {
   "cell_type": "markdown",
   "id": "7cf19a45",
   "metadata": {},
   "source": [
    "# Working on db"
   ]
  },
  {
   "cell_type": "code",
   "execution_count": 3,
   "id": "980afc60",
   "metadata": {},
   "outputs": [],
   "source": [
    "db = sqlite3.connect(base_url+'phishing_db.sqlite')"
   ]
  },
  {
   "cell_type": "code",
   "execution_count": 4,
   "id": "06aee52a",
   "metadata": {},
   "outputs": [],
   "source": [
    "cur = db.cursor()"
   ]
  },
  {
   "cell_type": "code",
   "execution_count": 5,
   "id": "2cc4a626",
   "metadata": {},
   "outputs": [],
   "source": [
    "table_name = 'phishing_full'"
   ]
  },
  {
   "cell_type": "code",
   "execution_count": 6,
   "id": "adaf281f",
   "metadata": {},
   "outputs": [],
   "source": [
    "top_features = ['directory_length', 'time_domain_activation', 'length_url',\n",
    "       'file_length', 'qty_slash_url', 'qty_plus_directory', 'domain_length',\n",
    "       'qty_vowels_domain', 'qty_asterisk_directory', 'qty_hyphen_directory',\n",
    "       'qty_dot_domain', 'qty_underline_directory', 'qty_percent_directory',\n",
    "       'qty_dot_url', 'qty_hyphen_url', 'qty_hyphen_file', 'qty_hyphen_domain',\n",
    "       'params_length', 'qty_underline_url', 'qty_tld_url', 'qty_plus_params',\n",
    "       'qty_percent_url', 'qty_equal_params', 'qty_dot_params',\n",
    "       'qty_percent_params', 'qty_underline_params']\n",
    "top_features.append('phishing')"
   ]
  },
  {
   "cell_type": "code",
   "execution_count": null,
   "id": "421fc562",
   "metadata": {},
   "outputs": [],
   "source": []
  },
  {
   "cell_type": "code",
   "execution_count": 7,
   "id": "d07ada12",
   "metadata": {},
   "outputs": [
    {
     "data": {
      "text/plain": [
       "\"select ['directory_length', 'time_domain_activation', 'length_url', 'file_length', 'qty_slash_url', 'qty_plus_directory', 'domain_length', 'qty_vowels_domain', 'qty_asterisk_directory', 'qty_hyphen_directory', 'qty_dot_domain', 'qty_underline_directory', 'qty_percent_directory', 'qty_dot_url', 'qty_hyphen_url', 'qty_hyphen_file', 'qty_hyphen_domain', 'params_length', 'qty_underline_url', 'qty_tld_url', 'qty_plus_params', 'qty_percent_url', 'qty_equal_params', 'qty_dot_params', 'qty_percent_params', 'qty_underline_params', 'phishing'] from phishing_full\""
      ]
     },
     "execution_count": 7,
     "metadata": {},
     "output_type": "execute_result"
    }
   ],
   "source": [
    "f\"select {top_features} from {table_name}\""
   ]
  },
  {
   "cell_type": "code",
   "execution_count": 8,
   "id": "55792698",
   "metadata": {},
   "outputs": [
    {
     "data": {
      "text/plain": [
       "\"'directory_length', 'time_domain_activation', 'length_url', 'file_length', 'qty_slash_url', 'qty_plus_directory', 'domain_length', 'qty_vowels_domain', 'qty_asterisk_directory', 'qty_hyphen_directory', 'qty_dot_domain', 'qty_underline_directory', 'qty_percent_directory', 'qty_dot_url', 'qty_hyphen_url', 'qty_hyphen_file', 'qty_hyphen_domain', 'params_length', 'qty_underline_url', 'qty_tld_url', 'qty_plus_params', 'qty_percent_url', 'qty_equal_params', 'qty_dot_params', 'qty_percent_params', 'qty_underline_params', 'phishing']\""
      ]
     },
     "execution_count": 8,
     "metadata": {},
     "output_type": "execute_result"
    }
   ],
   "source": [
    "str(top_features).replace(\"[\",\"\")"
   ]
  },
  {
   "cell_type": "code",
   "execution_count": 9,
   "id": "775503b5",
   "metadata": {},
   "outputs": [],
   "source": [
    "features_to_query = str(top_features).replace(\"[\",\"\").replace(\"'\",'''\"''').replace(\"]\",\"\")"
   ]
  },
  {
   "cell_type": "code",
   "execution_count": 10,
   "id": "27de5019",
   "metadata": {},
   "outputs": [
    {
     "name": "stdout",
     "output_type": "stream",
     "text": [
      "(8, -1, 25, 7, 1, 0, 17, 4, 0, 0, 2, 0, 0, 3, 0, 0, 0, -1, 0, 1, -1, 0, -1, -1, -1, -1, 1)\n",
      "(42, 579, 223, 9, 3, 0, 16, 5, 0, 0, 2, 0, 0, 5, 0, 0, 0, 165, 1, 3, 0, 0, 3, 0, 0, 1, 1)\n",
      "(1, -1, 15, 0, 1, 0, 14, 3, 0, 0, 2, 0, 0, 2, 0, 0, 0, -1, 0, 1, -1, 0, -1, -1, -1, -1, 0)\n",
      "(62, -1, 81, 9, 5, 0, 19, 7, 0, 0, 2, 2, 0, 4, 0, 0, 0, -1, 2, 1, -1, 0, -1, -1, -1, -1, 1)\n",
      "(-1, 6998, 19, -1, 0, -1, 19, 5, -1, -1, 2, -1, -1, 2, 0, -1, 0, -1, 0, 1, -1, 0, -1, -1, -1, -1, 0)\n"
     ]
    }
   ],
   "source": [
    "for i in cur.execute(f\"select {features_to_query} from {table_name} limit(5)\"):\n",
    "    print(i)"
   ]
  },
  {
   "cell_type": "markdown",
   "id": "19d28394",
   "metadata": {},
   "source": [
    "#### Ingesting in dataframe"
   ]
  },
  {
   "cell_type": "code",
   "execution_count": 11,
   "id": "3554697e",
   "metadata": {},
   "outputs": [],
   "source": [
    "records = []\n",
    "for i in cur.execute(f\"select {features_to_query} from {table_name}\"):\n",
    "    records.append(i)"
   ]
  },
  {
   "cell_type": "code",
   "execution_count": 12,
   "id": "477e9cbb",
   "metadata": {},
   "outputs": [
    {
     "data": {
      "text/html": [
       "<div>\n",
       "<style scoped>\n",
       "    .dataframe tbody tr th:only-of-type {\n",
       "        vertical-align: middle;\n",
       "    }\n",
       "\n",
       "    .dataframe tbody tr th {\n",
       "        vertical-align: top;\n",
       "    }\n",
       "\n",
       "    .dataframe thead th {\n",
       "        text-align: right;\n",
       "    }\n",
       "</style>\n",
       "<table border=\"1\" class=\"dataframe\">\n",
       "  <thead>\n",
       "    <tr style=\"text-align: right;\">\n",
       "      <th></th>\n",
       "      <th>directory_length</th>\n",
       "      <th>time_domain_activation</th>\n",
       "      <th>length_url</th>\n",
       "      <th>file_length</th>\n",
       "      <th>qty_slash_url</th>\n",
       "      <th>qty_plus_directory</th>\n",
       "      <th>domain_length</th>\n",
       "      <th>qty_vowels_domain</th>\n",
       "      <th>qty_asterisk_directory</th>\n",
       "      <th>qty_hyphen_directory</th>\n",
       "      <th>...</th>\n",
       "      <th>params_length</th>\n",
       "      <th>qty_underline_url</th>\n",
       "      <th>qty_tld_url</th>\n",
       "      <th>qty_plus_params</th>\n",
       "      <th>qty_percent_url</th>\n",
       "      <th>qty_equal_params</th>\n",
       "      <th>qty_dot_params</th>\n",
       "      <th>qty_percent_params</th>\n",
       "      <th>qty_underline_params</th>\n",
       "      <th>phishing</th>\n",
       "    </tr>\n",
       "  </thead>\n",
       "  <tbody>\n",
       "    <tr>\n",
       "      <th>0</th>\n",
       "      <td>8</td>\n",
       "      <td>-1</td>\n",
       "      <td>25</td>\n",
       "      <td>7</td>\n",
       "      <td>1</td>\n",
       "      <td>0</td>\n",
       "      <td>17</td>\n",
       "      <td>4</td>\n",
       "      <td>0</td>\n",
       "      <td>0</td>\n",
       "      <td>...</td>\n",
       "      <td>-1</td>\n",
       "      <td>0</td>\n",
       "      <td>1</td>\n",
       "      <td>-1</td>\n",
       "      <td>0</td>\n",
       "      <td>-1</td>\n",
       "      <td>-1</td>\n",
       "      <td>-1</td>\n",
       "      <td>-1</td>\n",
       "      <td>1</td>\n",
       "    </tr>\n",
       "    <tr>\n",
       "      <th>1</th>\n",
       "      <td>42</td>\n",
       "      <td>579</td>\n",
       "      <td>223</td>\n",
       "      <td>9</td>\n",
       "      <td>3</td>\n",
       "      <td>0</td>\n",
       "      <td>16</td>\n",
       "      <td>5</td>\n",
       "      <td>0</td>\n",
       "      <td>0</td>\n",
       "      <td>...</td>\n",
       "      <td>165</td>\n",
       "      <td>1</td>\n",
       "      <td>3</td>\n",
       "      <td>0</td>\n",
       "      <td>0</td>\n",
       "      <td>3</td>\n",
       "      <td>0</td>\n",
       "      <td>0</td>\n",
       "      <td>1</td>\n",
       "      <td>1</td>\n",
       "    </tr>\n",
       "    <tr>\n",
       "      <th>2</th>\n",
       "      <td>1</td>\n",
       "      <td>-1</td>\n",
       "      <td>15</td>\n",
       "      <td>0</td>\n",
       "      <td>1</td>\n",
       "      <td>0</td>\n",
       "      <td>14</td>\n",
       "      <td>3</td>\n",
       "      <td>0</td>\n",
       "      <td>0</td>\n",
       "      <td>...</td>\n",
       "      <td>-1</td>\n",
       "      <td>0</td>\n",
       "      <td>1</td>\n",
       "      <td>-1</td>\n",
       "      <td>0</td>\n",
       "      <td>-1</td>\n",
       "      <td>-1</td>\n",
       "      <td>-1</td>\n",
       "      <td>-1</td>\n",
       "      <td>0</td>\n",
       "    </tr>\n",
       "    <tr>\n",
       "      <th>3</th>\n",
       "      <td>62</td>\n",
       "      <td>-1</td>\n",
       "      <td>81</td>\n",
       "      <td>9</td>\n",
       "      <td>5</td>\n",
       "      <td>0</td>\n",
       "      <td>19</td>\n",
       "      <td>7</td>\n",
       "      <td>0</td>\n",
       "      <td>0</td>\n",
       "      <td>...</td>\n",
       "      <td>-1</td>\n",
       "      <td>2</td>\n",
       "      <td>1</td>\n",
       "      <td>-1</td>\n",
       "      <td>0</td>\n",
       "      <td>-1</td>\n",
       "      <td>-1</td>\n",
       "      <td>-1</td>\n",
       "      <td>-1</td>\n",
       "      <td>1</td>\n",
       "    </tr>\n",
       "    <tr>\n",
       "      <th>4</th>\n",
       "      <td>-1</td>\n",
       "      <td>6998</td>\n",
       "      <td>19</td>\n",
       "      <td>-1</td>\n",
       "      <td>0</td>\n",
       "      <td>-1</td>\n",
       "      <td>19</td>\n",
       "      <td>5</td>\n",
       "      <td>-1</td>\n",
       "      <td>-1</td>\n",
       "      <td>...</td>\n",
       "      <td>-1</td>\n",
       "      <td>0</td>\n",
       "      <td>1</td>\n",
       "      <td>-1</td>\n",
       "      <td>0</td>\n",
       "      <td>-1</td>\n",
       "      <td>-1</td>\n",
       "      <td>-1</td>\n",
       "      <td>-1</td>\n",
       "      <td>0</td>\n",
       "    </tr>\n",
       "    <tr>\n",
       "      <th>...</th>\n",
       "      <td>...</td>\n",
       "      <td>...</td>\n",
       "      <td>...</td>\n",
       "      <td>...</td>\n",
       "      <td>...</td>\n",
       "      <td>...</td>\n",
       "      <td>...</td>\n",
       "      <td>...</td>\n",
       "      <td>...</td>\n",
       "      <td>...</td>\n",
       "      <td>...</td>\n",
       "      <td>...</td>\n",
       "      <td>...</td>\n",
       "      <td>...</td>\n",
       "      <td>...</td>\n",
       "      <td>...</td>\n",
       "      <td>...</td>\n",
       "      <td>...</td>\n",
       "      <td>...</td>\n",
       "      <td>...</td>\n",
       "      <td>...</td>\n",
       "    </tr>\n",
       "    <tr>\n",
       "      <th>88642</th>\n",
       "      <td>-1</td>\n",
       "      <td>5509</td>\n",
       "      <td>23</td>\n",
       "      <td>-1</td>\n",
       "      <td>0</td>\n",
       "      <td>-1</td>\n",
       "      <td>23</td>\n",
       "      <td>5</td>\n",
       "      <td>-1</td>\n",
       "      <td>-1</td>\n",
       "      <td>...</td>\n",
       "      <td>-1</td>\n",
       "      <td>0</td>\n",
       "      <td>2</td>\n",
       "      <td>-1</td>\n",
       "      <td>0</td>\n",
       "      <td>-1</td>\n",
       "      <td>-1</td>\n",
       "      <td>-1</td>\n",
       "      <td>-1</td>\n",
       "      <td>0</td>\n",
       "    </tr>\n",
       "    <tr>\n",
       "      <th>88643</th>\n",
       "      <td>-1</td>\n",
       "      <td>5046</td>\n",
       "      <td>34</td>\n",
       "      <td>-1</td>\n",
       "      <td>0</td>\n",
       "      <td>-1</td>\n",
       "      <td>34</td>\n",
       "      <td>14</td>\n",
       "      <td>-1</td>\n",
       "      <td>-1</td>\n",
       "      <td>...</td>\n",
       "      <td>-1</td>\n",
       "      <td>0</td>\n",
       "      <td>1</td>\n",
       "      <td>-1</td>\n",
       "      <td>0</td>\n",
       "      <td>-1</td>\n",
       "      <td>-1</td>\n",
       "      <td>-1</td>\n",
       "      <td>-1</td>\n",
       "      <td>0</td>\n",
       "    </tr>\n",
       "    <tr>\n",
       "      <th>88644</th>\n",
       "      <td>48</td>\n",
       "      <td>1844</td>\n",
       "      <td>70</td>\n",
       "      <td>11</td>\n",
       "      <td>5</td>\n",
       "      <td>0</td>\n",
       "      <td>22</td>\n",
       "      <td>6</td>\n",
       "      <td>0</td>\n",
       "      <td>1</td>\n",
       "      <td>...</td>\n",
       "      <td>-1</td>\n",
       "      <td>0</td>\n",
       "      <td>1</td>\n",
       "      <td>-1</td>\n",
       "      <td>0</td>\n",
       "      <td>-1</td>\n",
       "      <td>-1</td>\n",
       "      <td>-1</td>\n",
       "      <td>-1</td>\n",
       "      <td>1</td>\n",
       "    </tr>\n",
       "    <tr>\n",
       "      <th>88645</th>\n",
       "      <td>1</td>\n",
       "      <td>-1</td>\n",
       "      <td>28</td>\n",
       "      <td>0</td>\n",
       "      <td>1</td>\n",
       "      <td>0</td>\n",
       "      <td>27</td>\n",
       "      <td>5</td>\n",
       "      <td>0</td>\n",
       "      <td>0</td>\n",
       "      <td>...</td>\n",
       "      <td>-1</td>\n",
       "      <td>0</td>\n",
       "      <td>1</td>\n",
       "      <td>-1</td>\n",
       "      <td>0</td>\n",
       "      <td>-1</td>\n",
       "      <td>-1</td>\n",
       "      <td>-1</td>\n",
       "      <td>-1</td>\n",
       "      <td>1</td>\n",
       "    </tr>\n",
       "    <tr>\n",
       "      <th>88646</th>\n",
       "      <td>-1</td>\n",
       "      <td>300</td>\n",
       "      <td>16</td>\n",
       "      <td>-1</td>\n",
       "      <td>0</td>\n",
       "      <td>-1</td>\n",
       "      <td>16</td>\n",
       "      <td>4</td>\n",
       "      <td>-1</td>\n",
       "      <td>-1</td>\n",
       "      <td>...</td>\n",
       "      <td>-1</td>\n",
       "      <td>0</td>\n",
       "      <td>1</td>\n",
       "      <td>-1</td>\n",
       "      <td>0</td>\n",
       "      <td>-1</td>\n",
       "      <td>-1</td>\n",
       "      <td>-1</td>\n",
       "      <td>-1</td>\n",
       "      <td>0</td>\n",
       "    </tr>\n",
       "  </tbody>\n",
       "</table>\n",
       "<p>88647 rows × 27 columns</p>\n",
       "</div>"
      ],
      "text/plain": [
       "       directory_length  time_domain_activation  length_url  file_length  \\\n",
       "0                     8                      -1          25            7   \n",
       "1                    42                     579         223            9   \n",
       "2                     1                      -1          15            0   \n",
       "3                    62                      -1          81            9   \n",
       "4                    -1                    6998          19           -1   \n",
       "...                 ...                     ...         ...          ...   \n",
       "88642                -1                    5509          23           -1   \n",
       "88643                -1                    5046          34           -1   \n",
       "88644                48                    1844          70           11   \n",
       "88645                 1                      -1          28            0   \n",
       "88646                -1                     300          16           -1   \n",
       "\n",
       "       qty_slash_url  qty_plus_directory  domain_length  qty_vowels_domain  \\\n",
       "0                  1                   0             17                  4   \n",
       "1                  3                   0             16                  5   \n",
       "2                  1                   0             14                  3   \n",
       "3                  5                   0             19                  7   \n",
       "4                  0                  -1             19                  5   \n",
       "...              ...                 ...            ...                ...   \n",
       "88642              0                  -1             23                  5   \n",
       "88643              0                  -1             34                 14   \n",
       "88644              5                   0             22                  6   \n",
       "88645              1                   0             27                  5   \n",
       "88646              0                  -1             16                  4   \n",
       "\n",
       "       qty_asterisk_directory  qty_hyphen_directory  ...  params_length  \\\n",
       "0                           0                     0  ...             -1   \n",
       "1                           0                     0  ...            165   \n",
       "2                           0                     0  ...             -1   \n",
       "3                           0                     0  ...             -1   \n",
       "4                          -1                    -1  ...             -1   \n",
       "...                       ...                   ...  ...            ...   \n",
       "88642                      -1                    -1  ...             -1   \n",
       "88643                      -1                    -1  ...             -1   \n",
       "88644                       0                     1  ...             -1   \n",
       "88645                       0                     0  ...             -1   \n",
       "88646                      -1                    -1  ...             -1   \n",
       "\n",
       "       qty_underline_url  qty_tld_url  qty_plus_params  qty_percent_url  \\\n",
       "0                      0            1               -1                0   \n",
       "1                      1            3                0                0   \n",
       "2                      0            1               -1                0   \n",
       "3                      2            1               -1                0   \n",
       "4                      0            1               -1                0   \n",
       "...                  ...          ...              ...              ...   \n",
       "88642                  0            2               -1                0   \n",
       "88643                  0            1               -1                0   \n",
       "88644                  0            1               -1                0   \n",
       "88645                  0            1               -1                0   \n",
       "88646                  0            1               -1                0   \n",
       "\n",
       "       qty_equal_params  qty_dot_params  qty_percent_params  \\\n",
       "0                    -1              -1                  -1   \n",
       "1                     3               0                   0   \n",
       "2                    -1              -1                  -1   \n",
       "3                    -1              -1                  -1   \n",
       "4                    -1              -1                  -1   \n",
       "...                 ...             ...                 ...   \n",
       "88642                -1              -1                  -1   \n",
       "88643                -1              -1                  -1   \n",
       "88644                -1              -1                  -1   \n",
       "88645                -1              -1                  -1   \n",
       "88646                -1              -1                  -1   \n",
       "\n",
       "       qty_underline_params  phishing  \n",
       "0                        -1         1  \n",
       "1                         1         1  \n",
       "2                        -1         0  \n",
       "3                        -1         1  \n",
       "4                        -1         0  \n",
       "...                     ...       ...  \n",
       "88642                    -1         0  \n",
       "88643                    -1         0  \n",
       "88644                    -1         1  \n",
       "88645                    -1         1  \n",
       "88646                    -1         0  \n",
       "\n",
       "[88647 rows x 27 columns]"
      ]
     },
     "execution_count": 12,
     "metadata": {},
     "output_type": "execute_result"
    }
   ],
   "source": [
    "pd.DataFrame(records, columns=top_features)"
   ]
  },
  {
   "cell_type": "markdown",
   "id": "21f8140d",
   "metadata": {},
   "source": [
    "# Named Tupple"
   ]
  },
  {
   "cell_type": "code",
   "execution_count": 13,
   "id": "82535fb1",
   "metadata": {},
   "outputs": [],
   "source": [
    "from collections import namedtuple"
   ]
  },
  {
   "cell_type": "code",
   "execution_count": 14,
   "id": "f88459f3",
   "metadata": {},
   "outputs": [],
   "source": [
    "test = namedtuple('test',['input1','input2'])"
   ]
  },
  {
   "cell_type": "code",
   "execution_count": 15,
   "id": "46573df2",
   "metadata": {},
   "outputs": [],
   "source": [
    "x = test(\"a\",\"b\")"
   ]
  },
  {
   "cell_type": "code",
   "execution_count": 16,
   "id": "fb3b1eeb",
   "metadata": {},
   "outputs": [
    {
     "data": {
      "text/plain": [
       "'a'"
      ]
     },
     "execution_count": 16,
     "metadata": {},
     "output_type": "execute_result"
    }
   ],
   "source": [
    "x.input1"
   ]
  },
  {
   "cell_type": "code",
   "execution_count": 17,
   "id": "98285147",
   "metadata": {},
   "outputs": [
    {
     "data": {
      "text/plain": [
       "['directory_length',\n",
       " 'time_domain_activation',\n",
       " 'length_url',\n",
       " 'file_length',\n",
       " 'qty_slash_url',\n",
       " 'qty_plus_directory',\n",
       " 'domain_length',\n",
       " 'qty_vowels_domain',\n",
       " 'qty_asterisk_directory',\n",
       " 'qty_hyphen_directory',\n",
       " 'qty_dot_domain',\n",
       " 'qty_underline_directory',\n",
       " 'qty_percent_directory',\n",
       " 'qty_dot_url',\n",
       " 'qty_hyphen_url',\n",
       " 'qty_hyphen_file',\n",
       " 'qty_hyphen_domain',\n",
       " 'params_length',\n",
       " 'qty_underline_url',\n",
       " 'qty_tld_url',\n",
       " 'qty_plus_params',\n",
       " 'qty_percent_url',\n",
       " 'qty_equal_params',\n",
       " 'qty_dot_params',\n",
       " 'qty_percent_params',\n",
       " 'qty_underline_params',\n",
       " 'phishing']"
      ]
     },
     "execution_count": 17,
     "metadata": {},
     "output_type": "execute_result"
    }
   ],
   "source": [
    "top_features"
   ]
  },
  {
   "cell_type": "markdown",
   "id": "02a5df36",
   "metadata": {},
   "source": [
    "# Building the ingestion config entity"
   ]
  },
  {
   "cell_type": "markdown",
   "id": "1ab6cf4d",
   "metadata": {},
   "source": [
    "Data Ingestion Config:\n",
    "\n",
    "\n",
    "1. Dataset_dir\n",
    "2. Dataset_name\n",
    "3. top_features\n",
    "4. Train Dataset Folder\n",
    "5. Test File Folder\n",
    "\n",
    "\n",
    "\n"
   ]
  },
  {
   "cell_type": "code",
   "execution_count": 18,
   "id": "84e74f11",
   "metadata": {},
   "outputs": [
    {
     "data": {
      "text/plain": [
       "'phishing_db'"
      ]
     },
     "execution_count": 18,
     "metadata": {},
     "output_type": "execute_result"
    }
   ],
   "source": [
    "\"phishing_db.sqlite\".replace(\".sqlite\",\"\")"
   ]
  },
  {
   "cell_type": "code",
   "execution_count": 19,
   "id": "f34e178d",
   "metadata": {},
   "outputs": [],
   "source": [
    "DataIngestionConfig = namedtuple(\"DataIngestionConfig\",['dataset_dir','dataset_name','top_features','ingested_train_dir','ingested_test_dir'])"
   ]
  },
  {
   "cell_type": "code",
   "execution_count": null,
   "id": "983afcea",
   "metadata": {},
   "outputs": [],
   "source": []
  },
  {
   "cell_type": "markdown",
   "id": "6ed09b76",
   "metadata": {},
   "source": [
    "# Other Config Entities"
   ]
  },
  {
   "cell_type": "markdown",
   "id": "6889cf29",
   "metadata": {},
   "source": [
    "#### Data Validation\n",
    "\n",
    "1. schema_file_path\n",
    "\n",
    "#### Data Transformation \n",
    "1. use_box_cox_transformation\n",
    "2. transformed train dir\n",
    "3. transformed test dir\n",
    "4. preprocessed object file path\n",
    "\n",
    "#### Model Trainer Config \n",
    "1. Trained Model File Path\n",
    "2. base recall\n",
    "3. base precision\n",
    "\n",
    "\n",
    "#### Model Evaluation Config\n",
    "1. model evaluation file path  (all existing models in production)\n",
    "2. time stamp \n",
    "\n",
    "#### Model Pusher\n",
    "1. export directory "
   ]
  },
  {
   "cell_type": "markdown",
   "id": "db363549",
   "metadata": {},
   "source": [
    "# Reading yaml files"
   ]
  },
  {
   "cell_type": "code",
   "execution_count": 20,
   "id": "d708bb15",
   "metadata": {},
   "outputs": [],
   "source": [
    "base_dir = \"..\\\\config\\\\config.yaml\""
   ]
  },
  {
   "cell_type": "code",
   "execution_count": 21,
   "id": "16e21b2f",
   "metadata": {},
   "outputs": [],
   "source": [
    "import yaml"
   ]
  },
  {
   "cell_type": "code",
   "execution_count": 22,
   "id": "650a1abd",
   "metadata": {},
   "outputs": [],
   "source": [
    "config_dict = yaml.safe_load(open(base_dir,'r'))"
   ]
  },
  {
   "cell_type": "code",
   "execution_count": 23,
   "id": "b5a92456",
   "metadata": {},
   "outputs": [
    {
     "data": {
      "text/plain": [
       "dict_keys(['training_pipeline_config', 'data_ingestion_config', 'data_validation_config', 'data_transformation_config', 'model_trainer_config', 'model_evaluation_config', 'model_pusher_config'])"
      ]
     },
     "execution_count": 23,
     "metadata": {},
     "output_type": "execute_result"
    }
   ],
   "source": [
    "config_dict.keys()"
   ]
  },
  {
   "cell_type": "code",
   "execution_count": 24,
   "id": "be776020",
   "metadata": {},
   "outputs": [
    {
     "data": {
      "text/plain": [
       "['directory_length',\n",
       " 'time_domain_activation',\n",
       " 'length_url',\n",
       " 'file_length',\n",
       " 'qty_slash_url',\n",
       " 'qty_plus_directory',\n",
       " 'domain_length',\n",
       " 'qty_vowels_domain',\n",
       " 'qty_asterisk_directory',\n",
       " 'qty_hyphen_directory',\n",
       " 'qty_dot_domain',\n",
       " 'qty_underline_directory',\n",
       " 'qty_percent_directory',\n",
       " 'qty_dot_url',\n",
       " 'qty_hyphen_url',\n",
       " 'qty_hyphen_file',\n",
       " 'qty_hyphen_domain',\n",
       " 'params_length',\n",
       " 'qty_underline_url',\n",
       " 'qty_tld_url',\n",
       " 'qty_plus_params',\n",
       " 'qty_percent_url',\n",
       " 'qty_equal_params',\n",
       " 'qty_dot_params',\n",
       " 'qty_percent_params',\n",
       " 'qty_underline_params',\n",
       " 'phishing']"
      ]
     },
     "execution_count": 24,
     "metadata": {},
     "output_type": "execute_result"
    }
   ],
   "source": [
    "config_dict['data_ingestion_config']['top_features']"
   ]
  },
  {
   "cell_type": "code",
   "execution_count": 25,
   "id": "2f07a8f4",
   "metadata": {},
   "outputs": [],
   "source": [
    "config_info = None\n",
    "with open(base_dir,'rb') as yaml_file:\n",
    "    config_info = yaml.safe_load(yaml_file)"
   ]
  },
  {
   "cell_type": "markdown",
   "id": "62d799fa",
   "metadata": {},
   "source": [
    "### Final function"
   ]
  },
  {
   "cell_type": "code",
   "execution_count": 26,
   "id": "d2014bcf",
   "metadata": {},
   "outputs": [],
   "source": [
    "def read_yaml_file(file_path:str)->dict:\n",
    "    try:\n",
    "        with open(file_path,'rb') as yaml_file:\n",
    "            return yaml.safe_load(yaml_file)\n",
    "    except Exception as e:\n",
    "        raise e\n",
    "    "
   ]
  },
  {
   "cell_type": "markdown",
   "id": "7284da12",
   "metadata": {},
   "source": [
    "## Populate config_entities with configuration"
   ]
  },
  {
   "cell_type": "code",
   "execution_count": 27,
   "id": "825b2e7b",
   "metadata": {},
   "outputs": [
    {
     "data": {
      "text/plain": [
       "{'pipeline_name': 'phishing_domain_detection', 'artifact_dir': 'artifacts'}"
      ]
     },
     "execution_count": 27,
     "metadata": {},
     "output_type": "execute_result"
    }
   ],
   "source": [
    "config_dict[\"training_pipeline_config\"]"
   ]
  },
  {
   "cell_type": "code",
   "execution_count": 1,
   "id": "0b544d42",
   "metadata": {},
   "outputs": [],
   "source": [
    "import os"
   ]
  },
  {
   "cell_type": "code",
   "execution_count": 2,
   "id": "3fb153b8",
   "metadata": {},
   "outputs": [],
   "source": [
    "os.chdir(\"..\")"
   ]
  },
  {
   "cell_type": "code",
   "execution_count": 3,
   "id": "42584f80",
   "metadata": {},
   "outputs": [
    {
     "data": {
      "text/plain": [
       "['.dockerignore',\n",
       " '.git',\n",
       " '.github',\n",
       " '.gitignore',\n",
       " 'app.py',\n",
       " 'build',\n",
       " 'config',\n",
       " 'dataset',\n",
       " 'dist',\n",
       " 'Dockerfile',\n",
       " 'LICENSE',\n",
       " 'notebooks',\n",
       " 'phishing_domain_detection',\n",
       " 'phishing_domain_detection.egg-info',\n",
       " 'phishing_logs',\n",
       " 'README.md',\n",
       " 'requirements.txt',\n",
       " 'setup.py',\n",
       " 'venv']"
      ]
     },
     "execution_count": 3,
     "metadata": {},
     "output_type": "execute_result"
    }
   ],
   "source": [
    "os.listdir()"
   ]
  },
  {
   "cell_type": "code",
   "execution_count": 4,
   "id": "26d410fe",
   "metadata": {},
   "outputs": [],
   "source": [
    "from phishing_domain_detection.constants import *\n"
   ]
  },
  {
   "cell_type": "code",
   "execution_count": 5,
   "id": "b21dc0bd",
   "metadata": {},
   "outputs": [],
   "source": [
    "from phishing_domain_detection.config.configuration import Configuration"
   ]
  },
  {
   "cell_type": "code",
   "execution_count": 6,
   "id": "c2b91c6b",
   "metadata": {},
   "outputs": [],
   "source": [
    "config = Configuration()"
   ]
  },
  {
   "cell_type": "code",
   "execution_count": 7,
   "id": "4ff0938c",
   "metadata": {},
   "outputs": [
    {
     "data": {
      "text/plain": [
       "TrainingPipelineConfig(artifact_dir='c:\\\\Users\\\\rachi\\\\Desktop\\\\inueuron\\\\PERSONAL PROJECTS\\\\Phishing-Domain-Detection-using-Machine-Learning\\\\phishing_domain_detection\\\\artifacts')"
      ]
     },
     "execution_count": 7,
     "metadata": {},
     "output_type": "execute_result"
    }
   ],
   "source": [
    "config.get_training_pipeline_config()"
   ]
  },
  {
   "cell_type": "code",
   "execution_count": 8,
   "id": "fcefe68a",
   "metadata": {},
   "outputs": [
    {
     "data": {
      "text/plain": [
       "DataIngestionConfig(dataset_dir='dataset', dataset_name='phishing_db.sqlite', top_features=['directory_length', 'time_domain_activation', 'length_url', 'file_length', 'qty_slash_url', 'qty_plus_directory', 'domain_length', 'qty_vowels_domain', 'qty_asterisk_directory', 'qty_hyphen_directory', 'qty_dot_domain', 'qty_underline_directory', 'qty_percent_directory', 'qty_dot_url', 'qty_hyphen_url', 'qty_hyphen_file', 'qty_hyphen_domain', 'params_length', 'qty_underline_url', 'qty_tld_url', 'qty_plus_params', 'qty_percent_url', 'qty_equal_params', 'qty_dot_params', 'qty_percent_params', 'qty_underline_params', 'phishing'], ingested_train_dir='c:\\\\Users\\\\rachi\\\\Desktop\\\\inueuron\\\\PERSONAL PROJECTS\\\\Phishing-Domain-Detection-using-Machine-Learning\\\\phishing_domain_detection\\\\artifacts\\\\ingested_data\\\\train', ingested_test_dir='c:\\\\Users\\\\rachi\\\\Desktop\\\\inueuron\\\\PERSONAL PROJECTS\\\\Phishing-Domain-Detection-using-Machine-Learning\\\\phishing_domain_detection\\\\artifacts\\\\ingested_data\\\\test')"
      ]
     },
     "execution_count": 8,
     "metadata": {},
     "output_type": "execute_result"
    }
   ],
   "source": [
    "config.get_data_ingestion_config()"
   ]
  },
  {
   "cell_type": "code",
   "execution_count": null,
   "id": "80fa1196",
   "metadata": {},
   "outputs": [],
   "source": []
  },
  {
   "cell_type": "markdown",
   "id": "78753f3f",
   "metadata": {},
   "source": [
    "Building Data Ingestion Component: \n",
    "\n",
    "Steps:\n",
    "\n",
    "1) Perform the query\n",
    "2) TRain test split\n"
   ]
  },
  {
   "cell_type": "markdown",
   "id": "ef5d2cdb",
   "metadata": {},
   "source": []
  },
  {
   "cell_type": "markdown",
   "id": "d1963a53",
   "metadata": {},
   "source": [
    "#### Checking performing the query"
   ]
  },
  {
   "cell_type": "code",
   "execution_count": 9,
   "id": "c2d2ddc3",
   "metadata": {},
   "outputs": [],
   "source": [
    "from phishing_domain_detection.component import data_ingestion"
   ]
  },
  {
   "cell_type": "code",
   "execution_count": null,
   "id": "37c50603",
   "metadata": {},
   "outputs": [],
   "source": [
    "di = DataIngestionConfig()"
   ]
  }
 ],
 "metadata": {
  "kernelspec": {
   "display_name": "Python 3.7.0 (conda)",
   "language": "python",
   "name": "python3"
  },
  "language_info": {
   "codemirror_mode": {
    "name": "ipython",
    "version": 3
   },
   "file_extension": ".py",
   "mimetype": "text/x-python",
   "name": "python",
   "nbconvert_exporter": "python",
   "pygments_lexer": "ipython3",
   "version": "3.7.0"
  },
  "vscode": {
   "interpreter": {
    "hash": "3076e57f7e845b049a649ef4bfee429470fec951874b133ec4bf7644af5a1074"
   }
  }
 },
 "nbformat": 4,
 "nbformat_minor": 5
}
