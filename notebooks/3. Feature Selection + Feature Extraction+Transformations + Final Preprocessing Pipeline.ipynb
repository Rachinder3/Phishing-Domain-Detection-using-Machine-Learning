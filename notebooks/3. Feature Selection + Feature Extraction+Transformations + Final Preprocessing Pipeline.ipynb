{
 "cells": [
  {
   "cell_type": "code",
   "execution_count": 316,
   "id": "d62b318f",
   "metadata": {},
   "outputs": [],
   "source": [
    "base_url = \"..//dataset//\""
   ]
  },
  {
   "cell_type": "markdown",
   "id": "d94ebbd7",
   "metadata": {},
   "source": [
    "# Loading Libraries"
   ]
  },
  {
   "cell_type": "code",
   "execution_count": 479,
   "id": "4896c436",
   "metadata": {},
   "outputs": [],
   "source": [
    "import pandas as pd\n",
    "import numpy as np\n",
    "import matplotlib.pyplot as plt\n",
    "%matplotlib inline\n",
    "pd.pandas.set_option('display.max_columns',None)\n",
    "import seaborn as sns\n",
    "import scipy.stats as stat\n",
    "import pylab \n",
    "from sklearn.impute import SimpleImputer\n",
    "from sklearn.preprocessing import StandardScaler\n",
    "from sklearn.model_selection import StratifiedShuffleSplit\n",
    "import joblib\n",
    "from sklearn.metrics import classification_report\n",
    "from sklearn.base import BaseEstimator, TransformerMixin\n",
    "from sklearn.pipeline import Pipeline\n",
    "import scipy.stats as stat\n",
    "import pylab "
   ]
  },
  {
   "cell_type": "markdown",
   "id": "e2aadf26",
   "metadata": {},
   "source": [
    "# Agenda\n",
    "\n",
    "1. Use Variance Threshold to see which features have minimal variance \n",
    "\n",
    "2. Corelation Analysis\n",
    "\n",
    "3. Mutual Information Analysis\n",
    "\n",
    "4. Chi Square Analysis\n",
    "\n",
    "5. Model Based Methods (Random Forests, Lasso)\n",
    "\n",
    "6. Transformations(Log, Reciprocal, Box Cox etc) on selected features\n",
    "\n",
    "7. Final Pipeline"
   ]
  },
  {
   "cell_type": "markdown",
   "id": "e6f20b8d",
   "metadata": {},
   "source": [
    "# Loading the data"
   ]
  },
  {
   "cell_type": "code",
   "execution_count": 318,
   "id": "ea75c7bf",
   "metadata": {},
   "outputs": [],
   "source": [
    "df = pd.read_csv(base_url+'phishing_full.csv')"
   ]
  },
  {
   "cell_type": "code",
   "execution_count": 319,
   "id": "f2655edc",
   "metadata": {},
   "outputs": [],
   "source": [
    "features_to_skip = ['time_response','domain_spf','asn_ip','time_domain_expiration','qty_ip_resolved','qty_nameservers',\n",
    "                   'qty_mx_servers','ttl_hostname','tls_ssl_certificate','qty_redirects','url_google_index','domain_google_index','url_shortened']"
   ]
  },
  {
   "cell_type": "code",
   "execution_count": 320,
   "id": "eafab280",
   "metadata": {},
   "outputs": [
    {
     "data": {
      "text/plain": [
       "97"
      ]
     },
     "execution_count": 320,
     "metadata": {},
     "output_type": "execute_result"
    }
   ],
   "source": [
    "list(df.columns).index('time_response')"
   ]
  },
  {
   "cell_type": "code",
   "execution_count": 321,
   "id": "3181e457",
   "metadata": {},
   "outputs": [],
   "source": [
    "df.drop(features_to_skip,axis=1, inplace=True)"
   ]
  },
  {
   "cell_type": "code",
   "execution_count": 322,
   "id": "b7ad125c",
   "metadata": {},
   "outputs": [
    {
     "data": {
      "text/html": [
       "<div>\n",
       "<style scoped>\n",
       "    .dataframe tbody tr th:only-of-type {\n",
       "        vertical-align: middle;\n",
       "    }\n",
       "\n",
       "    .dataframe tbody tr th {\n",
       "        vertical-align: top;\n",
       "    }\n",
       "\n",
       "    .dataframe thead th {\n",
       "        text-align: right;\n",
       "    }\n",
       "</style>\n",
       "<table border=\"1\" class=\"dataframe\">\n",
       "  <thead>\n",
       "    <tr style=\"text-align: right;\">\n",
       "      <th></th>\n",
       "      <th>qty_dot_url</th>\n",
       "      <th>qty_hyphen_url</th>\n",
       "      <th>qty_underline_url</th>\n",
       "      <th>qty_slash_url</th>\n",
       "      <th>qty_questionmark_url</th>\n",
       "      <th>qty_equal_url</th>\n",
       "      <th>qty_at_url</th>\n",
       "      <th>qty_and_url</th>\n",
       "      <th>qty_exclamation_url</th>\n",
       "      <th>qty_space_url</th>\n",
       "      <th>qty_tilde_url</th>\n",
       "      <th>qty_comma_url</th>\n",
       "      <th>qty_plus_url</th>\n",
       "      <th>qty_asterisk_url</th>\n",
       "      <th>qty_hashtag_url</th>\n",
       "      <th>qty_dollar_url</th>\n",
       "      <th>qty_percent_url</th>\n",
       "      <th>qty_tld_url</th>\n",
       "      <th>length_url</th>\n",
       "      <th>qty_dot_domain</th>\n",
       "      <th>qty_hyphen_domain</th>\n",
       "      <th>qty_underline_domain</th>\n",
       "      <th>qty_slash_domain</th>\n",
       "      <th>qty_questionmark_domain</th>\n",
       "      <th>qty_equal_domain</th>\n",
       "      <th>qty_at_domain</th>\n",
       "      <th>qty_and_domain</th>\n",
       "      <th>qty_exclamation_domain</th>\n",
       "      <th>qty_space_domain</th>\n",
       "      <th>qty_tilde_domain</th>\n",
       "      <th>qty_comma_domain</th>\n",
       "      <th>qty_plus_domain</th>\n",
       "      <th>qty_asterisk_domain</th>\n",
       "      <th>qty_hashtag_domain</th>\n",
       "      <th>qty_dollar_domain</th>\n",
       "      <th>qty_percent_domain</th>\n",
       "      <th>qty_vowels_domain</th>\n",
       "      <th>domain_length</th>\n",
       "      <th>domain_in_ip</th>\n",
       "      <th>server_client_domain</th>\n",
       "      <th>qty_dot_directory</th>\n",
       "      <th>qty_hyphen_directory</th>\n",
       "      <th>qty_underline_directory</th>\n",
       "      <th>qty_slash_directory</th>\n",
       "      <th>qty_questionmark_directory</th>\n",
       "      <th>qty_equal_directory</th>\n",
       "      <th>qty_at_directory</th>\n",
       "      <th>qty_and_directory</th>\n",
       "      <th>qty_exclamation_directory</th>\n",
       "      <th>qty_space_directory</th>\n",
       "      <th>qty_tilde_directory</th>\n",
       "      <th>qty_comma_directory</th>\n",
       "      <th>qty_plus_directory</th>\n",
       "      <th>qty_asterisk_directory</th>\n",
       "      <th>qty_hashtag_directory</th>\n",
       "      <th>qty_dollar_directory</th>\n",
       "      <th>qty_percent_directory</th>\n",
       "      <th>directory_length</th>\n",
       "      <th>qty_dot_file</th>\n",
       "      <th>qty_hyphen_file</th>\n",
       "      <th>qty_underline_file</th>\n",
       "      <th>qty_slash_file</th>\n",
       "      <th>qty_questionmark_file</th>\n",
       "      <th>qty_equal_file</th>\n",
       "      <th>qty_at_file</th>\n",
       "      <th>qty_and_file</th>\n",
       "      <th>qty_exclamation_file</th>\n",
       "      <th>qty_space_file</th>\n",
       "      <th>qty_tilde_file</th>\n",
       "      <th>qty_comma_file</th>\n",
       "      <th>qty_plus_file</th>\n",
       "      <th>qty_asterisk_file</th>\n",
       "      <th>qty_hashtag_file</th>\n",
       "      <th>qty_dollar_file</th>\n",
       "      <th>qty_percent_file</th>\n",
       "      <th>file_length</th>\n",
       "      <th>qty_dot_params</th>\n",
       "      <th>qty_hyphen_params</th>\n",
       "      <th>qty_underline_params</th>\n",
       "      <th>qty_slash_params</th>\n",
       "      <th>qty_questionmark_params</th>\n",
       "      <th>qty_equal_params</th>\n",
       "      <th>qty_at_params</th>\n",
       "      <th>qty_and_params</th>\n",
       "      <th>qty_exclamation_params</th>\n",
       "      <th>qty_space_params</th>\n",
       "      <th>qty_tilde_params</th>\n",
       "      <th>qty_comma_params</th>\n",
       "      <th>qty_plus_params</th>\n",
       "      <th>qty_asterisk_params</th>\n",
       "      <th>qty_hashtag_params</th>\n",
       "      <th>qty_dollar_params</th>\n",
       "      <th>qty_percent_params</th>\n",
       "      <th>params_length</th>\n",
       "      <th>tld_present_params</th>\n",
       "      <th>qty_params</th>\n",
       "      <th>email_in_url</th>\n",
       "      <th>time_domain_activation</th>\n",
       "      <th>phishing</th>\n",
       "    </tr>\n",
       "  </thead>\n",
       "  <tbody>\n",
       "    <tr>\n",
       "      <th>0</th>\n",
       "      <td>3</td>\n",
       "      <td>0</td>\n",
       "      <td>0</td>\n",
       "      <td>1</td>\n",
       "      <td>0</td>\n",
       "      <td>0</td>\n",
       "      <td>0</td>\n",
       "      <td>0</td>\n",
       "      <td>0</td>\n",
       "      <td>0</td>\n",
       "      <td>0</td>\n",
       "      <td>0</td>\n",
       "      <td>0</td>\n",
       "      <td>0</td>\n",
       "      <td>0</td>\n",
       "      <td>0</td>\n",
       "      <td>0</td>\n",
       "      <td>1</td>\n",
       "      <td>25</td>\n",
       "      <td>2</td>\n",
       "      <td>0</td>\n",
       "      <td>0</td>\n",
       "      <td>0</td>\n",
       "      <td>0</td>\n",
       "      <td>0</td>\n",
       "      <td>0</td>\n",
       "      <td>0</td>\n",
       "      <td>0</td>\n",
       "      <td>0</td>\n",
       "      <td>0</td>\n",
       "      <td>0</td>\n",
       "      <td>0</td>\n",
       "      <td>0</td>\n",
       "      <td>0</td>\n",
       "      <td>0</td>\n",
       "      <td>0</td>\n",
       "      <td>4</td>\n",
       "      <td>17</td>\n",
       "      <td>0</td>\n",
       "      <td>0</td>\n",
       "      <td>1</td>\n",
       "      <td>0</td>\n",
       "      <td>0</td>\n",
       "      <td>1</td>\n",
       "      <td>0</td>\n",
       "      <td>0</td>\n",
       "      <td>0</td>\n",
       "      <td>0</td>\n",
       "      <td>0</td>\n",
       "      <td>0</td>\n",
       "      <td>0</td>\n",
       "      <td>0</td>\n",
       "      <td>0</td>\n",
       "      <td>0</td>\n",
       "      <td>0</td>\n",
       "      <td>0</td>\n",
       "      <td>0</td>\n",
       "      <td>8</td>\n",
       "      <td>1</td>\n",
       "      <td>0</td>\n",
       "      <td>0</td>\n",
       "      <td>0</td>\n",
       "      <td>0</td>\n",
       "      <td>0</td>\n",
       "      <td>0</td>\n",
       "      <td>0</td>\n",
       "      <td>0</td>\n",
       "      <td>0</td>\n",
       "      <td>0</td>\n",
       "      <td>0</td>\n",
       "      <td>0</td>\n",
       "      <td>0</td>\n",
       "      <td>0</td>\n",
       "      <td>0</td>\n",
       "      <td>0</td>\n",
       "      <td>7</td>\n",
       "      <td>-1</td>\n",
       "      <td>-1</td>\n",
       "      <td>-1</td>\n",
       "      <td>-1</td>\n",
       "      <td>-1</td>\n",
       "      <td>-1</td>\n",
       "      <td>-1</td>\n",
       "      <td>-1</td>\n",
       "      <td>-1</td>\n",
       "      <td>-1</td>\n",
       "      <td>-1</td>\n",
       "      <td>-1</td>\n",
       "      <td>-1</td>\n",
       "      <td>-1</td>\n",
       "      <td>-1</td>\n",
       "      <td>-1</td>\n",
       "      <td>-1</td>\n",
       "      <td>-1</td>\n",
       "      <td>-1</td>\n",
       "      <td>-1</td>\n",
       "      <td>0</td>\n",
       "      <td>-1</td>\n",
       "      <td>1</td>\n",
       "    </tr>\n",
       "    <tr>\n",
       "      <th>1</th>\n",
       "      <td>5</td>\n",
       "      <td>0</td>\n",
       "      <td>1</td>\n",
       "      <td>3</td>\n",
       "      <td>0</td>\n",
       "      <td>3</td>\n",
       "      <td>0</td>\n",
       "      <td>2</td>\n",
       "      <td>0</td>\n",
       "      <td>0</td>\n",
       "      <td>0</td>\n",
       "      <td>0</td>\n",
       "      <td>0</td>\n",
       "      <td>0</td>\n",
       "      <td>0</td>\n",
       "      <td>0</td>\n",
       "      <td>0</td>\n",
       "      <td>3</td>\n",
       "      <td>223</td>\n",
       "      <td>2</td>\n",
       "      <td>0</td>\n",
       "      <td>0</td>\n",
       "      <td>0</td>\n",
       "      <td>0</td>\n",
       "      <td>0</td>\n",
       "      <td>0</td>\n",
       "      <td>0</td>\n",
       "      <td>0</td>\n",
       "      <td>0</td>\n",
       "      <td>0</td>\n",
       "      <td>0</td>\n",
       "      <td>0</td>\n",
       "      <td>0</td>\n",
       "      <td>0</td>\n",
       "      <td>0</td>\n",
       "      <td>0</td>\n",
       "      <td>5</td>\n",
       "      <td>16</td>\n",
       "      <td>0</td>\n",
       "      <td>0</td>\n",
       "      <td>3</td>\n",
       "      <td>0</td>\n",
       "      <td>0</td>\n",
       "      <td>3</td>\n",
       "      <td>0</td>\n",
       "      <td>0</td>\n",
       "      <td>0</td>\n",
       "      <td>0</td>\n",
       "      <td>0</td>\n",
       "      <td>0</td>\n",
       "      <td>0</td>\n",
       "      <td>0</td>\n",
       "      <td>0</td>\n",
       "      <td>0</td>\n",
       "      <td>0</td>\n",
       "      <td>0</td>\n",
       "      <td>0</td>\n",
       "      <td>42</td>\n",
       "      <td>1</td>\n",
       "      <td>0</td>\n",
       "      <td>0</td>\n",
       "      <td>0</td>\n",
       "      <td>0</td>\n",
       "      <td>0</td>\n",
       "      <td>0</td>\n",
       "      <td>0</td>\n",
       "      <td>0</td>\n",
       "      <td>0</td>\n",
       "      <td>0</td>\n",
       "      <td>0</td>\n",
       "      <td>0</td>\n",
       "      <td>0</td>\n",
       "      <td>0</td>\n",
       "      <td>0</td>\n",
       "      <td>0</td>\n",
       "      <td>9</td>\n",
       "      <td>0</td>\n",
       "      <td>0</td>\n",
       "      <td>1</td>\n",
       "      <td>0</td>\n",
       "      <td>0</td>\n",
       "      <td>3</td>\n",
       "      <td>0</td>\n",
       "      <td>2</td>\n",
       "      <td>0</td>\n",
       "      <td>0</td>\n",
       "      <td>0</td>\n",
       "      <td>0</td>\n",
       "      <td>0</td>\n",
       "      <td>0</td>\n",
       "      <td>0</td>\n",
       "      <td>0</td>\n",
       "      <td>0</td>\n",
       "      <td>165</td>\n",
       "      <td>0</td>\n",
       "      <td>3</td>\n",
       "      <td>0</td>\n",
       "      <td>579</td>\n",
       "      <td>1</td>\n",
       "    </tr>\n",
       "    <tr>\n",
       "      <th>2</th>\n",
       "      <td>2</td>\n",
       "      <td>0</td>\n",
       "      <td>0</td>\n",
       "      <td>1</td>\n",
       "      <td>0</td>\n",
       "      <td>0</td>\n",
       "      <td>0</td>\n",
       "      <td>0</td>\n",
       "      <td>0</td>\n",
       "      <td>0</td>\n",
       "      <td>0</td>\n",
       "      <td>0</td>\n",
       "      <td>0</td>\n",
       "      <td>0</td>\n",
       "      <td>0</td>\n",
       "      <td>0</td>\n",
       "      <td>0</td>\n",
       "      <td>1</td>\n",
       "      <td>15</td>\n",
       "      <td>2</td>\n",
       "      <td>0</td>\n",
       "      <td>0</td>\n",
       "      <td>0</td>\n",
       "      <td>0</td>\n",
       "      <td>0</td>\n",
       "      <td>0</td>\n",
       "      <td>0</td>\n",
       "      <td>0</td>\n",
       "      <td>0</td>\n",
       "      <td>0</td>\n",
       "      <td>0</td>\n",
       "      <td>0</td>\n",
       "      <td>0</td>\n",
       "      <td>0</td>\n",
       "      <td>0</td>\n",
       "      <td>0</td>\n",
       "      <td>3</td>\n",
       "      <td>14</td>\n",
       "      <td>0</td>\n",
       "      <td>0</td>\n",
       "      <td>0</td>\n",
       "      <td>0</td>\n",
       "      <td>0</td>\n",
       "      <td>1</td>\n",
       "      <td>0</td>\n",
       "      <td>0</td>\n",
       "      <td>0</td>\n",
       "      <td>0</td>\n",
       "      <td>0</td>\n",
       "      <td>0</td>\n",
       "      <td>0</td>\n",
       "      <td>0</td>\n",
       "      <td>0</td>\n",
       "      <td>0</td>\n",
       "      <td>0</td>\n",
       "      <td>0</td>\n",
       "      <td>0</td>\n",
       "      <td>1</td>\n",
       "      <td>0</td>\n",
       "      <td>0</td>\n",
       "      <td>0</td>\n",
       "      <td>0</td>\n",
       "      <td>0</td>\n",
       "      <td>0</td>\n",
       "      <td>0</td>\n",
       "      <td>0</td>\n",
       "      <td>0</td>\n",
       "      <td>0</td>\n",
       "      <td>0</td>\n",
       "      <td>0</td>\n",
       "      <td>0</td>\n",
       "      <td>0</td>\n",
       "      <td>0</td>\n",
       "      <td>0</td>\n",
       "      <td>0</td>\n",
       "      <td>0</td>\n",
       "      <td>-1</td>\n",
       "      <td>-1</td>\n",
       "      <td>-1</td>\n",
       "      <td>-1</td>\n",
       "      <td>-1</td>\n",
       "      <td>-1</td>\n",
       "      <td>-1</td>\n",
       "      <td>-1</td>\n",
       "      <td>-1</td>\n",
       "      <td>-1</td>\n",
       "      <td>-1</td>\n",
       "      <td>-1</td>\n",
       "      <td>-1</td>\n",
       "      <td>-1</td>\n",
       "      <td>-1</td>\n",
       "      <td>-1</td>\n",
       "      <td>-1</td>\n",
       "      <td>-1</td>\n",
       "      <td>-1</td>\n",
       "      <td>-1</td>\n",
       "      <td>0</td>\n",
       "      <td>-1</td>\n",
       "      <td>0</td>\n",
       "    </tr>\n",
       "    <tr>\n",
       "      <th>3</th>\n",
       "      <td>4</td>\n",
       "      <td>0</td>\n",
       "      <td>2</td>\n",
       "      <td>5</td>\n",
       "      <td>0</td>\n",
       "      <td>0</td>\n",
       "      <td>0</td>\n",
       "      <td>0</td>\n",
       "      <td>0</td>\n",
       "      <td>0</td>\n",
       "      <td>0</td>\n",
       "      <td>0</td>\n",
       "      <td>0</td>\n",
       "      <td>0</td>\n",
       "      <td>0</td>\n",
       "      <td>0</td>\n",
       "      <td>0</td>\n",
       "      <td>1</td>\n",
       "      <td>81</td>\n",
       "      <td>2</td>\n",
       "      <td>0</td>\n",
       "      <td>0</td>\n",
       "      <td>0</td>\n",
       "      <td>0</td>\n",
       "      <td>0</td>\n",
       "      <td>0</td>\n",
       "      <td>0</td>\n",
       "      <td>0</td>\n",
       "      <td>0</td>\n",
       "      <td>0</td>\n",
       "      <td>0</td>\n",
       "      <td>0</td>\n",
       "      <td>0</td>\n",
       "      <td>0</td>\n",
       "      <td>0</td>\n",
       "      <td>0</td>\n",
       "      <td>7</td>\n",
       "      <td>19</td>\n",
       "      <td>0</td>\n",
       "      <td>0</td>\n",
       "      <td>2</td>\n",
       "      <td>0</td>\n",
       "      <td>2</td>\n",
       "      <td>5</td>\n",
       "      <td>0</td>\n",
       "      <td>0</td>\n",
       "      <td>0</td>\n",
       "      <td>0</td>\n",
       "      <td>0</td>\n",
       "      <td>0</td>\n",
       "      <td>0</td>\n",
       "      <td>0</td>\n",
       "      <td>0</td>\n",
       "      <td>0</td>\n",
       "      <td>0</td>\n",
       "      <td>0</td>\n",
       "      <td>0</td>\n",
       "      <td>62</td>\n",
       "      <td>1</td>\n",
       "      <td>0</td>\n",
       "      <td>0</td>\n",
       "      <td>0</td>\n",
       "      <td>0</td>\n",
       "      <td>0</td>\n",
       "      <td>0</td>\n",
       "      <td>0</td>\n",
       "      <td>0</td>\n",
       "      <td>0</td>\n",
       "      <td>0</td>\n",
       "      <td>0</td>\n",
       "      <td>0</td>\n",
       "      <td>0</td>\n",
       "      <td>0</td>\n",
       "      <td>0</td>\n",
       "      <td>0</td>\n",
       "      <td>9</td>\n",
       "      <td>-1</td>\n",
       "      <td>-1</td>\n",
       "      <td>-1</td>\n",
       "      <td>-1</td>\n",
       "      <td>-1</td>\n",
       "      <td>-1</td>\n",
       "      <td>-1</td>\n",
       "      <td>-1</td>\n",
       "      <td>-1</td>\n",
       "      <td>-1</td>\n",
       "      <td>-1</td>\n",
       "      <td>-1</td>\n",
       "      <td>-1</td>\n",
       "      <td>-1</td>\n",
       "      <td>-1</td>\n",
       "      <td>-1</td>\n",
       "      <td>-1</td>\n",
       "      <td>-1</td>\n",
       "      <td>-1</td>\n",
       "      <td>-1</td>\n",
       "      <td>0</td>\n",
       "      <td>-1</td>\n",
       "      <td>1</td>\n",
       "    </tr>\n",
       "    <tr>\n",
       "      <th>4</th>\n",
       "      <td>2</td>\n",
       "      <td>0</td>\n",
       "      <td>0</td>\n",
       "      <td>0</td>\n",
       "      <td>0</td>\n",
       "      <td>0</td>\n",
       "      <td>0</td>\n",
       "      <td>0</td>\n",
       "      <td>0</td>\n",
       "      <td>0</td>\n",
       "      <td>0</td>\n",
       "      <td>0</td>\n",
       "      <td>0</td>\n",
       "      <td>0</td>\n",
       "      <td>0</td>\n",
       "      <td>0</td>\n",
       "      <td>0</td>\n",
       "      <td>1</td>\n",
       "      <td>19</td>\n",
       "      <td>2</td>\n",
       "      <td>0</td>\n",
       "      <td>0</td>\n",
       "      <td>0</td>\n",
       "      <td>0</td>\n",
       "      <td>0</td>\n",
       "      <td>0</td>\n",
       "      <td>0</td>\n",
       "      <td>0</td>\n",
       "      <td>0</td>\n",
       "      <td>0</td>\n",
       "      <td>0</td>\n",
       "      <td>0</td>\n",
       "      <td>0</td>\n",
       "      <td>0</td>\n",
       "      <td>0</td>\n",
       "      <td>0</td>\n",
       "      <td>5</td>\n",
       "      <td>19</td>\n",
       "      <td>0</td>\n",
       "      <td>0</td>\n",
       "      <td>-1</td>\n",
       "      <td>-1</td>\n",
       "      <td>-1</td>\n",
       "      <td>-1</td>\n",
       "      <td>-1</td>\n",
       "      <td>-1</td>\n",
       "      <td>-1</td>\n",
       "      <td>-1</td>\n",
       "      <td>-1</td>\n",
       "      <td>-1</td>\n",
       "      <td>-1</td>\n",
       "      <td>-1</td>\n",
       "      <td>-1</td>\n",
       "      <td>-1</td>\n",
       "      <td>-1</td>\n",
       "      <td>-1</td>\n",
       "      <td>-1</td>\n",
       "      <td>-1</td>\n",
       "      <td>-1</td>\n",
       "      <td>-1</td>\n",
       "      <td>-1</td>\n",
       "      <td>-1</td>\n",
       "      <td>-1</td>\n",
       "      <td>-1</td>\n",
       "      <td>-1</td>\n",
       "      <td>-1</td>\n",
       "      <td>-1</td>\n",
       "      <td>-1</td>\n",
       "      <td>-1</td>\n",
       "      <td>-1</td>\n",
       "      <td>-1</td>\n",
       "      <td>-1</td>\n",
       "      <td>-1</td>\n",
       "      <td>-1</td>\n",
       "      <td>-1</td>\n",
       "      <td>-1</td>\n",
       "      <td>-1</td>\n",
       "      <td>-1</td>\n",
       "      <td>-1</td>\n",
       "      <td>-1</td>\n",
       "      <td>-1</td>\n",
       "      <td>-1</td>\n",
       "      <td>-1</td>\n",
       "      <td>-1</td>\n",
       "      <td>-1</td>\n",
       "      <td>-1</td>\n",
       "      <td>-1</td>\n",
       "      <td>-1</td>\n",
       "      <td>-1</td>\n",
       "      <td>-1</td>\n",
       "      <td>-1</td>\n",
       "      <td>-1</td>\n",
       "      <td>-1</td>\n",
       "      <td>-1</td>\n",
       "      <td>-1</td>\n",
       "      <td>-1</td>\n",
       "      <td>0</td>\n",
       "      <td>6998</td>\n",
       "      <td>0</td>\n",
       "    </tr>\n",
       "    <tr>\n",
       "      <th>...</th>\n",
       "      <td>...</td>\n",
       "      <td>...</td>\n",
       "      <td>...</td>\n",
       "      <td>...</td>\n",
       "      <td>...</td>\n",
       "      <td>...</td>\n",
       "      <td>...</td>\n",
       "      <td>...</td>\n",
       "      <td>...</td>\n",
       "      <td>...</td>\n",
       "      <td>...</td>\n",
       "      <td>...</td>\n",
       "      <td>...</td>\n",
       "      <td>...</td>\n",
       "      <td>...</td>\n",
       "      <td>...</td>\n",
       "      <td>...</td>\n",
       "      <td>...</td>\n",
       "      <td>...</td>\n",
       "      <td>...</td>\n",
       "      <td>...</td>\n",
       "      <td>...</td>\n",
       "      <td>...</td>\n",
       "      <td>...</td>\n",
       "      <td>...</td>\n",
       "      <td>...</td>\n",
       "      <td>...</td>\n",
       "      <td>...</td>\n",
       "      <td>...</td>\n",
       "      <td>...</td>\n",
       "      <td>...</td>\n",
       "      <td>...</td>\n",
       "      <td>...</td>\n",
       "      <td>...</td>\n",
       "      <td>...</td>\n",
       "      <td>...</td>\n",
       "      <td>...</td>\n",
       "      <td>...</td>\n",
       "      <td>...</td>\n",
       "      <td>...</td>\n",
       "      <td>...</td>\n",
       "      <td>...</td>\n",
       "      <td>...</td>\n",
       "      <td>...</td>\n",
       "      <td>...</td>\n",
       "      <td>...</td>\n",
       "      <td>...</td>\n",
       "      <td>...</td>\n",
       "      <td>...</td>\n",
       "      <td>...</td>\n",
       "      <td>...</td>\n",
       "      <td>...</td>\n",
       "      <td>...</td>\n",
       "      <td>...</td>\n",
       "      <td>...</td>\n",
       "      <td>...</td>\n",
       "      <td>...</td>\n",
       "      <td>...</td>\n",
       "      <td>...</td>\n",
       "      <td>...</td>\n",
       "      <td>...</td>\n",
       "      <td>...</td>\n",
       "      <td>...</td>\n",
       "      <td>...</td>\n",
       "      <td>...</td>\n",
       "      <td>...</td>\n",
       "      <td>...</td>\n",
       "      <td>...</td>\n",
       "      <td>...</td>\n",
       "      <td>...</td>\n",
       "      <td>...</td>\n",
       "      <td>...</td>\n",
       "      <td>...</td>\n",
       "      <td>...</td>\n",
       "      <td>...</td>\n",
       "      <td>...</td>\n",
       "      <td>...</td>\n",
       "      <td>...</td>\n",
       "      <td>...</td>\n",
       "      <td>...</td>\n",
       "      <td>...</td>\n",
       "      <td>...</td>\n",
       "      <td>...</td>\n",
       "      <td>...</td>\n",
       "      <td>...</td>\n",
       "      <td>...</td>\n",
       "      <td>...</td>\n",
       "      <td>...</td>\n",
       "      <td>...</td>\n",
       "      <td>...</td>\n",
       "      <td>...</td>\n",
       "      <td>...</td>\n",
       "      <td>...</td>\n",
       "      <td>...</td>\n",
       "      <td>...</td>\n",
       "      <td>...</td>\n",
       "      <td>...</td>\n",
       "      <td>...</td>\n",
       "      <td>...</td>\n",
       "    </tr>\n",
       "    <tr>\n",
       "      <th>88642</th>\n",
       "      <td>3</td>\n",
       "      <td>1</td>\n",
       "      <td>0</td>\n",
       "      <td>0</td>\n",
       "      <td>0</td>\n",
       "      <td>0</td>\n",
       "      <td>0</td>\n",
       "      <td>0</td>\n",
       "      <td>0</td>\n",
       "      <td>0</td>\n",
       "      <td>0</td>\n",
       "      <td>0</td>\n",
       "      <td>0</td>\n",
       "      <td>0</td>\n",
       "      <td>0</td>\n",
       "      <td>0</td>\n",
       "      <td>0</td>\n",
       "      <td>2</td>\n",
       "      <td>23</td>\n",
       "      <td>3</td>\n",
       "      <td>1</td>\n",
       "      <td>0</td>\n",
       "      <td>0</td>\n",
       "      <td>0</td>\n",
       "      <td>0</td>\n",
       "      <td>0</td>\n",
       "      <td>0</td>\n",
       "      <td>0</td>\n",
       "      <td>0</td>\n",
       "      <td>0</td>\n",
       "      <td>0</td>\n",
       "      <td>0</td>\n",
       "      <td>0</td>\n",
       "      <td>0</td>\n",
       "      <td>0</td>\n",
       "      <td>0</td>\n",
       "      <td>5</td>\n",
       "      <td>23</td>\n",
       "      <td>0</td>\n",
       "      <td>0</td>\n",
       "      <td>-1</td>\n",
       "      <td>-1</td>\n",
       "      <td>-1</td>\n",
       "      <td>-1</td>\n",
       "      <td>-1</td>\n",
       "      <td>-1</td>\n",
       "      <td>-1</td>\n",
       "      <td>-1</td>\n",
       "      <td>-1</td>\n",
       "      <td>-1</td>\n",
       "      <td>-1</td>\n",
       "      <td>-1</td>\n",
       "      <td>-1</td>\n",
       "      <td>-1</td>\n",
       "      <td>-1</td>\n",
       "      <td>-1</td>\n",
       "      <td>-1</td>\n",
       "      <td>-1</td>\n",
       "      <td>-1</td>\n",
       "      <td>-1</td>\n",
       "      <td>-1</td>\n",
       "      <td>-1</td>\n",
       "      <td>-1</td>\n",
       "      <td>-1</td>\n",
       "      <td>-1</td>\n",
       "      <td>-1</td>\n",
       "      <td>-1</td>\n",
       "      <td>-1</td>\n",
       "      <td>-1</td>\n",
       "      <td>-1</td>\n",
       "      <td>-1</td>\n",
       "      <td>-1</td>\n",
       "      <td>-1</td>\n",
       "      <td>-1</td>\n",
       "      <td>-1</td>\n",
       "      <td>-1</td>\n",
       "      <td>-1</td>\n",
       "      <td>-1</td>\n",
       "      <td>-1</td>\n",
       "      <td>-1</td>\n",
       "      <td>-1</td>\n",
       "      <td>-1</td>\n",
       "      <td>-1</td>\n",
       "      <td>-1</td>\n",
       "      <td>-1</td>\n",
       "      <td>-1</td>\n",
       "      <td>-1</td>\n",
       "      <td>-1</td>\n",
       "      <td>-1</td>\n",
       "      <td>-1</td>\n",
       "      <td>-1</td>\n",
       "      <td>-1</td>\n",
       "      <td>-1</td>\n",
       "      <td>-1</td>\n",
       "      <td>-1</td>\n",
       "      <td>-1</td>\n",
       "      <td>0</td>\n",
       "      <td>5509</td>\n",
       "      <td>0</td>\n",
       "    </tr>\n",
       "    <tr>\n",
       "      <th>88643</th>\n",
       "      <td>2</td>\n",
       "      <td>0</td>\n",
       "      <td>0</td>\n",
       "      <td>0</td>\n",
       "      <td>0</td>\n",
       "      <td>0</td>\n",
       "      <td>0</td>\n",
       "      <td>0</td>\n",
       "      <td>0</td>\n",
       "      <td>0</td>\n",
       "      <td>0</td>\n",
       "      <td>0</td>\n",
       "      <td>0</td>\n",
       "      <td>0</td>\n",
       "      <td>0</td>\n",
       "      <td>0</td>\n",
       "      <td>0</td>\n",
       "      <td>1</td>\n",
       "      <td>34</td>\n",
       "      <td>2</td>\n",
       "      <td>0</td>\n",
       "      <td>0</td>\n",
       "      <td>0</td>\n",
       "      <td>0</td>\n",
       "      <td>0</td>\n",
       "      <td>0</td>\n",
       "      <td>0</td>\n",
       "      <td>0</td>\n",
       "      <td>0</td>\n",
       "      <td>0</td>\n",
       "      <td>0</td>\n",
       "      <td>0</td>\n",
       "      <td>0</td>\n",
       "      <td>0</td>\n",
       "      <td>0</td>\n",
       "      <td>0</td>\n",
       "      <td>14</td>\n",
       "      <td>34</td>\n",
       "      <td>0</td>\n",
       "      <td>0</td>\n",
       "      <td>-1</td>\n",
       "      <td>-1</td>\n",
       "      <td>-1</td>\n",
       "      <td>-1</td>\n",
       "      <td>-1</td>\n",
       "      <td>-1</td>\n",
       "      <td>-1</td>\n",
       "      <td>-1</td>\n",
       "      <td>-1</td>\n",
       "      <td>-1</td>\n",
       "      <td>-1</td>\n",
       "      <td>-1</td>\n",
       "      <td>-1</td>\n",
       "      <td>-1</td>\n",
       "      <td>-1</td>\n",
       "      <td>-1</td>\n",
       "      <td>-1</td>\n",
       "      <td>-1</td>\n",
       "      <td>-1</td>\n",
       "      <td>-1</td>\n",
       "      <td>-1</td>\n",
       "      <td>-1</td>\n",
       "      <td>-1</td>\n",
       "      <td>-1</td>\n",
       "      <td>-1</td>\n",
       "      <td>-1</td>\n",
       "      <td>-1</td>\n",
       "      <td>-1</td>\n",
       "      <td>-1</td>\n",
       "      <td>-1</td>\n",
       "      <td>-1</td>\n",
       "      <td>-1</td>\n",
       "      <td>-1</td>\n",
       "      <td>-1</td>\n",
       "      <td>-1</td>\n",
       "      <td>-1</td>\n",
       "      <td>-1</td>\n",
       "      <td>-1</td>\n",
       "      <td>-1</td>\n",
       "      <td>-1</td>\n",
       "      <td>-1</td>\n",
       "      <td>-1</td>\n",
       "      <td>-1</td>\n",
       "      <td>-1</td>\n",
       "      <td>-1</td>\n",
       "      <td>-1</td>\n",
       "      <td>-1</td>\n",
       "      <td>-1</td>\n",
       "      <td>-1</td>\n",
       "      <td>-1</td>\n",
       "      <td>-1</td>\n",
       "      <td>-1</td>\n",
       "      <td>-1</td>\n",
       "      <td>-1</td>\n",
       "      <td>-1</td>\n",
       "      <td>-1</td>\n",
       "      <td>0</td>\n",
       "      <td>5046</td>\n",
       "      <td>0</td>\n",
       "    </tr>\n",
       "    <tr>\n",
       "      <th>88644</th>\n",
       "      <td>2</td>\n",
       "      <td>1</td>\n",
       "      <td>0</td>\n",
       "      <td>5</td>\n",
       "      <td>0</td>\n",
       "      <td>0</td>\n",
       "      <td>0</td>\n",
       "      <td>0</td>\n",
       "      <td>0</td>\n",
       "      <td>0</td>\n",
       "      <td>0</td>\n",
       "      <td>0</td>\n",
       "      <td>0</td>\n",
       "      <td>0</td>\n",
       "      <td>0</td>\n",
       "      <td>0</td>\n",
       "      <td>0</td>\n",
       "      <td>1</td>\n",
       "      <td>70</td>\n",
       "      <td>1</td>\n",
       "      <td>0</td>\n",
       "      <td>0</td>\n",
       "      <td>0</td>\n",
       "      <td>0</td>\n",
       "      <td>0</td>\n",
       "      <td>0</td>\n",
       "      <td>0</td>\n",
       "      <td>0</td>\n",
       "      <td>0</td>\n",
       "      <td>0</td>\n",
       "      <td>0</td>\n",
       "      <td>0</td>\n",
       "      <td>0</td>\n",
       "      <td>0</td>\n",
       "      <td>0</td>\n",
       "      <td>0</td>\n",
       "      <td>6</td>\n",
       "      <td>22</td>\n",
       "      <td>0</td>\n",
       "      <td>0</td>\n",
       "      <td>1</td>\n",
       "      <td>1</td>\n",
       "      <td>0</td>\n",
       "      <td>5</td>\n",
       "      <td>0</td>\n",
       "      <td>0</td>\n",
       "      <td>0</td>\n",
       "      <td>0</td>\n",
       "      <td>0</td>\n",
       "      <td>0</td>\n",
       "      <td>0</td>\n",
       "      <td>0</td>\n",
       "      <td>0</td>\n",
       "      <td>0</td>\n",
       "      <td>0</td>\n",
       "      <td>0</td>\n",
       "      <td>0</td>\n",
       "      <td>48</td>\n",
       "      <td>1</td>\n",
       "      <td>0</td>\n",
       "      <td>0</td>\n",
       "      <td>0</td>\n",
       "      <td>0</td>\n",
       "      <td>0</td>\n",
       "      <td>0</td>\n",
       "      <td>0</td>\n",
       "      <td>0</td>\n",
       "      <td>0</td>\n",
       "      <td>0</td>\n",
       "      <td>0</td>\n",
       "      <td>0</td>\n",
       "      <td>0</td>\n",
       "      <td>0</td>\n",
       "      <td>0</td>\n",
       "      <td>0</td>\n",
       "      <td>11</td>\n",
       "      <td>-1</td>\n",
       "      <td>-1</td>\n",
       "      <td>-1</td>\n",
       "      <td>-1</td>\n",
       "      <td>-1</td>\n",
       "      <td>-1</td>\n",
       "      <td>-1</td>\n",
       "      <td>-1</td>\n",
       "      <td>-1</td>\n",
       "      <td>-1</td>\n",
       "      <td>-1</td>\n",
       "      <td>-1</td>\n",
       "      <td>-1</td>\n",
       "      <td>-1</td>\n",
       "      <td>-1</td>\n",
       "      <td>-1</td>\n",
       "      <td>-1</td>\n",
       "      <td>-1</td>\n",
       "      <td>-1</td>\n",
       "      <td>-1</td>\n",
       "      <td>0</td>\n",
       "      <td>1844</td>\n",
       "      <td>1</td>\n",
       "    </tr>\n",
       "    <tr>\n",
       "      <th>88645</th>\n",
       "      <td>2</td>\n",
       "      <td>0</td>\n",
       "      <td>0</td>\n",
       "      <td>1</td>\n",
       "      <td>0</td>\n",
       "      <td>0</td>\n",
       "      <td>0</td>\n",
       "      <td>0</td>\n",
       "      <td>0</td>\n",
       "      <td>0</td>\n",
       "      <td>0</td>\n",
       "      <td>0</td>\n",
       "      <td>0</td>\n",
       "      <td>0</td>\n",
       "      <td>0</td>\n",
       "      <td>0</td>\n",
       "      <td>0</td>\n",
       "      <td>1</td>\n",
       "      <td>28</td>\n",
       "      <td>2</td>\n",
       "      <td>0</td>\n",
       "      <td>0</td>\n",
       "      <td>0</td>\n",
       "      <td>0</td>\n",
       "      <td>0</td>\n",
       "      <td>0</td>\n",
       "      <td>0</td>\n",
       "      <td>0</td>\n",
       "      <td>0</td>\n",
       "      <td>0</td>\n",
       "      <td>0</td>\n",
       "      <td>0</td>\n",
       "      <td>0</td>\n",
       "      <td>0</td>\n",
       "      <td>0</td>\n",
       "      <td>0</td>\n",
       "      <td>5</td>\n",
       "      <td>27</td>\n",
       "      <td>0</td>\n",
       "      <td>0</td>\n",
       "      <td>0</td>\n",
       "      <td>0</td>\n",
       "      <td>0</td>\n",
       "      <td>1</td>\n",
       "      <td>0</td>\n",
       "      <td>0</td>\n",
       "      <td>0</td>\n",
       "      <td>0</td>\n",
       "      <td>0</td>\n",
       "      <td>0</td>\n",
       "      <td>0</td>\n",
       "      <td>0</td>\n",
       "      <td>0</td>\n",
       "      <td>0</td>\n",
       "      <td>0</td>\n",
       "      <td>0</td>\n",
       "      <td>0</td>\n",
       "      <td>1</td>\n",
       "      <td>0</td>\n",
       "      <td>0</td>\n",
       "      <td>0</td>\n",
       "      <td>0</td>\n",
       "      <td>0</td>\n",
       "      <td>0</td>\n",
       "      <td>0</td>\n",
       "      <td>0</td>\n",
       "      <td>0</td>\n",
       "      <td>0</td>\n",
       "      <td>0</td>\n",
       "      <td>0</td>\n",
       "      <td>0</td>\n",
       "      <td>0</td>\n",
       "      <td>0</td>\n",
       "      <td>0</td>\n",
       "      <td>0</td>\n",
       "      <td>0</td>\n",
       "      <td>-1</td>\n",
       "      <td>-1</td>\n",
       "      <td>-1</td>\n",
       "      <td>-1</td>\n",
       "      <td>-1</td>\n",
       "      <td>-1</td>\n",
       "      <td>-1</td>\n",
       "      <td>-1</td>\n",
       "      <td>-1</td>\n",
       "      <td>-1</td>\n",
       "      <td>-1</td>\n",
       "      <td>-1</td>\n",
       "      <td>-1</td>\n",
       "      <td>-1</td>\n",
       "      <td>-1</td>\n",
       "      <td>-1</td>\n",
       "      <td>-1</td>\n",
       "      <td>-1</td>\n",
       "      <td>-1</td>\n",
       "      <td>-1</td>\n",
       "      <td>0</td>\n",
       "      <td>-1</td>\n",
       "      <td>1</td>\n",
       "    </tr>\n",
       "    <tr>\n",
       "      <th>88646</th>\n",
       "      <td>2</td>\n",
       "      <td>0</td>\n",
       "      <td>0</td>\n",
       "      <td>0</td>\n",
       "      <td>0</td>\n",
       "      <td>0</td>\n",
       "      <td>0</td>\n",
       "      <td>0</td>\n",
       "      <td>0</td>\n",
       "      <td>0</td>\n",
       "      <td>0</td>\n",
       "      <td>0</td>\n",
       "      <td>0</td>\n",
       "      <td>0</td>\n",
       "      <td>0</td>\n",
       "      <td>0</td>\n",
       "      <td>0</td>\n",
       "      <td>1</td>\n",
       "      <td>16</td>\n",
       "      <td>2</td>\n",
       "      <td>0</td>\n",
       "      <td>0</td>\n",
       "      <td>0</td>\n",
       "      <td>0</td>\n",
       "      <td>0</td>\n",
       "      <td>0</td>\n",
       "      <td>0</td>\n",
       "      <td>0</td>\n",
       "      <td>0</td>\n",
       "      <td>0</td>\n",
       "      <td>0</td>\n",
       "      <td>0</td>\n",
       "      <td>0</td>\n",
       "      <td>0</td>\n",
       "      <td>0</td>\n",
       "      <td>0</td>\n",
       "      <td>4</td>\n",
       "      <td>16</td>\n",
       "      <td>0</td>\n",
       "      <td>0</td>\n",
       "      <td>-1</td>\n",
       "      <td>-1</td>\n",
       "      <td>-1</td>\n",
       "      <td>-1</td>\n",
       "      <td>-1</td>\n",
       "      <td>-1</td>\n",
       "      <td>-1</td>\n",
       "      <td>-1</td>\n",
       "      <td>-1</td>\n",
       "      <td>-1</td>\n",
       "      <td>-1</td>\n",
       "      <td>-1</td>\n",
       "      <td>-1</td>\n",
       "      <td>-1</td>\n",
       "      <td>-1</td>\n",
       "      <td>-1</td>\n",
       "      <td>-1</td>\n",
       "      <td>-1</td>\n",
       "      <td>-1</td>\n",
       "      <td>-1</td>\n",
       "      <td>-1</td>\n",
       "      <td>-1</td>\n",
       "      <td>-1</td>\n",
       "      <td>-1</td>\n",
       "      <td>-1</td>\n",
       "      <td>-1</td>\n",
       "      <td>-1</td>\n",
       "      <td>-1</td>\n",
       "      <td>-1</td>\n",
       "      <td>-1</td>\n",
       "      <td>-1</td>\n",
       "      <td>-1</td>\n",
       "      <td>-1</td>\n",
       "      <td>-1</td>\n",
       "      <td>-1</td>\n",
       "      <td>-1</td>\n",
       "      <td>-1</td>\n",
       "      <td>-1</td>\n",
       "      <td>-1</td>\n",
       "      <td>-1</td>\n",
       "      <td>-1</td>\n",
       "      <td>-1</td>\n",
       "      <td>-1</td>\n",
       "      <td>-1</td>\n",
       "      <td>-1</td>\n",
       "      <td>-1</td>\n",
       "      <td>-1</td>\n",
       "      <td>-1</td>\n",
       "      <td>-1</td>\n",
       "      <td>-1</td>\n",
       "      <td>-1</td>\n",
       "      <td>-1</td>\n",
       "      <td>-1</td>\n",
       "      <td>-1</td>\n",
       "      <td>-1</td>\n",
       "      <td>-1</td>\n",
       "      <td>0</td>\n",
       "      <td>300</td>\n",
       "      <td>0</td>\n",
       "    </tr>\n",
       "  </tbody>\n",
       "</table>\n",
       "<p>88647 rows × 99 columns</p>\n",
       "</div>"
      ],
      "text/plain": [
       "       qty_dot_url  qty_hyphen_url  qty_underline_url  qty_slash_url  \\\n",
       "0                3               0                  0              1   \n",
       "1                5               0                  1              3   \n",
       "2                2               0                  0              1   \n",
       "3                4               0                  2              5   \n",
       "4                2               0                  0              0   \n",
       "...            ...             ...                ...            ...   \n",
       "88642            3               1                  0              0   \n",
       "88643            2               0                  0              0   \n",
       "88644            2               1                  0              5   \n",
       "88645            2               0                  0              1   \n",
       "88646            2               0                  0              0   \n",
       "\n",
       "       qty_questionmark_url  qty_equal_url  qty_at_url  qty_and_url  \\\n",
       "0                         0              0           0            0   \n",
       "1                         0              3           0            2   \n",
       "2                         0              0           0            0   \n",
       "3                         0              0           0            0   \n",
       "4                         0              0           0            0   \n",
       "...                     ...            ...         ...          ...   \n",
       "88642                     0              0           0            0   \n",
       "88643                     0              0           0            0   \n",
       "88644                     0              0           0            0   \n",
       "88645                     0              0           0            0   \n",
       "88646                     0              0           0            0   \n",
       "\n",
       "       qty_exclamation_url  qty_space_url  qty_tilde_url  qty_comma_url  \\\n",
       "0                        0              0              0              0   \n",
       "1                        0              0              0              0   \n",
       "2                        0              0              0              0   \n",
       "3                        0              0              0              0   \n",
       "4                        0              0              0              0   \n",
       "...                    ...            ...            ...            ...   \n",
       "88642                    0              0              0              0   \n",
       "88643                    0              0              0              0   \n",
       "88644                    0              0              0              0   \n",
       "88645                    0              0              0              0   \n",
       "88646                    0              0              0              0   \n",
       "\n",
       "       qty_plus_url  qty_asterisk_url  qty_hashtag_url  qty_dollar_url  \\\n",
       "0                 0                 0                0               0   \n",
       "1                 0                 0                0               0   \n",
       "2                 0                 0                0               0   \n",
       "3                 0                 0                0               0   \n",
       "4                 0                 0                0               0   \n",
       "...             ...               ...              ...             ...   \n",
       "88642             0                 0                0               0   \n",
       "88643             0                 0                0               0   \n",
       "88644             0                 0                0               0   \n",
       "88645             0                 0                0               0   \n",
       "88646             0                 0                0               0   \n",
       "\n",
       "       qty_percent_url  qty_tld_url  length_url  qty_dot_domain  \\\n",
       "0                    0            1          25               2   \n",
       "1                    0            3         223               2   \n",
       "2                    0            1          15               2   \n",
       "3                    0            1          81               2   \n",
       "4                    0            1          19               2   \n",
       "...                ...          ...         ...             ...   \n",
       "88642                0            2          23               3   \n",
       "88643                0            1          34               2   \n",
       "88644                0            1          70               1   \n",
       "88645                0            1          28               2   \n",
       "88646                0            1          16               2   \n",
       "\n",
       "       qty_hyphen_domain  qty_underline_domain  qty_slash_domain  \\\n",
       "0                      0                     0                 0   \n",
       "1                      0                     0                 0   \n",
       "2                      0                     0                 0   \n",
       "3                      0                     0                 0   \n",
       "4                      0                     0                 0   \n",
       "...                  ...                   ...               ...   \n",
       "88642                  1                     0                 0   \n",
       "88643                  0                     0                 0   \n",
       "88644                  0                     0                 0   \n",
       "88645                  0                     0                 0   \n",
       "88646                  0                     0                 0   \n",
       "\n",
       "       qty_questionmark_domain  qty_equal_domain  qty_at_domain  \\\n",
       "0                            0                 0              0   \n",
       "1                            0                 0              0   \n",
       "2                            0                 0              0   \n",
       "3                            0                 0              0   \n",
       "4                            0                 0              0   \n",
       "...                        ...               ...            ...   \n",
       "88642                        0                 0              0   \n",
       "88643                        0                 0              0   \n",
       "88644                        0                 0              0   \n",
       "88645                        0                 0              0   \n",
       "88646                        0                 0              0   \n",
       "\n",
       "       qty_and_domain  qty_exclamation_domain  qty_space_domain  \\\n",
       "0                   0                       0                 0   \n",
       "1                   0                       0                 0   \n",
       "2                   0                       0                 0   \n",
       "3                   0                       0                 0   \n",
       "4                   0                       0                 0   \n",
       "...               ...                     ...               ...   \n",
       "88642               0                       0                 0   \n",
       "88643               0                       0                 0   \n",
       "88644               0                       0                 0   \n",
       "88645               0                       0                 0   \n",
       "88646               0                       0                 0   \n",
       "\n",
       "       qty_tilde_domain  qty_comma_domain  qty_plus_domain  \\\n",
       "0                     0                 0                0   \n",
       "1                     0                 0                0   \n",
       "2                     0                 0                0   \n",
       "3                     0                 0                0   \n",
       "4                     0                 0                0   \n",
       "...                 ...               ...              ...   \n",
       "88642                 0                 0                0   \n",
       "88643                 0                 0                0   \n",
       "88644                 0                 0                0   \n",
       "88645                 0                 0                0   \n",
       "88646                 0                 0                0   \n",
       "\n",
       "       qty_asterisk_domain  qty_hashtag_domain  qty_dollar_domain  \\\n",
       "0                        0                   0                  0   \n",
       "1                        0                   0                  0   \n",
       "2                        0                   0                  0   \n",
       "3                        0                   0                  0   \n",
       "4                        0                   0                  0   \n",
       "...                    ...                 ...                ...   \n",
       "88642                    0                   0                  0   \n",
       "88643                    0                   0                  0   \n",
       "88644                    0                   0                  0   \n",
       "88645                    0                   0                  0   \n",
       "88646                    0                   0                  0   \n",
       "\n",
       "       qty_percent_domain  qty_vowels_domain  domain_length  domain_in_ip  \\\n",
       "0                       0                  4             17             0   \n",
       "1                       0                  5             16             0   \n",
       "2                       0                  3             14             0   \n",
       "3                       0                  7             19             0   \n",
       "4                       0                  5             19             0   \n",
       "...                   ...                ...            ...           ...   \n",
       "88642                   0                  5             23             0   \n",
       "88643                   0                 14             34             0   \n",
       "88644                   0                  6             22             0   \n",
       "88645                   0                  5             27             0   \n",
       "88646                   0                  4             16             0   \n",
       "\n",
       "       server_client_domain  qty_dot_directory  qty_hyphen_directory  \\\n",
       "0                         0                  1                     0   \n",
       "1                         0                  3                     0   \n",
       "2                         0                  0                     0   \n",
       "3                         0                  2                     0   \n",
       "4                         0                 -1                    -1   \n",
       "...                     ...                ...                   ...   \n",
       "88642                     0                 -1                    -1   \n",
       "88643                     0                 -1                    -1   \n",
       "88644                     0                  1                     1   \n",
       "88645                     0                  0                     0   \n",
       "88646                     0                 -1                    -1   \n",
       "\n",
       "       qty_underline_directory  qty_slash_directory  \\\n",
       "0                            0                    1   \n",
       "1                            0                    3   \n",
       "2                            0                    1   \n",
       "3                            2                    5   \n",
       "4                           -1                   -1   \n",
       "...                        ...                  ...   \n",
       "88642                       -1                   -1   \n",
       "88643                       -1                   -1   \n",
       "88644                        0                    5   \n",
       "88645                        0                    1   \n",
       "88646                       -1                   -1   \n",
       "\n",
       "       qty_questionmark_directory  qty_equal_directory  qty_at_directory  \\\n",
       "0                               0                    0                 0   \n",
       "1                               0                    0                 0   \n",
       "2                               0                    0                 0   \n",
       "3                               0                    0                 0   \n",
       "4                              -1                   -1                -1   \n",
       "...                           ...                  ...               ...   \n",
       "88642                          -1                   -1                -1   \n",
       "88643                          -1                   -1                -1   \n",
       "88644                           0                    0                 0   \n",
       "88645                           0                    0                 0   \n",
       "88646                          -1                   -1                -1   \n",
       "\n",
       "       qty_and_directory  qty_exclamation_directory  qty_space_directory  \\\n",
       "0                      0                          0                    0   \n",
       "1                      0                          0                    0   \n",
       "2                      0                          0                    0   \n",
       "3                      0                          0                    0   \n",
       "4                     -1                         -1                   -1   \n",
       "...                  ...                        ...                  ...   \n",
       "88642                 -1                         -1                   -1   \n",
       "88643                 -1                         -1                   -1   \n",
       "88644                  0                          0                    0   \n",
       "88645                  0                          0                    0   \n",
       "88646                 -1                         -1                   -1   \n",
       "\n",
       "       qty_tilde_directory  qty_comma_directory  qty_plus_directory  \\\n",
       "0                        0                    0                   0   \n",
       "1                        0                    0                   0   \n",
       "2                        0                    0                   0   \n",
       "3                        0                    0                   0   \n",
       "4                       -1                   -1                  -1   \n",
       "...                    ...                  ...                 ...   \n",
       "88642                   -1                   -1                  -1   \n",
       "88643                   -1                   -1                  -1   \n",
       "88644                    0                    0                   0   \n",
       "88645                    0                    0                   0   \n",
       "88646                   -1                   -1                  -1   \n",
       "\n",
       "       qty_asterisk_directory  qty_hashtag_directory  qty_dollar_directory  \\\n",
       "0                           0                      0                     0   \n",
       "1                           0                      0                     0   \n",
       "2                           0                      0                     0   \n",
       "3                           0                      0                     0   \n",
       "4                          -1                     -1                    -1   \n",
       "...                       ...                    ...                   ...   \n",
       "88642                      -1                     -1                    -1   \n",
       "88643                      -1                     -1                    -1   \n",
       "88644                       0                      0                     0   \n",
       "88645                       0                      0                     0   \n",
       "88646                      -1                     -1                    -1   \n",
       "\n",
       "       qty_percent_directory  directory_length  qty_dot_file  qty_hyphen_file  \\\n",
       "0                          0                 8             1                0   \n",
       "1                          0                42             1                0   \n",
       "2                          0                 1             0                0   \n",
       "3                          0                62             1                0   \n",
       "4                         -1                -1            -1               -1   \n",
       "...                      ...               ...           ...              ...   \n",
       "88642                     -1                -1            -1               -1   \n",
       "88643                     -1                -1            -1               -1   \n",
       "88644                      0                48             1                0   \n",
       "88645                      0                 1             0                0   \n",
       "88646                     -1                -1            -1               -1   \n",
       "\n",
       "       qty_underline_file  qty_slash_file  qty_questionmark_file  \\\n",
       "0                       0               0                      0   \n",
       "1                       0               0                      0   \n",
       "2                       0               0                      0   \n",
       "3                       0               0                      0   \n",
       "4                      -1              -1                     -1   \n",
       "...                   ...             ...                    ...   \n",
       "88642                  -1              -1                     -1   \n",
       "88643                  -1              -1                     -1   \n",
       "88644                   0               0                      0   \n",
       "88645                   0               0                      0   \n",
       "88646                  -1              -1                     -1   \n",
       "\n",
       "       qty_equal_file  qty_at_file  qty_and_file  qty_exclamation_file  \\\n",
       "0                   0            0             0                     0   \n",
       "1                   0            0             0                     0   \n",
       "2                   0            0             0                     0   \n",
       "3                   0            0             0                     0   \n",
       "4                  -1           -1            -1                    -1   \n",
       "...               ...          ...           ...                   ...   \n",
       "88642              -1           -1            -1                    -1   \n",
       "88643              -1           -1            -1                    -1   \n",
       "88644               0            0             0                     0   \n",
       "88645               0            0             0                     0   \n",
       "88646              -1           -1            -1                    -1   \n",
       "\n",
       "       qty_space_file  qty_tilde_file  qty_comma_file  qty_plus_file  \\\n",
       "0                   0               0               0              0   \n",
       "1                   0               0               0              0   \n",
       "2                   0               0               0              0   \n",
       "3                   0               0               0              0   \n",
       "4                  -1              -1              -1             -1   \n",
       "...               ...             ...             ...            ...   \n",
       "88642              -1              -1              -1             -1   \n",
       "88643              -1              -1              -1             -1   \n",
       "88644               0               0               0              0   \n",
       "88645               0               0               0              0   \n",
       "88646              -1              -1              -1             -1   \n",
       "\n",
       "       qty_asterisk_file  qty_hashtag_file  qty_dollar_file  qty_percent_file  \\\n",
       "0                      0                 0                0                 0   \n",
       "1                      0                 0                0                 0   \n",
       "2                      0                 0                0                 0   \n",
       "3                      0                 0                0                 0   \n",
       "4                     -1                -1               -1                -1   \n",
       "...                  ...               ...              ...               ...   \n",
       "88642                 -1                -1               -1                -1   \n",
       "88643                 -1                -1               -1                -1   \n",
       "88644                  0                 0                0                 0   \n",
       "88645                  0                 0                0                 0   \n",
       "88646                 -1                -1               -1                -1   \n",
       "\n",
       "       file_length  qty_dot_params  qty_hyphen_params  qty_underline_params  \\\n",
       "0                7              -1                 -1                    -1   \n",
       "1                9               0                  0                     1   \n",
       "2                0              -1                 -1                    -1   \n",
       "3                9              -1                 -1                    -1   \n",
       "4               -1              -1                 -1                    -1   \n",
       "...            ...             ...                ...                   ...   \n",
       "88642           -1              -1                 -1                    -1   \n",
       "88643           -1              -1                 -1                    -1   \n",
       "88644           11              -1                 -1                    -1   \n",
       "88645            0              -1                 -1                    -1   \n",
       "88646           -1              -1                 -1                    -1   \n",
       "\n",
       "       qty_slash_params  qty_questionmark_params  qty_equal_params  \\\n",
       "0                    -1                       -1                -1   \n",
       "1                     0                        0                 3   \n",
       "2                    -1                       -1                -1   \n",
       "3                    -1                       -1                -1   \n",
       "4                    -1                       -1                -1   \n",
       "...                 ...                      ...               ...   \n",
       "88642                -1                       -1                -1   \n",
       "88643                -1                       -1                -1   \n",
       "88644                -1                       -1                -1   \n",
       "88645                -1                       -1                -1   \n",
       "88646                -1                       -1                -1   \n",
       "\n",
       "       qty_at_params  qty_and_params  qty_exclamation_params  \\\n",
       "0                 -1              -1                      -1   \n",
       "1                  0               2                       0   \n",
       "2                 -1              -1                      -1   \n",
       "3                 -1              -1                      -1   \n",
       "4                 -1              -1                      -1   \n",
       "...              ...             ...                     ...   \n",
       "88642             -1              -1                      -1   \n",
       "88643             -1              -1                      -1   \n",
       "88644             -1              -1                      -1   \n",
       "88645             -1              -1                      -1   \n",
       "88646             -1              -1                      -1   \n",
       "\n",
       "       qty_space_params  qty_tilde_params  qty_comma_params  qty_plus_params  \\\n",
       "0                    -1                -1                -1               -1   \n",
       "1                     0                 0                 0                0   \n",
       "2                    -1                -1                -1               -1   \n",
       "3                    -1                -1                -1               -1   \n",
       "4                    -1                -1                -1               -1   \n",
       "...                 ...               ...               ...              ...   \n",
       "88642                -1                -1                -1               -1   \n",
       "88643                -1                -1                -1               -1   \n",
       "88644                -1                -1                -1               -1   \n",
       "88645                -1                -1                -1               -1   \n",
       "88646                -1                -1                -1               -1   \n",
       "\n",
       "       qty_asterisk_params  qty_hashtag_params  qty_dollar_params  \\\n",
       "0                       -1                  -1                 -1   \n",
       "1                        0                   0                  0   \n",
       "2                       -1                  -1                 -1   \n",
       "3                       -1                  -1                 -1   \n",
       "4                       -1                  -1                 -1   \n",
       "...                    ...                 ...                ...   \n",
       "88642                   -1                  -1                 -1   \n",
       "88643                   -1                  -1                 -1   \n",
       "88644                   -1                  -1                 -1   \n",
       "88645                   -1                  -1                 -1   \n",
       "88646                   -1                  -1                 -1   \n",
       "\n",
       "       qty_percent_params  params_length  tld_present_params  qty_params  \\\n",
       "0                      -1             -1                  -1          -1   \n",
       "1                       0            165                   0           3   \n",
       "2                      -1             -1                  -1          -1   \n",
       "3                      -1             -1                  -1          -1   \n",
       "4                      -1             -1                  -1          -1   \n",
       "...                   ...            ...                 ...         ...   \n",
       "88642                  -1             -1                  -1          -1   \n",
       "88643                  -1             -1                  -1          -1   \n",
       "88644                  -1             -1                  -1          -1   \n",
       "88645                  -1             -1                  -1          -1   \n",
       "88646                  -1             -1                  -1          -1   \n",
       "\n",
       "       email_in_url  time_domain_activation  phishing  \n",
       "0                 0                      -1         1  \n",
       "1                 0                     579         1  \n",
       "2                 0                      -1         0  \n",
       "3                 0                      -1         1  \n",
       "4                 0                    6998         0  \n",
       "...             ...                     ...       ...  \n",
       "88642             0                    5509         0  \n",
       "88643             0                    5046         0  \n",
       "88644             0                    1844         1  \n",
       "88645             0                      -1         1  \n",
       "88646             0                     300         0  \n",
       "\n",
       "[88647 rows x 99 columns]"
      ]
     },
     "execution_count": 322,
     "metadata": {},
     "output_type": "execute_result"
    }
   ],
   "source": [
    "df"
   ]
  },
  {
   "cell_type": "markdown",
   "id": "f91d4f01",
   "metadata": {},
   "source": [
    "# Create Train and Test Data (Using stratified Shuffle Split)"
   ]
  },
  {
   "cell_type": "code",
   "execution_count": 323,
   "id": "559e5d7e",
   "metadata": {},
   "outputs": [],
   "source": [
    "split = StratifiedShuffleSplit(n_splits=1, test_size=0.2, random_state=42)"
   ]
  },
  {
   "cell_type": "code",
   "execution_count": 324,
   "id": "83cc5f90",
   "metadata": {},
   "outputs": [
    {
     "name": "stdout",
     "output_type": "stream",
     "text": [
      "[81747 18230  9266 ... 52746 80226 27947] [18921 74673 19334 ... 68007 58349 38230]\n"
     ]
    }
   ],
   "source": [
    "for train_index,test_index in split.split(df, df['phishing']):\n",
    "    print(train_index,test_index)"
   ]
  },
  {
   "cell_type": "code",
   "execution_count": 325,
   "id": "c6b92197",
   "metadata": {},
   "outputs": [],
   "source": [
    "for train_index,test_index in split.split(df, df['phishing']):\n",
    "    X_train = df.loc[train_index]\n",
    "    X_test = df.loc[test_index]"
   ]
  },
  {
   "cell_type": "code",
   "execution_count": 326,
   "id": "ee1efc3e",
   "metadata": {},
   "outputs": [],
   "source": [
    "X_train, y_train = X_train.drop(['phishing'],axis = 1),X_train['phishing']"
   ]
  },
  {
   "cell_type": "code",
   "execution_count": 327,
   "id": "09ca258e",
   "metadata": {},
   "outputs": [],
   "source": [
    "X_test, y_test = X_test.drop(['phishing'],axis = 1),X_test['phishing']"
   ]
  },
  {
   "cell_type": "markdown",
   "id": "45dab436",
   "metadata": {},
   "source": [
    "# Standardization"
   ]
  },
  {
   "cell_type": "code",
   "execution_count": 328,
   "id": "20517ec3",
   "metadata": {},
   "outputs": [],
   "source": [
    "sc = StandardScaler()"
   ]
  },
  {
   "cell_type": "code",
   "execution_count": 329,
   "id": "18f8836d",
   "metadata": {},
   "outputs": [],
   "source": [
    "X_train = sc.fit_transform(X_train)"
   ]
  },
  {
   "cell_type": "code",
   "execution_count": 330,
   "id": "6a9cd186",
   "metadata": {},
   "outputs": [],
   "source": [
    "X_test = sc.transform(X_test)"
   ]
  },
  {
   "cell_type": "code",
   "execution_count": 331,
   "id": "090f4cc9",
   "metadata": {},
   "outputs": [],
   "source": [
    "cols = df.drop(['phishing'],axis=1).columns"
   ]
  },
  {
   "cell_type": "code",
   "execution_count": 332,
   "id": "cc97f3e6",
   "metadata": {},
   "outputs": [],
   "source": [
    "X_train = pd.DataFrame(X_train, columns=cols)"
   ]
  },
  {
   "cell_type": "code",
   "execution_count": 333,
   "id": "ee3c7efc",
   "metadata": {},
   "outputs": [],
   "source": [
    "X_test = pd.DataFrame(X_test, columns=cols)"
   ]
  },
  {
   "cell_type": "code",
   "execution_count": null,
   "id": "beee9c27",
   "metadata": {},
   "outputs": [],
   "source": []
  },
  {
   "cell_type": "markdown",
   "id": "1b77257e",
   "metadata": {},
   "source": [
    "# 1. Dropping Constant features - Variance Threshold"
   ]
  },
  {
   "cell_type": "markdown",
   "id": "d4608af6",
   "metadata": {},
   "source": [
    "In this step we will be removing the features which have constant features which are actually not important for solving the problem statement.\n",
    "\n",
    "We remove those features, which have very minimal variance. That simply means that these features are constant"
   ]
  },
  {
   "cell_type": "code",
   "execution_count": 334,
   "id": "8b2ac456",
   "metadata": {},
   "outputs": [],
   "source": [
    "from sklearn.feature_selection import VarianceThreshold"
   ]
  },
  {
   "cell_type": "code",
   "execution_count": 335,
   "id": "8de33cb0",
   "metadata": {},
   "outputs": [],
   "source": [
    "var_thresh_obj = VarianceThreshold(threshold=0)"
   ]
  },
  {
   "cell_type": "code",
   "execution_count": 336,
   "id": "42b34f55",
   "metadata": {},
   "outputs": [
    {
     "data": {
      "text/html": [
       "<style>#sk-container-id-15 {color: black;background-color: white;}#sk-container-id-15 pre{padding: 0;}#sk-container-id-15 div.sk-toggleable {background-color: white;}#sk-container-id-15 label.sk-toggleable__label {cursor: pointer;display: block;width: 100%;margin-bottom: 0;padding: 0.3em;box-sizing: border-box;text-align: center;}#sk-container-id-15 label.sk-toggleable__label-arrow:before {content: \"▸\";float: left;margin-right: 0.25em;color: #696969;}#sk-container-id-15 label.sk-toggleable__label-arrow:hover:before {color: black;}#sk-container-id-15 div.sk-estimator:hover label.sk-toggleable__label-arrow:before {color: black;}#sk-container-id-15 div.sk-toggleable__content {max-height: 0;max-width: 0;overflow: hidden;text-align: left;background-color: #f0f8ff;}#sk-container-id-15 div.sk-toggleable__content pre {margin: 0.2em;color: black;border-radius: 0.25em;background-color: #f0f8ff;}#sk-container-id-15 input.sk-toggleable__control:checked~div.sk-toggleable__content {max-height: 200px;max-width: 100%;overflow: auto;}#sk-container-id-15 input.sk-toggleable__control:checked~label.sk-toggleable__label-arrow:before {content: \"▾\";}#sk-container-id-15 div.sk-estimator input.sk-toggleable__control:checked~label.sk-toggleable__label {background-color: #d4ebff;}#sk-container-id-15 div.sk-label input.sk-toggleable__control:checked~label.sk-toggleable__label {background-color: #d4ebff;}#sk-container-id-15 input.sk-hidden--visually {border: 0;clip: rect(1px 1px 1px 1px);clip: rect(1px, 1px, 1px, 1px);height: 1px;margin: -1px;overflow: hidden;padding: 0;position: absolute;width: 1px;}#sk-container-id-15 div.sk-estimator {font-family: monospace;background-color: #f0f8ff;border: 1px dotted black;border-radius: 0.25em;box-sizing: border-box;margin-bottom: 0.5em;}#sk-container-id-15 div.sk-estimator:hover {background-color: #d4ebff;}#sk-container-id-15 div.sk-parallel-item::after {content: \"\";width: 100%;border-bottom: 1px solid gray;flex-grow: 1;}#sk-container-id-15 div.sk-label:hover label.sk-toggleable__label {background-color: #d4ebff;}#sk-container-id-15 div.sk-serial::before {content: \"\";position: absolute;border-left: 1px solid gray;box-sizing: border-box;top: 0;bottom: 0;left: 50%;z-index: 0;}#sk-container-id-15 div.sk-serial {display: flex;flex-direction: column;align-items: center;background-color: white;padding-right: 0.2em;padding-left: 0.2em;position: relative;}#sk-container-id-15 div.sk-item {position: relative;z-index: 1;}#sk-container-id-15 div.sk-parallel {display: flex;align-items: stretch;justify-content: center;background-color: white;position: relative;}#sk-container-id-15 div.sk-item::before, #sk-container-id-15 div.sk-parallel-item::before {content: \"\";position: absolute;border-left: 1px solid gray;box-sizing: border-box;top: 0;bottom: 0;left: 50%;z-index: -1;}#sk-container-id-15 div.sk-parallel-item {display: flex;flex-direction: column;z-index: 1;position: relative;background-color: white;}#sk-container-id-15 div.sk-parallel-item:first-child::after {align-self: flex-end;width: 50%;}#sk-container-id-15 div.sk-parallel-item:last-child::after {align-self: flex-start;width: 50%;}#sk-container-id-15 div.sk-parallel-item:only-child::after {width: 0;}#sk-container-id-15 div.sk-dashed-wrapped {border: 1px dashed gray;margin: 0 0.4em 0.5em 0.4em;box-sizing: border-box;padding-bottom: 0.4em;background-color: white;}#sk-container-id-15 div.sk-label label {font-family: monospace;font-weight: bold;display: inline-block;line-height: 1.2em;}#sk-container-id-15 div.sk-label-container {text-align: center;}#sk-container-id-15 div.sk-container {/* jupyter's `normalize.less` sets `[hidden] { display: none; }` but bootstrap.min.css set `[hidden] { display: none !important; }` so we also need the `!important` here to be able to override the default hidden behavior on the sphinx rendered scikit-learn.org. See: https://github.com/scikit-learn/scikit-learn/issues/21755 */display: inline-block !important;position: relative;}#sk-container-id-15 div.sk-text-repr-fallback {display: none;}</style><div id=\"sk-container-id-15\" class=\"sk-top-container\"><div class=\"sk-text-repr-fallback\"><pre>VarianceThreshold(threshold=0)</pre><b>In a Jupyter environment, please rerun this cell to show the HTML representation or trust the notebook. <br />On GitHub, the HTML representation is unable to render, please try loading this page with nbviewer.org.</b></div><div class=\"sk-container\" hidden><div class=\"sk-item\"><div class=\"sk-estimator sk-toggleable\"><input class=\"sk-toggleable__control sk-hidden--visually\" id=\"sk-estimator-id-15\" type=\"checkbox\" checked><label for=\"sk-estimator-id-15\" class=\"sk-toggleable__label sk-toggleable__label-arrow\">VarianceThreshold</label><div class=\"sk-toggleable__content\"><pre>VarianceThreshold(threshold=0)</pre></div></div></div></div></div>"
      ],
      "text/plain": [
       "VarianceThreshold(threshold=0)"
      ]
     },
     "execution_count": 336,
     "metadata": {},
     "output_type": "execute_result"
    }
   ],
   "source": [
    "var_thresh_obj.fit(X_train)"
   ]
  },
  {
   "cell_type": "code",
   "execution_count": 337,
   "id": "a833042b",
   "metadata": {},
   "outputs": [
    {
     "data": {
      "text/plain": [
       "array([ True,  True,  True,  True,  True,  True,  True,  True,  True,\n",
       "        True,  True,  True,  True,  True,  True,  True,  True,  True,\n",
       "        True,  True,  True,  True, False, False, False,  True, False,\n",
       "       False, False, False, False, False, False, False, False, False,\n",
       "        True,  True,  True,  True,  True,  True,  True,  True,  True,\n",
       "        True,  True,  True,  True,  True,  True,  True,  True,  True,\n",
       "        True,  True,  True,  True,  True,  True,  True,  True,  True,\n",
       "        True,  True,  True,  True,  True,  True,  True,  True,  True,\n",
       "        True,  True,  True,  True,  True,  True,  True,  True,  True,\n",
       "        True,  True,  True,  True,  True,  True,  True,  True,  True,\n",
       "        True,  True,  True,  True,  True,  True,  True,  True])"
      ]
     },
     "execution_count": 337,
     "metadata": {},
     "output_type": "execute_result"
    }
   ],
   "source": [
    "var_thresh_obj.get_support()"
   ]
  },
  {
   "cell_type": "code",
   "execution_count": 338,
   "id": "6feb2e1c",
   "metadata": {},
   "outputs": [],
   "source": [
    "constant_columns = [column for column in X_train.columns if column not in set(X_train.columns[var_thresh_obj.get_support()])]"
   ]
  },
  {
   "cell_type": "code",
   "execution_count": 339,
   "id": "27e44663",
   "metadata": {},
   "outputs": [
    {
     "data": {
      "text/plain": [
       "['qty_slash_domain',\n",
       " 'qty_questionmark_domain',\n",
       " 'qty_equal_domain',\n",
       " 'qty_and_domain',\n",
       " 'qty_exclamation_domain',\n",
       " 'qty_space_domain',\n",
       " 'qty_tilde_domain',\n",
       " 'qty_comma_domain',\n",
       " 'qty_plus_domain',\n",
       " 'qty_asterisk_domain',\n",
       " 'qty_hashtag_domain',\n",
       " 'qty_dollar_domain',\n",
       " 'qty_percent_domain']"
      ]
     },
     "execution_count": 339,
     "metadata": {},
     "output_type": "execute_result"
    }
   ],
   "source": [
    "constant_columns"
   ]
  },
  {
   "cell_type": "markdown",
   "id": "8ede4085",
   "metadata": {},
   "source": [
    "#### We are not going to use these features and we will drop these"
   ]
  },
  {
   "cell_type": "markdown",
   "id": "e1c297ec",
   "metadata": {},
   "source": [
    "# 2. Corelation Analysis"
   ]
  },
  {
   "cell_type": "markdown",
   "id": "0dcd564e",
   "metadata": {},
   "source": [
    "******\n",
    "If an Independant feature and dependant feature are corelated, that is desireable\n",
    "\n",
    "If 2 independant features are corelated, we can easily drop one as it reduces Curse of Dimesnionality, also reduces Multi Colinearity\n",
    "\n",
    "******"
   ]
  },
  {
   "cell_type": "code",
   "execution_count": 340,
   "id": "57d04ce4",
   "metadata": {},
   "outputs": [
    {
     "data": {
      "image/png": "[encoded data removed]",
      "text/plain": [
       "<Figure size 864x720 with 2 Axes>"
      ]
     },
     "metadata": {
      "needs_background": "light"
     },
     "output_type": "display_data"
    }
   ],
   "source": [
    "plt.figure(figsize=(12,10))\n",
    "cor = X_train.corr()\n",
    "sns.heatmap(cor, cmap=plt.cm.CMRmap_r)\n",
    "plt.show()"
   ]
  },
  {
   "cell_type": "markdown",
   "id": "e4cda2e6",
   "metadata": {},
   "source": [
    "I will give more emphasis on removing last 18 features, they are coming from external sites and might be hard for us to build the features from raw domains"
   ]
  },
  {
   "cell_type": "code",
   "execution_count": 341,
   "id": "60dd5789",
   "metadata": {},
   "outputs": [],
   "source": [
    "## We set a corelation threshold (probably 0.85)\n",
    "## We iterate on corelation matrix and see if 2 features have this much or greater corelation.\n",
    "## If they have, we will remove one of the features.\n",
    "\n",
    "def get_high_correlation_feature(dataset, threshold):\n",
    "    col_corr = set() ## set of column names to be dropped\n",
    "    corr_matrix = dataset.corr()\n",
    "    \n",
    "    for i in range(len(corr_matrix.columns)-1,-1,-1):\n",
    "        for j in range(i-1,-1,-1):\n",
    "            if abs(corr_matrix.iloc[i,j]) > threshold:\n",
    "                colname = corr_matrix.columns[i] ## getting the column name\n",
    "                #print(corr_matrix.columns[i],\"-----\" ,corr_matrix.columns[j], \"====\", corr_matrix.iloc[i,j])\n",
    "                col_corr.add(colname)\n",
    "    return(col_corr)\n",
    "            "
   ]
  },
  {
   "cell_type": "code",
   "execution_count": 342,
   "id": "e76fa2ab",
   "metadata": {},
   "outputs": [],
   "source": [
    "corelated_features = get_high_correlation_feature(X_train,0.85)"
   ]
  },
  {
   "cell_type": "code",
   "execution_count": 343,
   "id": "547dcadd",
   "metadata": {},
   "outputs": [
    {
     "data": {
      "text/plain": [
       "{'qty_and_directory',\n",
       " 'qty_and_file',\n",
       " 'qty_and_params',\n",
       " 'qty_and_url',\n",
       " 'qty_asterisk_directory',\n",
       " 'qty_asterisk_file',\n",
       " 'qty_asterisk_params',\n",
       " 'qty_at_directory',\n",
       " 'qty_at_file',\n",
       " 'qty_at_params',\n",
       " 'qty_comma_directory',\n",
       " 'qty_comma_file',\n",
       " 'qty_comma_params',\n",
       " 'qty_dollar_directory',\n",
       " 'qty_dollar_file',\n",
       " 'qty_dollar_params',\n",
       " 'qty_dot_file',\n",
       " 'qty_equal_directory',\n",
       " 'qty_equal_file',\n",
       " 'qty_equal_params',\n",
       " 'qty_exclamation_directory',\n",
       " 'qty_exclamation_file',\n",
       " 'qty_exclamation_params',\n",
       " 'qty_hashtag_directory',\n",
       " 'qty_hashtag_file',\n",
       " 'qty_hashtag_params',\n",
       " 'qty_params',\n",
       " 'qty_percent_file',\n",
       " 'qty_plus_directory',\n",
       " 'qty_plus_file',\n",
       " 'qty_plus_params',\n",
       " 'qty_questionmark_file',\n",
       " 'qty_slash_directory',\n",
       " 'qty_slash_file',\n",
       " 'qty_space_directory',\n",
       " 'qty_space_file',\n",
       " 'qty_space_params',\n",
       " 'qty_tilde_directory',\n",
       " 'qty_tilde_file',\n",
       " 'qty_tilde_params',\n",
       " 'qty_underline_file',\n",
       " 'tld_present_params'}"
      ]
     },
     "execution_count": 343,
     "metadata": {},
     "output_type": "execute_result"
    }
   ],
   "source": [
    "corelated_features"
   ]
  },
  {
   "cell_type": "markdown",
   "id": "626dd6fb",
   "metadata": {},
   "source": [
    "# Information Gain (Mutual Information)"
   ]
  },
  {
   "cell_type": "markdown",
   "id": "538ff335",
   "metadata": {},
   "source": [
    "#### Mutual Information: A non negative value, that measures the dependancy b/w the variables. It quantifies the \"amount of information\" (in units such as shannons (bits), nats or hartleys) obtained about one random variable by observing the other random variable..\n",
    "\n",
    "\n",
    "Higher the value, more important the feature is"
   ]
  },
  {
   "cell_type": "code",
   "execution_count": 344,
   "id": "e75a5852",
   "metadata": {},
   "outputs": [],
   "source": [
    "from sklearn.feature_selection import mutual_info_classif"
   ]
  },
  {
   "cell_type": "code",
   "execution_count": 345,
   "id": "39d6a32b",
   "metadata": {},
   "outputs": [],
   "source": [
    "mutual_info = mutual_info_classif(X_train,y_train)"
   ]
  },
  {
   "cell_type": "code",
   "execution_count": 346,
   "id": "a7e1c650",
   "metadata": {},
   "outputs": [],
   "source": [
    "mutual_info = pd.Series(mutual_info)"
   ]
  },
  {
   "cell_type": "code",
   "execution_count": 347,
   "id": "8b10915b",
   "metadata": {},
   "outputs": [],
   "source": [
    "mutual_info.index = X_train.columns"
   ]
  },
  {
   "cell_type": "code",
   "execution_count": 348,
   "id": "cef6f881",
   "metadata": {},
   "outputs": [
    {
     "data": {
      "text/plain": [
       "directory_length        0.381784\n",
       "qty_slash_url           0.378802\n",
       "qty_slash_directory     0.375063\n",
       "qty_dot_directory       0.352343\n",
       "file_length             0.352039\n",
       "                          ...   \n",
       "qty_asterisk_domain     0.000000\n",
       "qty_comma_url           0.000000\n",
       "qty_asterisk_url        0.000000\n",
       "qty_underline_domain    0.000000\n",
       "qty_hashtag_url         0.000000\n",
       "Length: 98, dtype: float64"
      ]
     },
     "execution_count": 348,
     "metadata": {},
     "output_type": "execute_result"
    }
   ],
   "source": [
    "mutual_info.sort_values(ascending=False)"
   ]
  },
  {
   "cell_type": "markdown",
   "id": "4f836333",
   "metadata": {},
   "source": [
    "#### Selecting the K best from MI"
   ]
  },
  {
   "cell_type": "code",
   "execution_count": 350,
   "id": "424ff770",
   "metadata": {},
   "outputs": [],
   "source": [
    "from sklearn.feature_selection import SelectKBest"
   ]
  },
  {
   "cell_type": "code",
   "execution_count": 351,
   "id": "f66c4e49",
   "metadata": {},
   "outputs": [
    {
     "data": {
      "text/html": [
       "<style>#sk-container-id-16 {color: black;background-color: white;}#sk-container-id-16 pre{padding: 0;}#sk-container-id-16 div.sk-toggleable {background-color: white;}#sk-container-id-16 label.sk-toggleable__label {cursor: pointer;display: block;width: 100%;margin-bottom: 0;padding: 0.3em;box-sizing: border-box;text-align: center;}#sk-container-id-16 label.sk-toggleable__label-arrow:before {content: \"▸\";float: left;margin-right: 0.25em;color: #696969;}#sk-container-id-16 label.sk-toggleable__label-arrow:hover:before {color: black;}#sk-container-id-16 div.sk-estimator:hover label.sk-toggleable__label-arrow:before {color: black;}#sk-container-id-16 div.sk-toggleable__content {max-height: 0;max-width: 0;overflow: hidden;text-align: left;background-color: #f0f8ff;}#sk-container-id-16 div.sk-toggleable__content pre {margin: 0.2em;color: black;border-radius: 0.25em;background-color: #f0f8ff;}#sk-container-id-16 input.sk-toggleable__control:checked~div.sk-toggleable__content {max-height: 200px;max-width: 100%;overflow: auto;}#sk-container-id-16 input.sk-toggleable__control:checked~label.sk-toggleable__label-arrow:before {content: \"▾\";}#sk-container-id-16 div.sk-estimator input.sk-toggleable__control:checked~label.sk-toggleable__label {background-color: #d4ebff;}#sk-container-id-16 div.sk-label input.sk-toggleable__control:checked~label.sk-toggleable__label {background-color: #d4ebff;}#sk-container-id-16 input.sk-hidden--visually {border: 0;clip: rect(1px 1px 1px 1px);clip: rect(1px, 1px, 1px, 1px);height: 1px;margin: -1px;overflow: hidden;padding: 0;position: absolute;width: 1px;}#sk-container-id-16 div.sk-estimator {font-family: monospace;background-color: #f0f8ff;border: 1px dotted black;border-radius: 0.25em;box-sizing: border-box;margin-bottom: 0.5em;}#sk-container-id-16 div.sk-estimator:hover {background-color: #d4ebff;}#sk-container-id-16 div.sk-parallel-item::after {content: \"\";width: 100%;border-bottom: 1px solid gray;flex-grow: 1;}#sk-container-id-16 div.sk-label:hover label.sk-toggleable__label {background-color: #d4ebff;}#sk-container-id-16 div.sk-serial::before {content: \"\";position: absolute;border-left: 1px solid gray;box-sizing: border-box;top: 0;bottom: 0;left: 50%;z-index: 0;}#sk-container-id-16 div.sk-serial {display: flex;flex-direction: column;align-items: center;background-color: white;padding-right: 0.2em;padding-left: 0.2em;position: relative;}#sk-container-id-16 div.sk-item {position: relative;z-index: 1;}#sk-container-id-16 div.sk-parallel {display: flex;align-items: stretch;justify-content: center;background-color: white;position: relative;}#sk-container-id-16 div.sk-item::before, #sk-container-id-16 div.sk-parallel-item::before {content: \"\";position: absolute;border-left: 1px solid gray;box-sizing: border-box;top: 0;bottom: 0;left: 50%;z-index: -1;}#sk-container-id-16 div.sk-parallel-item {display: flex;flex-direction: column;z-index: 1;position: relative;background-color: white;}#sk-container-id-16 div.sk-parallel-item:first-child::after {align-self: flex-end;width: 50%;}#sk-container-id-16 div.sk-parallel-item:last-child::after {align-self: flex-start;width: 50%;}#sk-container-id-16 div.sk-parallel-item:only-child::after {width: 0;}#sk-container-id-16 div.sk-dashed-wrapped {border: 1px dashed gray;margin: 0 0.4em 0.5em 0.4em;box-sizing: border-box;padding-bottom: 0.4em;background-color: white;}#sk-container-id-16 div.sk-label label {font-family: monospace;font-weight: bold;display: inline-block;line-height: 1.2em;}#sk-container-id-16 div.sk-label-container {text-align: center;}#sk-container-id-16 div.sk-container {/* jupyter's `normalize.less` sets `[hidden] { display: none; }` but bootstrap.min.css set `[hidden] { display: none !important; }` so we also need the `!important` here to be able to override the default hidden behavior on the sphinx rendered scikit-learn.org. See: https://github.com/scikit-learn/scikit-learn/issues/21755 */display: inline-block !important;position: relative;}#sk-container-id-16 div.sk-text-repr-fallback {display: none;}</style><div id=\"sk-container-id-16\" class=\"sk-top-container\"><div class=\"sk-text-repr-fallback\"><pre>SelectKBest(k=50,\n",
       "            score_func=&lt;function mutual_info_classif at 0x00000225E9C34C10&gt;)</pre><b>In a Jupyter environment, please rerun this cell to show the HTML representation or trust the notebook. <br />On GitHub, the HTML representation is unable to render, please try loading this page with nbviewer.org.</b></div><div class=\"sk-container\" hidden><div class=\"sk-item\"><div class=\"sk-estimator sk-toggleable\"><input class=\"sk-toggleable__control sk-hidden--visually\" id=\"sk-estimator-id-16\" type=\"checkbox\" checked><label for=\"sk-estimator-id-16\" class=\"sk-toggleable__label sk-toggleable__label-arrow\">SelectKBest</label><div class=\"sk-toggleable__content\"><pre>SelectKBest(k=50,\n",
       "            score_func=&lt;function mutual_info_classif at 0x00000225E9C34C10&gt;)</pre></div></div></div></div></div>"
      ],
      "text/plain": [
       "SelectKBest(k=50,\n",
       "            score_func=<function mutual_info_classif at 0x00000225E9C34C10>)"
      ]
     },
     "execution_count": 351,
     "metadata": {},
     "output_type": "execute_result"
    }
   ],
   "source": [
    "sel_cols = SelectKBest(mutual_info_classif, k = 50)\n",
    "sel_cols.fit(X_train,y_train)"
   ]
  },
  {
   "cell_type": "code",
   "execution_count": 352,
   "id": "490f5601",
   "metadata": {},
   "outputs": [
    {
     "data": {
      "text/plain": [
       "Index(['qty_slash_url', 'length_url', 'qty_dot_domain', 'qty_dot_directory',\n",
       "       'qty_hyphen_directory', 'qty_underline_directory',\n",
       "       'qty_slash_directory', 'qty_questionmark_directory',\n",
       "       'qty_equal_directory', 'qty_at_directory', 'qty_and_directory',\n",
       "       'qty_exclamation_directory', 'qty_space_directory',\n",
       "       'qty_tilde_directory', 'qty_comma_directory', 'qty_plus_directory',\n",
       "       'qty_asterisk_directory', 'qty_hashtag_directory',\n",
       "       'qty_dollar_directory', 'qty_percent_directory', 'directory_length',\n",
       "       'qty_dot_file', 'qty_hyphen_file', 'qty_underline_file',\n",
       "       'qty_slash_file', 'qty_questionmark_file', 'qty_equal_file',\n",
       "       'qty_at_file', 'qty_and_file', 'qty_exclamation_file', 'qty_space_file',\n",
       "       'qty_tilde_file', 'qty_comma_file', 'qty_plus_file',\n",
       "       'qty_asterisk_file', 'qty_hashtag_file', 'qty_dollar_file',\n",
       "       'qty_percent_file', 'file_length', 'qty_underline_params',\n",
       "       'qty_slash_params', 'qty_at_params', 'qty_tilde_params',\n",
       "       'qty_comma_params', 'qty_hashtag_params', 'qty_dollar_params',\n",
       "       'qty_percent_params', 'params_length', 'qty_params',\n",
       "       'time_domain_activation'],\n",
       "      dtype='object')"
      ]
     },
     "execution_count": 352,
     "metadata": {},
     "output_type": "execute_result"
    }
   ],
   "source": [
    "X_train.columns[sel_cols.get_support()]"
   ]
  },
  {
   "cell_type": "markdown",
   "id": "fa6244d4",
   "metadata": {},
   "source": [
    "# Top k will be a hyperparamter, fiddle with it in model selection"
   ]
  },
  {
   "cell_type": "markdown",
   "id": "302854e9",
   "metadata": {},
   "source": [
    "# Model Based methods"
   ]
  },
  {
   "cell_type": "code",
   "execution_count": 354,
   "id": "4994291d",
   "metadata": {},
   "outputs": [],
   "source": [
    "from sklearn.ensemble import RandomForestClassifier"
   ]
  },
  {
   "cell_type": "code",
   "execution_count": 355,
   "id": "43e9f7ff",
   "metadata": {},
   "outputs": [],
   "source": [
    "rf = RandomForestClassifier()"
   ]
  },
  {
   "cell_type": "code",
   "execution_count": 356,
   "id": "bec93953",
   "metadata": {},
   "outputs": [
    {
     "data": {
      "text/html": [
       "<style>#sk-container-id-17 {color: black;background-color: white;}#sk-container-id-17 pre{padding: 0;}#sk-container-id-17 div.sk-toggleable {background-color: white;}#sk-container-id-17 label.sk-toggleable__label {cursor: pointer;display: block;width: 100%;margin-bottom: 0;padding: 0.3em;box-sizing: border-box;text-align: center;}#sk-container-id-17 label.sk-toggleable__label-arrow:before {content: \"▸\";float: left;margin-right: 0.25em;color: #696969;}#sk-container-id-17 label.sk-toggleable__label-arrow:hover:before {color: black;}#sk-container-id-17 div.sk-estimator:hover label.sk-toggleable__label-arrow:before {color: black;}#sk-container-id-17 div.sk-toggleable__content {max-height: 0;max-width: 0;overflow: hidden;text-align: left;background-color: #f0f8ff;}#sk-container-id-17 div.sk-toggleable__content pre {margin: 0.2em;color: black;border-radius: 0.25em;background-color: #f0f8ff;}#sk-container-id-17 input.sk-toggleable__control:checked~div.sk-toggleable__content {max-height: 200px;max-width: 100%;overflow: auto;}#sk-container-id-17 input.sk-toggleable__control:checked~label.sk-toggleable__label-arrow:before {content: \"▾\";}#sk-container-id-17 div.sk-estimator input.sk-toggleable__control:checked~label.sk-toggleable__label {background-color: #d4ebff;}#sk-container-id-17 div.sk-label input.sk-toggleable__control:checked~label.sk-toggleable__label {background-color: #d4ebff;}#sk-container-id-17 input.sk-hidden--visually {border: 0;clip: rect(1px 1px 1px 1px);clip: rect(1px, 1px, 1px, 1px);height: 1px;margin: -1px;overflow: hidden;padding: 0;position: absolute;width: 1px;}#sk-container-id-17 div.sk-estimator {font-family: monospace;background-color: #f0f8ff;border: 1px dotted black;border-radius: 0.25em;box-sizing: border-box;margin-bottom: 0.5em;}#sk-container-id-17 div.sk-estimator:hover {background-color: #d4ebff;}#sk-container-id-17 div.sk-parallel-item::after {content: \"\";width: 100%;border-bottom: 1px solid gray;flex-grow: 1;}#sk-container-id-17 div.sk-label:hover label.sk-toggleable__label {background-color: #d4ebff;}#sk-container-id-17 div.sk-serial::before {content: \"\";position: absolute;border-left: 1px solid gray;box-sizing: border-box;top: 0;bottom: 0;left: 50%;z-index: 0;}#sk-container-id-17 div.sk-serial {display: flex;flex-direction: column;align-items: center;background-color: white;padding-right: 0.2em;padding-left: 0.2em;position: relative;}#sk-container-id-17 div.sk-item {position: relative;z-index: 1;}#sk-container-id-17 div.sk-parallel {display: flex;align-items: stretch;justify-content: center;background-color: white;position: relative;}#sk-container-id-17 div.sk-item::before, #sk-container-id-17 div.sk-parallel-item::before {content: \"\";position: absolute;border-left: 1px solid gray;box-sizing: border-box;top: 0;bottom: 0;left: 50%;z-index: -1;}#sk-container-id-17 div.sk-parallel-item {display: flex;flex-direction: column;z-index: 1;position: relative;background-color: white;}#sk-container-id-17 div.sk-parallel-item:first-child::after {align-self: flex-end;width: 50%;}#sk-container-id-17 div.sk-parallel-item:last-child::after {align-self: flex-start;width: 50%;}#sk-container-id-17 div.sk-parallel-item:only-child::after {width: 0;}#sk-container-id-17 div.sk-dashed-wrapped {border: 1px dashed gray;margin: 0 0.4em 0.5em 0.4em;box-sizing: border-box;padding-bottom: 0.4em;background-color: white;}#sk-container-id-17 div.sk-label label {font-family: monospace;font-weight: bold;display: inline-block;line-height: 1.2em;}#sk-container-id-17 div.sk-label-container {text-align: center;}#sk-container-id-17 div.sk-container {/* jupyter's `normalize.less` sets `[hidden] { display: none; }` but bootstrap.min.css set `[hidden] { display: none !important; }` so we also need the `!important` here to be able to override the default hidden behavior on the sphinx rendered scikit-learn.org. See: https://github.com/scikit-learn/scikit-learn/issues/21755 */display: inline-block !important;position: relative;}#sk-container-id-17 div.sk-text-repr-fallback {display: none;}</style><div id=\"sk-container-id-17\" class=\"sk-top-container\"><div class=\"sk-text-repr-fallback\"><pre>RandomForestClassifier()</pre><b>In a Jupyter environment, please rerun this cell to show the HTML representation or trust the notebook. <br />On GitHub, the HTML representation is unable to render, please try loading this page with nbviewer.org.</b></div><div class=\"sk-container\" hidden><div class=\"sk-item\"><div class=\"sk-estimator sk-toggleable\"><input class=\"sk-toggleable__control sk-hidden--visually\" id=\"sk-estimator-id-17\" type=\"checkbox\" checked><label for=\"sk-estimator-id-17\" class=\"sk-toggleable__label sk-toggleable__label-arrow\">RandomForestClassifier</label><div class=\"sk-toggleable__content\"><pre>RandomForestClassifier()</pre></div></div></div></div></div>"
      ],
      "text/plain": [
       "RandomForestClassifier()"
      ]
     },
     "execution_count": 356,
     "metadata": {},
     "output_type": "execute_result"
    }
   ],
   "source": [
    "rf.fit(X_train,y_train)"
   ]
  },
  {
   "cell_type": "code",
   "execution_count": 357,
   "id": "9b0f5d73",
   "metadata": {},
   "outputs": [],
   "source": [
    "imp = rf.feature_importances_"
   ]
  },
  {
   "cell_type": "code",
   "execution_count": 358,
   "id": "9b81c0d2",
   "metadata": {},
   "outputs": [],
   "source": [
    "imp = pd.Series(imp)\n",
    "imp.index = X_train.columns\n"
   ]
  },
  {
   "cell_type": "code",
   "execution_count": 359,
   "id": "b649212e",
   "metadata": {},
   "outputs": [
    {
     "data": {
      "text/plain": [
       "directory_length          0.161190\n",
       "time_domain_activation    0.113218\n",
       "length_url                0.040123\n",
       "file_length               0.036635\n",
       "qty_slash_url             0.035162\n",
       "                            ...   \n",
       "qty_plus_domain           0.000000\n",
       "qty_comma_domain          0.000000\n",
       "qty_tilde_domain          0.000000\n",
       "qty_space_domain          0.000000\n",
       "qty_and_domain            0.000000\n",
       "Length: 98, dtype: float64"
      ]
     },
     "execution_count": 359,
     "metadata": {},
     "output_type": "execute_result"
    }
   ],
   "source": [
    "imp.sort_values(ascending=False)"
   ]
  },
  {
   "cell_type": "code",
   "execution_count": 360,
   "id": "9be50b3e",
   "metadata": {},
   "outputs": [],
   "source": [
    "cum_sum = np.cumsum(imp.sort_values(ascending=False))"
   ]
  },
  {
   "cell_type": "code",
   "execution_count": 361,
   "id": "cbb76e36",
   "metadata": {},
   "outputs": [
    {
     "data": {
      "image/png": "[encoded data removed]",
      "text/plain": [
       "<Figure size 864x864 with 1 Axes>"
      ]
     },
     "metadata": {
      "needs_background": "light"
     },
     "output_type": "display_data"
    }
   ],
   "source": [
    "plt.figure(figsize=(12,12))\n",
    "plt.plot(np.cumsum(imp.sort_values(ascending=False)))\n",
    "plt.xticks(rotation = '90')\n",
    "plt.yticks(np.arange(0,1.1,0.1))\n",
    "plt.grid()\n",
    "plt.show()"
   ]
  },
  {
   "cell_type": "code",
   "execution_count": 362,
   "id": "6fc49db7",
   "metadata": {},
   "outputs": [
    {
     "data": {
      "text/plain": [
       "0.9959015844508111"
      ]
     },
     "execution_count": 362,
     "metadata": {},
     "output_type": "execute_result"
    }
   ],
   "source": [
    "cum_sum['qty_comma_params']"
   ]
  },
  {
   "cell_type": "code",
   "execution_count": 363,
   "id": "dea0e06d",
   "metadata": {},
   "outputs": [
    {
     "data": {
      "text/plain": [
       "63"
      ]
     },
     "execution_count": 363,
     "metadata": {},
     "output_type": "execute_result"
    }
   ],
   "source": [
    "list(cum_sum.index).index('qty_comma_params')"
   ]
  },
  {
   "cell_type": "code",
   "execution_count": 364,
   "id": "e21abca0",
   "metadata": {},
   "outputs": [
    {
     "data": {
      "text/plain": [
       "directory_length             0.161190\n",
       "time_domain_activation       0.274408\n",
       "length_url                   0.314531\n",
       "file_length                  0.351166\n",
       "qty_slash_url                0.386328\n",
       "qty_plus_directory           0.421407\n",
       "domain_length                0.451500\n",
       "qty_vowels_domain            0.481464\n",
       "qty_asterisk_directory       0.510624\n",
       "qty_slash_directory          0.539215\n",
       "qty_at_file                  0.566640\n",
       "qty_hyphen_directory         0.590975\n",
       "qty_dot_file                 0.614553\n",
       "qty_hashtag_directory        0.637694\n",
       "qty_asterisk_file            0.660704\n",
       "qty_dot_domain               0.680247\n",
       "qty_underline_directory      0.699754\n",
       "qty_tilde_directory          0.717485\n",
       "qty_exclamation_directory    0.735159\n",
       "qty_tilde_file               0.752429\n",
       "qty_questionmark_file        0.769698\n",
       "qty_dot_directory            0.786159\n",
       "qty_exclamation_file         0.799716\n",
       "qty_percent_directory        0.812506\n",
       "qty_dollar_file              0.824462\n",
       "qty_space_directory          0.836416\n",
       "qty_and_file                 0.848365\n",
       "qty_at_directory             0.860018\n",
       "qty_slash_file               0.871544\n",
       "qty_dollar_directory         0.882958\n",
       "qty_dot_url                  0.893850\n",
       "qty_hyphen_url               0.903313\n",
       "qty_comma_file               0.912556\n",
       "qty_underline_file           0.921230\n",
       "qty_hyphen_file              0.929785\n",
       "qty_equal_directory          0.936574\n",
       "qty_comma_directory          0.942866\n",
       "qty_equal_file               0.949134\n",
       "qty_space_file               0.955285\n",
       "qty_and_directory            0.961101\n",
       "dtype: float64"
      ]
     },
     "execution_count": 364,
     "metadata": {},
     "output_type": "execute_result"
    }
   ],
   "source": [
    "cum_sum[:40]"
   ]
  },
  {
   "cell_type": "code",
   "execution_count": 365,
   "id": "afdb456f",
   "metadata": {},
   "outputs": [],
   "source": [
    "from sklearn.metrics import classification_report"
   ]
  },
  {
   "cell_type": "code",
   "execution_count": 366,
   "id": "6feab23f",
   "metadata": {},
   "outputs": [],
   "source": [
    "predictions = rf.predict(X_test)"
   ]
  },
  {
   "cell_type": "code",
   "execution_count": 367,
   "id": "f54978a6",
   "metadata": {},
   "outputs": [
    {
     "name": "stdout",
     "output_type": "stream",
     "text": [
      "              precision    recall  f1-score   support\n",
      "\n",
      "           0       0.97      0.96      0.96     11600\n",
      "           1       0.93      0.93      0.93      6130\n",
      "\n",
      "    accuracy                           0.95     17730\n",
      "   macro avg       0.95      0.95      0.95     17730\n",
      "weighted avg       0.95      0.95      0.95     17730\n",
      "\n"
     ]
    }
   ],
   "source": [
    "print(classification_report(y_test,predictions))"
   ]
  },
  {
   "cell_type": "markdown",
   "id": "278750d0",
   "metadata": {},
   "source": [
    "### Let's see how many features to keep"
   ]
  },
  {
   "cell_type": "code",
   "execution_count": 368,
   "id": "47c98f92",
   "metadata": {},
   "outputs": [],
   "source": [
    "features_to_keep = [40,50,60,70]"
   ]
  },
  {
   "cell_type": "code",
   "execution_count": 379,
   "id": "dbd01528",
   "metadata": {},
   "outputs": [],
   "source": [
    "temp = X_train[cum_sum.index[0:features_to_keep[2]]]"
   ]
  },
  {
   "cell_type": "code",
   "execution_count": 380,
   "id": "38dfff2d",
   "metadata": {},
   "outputs": [
    {
     "data": {
      "text/html": [
       "<style>#sk-container-id-20 {color: black;background-color: white;}#sk-container-id-20 pre{padding: 0;}#sk-container-id-20 div.sk-toggleable {background-color: white;}#sk-container-id-20 label.sk-toggleable__label {cursor: pointer;display: block;width: 100%;margin-bottom: 0;padding: 0.3em;box-sizing: border-box;text-align: center;}#sk-container-id-20 label.sk-toggleable__label-arrow:before {content: \"▸\";float: left;margin-right: 0.25em;color: #696969;}#sk-container-id-20 label.sk-toggleable__label-arrow:hover:before {color: black;}#sk-container-id-20 div.sk-estimator:hover label.sk-toggleable__label-arrow:before {color: black;}#sk-container-id-20 div.sk-toggleable__content {max-height: 0;max-width: 0;overflow: hidden;text-align: left;background-color: #f0f8ff;}#sk-container-id-20 div.sk-toggleable__content pre {margin: 0.2em;color: black;border-radius: 0.25em;background-color: #f0f8ff;}#sk-container-id-20 input.sk-toggleable__control:checked~div.sk-toggleable__content {max-height: 200px;max-width: 100%;overflow: auto;}#sk-container-id-20 input.sk-toggleable__control:checked~label.sk-toggleable__label-arrow:before {content: \"▾\";}#sk-container-id-20 div.sk-estimator input.sk-toggleable__control:checked~label.sk-toggleable__label {background-color: #d4ebff;}#sk-container-id-20 div.sk-label input.sk-toggleable__control:checked~label.sk-toggleable__label {background-color: #d4ebff;}#sk-container-id-20 input.sk-hidden--visually {border: 0;clip: rect(1px 1px 1px 1px);clip: rect(1px, 1px, 1px, 1px);height: 1px;margin: -1px;overflow: hidden;padding: 0;position: absolute;width: 1px;}#sk-container-id-20 div.sk-estimator {font-family: monospace;background-color: #f0f8ff;border: 1px dotted black;border-radius: 0.25em;box-sizing: border-box;margin-bottom: 0.5em;}#sk-container-id-20 div.sk-estimator:hover {background-color: #d4ebff;}#sk-container-id-20 div.sk-parallel-item::after {content: \"\";width: 100%;border-bottom: 1px solid gray;flex-grow: 1;}#sk-container-id-20 div.sk-label:hover label.sk-toggleable__label {background-color: #d4ebff;}#sk-container-id-20 div.sk-serial::before {content: \"\";position: absolute;border-left: 1px solid gray;box-sizing: border-box;top: 0;bottom: 0;left: 50%;z-index: 0;}#sk-container-id-20 div.sk-serial {display: flex;flex-direction: column;align-items: center;background-color: white;padding-right: 0.2em;padding-left: 0.2em;position: relative;}#sk-container-id-20 div.sk-item {position: relative;z-index: 1;}#sk-container-id-20 div.sk-parallel {display: flex;align-items: stretch;justify-content: center;background-color: white;position: relative;}#sk-container-id-20 div.sk-item::before, #sk-container-id-20 div.sk-parallel-item::before {content: \"\";position: absolute;border-left: 1px solid gray;box-sizing: border-box;top: 0;bottom: 0;left: 50%;z-index: -1;}#sk-container-id-20 div.sk-parallel-item {display: flex;flex-direction: column;z-index: 1;position: relative;background-color: white;}#sk-container-id-20 div.sk-parallel-item:first-child::after {align-self: flex-end;width: 50%;}#sk-container-id-20 div.sk-parallel-item:last-child::after {align-self: flex-start;width: 50%;}#sk-container-id-20 div.sk-parallel-item:only-child::after {width: 0;}#sk-container-id-20 div.sk-dashed-wrapped {border: 1px dashed gray;margin: 0 0.4em 0.5em 0.4em;box-sizing: border-box;padding-bottom: 0.4em;background-color: white;}#sk-container-id-20 div.sk-label label {font-family: monospace;font-weight: bold;display: inline-block;line-height: 1.2em;}#sk-container-id-20 div.sk-label-container {text-align: center;}#sk-container-id-20 div.sk-container {/* jupyter's `normalize.less` sets `[hidden] { display: none; }` but bootstrap.min.css set `[hidden] { display: none !important; }` so we also need the `!important` here to be able to override the default hidden behavior on the sphinx rendered scikit-learn.org. See: https://github.com/scikit-learn/scikit-learn/issues/21755 */display: inline-block !important;position: relative;}#sk-container-id-20 div.sk-text-repr-fallback {display: none;}</style><div id=\"sk-container-id-20\" class=\"sk-top-container\"><div class=\"sk-text-repr-fallback\"><pre>RandomForestClassifier()</pre><b>In a Jupyter environment, please rerun this cell to show the HTML representation or trust the notebook. <br />On GitHub, the HTML representation is unable to render, please try loading this page with nbviewer.org.</b></div><div class=\"sk-container\" hidden><div class=\"sk-item\"><div class=\"sk-estimator sk-toggleable\"><input class=\"sk-toggleable__control sk-hidden--visually\" id=\"sk-estimator-id-20\" type=\"checkbox\" checked><label for=\"sk-estimator-id-20\" class=\"sk-toggleable__label sk-toggleable__label-arrow\">RandomForestClassifier</label><div class=\"sk-toggleable__content\"><pre>RandomForestClassifier()</pre></div></div></div></div></div>"
      ],
      "text/plain": [
       "RandomForestClassifier()"
      ]
     },
     "execution_count": 380,
     "metadata": {},
     "output_type": "execute_result"
    }
   ],
   "source": [
    "rf = RandomForestClassifier()\n",
    "rf.fit(temp,y_train)"
   ]
  },
  {
   "cell_type": "code",
   "execution_count": 381,
   "id": "22534bad",
   "metadata": {},
   "outputs": [
    {
     "name": "stdout",
     "output_type": "stream",
     "text": [
      "              precision    recall  f1-score   support\n",
      "\n",
      "           0       0.97      0.96      0.96     11600\n",
      "           1       0.93      0.94      0.93      6130\n",
      "\n",
      "    accuracy                           0.95     17730\n",
      "   macro avg       0.95      0.95      0.95     17730\n",
      "weighted avg       0.95      0.95      0.95     17730\n",
      "\n"
     ]
    }
   ],
   "source": [
    "predictions = rf.predict(X_test[cum_sum.index[0:features_to_keep[2]]])\n",
    "print(classification_report(y_test,predictions))"
   ]
  },
  {
   "cell_type": "code",
   "execution_count": 386,
   "id": "9877b5aa",
   "metadata": {},
   "outputs": [
    {
     "data": {
      "text/plain": [
       "directory_length             0.161190\n",
       "time_domain_activation       0.274408\n",
       "length_url                   0.314531\n",
       "file_length                  0.351166\n",
       "qty_slash_url                0.386328\n",
       "qty_plus_directory           0.421407\n",
       "domain_length                0.451500\n",
       "qty_vowels_domain            0.481464\n",
       "qty_asterisk_directory       0.510624\n",
       "qty_slash_directory          0.539215\n",
       "qty_at_file                  0.566640\n",
       "qty_hyphen_directory         0.590975\n",
       "qty_dot_file                 0.614553\n",
       "qty_hashtag_directory        0.637694\n",
       "qty_asterisk_file            0.660704\n",
       "qty_dot_domain               0.680247\n",
       "qty_underline_directory      0.699754\n",
       "qty_tilde_directory          0.717485\n",
       "qty_exclamation_directory    0.735159\n",
       "qty_tilde_file               0.752429\n",
       "qty_questionmark_file        0.769698\n",
       "qty_dot_directory            0.786159\n",
       "qty_exclamation_file         0.799716\n",
       "qty_percent_directory        0.812506\n",
       "qty_dollar_file              0.824462\n",
       "qty_space_directory          0.836416\n",
       "qty_and_file                 0.848365\n",
       "qty_at_directory             0.860018\n",
       "qty_slash_file               0.871544\n",
       "qty_dollar_directory         0.882958\n",
       "qty_dot_url                  0.893850\n",
       "qty_hyphen_url               0.903313\n",
       "qty_comma_file               0.912556\n",
       "qty_underline_file           0.921230\n",
       "qty_hyphen_file              0.929785\n",
       "qty_equal_directory          0.936574\n",
       "qty_comma_directory          0.942866\n",
       "qty_equal_file               0.949134\n",
       "qty_space_file               0.955285\n",
       "qty_and_directory            0.961101\n",
       "qty_hashtag_file             0.966867\n",
       "qty_hyphen_domain            0.970982\n",
       "params_length                0.973697\n",
       "qty_underline_url            0.976404\n",
       "qty_tld_url                  0.978627\n",
       "qty_plus_params              0.980587\n",
       "qty_percent_url              0.981958\n",
       "qty_equal_params             0.983179\n",
       "tld_present_params           0.984353\n",
       "qty_params                   0.985404\n",
       "qty_equal_url                0.986384\n",
       "qty_dot_params               0.987322\n",
       "qty_and_params               0.988222\n",
       "qty_percent_params           0.989075\n",
       "qty_underline_params         0.989886\n",
       "qty_tilde_params             0.990684\n",
       "qty_percent_file             0.991477\n",
       "qty_dollar_params            0.992182\n",
       "qty_at_params                0.992815\n",
       "qty_exclamation_params       0.993446\n",
       "dtype: float64"
      ]
     },
     "execution_count": 386,
     "metadata": {},
     "output_type": "execute_result"
    }
   ],
   "source": [
    "cum_sum[0:60]"
   ]
  },
  {
   "cell_type": "markdown",
   "id": "b2b14198",
   "metadata": {},
   "source": [
    "# We will keep top 60 features as they seem to be enough to get us good precision and recall"
   ]
  },
  {
   "cell_type": "markdown",
   "id": "f327c3a6",
   "metadata": {},
   "source": [
    "### Among the last 18 features for which we need to rely on external sites, I have decided to keep only time_domain_activation as it is one of the most important features"
   ]
  },
  {
   "cell_type": "markdown",
   "id": "bd43e35a",
   "metadata": {},
   "source": [
    "# Extracting important features "
   ]
  },
  {
   "cell_type": "code",
   "execution_count": 149,
   "id": "55d1bef6",
   "metadata": {},
   "outputs": [],
   "source": [
    "example_domain = \"https://zvento.com/secure/vpass/id/\""
   ]
  },
  {
   "cell_type": "code",
   "execution_count": 150,
   "id": "b5ef4190",
   "metadata": {},
   "outputs": [],
   "source": []
  },
  {
   "cell_type": "markdown",
   "id": "4961d78b",
   "metadata": {},
   "source": [
    "#### Domain Activation Time"
   ]
  },
  {
   "cell_type": "code",
   "execution_count": 387,
   "id": "55c6b9fd",
   "metadata": {},
   "outputs": [],
   "source": [
    "import whois\n",
    "def get_time_domain_activation(domain):\n",
    "    try:\n",
    "        res = whois.whois(example_domain)\n",
    "        days= (datetime.datetime.now()-d).days\n",
    "        return days\n",
    "    except:\n",
    "        return -1"
   ]
  },
  {
   "cell_type": "code",
   "execution_count": 388,
   "id": "141b567b",
   "metadata": {},
   "outputs": [
    {
     "data": {
      "text/plain": [
       "1307"
      ]
     },
     "execution_count": 388,
     "metadata": {},
     "output_type": "execute_result"
    }
   ],
   "source": [
    "get_time_domain_activation(example_domain)"
   ]
  },
  {
   "cell_type": "markdown",
   "id": "f8e9176e",
   "metadata": {},
   "source": [
    "# TTl hostname"
   ]
  },
  {
   "cell_type": "code",
   "execution_count": null,
   "id": "e02935dc",
   "metadata": {},
   "outputs": [],
   "source": []
  },
  {
   "cell_type": "code",
   "execution_count": 257,
   "id": "c6ed929a",
   "metadata": {},
   "outputs": [],
   "source": [
    "import subprocess\n",
    "import re\n",
    "def get_ttl(domain):\n",
    "    try:\n",
    "        p = subprocess.Popen([\"ping\",domain], stdout=subprocess.PIPE)\n",
    "        res=p.communicate()[0]\n",
    "        pattern = re.compile('TTL=\\d*')\n",
    "        ttl =  pattern.search(str(res)).group()\n",
    "        return float(ttl.split(\"=\")[1])\n",
    "    except:\n",
    "        return -1"
   ]
  },
  {
   "cell_type": "code",
   "execution_count": 259,
   "id": "db317cd6",
   "metadata": {},
   "outputs": [
    {
     "data": {
      "text/plain": [
       "-1"
      ]
     },
     "execution_count": 259,
     "metadata": {},
     "output_type": "execute_result"
    }
   ],
   "source": [
    "get_ttl(example_domain)"
   ]
  },
  {
   "cell_type": "code",
   "execution_count": null,
   "id": "69893c52",
   "metadata": {},
   "outputs": [],
   "source": []
  },
  {
   "cell_type": "markdown",
   "id": "75f3c653",
   "metadata": {},
   "source": [
    "### Final Feature Selection and deciding which features to keep"
   ]
  },
  {
   "cell_type": "code",
   "execution_count": 389,
   "id": "bc51b0b2",
   "metadata": {},
   "outputs": [
    {
     "data": {
      "text/plain": [
       "directory_length             0.161190\n",
       "time_domain_activation       0.274408\n",
       "length_url                   0.314531\n",
       "file_length                  0.351166\n",
       "qty_slash_url                0.386328\n",
       "qty_plus_directory           0.421407\n",
       "domain_length                0.451500\n",
       "qty_vowels_domain            0.481464\n",
       "qty_asterisk_directory       0.510624\n",
       "qty_slash_directory          0.539215\n",
       "qty_at_file                  0.566640\n",
       "qty_hyphen_directory         0.590975\n",
       "qty_dot_file                 0.614553\n",
       "qty_hashtag_directory        0.637694\n",
       "qty_asterisk_file            0.660704\n",
       "qty_dot_domain               0.680247\n",
       "qty_underline_directory      0.699754\n",
       "qty_tilde_directory          0.717485\n",
       "qty_exclamation_directory    0.735159\n",
       "qty_tilde_file               0.752429\n",
       "qty_questionmark_file        0.769698\n",
       "qty_dot_directory            0.786159\n",
       "qty_exclamation_file         0.799716\n",
       "qty_percent_directory        0.812506\n",
       "qty_dollar_file              0.824462\n",
       "qty_space_directory          0.836416\n",
       "qty_and_file                 0.848365\n",
       "qty_at_directory             0.860018\n",
       "qty_slash_file               0.871544\n",
       "qty_dollar_directory         0.882958\n",
       "qty_dot_url                  0.893850\n",
       "qty_hyphen_url               0.903313\n",
       "qty_comma_file               0.912556\n",
       "qty_underline_file           0.921230\n",
       "qty_hyphen_file              0.929785\n",
       "qty_equal_directory          0.936574\n",
       "qty_comma_directory          0.942866\n",
       "qty_equal_file               0.949134\n",
       "qty_space_file               0.955285\n",
       "qty_and_directory            0.961101\n",
       "qty_hashtag_file             0.966867\n",
       "qty_hyphen_domain            0.970982\n",
       "params_length                0.973697\n",
       "qty_underline_url            0.976404\n",
       "qty_tld_url                  0.978627\n",
       "qty_plus_params              0.980587\n",
       "qty_percent_url              0.981958\n",
       "qty_equal_params             0.983179\n",
       "tld_present_params           0.984353\n",
       "qty_params                   0.985404\n",
       "qty_equal_url                0.986384\n",
       "qty_dot_params               0.987322\n",
       "qty_and_params               0.988222\n",
       "qty_percent_params           0.989075\n",
       "qty_underline_params         0.989886\n",
       "qty_tilde_params             0.990684\n",
       "qty_percent_file             0.991477\n",
       "qty_dollar_params            0.992182\n",
       "qty_at_params                0.992815\n",
       "qty_exclamation_params       0.993446\n",
       "dtype: float64"
      ]
     },
     "execution_count": 389,
     "metadata": {},
     "output_type": "execute_result"
    }
   ],
   "source": [
    "cum_sum[0:60]"
   ]
  },
  {
   "cell_type": "code",
   "execution_count": 390,
   "id": "9a137865",
   "metadata": {},
   "outputs": [],
   "source": [
    "top_60_features = cum_sum.index[0:60]"
   ]
  },
  {
   "cell_type": "code",
   "execution_count": 391,
   "id": "be2fbb15",
   "metadata": {},
   "outputs": [
    {
     "data": {
      "text/plain": [
       "Index(['directory_length', 'time_domain_activation', 'length_url',\n",
       "       'file_length', 'qty_slash_url', 'qty_plus_directory', 'domain_length',\n",
       "       'qty_vowels_domain', 'qty_asterisk_directory', 'qty_slash_directory',\n",
       "       'qty_at_file', 'qty_hyphen_directory', 'qty_dot_file',\n",
       "       'qty_hashtag_directory', 'qty_asterisk_file', 'qty_dot_domain',\n",
       "       'qty_underline_directory', 'qty_tilde_directory',\n",
       "       'qty_exclamation_directory', 'qty_tilde_file', 'qty_questionmark_file',\n",
       "       'qty_dot_directory', 'qty_exclamation_file', 'qty_percent_directory',\n",
       "       'qty_dollar_file', 'qty_space_directory', 'qty_and_file',\n",
       "       'qty_at_directory', 'qty_slash_file', 'qty_dollar_directory',\n",
       "       'qty_dot_url', 'qty_hyphen_url', 'qty_comma_file', 'qty_underline_file',\n",
       "       'qty_hyphen_file', 'qty_equal_directory', 'qty_comma_directory',\n",
       "       'qty_equal_file', 'qty_space_file', 'qty_and_directory',\n",
       "       'qty_hashtag_file', 'qty_hyphen_domain', 'params_length',\n",
       "       'qty_underline_url', 'qty_tld_url', 'qty_plus_params',\n",
       "       'qty_percent_url', 'qty_equal_params', 'tld_present_params',\n",
       "       'qty_params', 'qty_equal_url', 'qty_dot_params', 'qty_and_params',\n",
       "       'qty_percent_params', 'qty_underline_params', 'qty_tilde_params',\n",
       "       'qty_percent_file', 'qty_dollar_params', 'qty_at_params',\n",
       "       'qty_exclamation_params'],\n",
       "      dtype='object')"
      ]
     },
     "execution_count": 391,
     "metadata": {},
     "output_type": "execute_result"
    }
   ],
   "source": [
    "top_60_features"
   ]
  },
  {
   "cell_type": "code",
   "execution_count": 392,
   "id": "db066758",
   "metadata": {},
   "outputs": [
    {
     "data": {
      "text/plain": [
       "{'qty_and_directory',\n",
       " 'qty_and_file',\n",
       " 'qty_and_params',\n",
       " 'qty_and_url',\n",
       " 'qty_asterisk_directory',\n",
       " 'qty_asterisk_file',\n",
       " 'qty_asterisk_params',\n",
       " 'qty_at_directory',\n",
       " 'qty_at_file',\n",
       " 'qty_at_params',\n",
       " 'qty_comma_directory',\n",
       " 'qty_comma_file',\n",
       " 'qty_comma_params',\n",
       " 'qty_dollar_directory',\n",
       " 'qty_dollar_file',\n",
       " 'qty_dollar_params',\n",
       " 'qty_dot_file',\n",
       " 'qty_equal_directory',\n",
       " 'qty_equal_file',\n",
       " 'qty_equal_params',\n",
       " 'qty_exclamation_directory',\n",
       " 'qty_exclamation_file',\n",
       " 'qty_exclamation_params',\n",
       " 'qty_hashtag_directory',\n",
       " 'qty_hashtag_file',\n",
       " 'qty_hashtag_params',\n",
       " 'qty_params',\n",
       " 'qty_percent_file',\n",
       " 'qty_plus_directory',\n",
       " 'qty_plus_file',\n",
       " 'qty_plus_params',\n",
       " 'qty_questionmark_file',\n",
       " 'qty_slash_directory',\n",
       " 'qty_slash_file',\n",
       " 'qty_space_directory',\n",
       " 'qty_space_file',\n",
       " 'qty_space_params',\n",
       " 'qty_tilde_directory',\n",
       " 'qty_tilde_file',\n",
       " 'qty_tilde_params',\n",
       " 'qty_underline_file',\n",
       " 'tld_present_params'}"
      ]
     },
     "execution_count": 392,
     "metadata": {},
     "output_type": "execute_result"
    }
   ],
   "source": [
    "corelated_features"
   ]
  },
  {
   "cell_type": "code",
   "execution_count": 393,
   "id": "b9c1e531",
   "metadata": {},
   "outputs": [
    {
     "data": {
      "text/plain": [
       "['qty_slash_domain',\n",
       " 'qty_questionmark_domain',\n",
       " 'qty_equal_domain',\n",
       " 'qty_and_domain',\n",
       " 'qty_exclamation_domain',\n",
       " 'qty_space_domain',\n",
       " 'qty_tilde_domain',\n",
       " 'qty_comma_domain',\n",
       " 'qty_plus_domain',\n",
       " 'qty_asterisk_domain',\n",
       " 'qty_hashtag_domain',\n",
       " 'qty_dollar_domain',\n",
       " 'qty_percent_domain']"
      ]
     },
     "execution_count": 393,
     "metadata": {},
     "output_type": "execute_result"
    }
   ],
   "source": [
    "constant_columns"
   ]
  },
  {
   "cell_type": "markdown",
   "id": "ae7649c4",
   "metadata": {},
   "source": [
    "## Constant Columns that are part of top 60 features"
   ]
  },
  {
   "cell_type": "code",
   "execution_count": 398,
   "id": "e5bc102d",
   "metadata": {},
   "outputs": [
    {
     "data": {
      "text/plain": [
       "set()"
      ]
     },
     "execution_count": 398,
     "metadata": {},
     "output_type": "execute_result"
    }
   ],
   "source": [
    "set(constant_columns).intersection(set(top_60_features))"
   ]
  },
  {
   "cell_type": "markdown",
   "id": "23354495",
   "metadata": {},
   "source": [
    "There is no constant feature in top 60 features"
   ]
  },
  {
   "cell_type": "markdown",
   "id": "3f5adc7a",
   "metadata": {},
   "source": [
    "## Corelation analysis on top 60 features"
   ]
  },
  {
   "cell_type": "code",
   "execution_count": 402,
   "id": "57260896",
   "metadata": {},
   "outputs": [],
   "source": [
    "X_train_top_60 = X_train[top_60_features]"
   ]
  },
  {
   "cell_type": "code",
   "execution_count": 403,
   "id": "31496dce",
   "metadata": {},
   "outputs": [
    {
     "data": {
      "image/png": "[encoded data removed]",
      "text/plain": [
       "<Figure size 864x720 with 2 Axes>"
      ]
     },
     "metadata": {
      "needs_background": "light"
     },
     "output_type": "display_data"
    }
   ],
   "source": [
    "plt.figure(figsize=(12,10))\n",
    "cor = X_train_top_60.corr()\n",
    "sns.heatmap(cor, cmap=plt.cm.CMRmap_r)\n",
    "plt.show()"
   ]
  },
  {
   "cell_type": "code",
   "execution_count": 405,
   "id": "725bc66f",
   "metadata": {},
   "outputs": [],
   "source": [
    "top_60_corelated_features = get_high_correlation_feature(X_train_top_60,0.85)"
   ]
  },
  {
   "cell_type": "code",
   "execution_count": 407,
   "id": "06848ffa",
   "metadata": {},
   "outputs": [
    {
     "data": {
      "text/plain": [
       "34"
      ]
     },
     "execution_count": 407,
     "metadata": {},
     "output_type": "execute_result"
    }
   ],
   "source": [
    "len(top_60_corelated_features)"
   ]
  },
  {
   "cell_type": "code",
   "execution_count": 408,
   "id": "f197629e",
   "metadata": {},
   "outputs": [
    {
     "name": "stderr",
     "output_type": "stream",
     "text": [
      "C:\\Users\\rachi\\anaconda3\\lib\\site-packages\\pandas\\core\\frame.py:4308: SettingWithCopyWarning: \n",
      "A value is trying to be set on a copy of a slice from a DataFrame\n",
      "\n",
      "See the caveats in the documentation: https://pandas.pydata.org/pandas-docs/stable/user_guide/indexing.html#returning-a-view-versus-a-copy\n",
      "  return super().drop(\n"
     ]
    }
   ],
   "source": [
    "X_train_top_60.drop(top_60_corelated_features,axis=1,inplace=True)"
   ]
  },
  {
   "cell_type": "code",
   "execution_count": 411,
   "id": "e7b30532",
   "metadata": {},
   "outputs": [],
   "source": [
    "X_test_top_60 = X_test[X_train_top_60.columns]"
   ]
  },
  {
   "cell_type": "code",
   "execution_count": null,
   "id": "ef3feee2",
   "metadata": {},
   "outputs": [],
   "source": []
  },
  {
   "cell_type": "code",
   "execution_count": null,
   "id": "08fa475a",
   "metadata": {},
   "outputs": [],
   "source": []
  },
  {
   "cell_type": "code",
   "execution_count": 414,
   "id": "706f3404",
   "metadata": {},
   "outputs": [
    {
     "data": {
      "text/html": [
       "<style>#sk-container-id-21 {color: black;background-color: white;}#sk-container-id-21 pre{padding: 0;}#sk-container-id-21 div.sk-toggleable {background-color: white;}#sk-container-id-21 label.sk-toggleable__label {cursor: pointer;display: block;width: 100%;margin-bottom: 0;padding: 0.3em;box-sizing: border-box;text-align: center;}#sk-container-id-21 label.sk-toggleable__label-arrow:before {content: \"▸\";float: left;margin-right: 0.25em;color: #696969;}#sk-container-id-21 label.sk-toggleable__label-arrow:hover:before {color: black;}#sk-container-id-21 div.sk-estimator:hover label.sk-toggleable__label-arrow:before {color: black;}#sk-container-id-21 div.sk-toggleable__content {max-height: 0;max-width: 0;overflow: hidden;text-align: left;background-color: #f0f8ff;}#sk-container-id-21 div.sk-toggleable__content pre {margin: 0.2em;color: black;border-radius: 0.25em;background-color: #f0f8ff;}#sk-container-id-21 input.sk-toggleable__control:checked~div.sk-toggleable__content {max-height: 200px;max-width: 100%;overflow: auto;}#sk-container-id-21 input.sk-toggleable__control:checked~label.sk-toggleable__label-arrow:before {content: \"▾\";}#sk-container-id-21 div.sk-estimator input.sk-toggleable__control:checked~label.sk-toggleable__label {background-color: #d4ebff;}#sk-container-id-21 div.sk-label input.sk-toggleable__control:checked~label.sk-toggleable__label {background-color: #d4ebff;}#sk-container-id-21 input.sk-hidden--visually {border: 0;clip: rect(1px 1px 1px 1px);clip: rect(1px, 1px, 1px, 1px);height: 1px;margin: -1px;overflow: hidden;padding: 0;position: absolute;width: 1px;}#sk-container-id-21 div.sk-estimator {font-family: monospace;background-color: #f0f8ff;border: 1px dotted black;border-radius: 0.25em;box-sizing: border-box;margin-bottom: 0.5em;}#sk-container-id-21 div.sk-estimator:hover {background-color: #d4ebff;}#sk-container-id-21 div.sk-parallel-item::after {content: \"\";width: 100%;border-bottom: 1px solid gray;flex-grow: 1;}#sk-container-id-21 div.sk-label:hover label.sk-toggleable__label {background-color: #d4ebff;}#sk-container-id-21 div.sk-serial::before {content: \"\";position: absolute;border-left: 1px solid gray;box-sizing: border-box;top: 0;bottom: 0;left: 50%;z-index: 0;}#sk-container-id-21 div.sk-serial {display: flex;flex-direction: column;align-items: center;background-color: white;padding-right: 0.2em;padding-left: 0.2em;position: relative;}#sk-container-id-21 div.sk-item {position: relative;z-index: 1;}#sk-container-id-21 div.sk-parallel {display: flex;align-items: stretch;justify-content: center;background-color: white;position: relative;}#sk-container-id-21 div.sk-item::before, #sk-container-id-21 div.sk-parallel-item::before {content: \"\";position: absolute;border-left: 1px solid gray;box-sizing: border-box;top: 0;bottom: 0;left: 50%;z-index: -1;}#sk-container-id-21 div.sk-parallel-item {display: flex;flex-direction: column;z-index: 1;position: relative;background-color: white;}#sk-container-id-21 div.sk-parallel-item:first-child::after {align-self: flex-end;width: 50%;}#sk-container-id-21 div.sk-parallel-item:last-child::after {align-self: flex-start;width: 50%;}#sk-container-id-21 div.sk-parallel-item:only-child::after {width: 0;}#sk-container-id-21 div.sk-dashed-wrapped {border: 1px dashed gray;margin: 0 0.4em 0.5em 0.4em;box-sizing: border-box;padding-bottom: 0.4em;background-color: white;}#sk-container-id-21 div.sk-label label {font-family: monospace;font-weight: bold;display: inline-block;line-height: 1.2em;}#sk-container-id-21 div.sk-label-container {text-align: center;}#sk-container-id-21 div.sk-container {/* jupyter's `normalize.less` sets `[hidden] { display: none; }` but bootstrap.min.css set `[hidden] { display: none !important; }` so we also need the `!important` here to be able to override the default hidden behavior on the sphinx rendered scikit-learn.org. See: https://github.com/scikit-learn/scikit-learn/issues/21755 */display: inline-block !important;position: relative;}#sk-container-id-21 div.sk-text-repr-fallback {display: none;}</style><div id=\"sk-container-id-21\" class=\"sk-top-container\"><div class=\"sk-text-repr-fallback\"><pre>RandomForestClassifier()</pre><b>In a Jupyter environment, please rerun this cell to show the HTML representation or trust the notebook. <br />On GitHub, the HTML representation is unable to render, please try loading this page with nbviewer.org.</b></div><div class=\"sk-container\" hidden><div class=\"sk-item\"><div class=\"sk-estimator sk-toggleable\"><input class=\"sk-toggleable__control sk-hidden--visually\" id=\"sk-estimator-id-21\" type=\"checkbox\" checked><label for=\"sk-estimator-id-21\" class=\"sk-toggleable__label sk-toggleable__label-arrow\">RandomForestClassifier</label><div class=\"sk-toggleable__content\"><pre>RandomForestClassifier()</pre></div></div></div></div></div>"
      ],
      "text/plain": [
       "RandomForestClassifier()"
      ]
     },
     "execution_count": 414,
     "metadata": {},
     "output_type": "execute_result"
    }
   ],
   "source": [
    "rf = RandomForestClassifier()\n",
    "rf.fit(X_train_top_60,y_train)\n"
   ]
  },
  {
   "cell_type": "code",
   "execution_count": 415,
   "id": "6b586c51",
   "metadata": {},
   "outputs": [
    {
     "name": "stdout",
     "output_type": "stream",
     "text": [
      "              precision    recall  f1-score   support\n",
      "\n",
      "           0       0.97      0.96      0.96     11600\n",
      "           1       0.93      0.93      0.93      6130\n",
      "\n",
      "    accuracy                           0.95     17730\n",
      "   macro avg       0.95      0.95      0.95     17730\n",
      "weighted avg       0.95      0.95      0.95     17730\n",
      "\n"
     ]
    }
   ],
   "source": [
    "predictions = rf.predict(X_test_top_60)\n",
    "print(classification_report(y_test,predictions))"
   ]
  },
  {
   "cell_type": "markdown",
   "id": "c28bc773",
   "metadata": {},
   "source": [
    "# We are getting good results even after dropping highly corelated features. So we can go ahead with the top 26 features itself"
   ]
  },
  {
   "cell_type": "code",
   "execution_count": 416,
   "id": "21372a92",
   "metadata": {},
   "outputs": [],
   "source": [
    "top_features = X_train_top_60.columns"
   ]
  },
  {
   "cell_type": "code",
   "execution_count": 417,
   "id": "d7a0ee99",
   "metadata": {},
   "outputs": [
    {
     "data": {
      "text/plain": [
       "Index(['directory_length', 'time_domain_activation', 'length_url',\n",
       "       'file_length', 'qty_slash_url', 'qty_plus_directory', 'domain_length',\n",
       "       'qty_vowels_domain', 'qty_asterisk_directory', 'qty_hyphen_directory',\n",
       "       'qty_dot_domain', 'qty_underline_directory', 'qty_percent_directory',\n",
       "       'qty_dot_url', 'qty_hyphen_url', 'qty_hyphen_file', 'qty_hyphen_domain',\n",
       "       'params_length', 'qty_underline_url', 'qty_tld_url', 'qty_plus_params',\n",
       "       'qty_percent_url', 'qty_equal_params', 'qty_dot_params',\n",
       "       'qty_percent_params', 'qty_underline_params'],\n",
       "      dtype='object')"
      ]
     },
     "execution_count": 417,
     "metadata": {},
     "output_type": "execute_result"
    }
   ],
   "source": [
    "top_features"
   ]
  },
  {
   "cell_type": "markdown",
   "id": "b05c7572",
   "metadata": {},
   "source": [
    "# Transformations on final features"
   ]
  },
  {
   "cell_type": "code",
   "execution_count": 418,
   "id": "54ff8a23",
   "metadata": {},
   "outputs": [],
   "source": [
    "numerical_features = [feature for feature in top_features if df[feature].dtype!='O']"
   ]
  },
  {
   "cell_type": "code",
   "execution_count": 420,
   "id": "a9a6916b",
   "metadata": {},
   "outputs": [],
   "source": [
    "discrete_features = [feature for feature in top_features if len(df[feature].unique())<=25]"
   ]
  },
  {
   "cell_type": "code",
   "execution_count": 421,
   "id": "6272e5ae",
   "metadata": {},
   "outputs": [],
   "source": [
    "continuous_features = list(set(numerical_features) - set(discrete_features))"
   ]
  },
  {
   "cell_type": "code",
   "execution_count": 423,
   "id": "2200bfef",
   "metadata": {},
   "outputs": [
    {
     "data": {
      "text/plain": [
       "['qty_hyphen_url',\n",
       " 'qty_percent_params',\n",
       " 'file_length',\n",
       " 'qty_percent_url',\n",
       " 'length_url',\n",
       " 'qty_percent_directory',\n",
       " 'qty_vowels_domain',\n",
       " 'directory_length',\n",
       " 'time_domain_activation',\n",
       " 'domain_length',\n",
       " 'params_length']"
      ]
     },
     "execution_count": 423,
     "metadata": {},
     "output_type": "execute_result"
    }
   ],
   "source": [
    "continuous_features"
   ]
  },
  {
   "cell_type": "markdown",
   "id": "a50e69c0",
   "metadata": {},
   "source": [
    "##### Will use EDA to figure out which transformation to use for which feature"
   ]
  },
  {
   "cell_type": "markdown",
   "id": "9b9df81d",
   "metadata": {},
   "source": [
    "## Transformation 1: Use Box Cox Transformation on length_url"
   ]
  },
  {
   "cell_type": "code",
   "execution_count": 430,
   "id": "eaf9d6ad",
   "metadata": {},
   "outputs": [
    {
     "data": {
      "text/plain": [
       "0         25\n",
       "1        223\n",
       "2         15\n",
       "3         81\n",
       "4         19\n",
       "        ... \n",
       "88642     23\n",
       "88643     34\n",
       "88644     70\n",
       "88645     28\n",
       "88646     16\n",
       "Name: length_url, Length: 88647, dtype: int64"
      ]
     },
     "execution_count": 430,
     "metadata": {},
     "output_type": "execute_result"
    }
   ],
   "source": [
    "df['length_url']"
   ]
  },
  {
   "cell_type": "code",
   "execution_count": 436,
   "id": "69ca408e",
   "metadata": {},
   "outputs": [],
   "source": [
    "import scipy.stats as stat\n",
    "import pylab "
   ]
  },
  {
   "cell_type": "code",
   "execution_count": 434,
   "id": "e96cac2f",
   "metadata": {},
   "outputs": [
    {
     "name": "stderr",
     "output_type": "stream",
     "text": [
      "C:\\Users\\rachi\\anaconda3\\lib\\site-packages\\seaborn\\distributions.py:2557: FutureWarning: `distplot` is a deprecated function and will be removed in a future version. Please adapt your code to use either `displot` (a figure-level function with similar flexibility) or `histplot` (an axes-level function for histograms).\n",
      "  warnings.warn(msg, FutureWarning)\n"
     ]
    },
    {
     "data": {
      "image/png": "[encoded data removed]",
      "text/plain": [
       "<Figure size 432x288 with 1 Axes>"
      ]
     },
     "metadata": {
      "needs_background": "light"
     },
     "output_type": "display_data"
    },
    {
     "name": "stderr",
     "output_type": "stream",
     "text": [
      "C:\\Users\\rachi\\anaconda3\\lib\\site-packages\\seaborn\\distributions.py:2557: FutureWarning: `distplot` is a deprecated function and will be removed in a future version. Please adapt your code to use either `displot` (a figure-level function with similar flexibility) or `histplot` (an axes-level function for histograms).\n",
      "  warnings.warn(msg, FutureWarning)\n"
     ]
    },
    {
     "data": {
      "image/png": "[encoded data removed]",
      "text/plain": [
       "<Figure size 432x288 with 3 Axes>"
      ]
     },
     "metadata": {
      "needs_background": "light"
     },
     "output_type": "display_data"
    }
   ],
   "source": [
    "for feature in ['length_url']:\n",
    "    sns.distplot(df[feature])\n",
    "    plt.show()\n",
    "    if 0 in df[feature].unique():\n",
    "        pass\n",
    "    else:\n",
    "        try:\n",
    "            f, parameters =  stat.boxcox(df[feature])\n",
    "        except:\n",
    "            continue\n",
    "        plt.subplot(1,3,1)\n",
    "        plt.scatter(f,df['phishing'])\n",
    "        plt.xlabel(feature)\n",
    "        \n",
    "        plt.title(f\"{feature} vs phishing\")\n",
    "        plt.subplot(1,3,2)\n",
    "        stat.probplot(f,dist='norm',plot=pylab)\n",
    "        \n",
    "        plt.subplot(1,3,3)\n",
    "        sns.distplot(f)\n",
    "        \n",
    "        plt.show()"
   ]
  },
  {
   "cell_type": "markdown",
   "id": "fd9c7f49",
   "metadata": {},
   "source": [
    "#### Clearly this feature is becoming normal now, so using this transformation"
   ]
  },
  {
   "cell_type": "markdown",
   "id": "4c2ffd07",
   "metadata": {},
   "source": [
    "### Other features are already normal or we are not able to make other features normal"
   ]
  },
  {
   "cell_type": "markdown",
   "id": "3f36b5a5",
   "metadata": {},
   "source": [
    "# Final Pipeline"
   ]
  },
  {
   "cell_type": "code",
   "execution_count": 435,
   "id": "671de04f",
   "metadata": {},
   "outputs": [],
   "source": [
    "from sklearn.base import BaseEstimator, TransformerMixin"
   ]
  },
  {
   "cell_type": "code",
   "execution_count": 457,
   "id": "c5fc0a2d",
   "metadata": {},
   "outputs": [],
   "source": [
    "import scipy.stats as stat\n",
    "import pylab \n",
    "\n",
    "class box_cox_transformation(BaseEstimator, TransformerMixin):\n",
    "    \n",
    "    def __init__(self, features):\n",
    "        self.features = features\n",
    "    \n",
    "    def fit(self, X, y=None):\n",
    "        return self\n",
    "    \n",
    "    def transform(self,X,y=None):\n",
    "        #df = X.copy()\n",
    "        \n",
    "        for feature in self.features:\n",
    "            try:\n",
    "                # Apply box cox transformations\n",
    "                X[feature], parameter = stat.boxcox(X[feature])\n",
    "                print(X[feature])\n",
    "            except:\n",
    "                pass\n",
    "        return X\n",
    "            \n",
    "        "
   ]
  },
  {
   "cell_type": "code",
   "execution_count": 438,
   "id": "1d57483a",
   "metadata": {},
   "outputs": [],
   "source": [
    "from sklearn.pipeline import Pipeline"
   ]
  },
  {
   "cell_type": "code",
   "execution_count": 471,
   "id": "ff1ac2dc",
   "metadata": {},
   "outputs": [],
   "source": [
    "pipeline = Pipeline([\n",
    "    ('imputer', SimpleImputer(strategy='median')),\n",
    "    ('box_cox_transformation', box_cox_transformation(['length_url'])),\n",
    "    ('std_scaler',StandardScaler())\n",
    "])"
   ]
  },
  {
   "cell_type": "markdown",
   "id": "7647689f",
   "metadata": {},
   "source": [
    "#### Using pipeline"
   ]
  },
  {
   "cell_type": "code",
   "execution_count": 472,
   "id": "26d6509c",
   "metadata": {},
   "outputs": [],
   "source": [
    "temp = pipeline.fit_transform(df[top_features])"
   ]
  },
  {
   "cell_type": "code",
   "execution_count": 473,
   "id": "449a0d4b",
   "metadata": {},
   "outputs": [
    {
     "data": {
      "text/plain": [
       "array([[-0.11734707, -1.11383416,  0.10298207, ..., -0.19280031,\n",
       "        -0.13126365, -0.20990297],\n",
       "       [ 1.27881371, -0.9233047 ,  2.13121688, ...,  0.82781172,\n",
       "         0.82064479,  2.83772108],\n",
       "       [-0.40479193, -1.11383416, -0.93258021, ..., -0.19280031,\n",
       "        -0.13126365, -0.20990297],\n",
       "       ...,\n",
       "       [ 1.52519502, -0.50775336,  1.39543068, ..., -0.19280031,\n",
       "        -0.13126365, -0.20990297],\n",
       "       [-0.40479193, -1.11383416,  0.28999139, ..., -0.19280031,\n",
       "        -0.13126365, -0.20990297],\n",
       "       [-0.48691904, -1.01495594, -0.78198293, ..., -0.19280031,\n",
       "        -0.13126365, -0.20990297]])"
      ]
     },
     "execution_count": 473,
     "metadata": {},
     "output_type": "execute_result"
    }
   ],
   "source": [
    "temp"
   ]
  },
  {
   "cell_type": "code",
   "execution_count": 474,
   "id": "8cc21237",
   "metadata": {},
   "outputs": [],
   "source": [
    "temp = pd.DataFrame(temp, columns=top_features)"
   ]
  },
  {
   "cell_type": "code",
   "execution_count": 475,
   "id": "9d5ffbf2",
   "metadata": {},
   "outputs": [
    {
     "name": "stderr",
     "output_type": "stream",
     "text": [
      "C:\\Users\\rachi\\anaconda3\\lib\\site-packages\\seaborn\\distributions.py:2557: FutureWarning: `distplot` is a deprecated function and will be removed in a future version. Please adapt your code to use either `displot` (a figure-level function with similar flexibility) or `histplot` (an axes-level function for histograms).\n",
      "  warnings.warn(msg, FutureWarning)\n"
     ]
    },
    {
     "data": {
      "text/plain": [
       "<AxesSubplot:xlabel='length_url', ylabel='Density'>"
      ]
     },
     "execution_count": 475,
     "metadata": {},
     "output_type": "execute_result"
    },
    {
     "data": {
      "image/png": "[encoded data removed]",
      "text/plain": [
       "<Figure size 432x288 with 1 Axes>"
      ]
     },
     "metadata": {
      "needs_background": "light"
     },
     "output_type": "display_data"
    }
   ],
   "source": [
    "sns.distplot(temp['length_url'])"
   ]
  },
  {
   "cell_type": "markdown",
   "id": "2b5765d5",
   "metadata": {},
   "source": [
    "Now from here on, we can simply use this pipeline to do pre-processing"
   ]
  },
  {
   "cell_type": "code",
   "execution_count": 477,
   "id": "960e59fc",
   "metadata": {},
   "outputs": [],
   "source": []
  },
  {
   "cell_type": "code",
   "execution_count": 478,
   "id": "3a29181a",
   "metadata": {},
   "outputs": [
    {
     "data": {
      "text/plain": [
       "['preprocess_pipeline.joblib']"
      ]
     },
     "execution_count": 478,
     "metadata": {},
     "output_type": "execute_result"
    }
   ],
   "source": [
    "joblib.dump(pipeline,'preprocess_pipeline.joblib')"
   ]
  },
  {
   "cell_type": "code",
   "execution_count": null,
   "id": "d27bd161",
   "metadata": {},
   "outputs": [],
   "source": []
  }
 ],
 "metadata": {
  "kernelspec": {
   "display_name": "Python 3",
   "language": "python",
   "name": "python3"
  },
  "language_info": {
   "codemirror_mode": {
    "name": "ipython",
    "version": 3
   },
   "file_extension": ".py",
   "mimetype": "text/x-python",
   "name": "python",
   "nbconvert_exporter": "python",
   "pygments_lexer": "ipython3",
   "version": "3.8.8"
  }
 },
 "nbformat": 4,
 "nbformat_minor": 5
}
