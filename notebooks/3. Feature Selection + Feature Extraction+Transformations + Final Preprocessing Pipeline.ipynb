{
 "cells": [
  {
   "cell_type": "code",
   "execution_count": 1,
   "id": "c74567dc",
   "metadata": {},
   "outputs": [],
   "source": [
    "base_url = \"..//dataset//\""
   ]
  },
  {
   "cell_type": "markdown",
   "id": "32e4d76b",
   "metadata": {},
   "source": [
    "# Loading Libraries"
   ]
  },
  {
   "cell_type": "code",
   "execution_count": 2,
   "id": "35710f6e",
   "metadata": {},
   "outputs": [],
   "source": [
    "import pandas as pd\n",
    "import numpy as np\n",
    "import matplotlib.pyplot as plt\n",
    "%matplotlib inline\n",
    "pd.pandas.set_option('display.max_columns',None)\n",
    "import seaborn as sns\n",
    "import scipy.stats as stat\n",
    "import pylab \n",
    "from sklearn.impute import SimpleImputer\n",
    "from sklearn.preprocessing import StandardScaler\n",
    "from sklearn.model_selection import StratifiedShuffleSplit\n",
    "import joblib\n",
    "from sklearn.metrics import classification_report\n",
    "from sklearn.base import BaseEstimator, TransformerMixin\n",
    "from sklearn.pipeline import Pipeline\n",
    "import scipy.stats as stat\n",
    "import pylab "
   ]
  },
  {
   "cell_type": "markdown",
   "id": "2268ff67",
   "metadata": {},
   "source": [
    "# Agenda\n",
    "\n",
    "1. Use Variance Threshold to see which features have minimal variance \n",
    "\n",
    "2. Corelation Analysis\n",
    "\n",
    "3. Mutual Information Analysis\n",
    "\n",
    "4. Chi Square Analysis\n",
    "\n",
    "5. Model Based Methods (Random Forests, Lasso)\n",
    "\n",
    "6. Transformations(Log, Reciprocal, Box Cox etc) on selected features\n",
    "\n",
    "7. Final Pipeline"
   ]
  },
  {
   "cell_type": "markdown",
   "id": "6837cb49",
   "metadata": {},
   "source": [
    "# Loading the data"
   ]
  },
  {
   "cell_type": "code",
   "execution_count": 3,
   "id": "8c0b00dd",
   "metadata": {},
   "outputs": [],
   "source": [
    "df = pd.read_csv(base_url+'phishing_full.csv')"
   ]
  },
  {
   "cell_type": "code",
   "execution_count": 4,
   "id": "221be632",
   "metadata": {},
   "outputs": [],
   "source": [
    "features_to_skip = ['time_response','domain_spf','asn_ip','time_domain_expiration','qty_ip_resolved','qty_nameservers',\n",
    "                   'qty_mx_servers','ttl_hostname','tls_ssl_certificate','qty_redirects','url_google_index','domain_google_index','url_shortened']"
   ]
  },
  {
   "cell_type": "code",
   "execution_count": 5,
   "id": "9c8ff6ad",
   "metadata": {},
   "outputs": [
    {
     "data": {
      "text/plain": [
       "97"
      ]
     },
     "execution_count": 5,
     "metadata": {},
     "output_type": "execute_result"
    }
   ],
   "source": [
    "list(df.columns).index('time_response')"
   ]
  },
  {
   "cell_type": "code",
   "execution_count": 6,
   "id": "04f38bd4",
   "metadata": {},
   "outputs": [],
   "source": [
    "df.drop(features_to_skip,axis=1, inplace=True)"
   ]
  },
  {
   "cell_type": "code",
   "execution_count": 7,
   "id": "f7a9d8cf",
   "metadata": {},
   "outputs": [
    {
     "data": {
      "text/html": [
       "<div>\n",
       "<style scoped>\n",
       "    .dataframe tbody tr th:only-of-type {\n",
       "        vertical-align: middle;\n",
       "    }\n",
       "\n",
       "    .dataframe tbody tr th {\n",
       "        vertical-align: top;\n",
       "    }\n",
       "\n",
       "    .dataframe thead th {\n",
       "        text-align: right;\n",
       "    }\n",
       "</style>\n",
       "<table border=\"1\" class=\"dataframe\">\n",
       "  <thead>\n",
       "    <tr style=\"text-align: right;\">\n",
       "      <th></th>\n",
       "      <th>qty_dot_url</th>\n",
       "      <th>qty_hyphen_url</th>\n",
       "      <th>qty_underline_url</th>\n",
       "      <th>qty_slash_url</th>\n",
       "      <th>qty_questionmark_url</th>\n",
       "      <th>qty_equal_url</th>\n",
       "      <th>qty_at_url</th>\n",
       "      <th>qty_and_url</th>\n",
       "      <th>qty_exclamation_url</th>\n",
       "      <th>qty_space_url</th>\n",
       "      <th>qty_tilde_url</th>\n",
       "      <th>qty_comma_url</th>\n",
       "      <th>qty_plus_url</th>\n",
       "      <th>qty_asterisk_url</th>\n",
       "      <th>qty_hashtag_url</th>\n",
       "      <th>qty_dollar_url</th>\n",
       "      <th>qty_percent_url</th>\n",
       "      <th>qty_tld_url</th>\n",
       "      <th>length_url</th>\n",
       "      <th>qty_dot_domain</th>\n",
       "      <th>qty_hyphen_domain</th>\n",
       "      <th>qty_underline_domain</th>\n",
       "      <th>qty_slash_domain</th>\n",
       "      <th>qty_questionmark_domain</th>\n",
       "      <th>qty_equal_domain</th>\n",
       "      <th>qty_at_domain</th>\n",
       "      <th>qty_and_domain</th>\n",
       "      <th>qty_exclamation_domain</th>\n",
       "      <th>qty_space_domain</th>\n",
       "      <th>qty_tilde_domain</th>\n",
       "      <th>qty_comma_domain</th>\n",
       "      <th>qty_plus_domain</th>\n",
       "      <th>qty_asterisk_domain</th>\n",
       "      <th>qty_hashtag_domain</th>\n",
       "      <th>qty_dollar_domain</th>\n",
       "      <th>qty_percent_domain</th>\n",
       "      <th>qty_vowels_domain</th>\n",
       "      <th>domain_length</th>\n",
       "      <th>domain_in_ip</th>\n",
       "      <th>server_client_domain</th>\n",
       "      <th>qty_dot_directory</th>\n",
       "      <th>qty_hyphen_directory</th>\n",
       "      <th>qty_underline_directory</th>\n",
       "      <th>qty_slash_directory</th>\n",
       "      <th>qty_questionmark_directory</th>\n",
       "      <th>qty_equal_directory</th>\n",
       "      <th>qty_at_directory</th>\n",
       "      <th>qty_and_directory</th>\n",
       "      <th>qty_exclamation_directory</th>\n",
       "      <th>qty_space_directory</th>\n",
       "      <th>qty_tilde_directory</th>\n",
       "      <th>qty_comma_directory</th>\n",
       "      <th>qty_plus_directory</th>\n",
       "      <th>qty_asterisk_directory</th>\n",
       "      <th>qty_hashtag_directory</th>\n",
       "      <th>qty_dollar_directory</th>\n",
       "      <th>qty_percent_directory</th>\n",
       "      <th>directory_length</th>\n",
       "      <th>qty_dot_file</th>\n",
       "      <th>qty_hyphen_file</th>\n",
       "      <th>qty_underline_file</th>\n",
       "      <th>qty_slash_file</th>\n",
       "      <th>qty_questionmark_file</th>\n",
       "      <th>qty_equal_file</th>\n",
       "      <th>qty_at_file</th>\n",
       "      <th>qty_and_file</th>\n",
       "      <th>qty_exclamation_file</th>\n",
       "      <th>qty_space_file</th>\n",
       "      <th>qty_tilde_file</th>\n",
       "      <th>qty_comma_file</th>\n",
       "      <th>qty_plus_file</th>\n",
       "      <th>qty_asterisk_file</th>\n",
       "      <th>qty_hashtag_file</th>\n",
       "      <th>qty_dollar_file</th>\n",
       "      <th>qty_percent_file</th>\n",
       "      <th>file_length</th>\n",
       "      <th>qty_dot_params</th>\n",
       "      <th>qty_hyphen_params</th>\n",
       "      <th>qty_underline_params</th>\n",
       "      <th>qty_slash_params</th>\n",
       "      <th>qty_questionmark_params</th>\n",
       "      <th>qty_equal_params</th>\n",
       "      <th>qty_at_params</th>\n",
       "      <th>qty_and_params</th>\n",
       "      <th>qty_exclamation_params</th>\n",
       "      <th>qty_space_params</th>\n",
       "      <th>qty_tilde_params</th>\n",
       "      <th>qty_comma_params</th>\n",
       "      <th>qty_plus_params</th>\n",
       "      <th>qty_asterisk_params</th>\n",
       "      <th>qty_hashtag_params</th>\n",
       "      <th>qty_dollar_params</th>\n",
       "      <th>qty_percent_params</th>\n",
       "      <th>params_length</th>\n",
       "      <th>tld_present_params</th>\n",
       "      <th>qty_params</th>\n",
       "      <th>email_in_url</th>\n",
       "      <th>time_domain_activation</th>\n",
       "      <th>phishing</th>\n",
       "    </tr>\n",
       "  </thead>\n",
       "  <tbody>\n",
       "    <tr>\n",
       "      <th>0</th>\n",
       "      <td>3</td>\n",
       "      <td>0</td>\n",
       "      <td>0</td>\n",
       "      <td>1</td>\n",
       "      <td>0</td>\n",
       "      <td>0</td>\n",
       "      <td>0</td>\n",
       "      <td>0</td>\n",
       "      <td>0</td>\n",
       "      <td>0</td>\n",
       "      <td>0</td>\n",
       "      <td>0</td>\n",
       "      <td>0</td>\n",
       "      <td>0</td>\n",
       "      <td>0</td>\n",
       "      <td>0</td>\n",
       "      <td>0</td>\n",
       "      <td>1</td>\n",
       "      <td>25</td>\n",
       "      <td>2</td>\n",
       "      <td>0</td>\n",
       "      <td>0</td>\n",
       "      <td>0</td>\n",
       "      <td>0</td>\n",
       "      <td>0</td>\n",
       "      <td>0</td>\n",
       "      <td>0</td>\n",
       "      <td>0</td>\n",
       "      <td>0</td>\n",
       "      <td>0</td>\n",
       "      <td>0</td>\n",
       "      <td>0</td>\n",
       "      <td>0</td>\n",
       "      <td>0</td>\n",
       "      <td>0</td>\n",
       "      <td>0</td>\n",
       "      <td>4</td>\n",
       "      <td>17</td>\n",
       "      <td>0</td>\n",
       "      <td>0</td>\n",
       "      <td>1</td>\n",
       "      <td>0</td>\n",
       "      <td>0</td>\n",
       "      <td>1</td>\n",
       "      <td>0</td>\n",
       "      <td>0</td>\n",
       "      <td>0</td>\n",
       "      <td>0</td>\n",
       "      <td>0</td>\n",
       "      <td>0</td>\n",
       "      <td>0</td>\n",
       "      <td>0</td>\n",
       "      <td>0</td>\n",
       "      <td>0</td>\n",
       "      <td>0</td>\n",
       "      <td>0</td>\n",
       "      <td>0</td>\n",
       "      <td>8</td>\n",
       "      <td>1</td>\n",
       "      <td>0</td>\n",
       "      <td>0</td>\n",
       "      <td>0</td>\n",
       "      <td>0</td>\n",
       "      <td>0</td>\n",
       "      <td>0</td>\n",
       "      <td>0</td>\n",
       "      <td>0</td>\n",
       "      <td>0</td>\n",
       "      <td>0</td>\n",
       "      <td>0</td>\n",
       "      <td>0</td>\n",
       "      <td>0</td>\n",
       "      <td>0</td>\n",
       "      <td>0</td>\n",
       "      <td>0</td>\n",
       "      <td>7</td>\n",
       "      <td>-1</td>\n",
       "      <td>-1</td>\n",
       "      <td>-1</td>\n",
       "      <td>-1</td>\n",
       "      <td>-1</td>\n",
       "      <td>-1</td>\n",
       "      <td>-1</td>\n",
       "      <td>-1</td>\n",
       "      <td>-1</td>\n",
       "      <td>-1</td>\n",
       "      <td>-1</td>\n",
       "      <td>-1</td>\n",
       "      <td>-1</td>\n",
       "      <td>-1</td>\n",
       "      <td>-1</td>\n",
       "      <td>-1</td>\n",
       "      <td>-1</td>\n",
       "      <td>-1</td>\n",
       "      <td>-1</td>\n",
       "      <td>-1</td>\n",
       "      <td>0</td>\n",
       "      <td>-1</td>\n",
       "      <td>1</td>\n",
       "    </tr>\n",
       "    <tr>\n",
       "      <th>1</th>\n",
       "      <td>5</td>\n",
       "      <td>0</td>\n",
       "      <td>1</td>\n",
       "      <td>3</td>\n",
       "      <td>0</td>\n",
       "      <td>3</td>\n",
       "      <td>0</td>\n",
       "      <td>2</td>\n",
       "      <td>0</td>\n",
       "      <td>0</td>\n",
       "      <td>0</td>\n",
       "      <td>0</td>\n",
       "      <td>0</td>\n",
       "      <td>0</td>\n",
       "      <td>0</td>\n",
       "      <td>0</td>\n",
       "      <td>0</td>\n",
       "      <td>3</td>\n",
       "      <td>223</td>\n",
       "      <td>2</td>\n",
       "      <td>0</td>\n",
       "      <td>0</td>\n",
       "      <td>0</td>\n",
       "      <td>0</td>\n",
       "      <td>0</td>\n",
       "      <td>0</td>\n",
       "      <td>0</td>\n",
       "      <td>0</td>\n",
       "      <td>0</td>\n",
       "      <td>0</td>\n",
       "      <td>0</td>\n",
       "      <td>0</td>\n",
       "      <td>0</td>\n",
       "      <td>0</td>\n",
       "      <td>0</td>\n",
       "      <td>0</td>\n",
       "      <td>5</td>\n",
       "      <td>16</td>\n",
       "      <td>0</td>\n",
       "      <td>0</td>\n",
       "      <td>3</td>\n",
       "      <td>0</td>\n",
       "      <td>0</td>\n",
       "      <td>3</td>\n",
       "      <td>0</td>\n",
       "      <td>0</td>\n",
       "      <td>0</td>\n",
       "      <td>0</td>\n",
       "      <td>0</td>\n",
       "      <td>0</td>\n",
       "      <td>0</td>\n",
       "      <td>0</td>\n",
       "      <td>0</td>\n",
       "      <td>0</td>\n",
       "      <td>0</td>\n",
       "      <td>0</td>\n",
       "      <td>0</td>\n",
       "      <td>42</td>\n",
       "      <td>1</td>\n",
       "      <td>0</td>\n",
       "      <td>0</td>\n",
       "      <td>0</td>\n",
       "      <td>0</td>\n",
       "      <td>0</td>\n",
       "      <td>0</td>\n",
       "      <td>0</td>\n",
       "      <td>0</td>\n",
       "      <td>0</td>\n",
       "      <td>0</td>\n",
       "      <td>0</td>\n",
       "      <td>0</td>\n",
       "      <td>0</td>\n",
       "      <td>0</td>\n",
       "      <td>0</td>\n",
       "      <td>0</td>\n",
       "      <td>9</td>\n",
       "      <td>0</td>\n",
       "      <td>0</td>\n",
       "      <td>1</td>\n",
       "      <td>0</td>\n",
       "      <td>0</td>\n",
       "      <td>3</td>\n",
       "      <td>0</td>\n",
       "      <td>2</td>\n",
       "      <td>0</td>\n",
       "      <td>0</td>\n",
       "      <td>0</td>\n",
       "      <td>0</td>\n",
       "      <td>0</td>\n",
       "      <td>0</td>\n",
       "      <td>0</td>\n",
       "      <td>0</td>\n",
       "      <td>0</td>\n",
       "      <td>165</td>\n",
       "      <td>0</td>\n",
       "      <td>3</td>\n",
       "      <td>0</td>\n",
       "      <td>579</td>\n",
       "      <td>1</td>\n",
       "    </tr>\n",
       "    <tr>\n",
       "      <th>2</th>\n",
       "      <td>2</td>\n",
       "      <td>0</td>\n",
       "      <td>0</td>\n",
       "      <td>1</td>\n",
       "      <td>0</td>\n",
       "      <td>0</td>\n",
       "      <td>0</td>\n",
       "      <td>0</td>\n",
       "      <td>0</td>\n",
       "      <td>0</td>\n",
       "      <td>0</td>\n",
       "      <td>0</td>\n",
       "      <td>0</td>\n",
       "      <td>0</td>\n",
       "      <td>0</td>\n",
       "      <td>0</td>\n",
       "      <td>0</td>\n",
       "      <td>1</td>\n",
       "      <td>15</td>\n",
       "      <td>2</td>\n",
       "      <td>0</td>\n",
       "      <td>0</td>\n",
       "      <td>0</td>\n",
       "      <td>0</td>\n",
       "      <td>0</td>\n",
       "      <td>0</td>\n",
       "      <td>0</td>\n",
       "      <td>0</td>\n",
       "      <td>0</td>\n",
       "      <td>0</td>\n",
       "      <td>0</td>\n",
       "      <td>0</td>\n",
       "      <td>0</td>\n",
       "      <td>0</td>\n",
       "      <td>0</td>\n",
       "      <td>0</td>\n",
       "      <td>3</td>\n",
       "      <td>14</td>\n",
       "      <td>0</td>\n",
       "      <td>0</td>\n",
       "      <td>0</td>\n",
       "      <td>0</td>\n",
       "      <td>0</td>\n",
       "      <td>1</td>\n",
       "      <td>0</td>\n",
       "      <td>0</td>\n",
       "      <td>0</td>\n",
       "      <td>0</td>\n",
       "      <td>0</td>\n",
       "      <td>0</td>\n",
       "      <td>0</td>\n",
       "      <td>0</td>\n",
       "      <td>0</td>\n",
       "      <td>0</td>\n",
       "      <td>0</td>\n",
       "      <td>0</td>\n",
       "      <td>0</td>\n",
       "      <td>1</td>\n",
       "      <td>0</td>\n",
       "      <td>0</td>\n",
       "      <td>0</td>\n",
       "      <td>0</td>\n",
       "      <td>0</td>\n",
       "      <td>0</td>\n",
       "      <td>0</td>\n",
       "      <td>0</td>\n",
       "      <td>0</td>\n",
       "      <td>0</td>\n",
       "      <td>0</td>\n",
       "      <td>0</td>\n",
       "      <td>0</td>\n",
       "      <td>0</td>\n",
       "      <td>0</td>\n",
       "      <td>0</td>\n",
       "      <td>0</td>\n",
       "      <td>0</td>\n",
       "      <td>-1</td>\n",
       "      <td>-1</td>\n",
       "      <td>-1</td>\n",
       "      <td>-1</td>\n",
       "      <td>-1</td>\n",
       "      <td>-1</td>\n",
       "      <td>-1</td>\n",
       "      <td>-1</td>\n",
       "      <td>-1</td>\n",
       "      <td>-1</td>\n",
       "      <td>-1</td>\n",
       "      <td>-1</td>\n",
       "      <td>-1</td>\n",
       "      <td>-1</td>\n",
       "      <td>-1</td>\n",
       "      <td>-1</td>\n",
       "      <td>-1</td>\n",
       "      <td>-1</td>\n",
       "      <td>-1</td>\n",
       "      <td>-1</td>\n",
       "      <td>0</td>\n",
       "      <td>-1</td>\n",
       "      <td>0</td>\n",
       "    </tr>\n",
       "    <tr>\n",
       "      <th>3</th>\n",
       "      <td>4</td>\n",
       "      <td>0</td>\n",
       "      <td>2</td>\n",
       "      <td>5</td>\n",
       "      <td>0</td>\n",
       "      <td>0</td>\n",
       "      <td>0</td>\n",
       "      <td>0</td>\n",
       "      <td>0</td>\n",
       "      <td>0</td>\n",
       "      <td>0</td>\n",
       "      <td>0</td>\n",
       "      <td>0</td>\n",
       "      <td>0</td>\n",
       "      <td>0</td>\n",
       "      <td>0</td>\n",
       "      <td>0</td>\n",
       "      <td>1</td>\n",
       "      <td>81</td>\n",
       "      <td>2</td>\n",
       "      <td>0</td>\n",
       "      <td>0</td>\n",
       "      <td>0</td>\n",
       "      <td>0</td>\n",
       "      <td>0</td>\n",
       "      <td>0</td>\n",
       "      <td>0</td>\n",
       "      <td>0</td>\n",
       "      <td>0</td>\n",
       "      <td>0</td>\n",
       "      <td>0</td>\n",
       "      <td>0</td>\n",
       "      <td>0</td>\n",
       "      <td>0</td>\n",
       "      <td>0</td>\n",
       "      <td>0</td>\n",
       "      <td>7</td>\n",
       "      <td>19</td>\n",
       "      <td>0</td>\n",
       "      <td>0</td>\n",
       "      <td>2</td>\n",
       "      <td>0</td>\n",
       "      <td>2</td>\n",
       "      <td>5</td>\n",
       "      <td>0</td>\n",
       "      <td>0</td>\n",
       "      <td>0</td>\n",
       "      <td>0</td>\n",
       "      <td>0</td>\n",
       "      <td>0</td>\n",
       "      <td>0</td>\n",
       "      <td>0</td>\n",
       "      <td>0</td>\n",
       "      <td>0</td>\n",
       "      <td>0</td>\n",
       "      <td>0</td>\n",
       "      <td>0</td>\n",
       "      <td>62</td>\n",
       "      <td>1</td>\n",
       "      <td>0</td>\n",
       "      <td>0</td>\n",
       "      <td>0</td>\n",
       "      <td>0</td>\n",
       "      <td>0</td>\n",
       "      <td>0</td>\n",
       "      <td>0</td>\n",
       "      <td>0</td>\n",
       "      <td>0</td>\n",
       "      <td>0</td>\n",
       "      <td>0</td>\n",
       "      <td>0</td>\n",
       "      <td>0</td>\n",
       "      <td>0</td>\n",
       "      <td>0</td>\n",
       "      <td>0</td>\n",
       "      <td>9</td>\n",
       "      <td>-1</td>\n",
       "      <td>-1</td>\n",
       "      <td>-1</td>\n",
       "      <td>-1</td>\n",
       "      <td>-1</td>\n",
       "      <td>-1</td>\n",
       "      <td>-1</td>\n",
       "      <td>-1</td>\n",
       "      <td>-1</td>\n",
       "      <td>-1</td>\n",
       "      <td>-1</td>\n",
       "      <td>-1</td>\n",
       "      <td>-1</td>\n",
       "      <td>-1</td>\n",
       "      <td>-1</td>\n",
       "      <td>-1</td>\n",
       "      <td>-1</td>\n",
       "      <td>-1</td>\n",
       "      <td>-1</td>\n",
       "      <td>-1</td>\n",
       "      <td>0</td>\n",
       "      <td>-1</td>\n",
       "      <td>1</td>\n",
       "    </tr>\n",
       "    <tr>\n",
       "      <th>4</th>\n",
       "      <td>2</td>\n",
       "      <td>0</td>\n",
       "      <td>0</td>\n",
       "      <td>0</td>\n",
       "      <td>0</td>\n",
       "      <td>0</td>\n",
       "      <td>0</td>\n",
       "      <td>0</td>\n",
       "      <td>0</td>\n",
       "      <td>0</td>\n",
       "      <td>0</td>\n",
       "      <td>0</td>\n",
       "      <td>0</td>\n",
       "      <td>0</td>\n",
       "      <td>0</td>\n",
       "      <td>0</td>\n",
       "      <td>0</td>\n",
       "      <td>1</td>\n",
       "      <td>19</td>\n",
       "      <td>2</td>\n",
       "      <td>0</td>\n",
       "      <td>0</td>\n",
       "      <td>0</td>\n",
       "      <td>0</td>\n",
       "      <td>0</td>\n",
       "      <td>0</td>\n",
       "      <td>0</td>\n",
       "      <td>0</td>\n",
       "      <td>0</td>\n",
       "      <td>0</td>\n",
       "      <td>0</td>\n",
       "      <td>0</td>\n",
       "      <td>0</td>\n",
       "      <td>0</td>\n",
       "      <td>0</td>\n",
       "      <td>0</td>\n",
       "      <td>5</td>\n",
       "      <td>19</td>\n",
       "      <td>0</td>\n",
       "      <td>0</td>\n",
       "      <td>-1</td>\n",
       "      <td>-1</td>\n",
       "      <td>-1</td>\n",
       "      <td>-1</td>\n",
       "      <td>-1</td>\n",
       "      <td>-1</td>\n",
       "      <td>-1</td>\n",
       "      <td>-1</td>\n",
       "      <td>-1</td>\n",
       "      <td>-1</td>\n",
       "      <td>-1</td>\n",
       "      <td>-1</td>\n",
       "      <td>-1</td>\n",
       "      <td>-1</td>\n",
       "      <td>-1</td>\n",
       "      <td>-1</td>\n",
       "      <td>-1</td>\n",
       "      <td>-1</td>\n",
       "      <td>-1</td>\n",
       "      <td>-1</td>\n",
       "      <td>-1</td>\n",
       "      <td>-1</td>\n",
       "      <td>-1</td>\n",
       "      <td>-1</td>\n",
       "      <td>-1</td>\n",
       "      <td>-1</td>\n",
       "      <td>-1</td>\n",
       "      <td>-1</td>\n",
       "      <td>-1</td>\n",
       "      <td>-1</td>\n",
       "      <td>-1</td>\n",
       "      <td>-1</td>\n",
       "      <td>-1</td>\n",
       "      <td>-1</td>\n",
       "      <td>-1</td>\n",
       "      <td>-1</td>\n",
       "      <td>-1</td>\n",
       "      <td>-1</td>\n",
       "      <td>-1</td>\n",
       "      <td>-1</td>\n",
       "      <td>-1</td>\n",
       "      <td>-1</td>\n",
       "      <td>-1</td>\n",
       "      <td>-1</td>\n",
       "      <td>-1</td>\n",
       "      <td>-1</td>\n",
       "      <td>-1</td>\n",
       "      <td>-1</td>\n",
       "      <td>-1</td>\n",
       "      <td>-1</td>\n",
       "      <td>-1</td>\n",
       "      <td>-1</td>\n",
       "      <td>-1</td>\n",
       "      <td>-1</td>\n",
       "      <td>-1</td>\n",
       "      <td>-1</td>\n",
       "      <td>0</td>\n",
       "      <td>6998</td>\n",
       "      <td>0</td>\n",
       "    </tr>\n",
       "    <tr>\n",
       "      <th>...</th>\n",
       "      <td>...</td>\n",
       "      <td>...</td>\n",
       "      <td>...</td>\n",
       "      <td>...</td>\n",
       "      <td>...</td>\n",
       "      <td>...</td>\n",
       "      <td>...</td>\n",
       "      <td>...</td>\n",
       "      <td>...</td>\n",
       "      <td>...</td>\n",
       "      <td>...</td>\n",
       "      <td>...</td>\n",
       "      <td>...</td>\n",
       "      <td>...</td>\n",
       "      <td>...</td>\n",
       "      <td>...</td>\n",
       "      <td>...</td>\n",
       "      <td>...</td>\n",
       "      <td>...</td>\n",
       "      <td>...</td>\n",
       "      <td>...</td>\n",
       "      <td>...</td>\n",
       "      <td>...</td>\n",
       "      <td>...</td>\n",
       "      <td>...</td>\n",
       "      <td>...</td>\n",
       "      <td>...</td>\n",
       "      <td>...</td>\n",
       "      <td>...</td>\n",
       "      <td>...</td>\n",
       "      <td>...</td>\n",
       "      <td>...</td>\n",
       "      <td>...</td>\n",
       "      <td>...</td>\n",
       "      <td>...</td>\n",
       "      <td>...</td>\n",
       "      <td>...</td>\n",
       "      <td>...</td>\n",
       "      <td>...</td>\n",
       "      <td>...</td>\n",
       "      <td>...</td>\n",
       "      <td>...</td>\n",
       "      <td>...</td>\n",
       "      <td>...</td>\n",
       "      <td>...</td>\n",
       "      <td>...</td>\n",
       "      <td>...</td>\n",
       "      <td>...</td>\n",
       "      <td>...</td>\n",
       "      <td>...</td>\n",
       "      <td>...</td>\n",
       "      <td>...</td>\n",
       "      <td>...</td>\n",
       "      <td>...</td>\n",
       "      <td>...</td>\n",
       "      <td>...</td>\n",
       "      <td>...</td>\n",
       "      <td>...</td>\n",
       "      <td>...</td>\n",
       "      <td>...</td>\n",
       "      <td>...</td>\n",
       "      <td>...</td>\n",
       "      <td>...</td>\n",
       "      <td>...</td>\n",
       "      <td>...</td>\n",
       "      <td>...</td>\n",
       "      <td>...</td>\n",
       "      <td>...</td>\n",
       "      <td>...</td>\n",
       "      <td>...</td>\n",
       "      <td>...</td>\n",
       "      <td>...</td>\n",
       "      <td>...</td>\n",
       "      <td>...</td>\n",
       "      <td>...</td>\n",
       "      <td>...</td>\n",
       "      <td>...</td>\n",
       "      <td>...</td>\n",
       "      <td>...</td>\n",
       "      <td>...</td>\n",
       "      <td>...</td>\n",
       "      <td>...</td>\n",
       "      <td>...</td>\n",
       "      <td>...</td>\n",
       "      <td>...</td>\n",
       "      <td>...</td>\n",
       "      <td>...</td>\n",
       "      <td>...</td>\n",
       "      <td>...</td>\n",
       "      <td>...</td>\n",
       "      <td>...</td>\n",
       "      <td>...</td>\n",
       "      <td>...</td>\n",
       "      <td>...</td>\n",
       "      <td>...</td>\n",
       "      <td>...</td>\n",
       "      <td>...</td>\n",
       "      <td>...</td>\n",
       "      <td>...</td>\n",
       "    </tr>\n",
       "    <tr>\n",
       "      <th>88642</th>\n",
       "      <td>3</td>\n",
       "      <td>1</td>\n",
       "      <td>0</td>\n",
       "      <td>0</td>\n",
       "      <td>0</td>\n",
       "      <td>0</td>\n",
       "      <td>0</td>\n",
       "      <td>0</td>\n",
       "      <td>0</td>\n",
       "      <td>0</td>\n",
       "      <td>0</td>\n",
       "      <td>0</td>\n",
       "      <td>0</td>\n",
       "      <td>0</td>\n",
       "      <td>0</td>\n",
       "      <td>0</td>\n",
       "      <td>0</td>\n",
       "      <td>2</td>\n",
       "      <td>23</td>\n",
       "      <td>3</td>\n",
       "      <td>1</td>\n",
       "      <td>0</td>\n",
       "      <td>0</td>\n",
       "      <td>0</td>\n",
       "      <td>0</td>\n",
       "      <td>0</td>\n",
       "      <td>0</td>\n",
       "      <td>0</td>\n",
       "      <td>0</td>\n",
       "      <td>0</td>\n",
       "      <td>0</td>\n",
       "      <td>0</td>\n",
       "      <td>0</td>\n",
       "      <td>0</td>\n",
       "      <td>0</td>\n",
       "      <td>0</td>\n",
       "      <td>5</td>\n",
       "      <td>23</td>\n",
       "      <td>0</td>\n",
       "      <td>0</td>\n",
       "      <td>-1</td>\n",
       "      <td>-1</td>\n",
       "      <td>-1</td>\n",
       "      <td>-1</td>\n",
       "      <td>-1</td>\n",
       "      <td>-1</td>\n",
       "      <td>-1</td>\n",
       "      <td>-1</td>\n",
       "      <td>-1</td>\n",
       "      <td>-1</td>\n",
       "      <td>-1</td>\n",
       "      <td>-1</td>\n",
       "      <td>-1</td>\n",
       "      <td>-1</td>\n",
       "      <td>-1</td>\n",
       "      <td>-1</td>\n",
       "      <td>-1</td>\n",
       "      <td>-1</td>\n",
       "      <td>-1</td>\n",
       "      <td>-1</td>\n",
       "      <td>-1</td>\n",
       "      <td>-1</td>\n",
       "      <td>-1</td>\n",
       "      <td>-1</td>\n",
       "      <td>-1</td>\n",
       "      <td>-1</td>\n",
       "      <td>-1</td>\n",
       "      <td>-1</td>\n",
       "      <td>-1</td>\n",
       "      <td>-1</td>\n",
       "      <td>-1</td>\n",
       "      <td>-1</td>\n",
       "      <td>-1</td>\n",
       "      <td>-1</td>\n",
       "      <td>-1</td>\n",
       "      <td>-1</td>\n",
       "      <td>-1</td>\n",
       "      <td>-1</td>\n",
       "      <td>-1</td>\n",
       "      <td>-1</td>\n",
       "      <td>-1</td>\n",
       "      <td>-1</td>\n",
       "      <td>-1</td>\n",
       "      <td>-1</td>\n",
       "      <td>-1</td>\n",
       "      <td>-1</td>\n",
       "      <td>-1</td>\n",
       "      <td>-1</td>\n",
       "      <td>-1</td>\n",
       "      <td>-1</td>\n",
       "      <td>-1</td>\n",
       "      <td>-1</td>\n",
       "      <td>-1</td>\n",
       "      <td>-1</td>\n",
       "      <td>-1</td>\n",
       "      <td>-1</td>\n",
       "      <td>0</td>\n",
       "      <td>5509</td>\n",
       "      <td>0</td>\n",
       "    </tr>\n",
       "    <tr>\n",
       "      <th>88643</th>\n",
       "      <td>2</td>\n",
       "      <td>0</td>\n",
       "      <td>0</td>\n",
       "      <td>0</td>\n",
       "      <td>0</td>\n",
       "      <td>0</td>\n",
       "      <td>0</td>\n",
       "      <td>0</td>\n",
       "      <td>0</td>\n",
       "      <td>0</td>\n",
       "      <td>0</td>\n",
       "      <td>0</td>\n",
       "      <td>0</td>\n",
       "      <td>0</td>\n",
       "      <td>0</td>\n",
       "      <td>0</td>\n",
       "      <td>0</td>\n",
       "      <td>1</td>\n",
       "      <td>34</td>\n",
       "      <td>2</td>\n",
       "      <td>0</td>\n",
       "      <td>0</td>\n",
       "      <td>0</td>\n",
       "      <td>0</td>\n",
       "      <td>0</td>\n",
       "      <td>0</td>\n",
       "      <td>0</td>\n",
       "      <td>0</td>\n",
       "      <td>0</td>\n",
       "      <td>0</td>\n",
       "      <td>0</td>\n",
       "      <td>0</td>\n",
       "      <td>0</td>\n",
       "      <td>0</td>\n",
       "      <td>0</td>\n",
       "      <td>0</td>\n",
       "      <td>14</td>\n",
       "      <td>34</td>\n",
       "      <td>0</td>\n",
       "      <td>0</td>\n",
       "      <td>-1</td>\n",
       "      <td>-1</td>\n",
       "      <td>-1</td>\n",
       "      <td>-1</td>\n",
       "      <td>-1</td>\n",
       "      <td>-1</td>\n",
       "      <td>-1</td>\n",
       "      <td>-1</td>\n",
       "      <td>-1</td>\n",
       "      <td>-1</td>\n",
       "      <td>-1</td>\n",
       "      <td>-1</td>\n",
       "      <td>-1</td>\n",
       "      <td>-1</td>\n",
       "      <td>-1</td>\n",
       "      <td>-1</td>\n",
       "      <td>-1</td>\n",
       "      <td>-1</td>\n",
       "      <td>-1</td>\n",
       "      <td>-1</td>\n",
       "      <td>-1</td>\n",
       "      <td>-1</td>\n",
       "      <td>-1</td>\n",
       "      <td>-1</td>\n",
       "      <td>-1</td>\n",
       "      <td>-1</td>\n",
       "      <td>-1</td>\n",
       "      <td>-1</td>\n",
       "      <td>-1</td>\n",
       "      <td>-1</td>\n",
       "      <td>-1</td>\n",
       "      <td>-1</td>\n",
       "      <td>-1</td>\n",
       "      <td>-1</td>\n",
       "      <td>-1</td>\n",
       "      <td>-1</td>\n",
       "      <td>-1</td>\n",
       "      <td>-1</td>\n",
       "      <td>-1</td>\n",
       "      <td>-1</td>\n",
       "      <td>-1</td>\n",
       "      <td>-1</td>\n",
       "      <td>-1</td>\n",
       "      <td>-1</td>\n",
       "      <td>-1</td>\n",
       "      <td>-1</td>\n",
       "      <td>-1</td>\n",
       "      <td>-1</td>\n",
       "      <td>-1</td>\n",
       "      <td>-1</td>\n",
       "      <td>-1</td>\n",
       "      <td>-1</td>\n",
       "      <td>-1</td>\n",
       "      <td>-1</td>\n",
       "      <td>-1</td>\n",
       "      <td>-1</td>\n",
       "      <td>0</td>\n",
       "      <td>5046</td>\n",
       "      <td>0</td>\n",
       "    </tr>\n",
       "    <tr>\n",
       "      <th>88644</th>\n",
       "      <td>2</td>\n",
       "      <td>1</td>\n",
       "      <td>0</td>\n",
       "      <td>5</td>\n",
       "      <td>0</td>\n",
       "      <td>0</td>\n",
       "      <td>0</td>\n",
       "      <td>0</td>\n",
       "      <td>0</td>\n",
       "      <td>0</td>\n",
       "      <td>0</td>\n",
       "      <td>0</td>\n",
       "      <td>0</td>\n",
       "      <td>0</td>\n",
       "      <td>0</td>\n",
       "      <td>0</td>\n",
       "      <td>0</td>\n",
       "      <td>1</td>\n",
       "      <td>70</td>\n",
       "      <td>1</td>\n",
       "      <td>0</td>\n",
       "      <td>0</td>\n",
       "      <td>0</td>\n",
       "      <td>0</td>\n",
       "      <td>0</td>\n",
       "      <td>0</td>\n",
       "      <td>0</td>\n",
       "      <td>0</td>\n",
       "      <td>0</td>\n",
       "      <td>0</td>\n",
       "      <td>0</td>\n",
       "      <td>0</td>\n",
       "      <td>0</td>\n",
       "      <td>0</td>\n",
       "      <td>0</td>\n",
       "      <td>0</td>\n",
       "      <td>6</td>\n",
       "      <td>22</td>\n",
       "      <td>0</td>\n",
       "      <td>0</td>\n",
       "      <td>1</td>\n",
       "      <td>1</td>\n",
       "      <td>0</td>\n",
       "      <td>5</td>\n",
       "      <td>0</td>\n",
       "      <td>0</td>\n",
       "      <td>0</td>\n",
       "      <td>0</td>\n",
       "      <td>0</td>\n",
       "      <td>0</td>\n",
       "      <td>0</td>\n",
       "      <td>0</td>\n",
       "      <td>0</td>\n",
       "      <td>0</td>\n",
       "      <td>0</td>\n",
       "      <td>0</td>\n",
       "      <td>0</td>\n",
       "      <td>48</td>\n",
       "      <td>1</td>\n",
       "      <td>0</td>\n",
       "      <td>0</td>\n",
       "      <td>0</td>\n",
       "      <td>0</td>\n",
       "      <td>0</td>\n",
       "      <td>0</td>\n",
       "      <td>0</td>\n",
       "      <td>0</td>\n",
       "      <td>0</td>\n",
       "      <td>0</td>\n",
       "      <td>0</td>\n",
       "      <td>0</td>\n",
       "      <td>0</td>\n",
       "      <td>0</td>\n",
       "      <td>0</td>\n",
       "      <td>0</td>\n",
       "      <td>11</td>\n",
       "      <td>-1</td>\n",
       "      <td>-1</td>\n",
       "      <td>-1</td>\n",
       "      <td>-1</td>\n",
       "      <td>-1</td>\n",
       "      <td>-1</td>\n",
       "      <td>-1</td>\n",
       "      <td>-1</td>\n",
       "      <td>-1</td>\n",
       "      <td>-1</td>\n",
       "      <td>-1</td>\n",
       "      <td>-1</td>\n",
       "      <td>-1</td>\n",
       "      <td>-1</td>\n",
       "      <td>-1</td>\n",
       "      <td>-1</td>\n",
       "      <td>-1</td>\n",
       "      <td>-1</td>\n",
       "      <td>-1</td>\n",
       "      <td>-1</td>\n",
       "      <td>0</td>\n",
       "      <td>1844</td>\n",
       "      <td>1</td>\n",
       "    </tr>\n",
       "    <tr>\n",
       "      <th>88645</th>\n",
       "      <td>2</td>\n",
       "      <td>0</td>\n",
       "      <td>0</td>\n",
       "      <td>1</td>\n",
       "      <td>0</td>\n",
       "      <td>0</td>\n",
       "      <td>0</td>\n",
       "      <td>0</td>\n",
       "      <td>0</td>\n",
       "      <td>0</td>\n",
       "      <td>0</td>\n",
       "      <td>0</td>\n",
       "      <td>0</td>\n",
       "      <td>0</td>\n",
       "      <td>0</td>\n",
       "      <td>0</td>\n",
       "      <td>0</td>\n",
       "      <td>1</td>\n",
       "      <td>28</td>\n",
       "      <td>2</td>\n",
       "      <td>0</td>\n",
       "      <td>0</td>\n",
       "      <td>0</td>\n",
       "      <td>0</td>\n",
       "      <td>0</td>\n",
       "      <td>0</td>\n",
       "      <td>0</td>\n",
       "      <td>0</td>\n",
       "      <td>0</td>\n",
       "      <td>0</td>\n",
       "      <td>0</td>\n",
       "      <td>0</td>\n",
       "      <td>0</td>\n",
       "      <td>0</td>\n",
       "      <td>0</td>\n",
       "      <td>0</td>\n",
       "      <td>5</td>\n",
       "      <td>27</td>\n",
       "      <td>0</td>\n",
       "      <td>0</td>\n",
       "      <td>0</td>\n",
       "      <td>0</td>\n",
       "      <td>0</td>\n",
       "      <td>1</td>\n",
       "      <td>0</td>\n",
       "      <td>0</td>\n",
       "      <td>0</td>\n",
       "      <td>0</td>\n",
       "      <td>0</td>\n",
       "      <td>0</td>\n",
       "      <td>0</td>\n",
       "      <td>0</td>\n",
       "      <td>0</td>\n",
       "      <td>0</td>\n",
       "      <td>0</td>\n",
       "      <td>0</td>\n",
       "      <td>0</td>\n",
       "      <td>1</td>\n",
       "      <td>0</td>\n",
       "      <td>0</td>\n",
       "      <td>0</td>\n",
       "      <td>0</td>\n",
       "      <td>0</td>\n",
       "      <td>0</td>\n",
       "      <td>0</td>\n",
       "      <td>0</td>\n",
       "      <td>0</td>\n",
       "      <td>0</td>\n",
       "      <td>0</td>\n",
       "      <td>0</td>\n",
       "      <td>0</td>\n",
       "      <td>0</td>\n",
       "      <td>0</td>\n",
       "      <td>0</td>\n",
       "      <td>0</td>\n",
       "      <td>0</td>\n",
       "      <td>-1</td>\n",
       "      <td>-1</td>\n",
       "      <td>-1</td>\n",
       "      <td>-1</td>\n",
       "      <td>-1</td>\n",
       "      <td>-1</td>\n",
       "      <td>-1</td>\n",
       "      <td>-1</td>\n",
       "      <td>-1</td>\n",
       "      <td>-1</td>\n",
       "      <td>-1</td>\n",
       "      <td>-1</td>\n",
       "      <td>-1</td>\n",
       "      <td>-1</td>\n",
       "      <td>-1</td>\n",
       "      <td>-1</td>\n",
       "      <td>-1</td>\n",
       "      <td>-1</td>\n",
       "      <td>-1</td>\n",
       "      <td>-1</td>\n",
       "      <td>0</td>\n",
       "      <td>-1</td>\n",
       "      <td>1</td>\n",
       "    </tr>\n",
       "    <tr>\n",
       "      <th>88646</th>\n",
       "      <td>2</td>\n",
       "      <td>0</td>\n",
       "      <td>0</td>\n",
       "      <td>0</td>\n",
       "      <td>0</td>\n",
       "      <td>0</td>\n",
       "      <td>0</td>\n",
       "      <td>0</td>\n",
       "      <td>0</td>\n",
       "      <td>0</td>\n",
       "      <td>0</td>\n",
       "      <td>0</td>\n",
       "      <td>0</td>\n",
       "      <td>0</td>\n",
       "      <td>0</td>\n",
       "      <td>0</td>\n",
       "      <td>0</td>\n",
       "      <td>1</td>\n",
       "      <td>16</td>\n",
       "      <td>2</td>\n",
       "      <td>0</td>\n",
       "      <td>0</td>\n",
       "      <td>0</td>\n",
       "      <td>0</td>\n",
       "      <td>0</td>\n",
       "      <td>0</td>\n",
       "      <td>0</td>\n",
       "      <td>0</td>\n",
       "      <td>0</td>\n",
       "      <td>0</td>\n",
       "      <td>0</td>\n",
       "      <td>0</td>\n",
       "      <td>0</td>\n",
       "      <td>0</td>\n",
       "      <td>0</td>\n",
       "      <td>0</td>\n",
       "      <td>4</td>\n",
       "      <td>16</td>\n",
       "      <td>0</td>\n",
       "      <td>0</td>\n",
       "      <td>-1</td>\n",
       "      <td>-1</td>\n",
       "      <td>-1</td>\n",
       "      <td>-1</td>\n",
       "      <td>-1</td>\n",
       "      <td>-1</td>\n",
       "      <td>-1</td>\n",
       "      <td>-1</td>\n",
       "      <td>-1</td>\n",
       "      <td>-1</td>\n",
       "      <td>-1</td>\n",
       "      <td>-1</td>\n",
       "      <td>-1</td>\n",
       "      <td>-1</td>\n",
       "      <td>-1</td>\n",
       "      <td>-1</td>\n",
       "      <td>-1</td>\n",
       "      <td>-1</td>\n",
       "      <td>-1</td>\n",
       "      <td>-1</td>\n",
       "      <td>-1</td>\n",
       "      <td>-1</td>\n",
       "      <td>-1</td>\n",
       "      <td>-1</td>\n",
       "      <td>-1</td>\n",
       "      <td>-1</td>\n",
       "      <td>-1</td>\n",
       "      <td>-1</td>\n",
       "      <td>-1</td>\n",
       "      <td>-1</td>\n",
       "      <td>-1</td>\n",
       "      <td>-1</td>\n",
       "      <td>-1</td>\n",
       "      <td>-1</td>\n",
       "      <td>-1</td>\n",
       "      <td>-1</td>\n",
       "      <td>-1</td>\n",
       "      <td>-1</td>\n",
       "      <td>-1</td>\n",
       "      <td>-1</td>\n",
       "      <td>-1</td>\n",
       "      <td>-1</td>\n",
       "      <td>-1</td>\n",
       "      <td>-1</td>\n",
       "      <td>-1</td>\n",
       "      <td>-1</td>\n",
       "      <td>-1</td>\n",
       "      <td>-1</td>\n",
       "      <td>-1</td>\n",
       "      <td>-1</td>\n",
       "      <td>-1</td>\n",
       "      <td>-1</td>\n",
       "      <td>-1</td>\n",
       "      <td>-1</td>\n",
       "      <td>-1</td>\n",
       "      <td>-1</td>\n",
       "      <td>0</td>\n",
       "      <td>300</td>\n",
       "      <td>0</td>\n",
       "    </tr>\n",
       "  </tbody>\n",
       "</table>\n",
       "<p>88647 rows × 99 columns</p>\n",
       "</div>"
      ],
      "text/plain": [
       "       qty_dot_url  qty_hyphen_url  qty_underline_url  qty_slash_url  \\\n",
       "0                3               0                  0              1   \n",
       "1                5               0                  1              3   \n",
       "2                2               0                  0              1   \n",
       "3                4               0                  2              5   \n",
       "4                2               0                  0              0   \n",
       "...            ...             ...                ...            ...   \n",
       "88642            3               1                  0              0   \n",
       "88643            2               0                  0              0   \n",
       "88644            2               1                  0              5   \n",
       "88645            2               0                  0              1   \n",
       "88646            2               0                  0              0   \n",
       "\n",
       "       qty_questionmark_url  qty_equal_url  qty_at_url  qty_and_url  \\\n",
       "0                         0              0           0            0   \n",
       "1                         0              3           0            2   \n",
       "2                         0              0           0            0   \n",
       "3                         0              0           0            0   \n",
       "4                         0              0           0            0   \n",
       "...                     ...            ...         ...          ...   \n",
       "88642                     0              0           0            0   \n",
       "88643                     0              0           0            0   \n",
       "88644                     0              0           0            0   \n",
       "88645                     0              0           0            0   \n",
       "88646                     0              0           0            0   \n",
       "\n",
       "       qty_exclamation_url  qty_space_url  qty_tilde_url  qty_comma_url  \\\n",
       "0                        0              0              0              0   \n",
       "1                        0              0              0              0   \n",
       "2                        0              0              0              0   \n",
       "3                        0              0              0              0   \n",
       "4                        0              0              0              0   \n",
       "...                    ...            ...            ...            ...   \n",
       "88642                    0              0              0              0   \n",
       "88643                    0              0              0              0   \n",
       "88644                    0              0              0              0   \n",
       "88645                    0              0              0              0   \n",
       "88646                    0              0              0              0   \n",
       "\n",
       "       qty_plus_url  qty_asterisk_url  qty_hashtag_url  qty_dollar_url  \\\n",
       "0                 0                 0                0               0   \n",
       "1                 0                 0                0               0   \n",
       "2                 0                 0                0               0   \n",
       "3                 0                 0                0               0   \n",
       "4                 0                 0                0               0   \n",
       "...             ...               ...              ...             ...   \n",
       "88642             0                 0                0               0   \n",
       "88643             0                 0                0               0   \n",
       "88644             0                 0                0               0   \n",
       "88645             0                 0                0               0   \n",
       "88646             0                 0                0               0   \n",
       "\n",
       "       qty_percent_url  qty_tld_url  length_url  qty_dot_domain  \\\n",
       "0                    0            1          25               2   \n",
       "1                    0            3         223               2   \n",
       "2                    0            1          15               2   \n",
       "3                    0            1          81               2   \n",
       "4                    0            1          19               2   \n",
       "...                ...          ...         ...             ...   \n",
       "88642                0            2          23               3   \n",
       "88643                0            1          34               2   \n",
       "88644                0            1          70               1   \n",
       "88645                0            1          28               2   \n",
       "88646                0            1          16               2   \n",
       "\n",
       "       qty_hyphen_domain  qty_underline_domain  qty_slash_domain  \\\n",
       "0                      0                     0                 0   \n",
       "1                      0                     0                 0   \n",
       "2                      0                     0                 0   \n",
       "3                      0                     0                 0   \n",
       "4                      0                     0                 0   \n",
       "...                  ...                   ...               ...   \n",
       "88642                  1                     0                 0   \n",
       "88643                  0                     0                 0   \n",
       "88644                  0                     0                 0   \n",
       "88645                  0                     0                 0   \n",
       "88646                  0                     0                 0   \n",
       "\n",
       "       qty_questionmark_domain  qty_equal_domain  qty_at_domain  \\\n",
       "0                            0                 0              0   \n",
       "1                            0                 0              0   \n",
       "2                            0                 0              0   \n",
       "3                            0                 0              0   \n",
       "4                            0                 0              0   \n",
       "...                        ...               ...            ...   \n",
       "88642                        0                 0              0   \n",
       "88643                        0                 0              0   \n",
       "88644                        0                 0              0   \n",
       "88645                        0                 0              0   \n",
       "88646                        0                 0              0   \n",
       "\n",
       "       qty_and_domain  qty_exclamation_domain  qty_space_domain  \\\n",
       "0                   0                       0                 0   \n",
       "1                   0                       0                 0   \n",
       "2                   0                       0                 0   \n",
       "3                   0                       0                 0   \n",
       "4                   0                       0                 0   \n",
       "...               ...                     ...               ...   \n",
       "88642               0                       0                 0   \n",
       "88643               0                       0                 0   \n",
       "88644               0                       0                 0   \n",
       "88645               0                       0                 0   \n",
       "88646               0                       0                 0   \n",
       "\n",
       "       qty_tilde_domain  qty_comma_domain  qty_plus_domain  \\\n",
       "0                     0                 0                0   \n",
       "1                     0                 0                0   \n",
       "2                     0                 0                0   \n",
       "3                     0                 0                0   \n",
       "4                     0                 0                0   \n",
       "...                 ...               ...              ...   \n",
       "88642                 0                 0                0   \n",
       "88643                 0                 0                0   \n",
       "88644                 0                 0                0   \n",
       "88645                 0                 0                0   \n",
       "88646                 0                 0                0   \n",
       "\n",
       "       qty_asterisk_domain  qty_hashtag_domain  qty_dollar_domain  \\\n",
       "0                        0                   0                  0   \n",
       "1                        0                   0                  0   \n",
       "2                        0                   0                  0   \n",
       "3                        0                   0                  0   \n",
       "4                        0                   0                  0   \n",
       "...                    ...                 ...                ...   \n",
       "88642                    0                   0                  0   \n",
       "88643                    0                   0                  0   \n",
       "88644                    0                   0                  0   \n",
       "88645                    0                   0                  0   \n",
       "88646                    0                   0                  0   \n",
       "\n",
       "       qty_percent_domain  qty_vowels_domain  domain_length  domain_in_ip  \\\n",
       "0                       0                  4             17             0   \n",
       "1                       0                  5             16             0   \n",
       "2                       0                  3             14             0   \n",
       "3                       0                  7             19             0   \n",
       "4                       0                  5             19             0   \n",
       "...                   ...                ...            ...           ...   \n",
       "88642                   0                  5             23             0   \n",
       "88643                   0                 14             34             0   \n",
       "88644                   0                  6             22             0   \n",
       "88645                   0                  5             27             0   \n",
       "88646                   0                  4             16             0   \n",
       "\n",
       "       server_client_domain  qty_dot_directory  qty_hyphen_directory  \\\n",
       "0                         0                  1                     0   \n",
       "1                         0                  3                     0   \n",
       "2                         0                  0                     0   \n",
       "3                         0                  2                     0   \n",
       "4                         0                 -1                    -1   \n",
       "...                     ...                ...                   ...   \n",
       "88642                     0                 -1                    -1   \n",
       "88643                     0                 -1                    -1   \n",
       "88644                     0                  1                     1   \n",
       "88645                     0                  0                     0   \n",
       "88646                     0                 -1                    -1   \n",
       "\n",
       "       qty_underline_directory  qty_slash_directory  \\\n",
       "0                            0                    1   \n",
       "1                            0                    3   \n",
       "2                            0                    1   \n",
       "3                            2                    5   \n",
       "4                           -1                   -1   \n",
       "...                        ...                  ...   \n",
       "88642                       -1                   -1   \n",
       "88643                       -1                   -1   \n",
       "88644                        0                    5   \n",
       "88645                        0                    1   \n",
       "88646                       -1                   -1   \n",
       "\n",
       "       qty_questionmark_directory  qty_equal_directory  qty_at_directory  \\\n",
       "0                               0                    0                 0   \n",
       "1                               0                    0                 0   \n",
       "2                               0                    0                 0   \n",
       "3                               0                    0                 0   \n",
       "4                              -1                   -1                -1   \n",
       "...                           ...                  ...               ...   \n",
       "88642                          -1                   -1                -1   \n",
       "88643                          -1                   -1                -1   \n",
       "88644                           0                    0                 0   \n",
       "88645                           0                    0                 0   \n",
       "88646                          -1                   -1                -1   \n",
       "\n",
       "       qty_and_directory  qty_exclamation_directory  qty_space_directory  \\\n",
       "0                      0                          0                    0   \n",
       "1                      0                          0                    0   \n",
       "2                      0                          0                    0   \n",
       "3                      0                          0                    0   \n",
       "4                     -1                         -1                   -1   \n",
       "...                  ...                        ...                  ...   \n",
       "88642                 -1                         -1                   -1   \n",
       "88643                 -1                         -1                   -1   \n",
       "88644                  0                          0                    0   \n",
       "88645                  0                          0                    0   \n",
       "88646                 -1                         -1                   -1   \n",
       "\n",
       "       qty_tilde_directory  qty_comma_directory  qty_plus_directory  \\\n",
       "0                        0                    0                   0   \n",
       "1                        0                    0                   0   \n",
       "2                        0                    0                   0   \n",
       "3                        0                    0                   0   \n",
       "4                       -1                   -1                  -1   \n",
       "...                    ...                  ...                 ...   \n",
       "88642                   -1                   -1                  -1   \n",
       "88643                   -1                   -1                  -1   \n",
       "88644                    0                    0                   0   \n",
       "88645                    0                    0                   0   \n",
       "88646                   -1                   -1                  -1   \n",
       "\n",
       "       qty_asterisk_directory  qty_hashtag_directory  qty_dollar_directory  \\\n",
       "0                           0                      0                     0   \n",
       "1                           0                      0                     0   \n",
       "2                           0                      0                     0   \n",
       "3                           0                      0                     0   \n",
       "4                          -1                     -1                    -1   \n",
       "...                       ...                    ...                   ...   \n",
       "88642                      -1                     -1                    -1   \n",
       "88643                      -1                     -1                    -1   \n",
       "88644                       0                      0                     0   \n",
       "88645                       0                      0                     0   \n",
       "88646                      -1                     -1                    -1   \n",
       "\n",
       "       qty_percent_directory  directory_length  qty_dot_file  qty_hyphen_file  \\\n",
       "0                          0                 8             1                0   \n",
       "1                          0                42             1                0   \n",
       "2                          0                 1             0                0   \n",
       "3                          0                62             1                0   \n",
       "4                         -1                -1            -1               -1   \n",
       "...                      ...               ...           ...              ...   \n",
       "88642                     -1                -1            -1               -1   \n",
       "88643                     -1                -1            -1               -1   \n",
       "88644                      0                48             1                0   \n",
       "88645                      0                 1             0                0   \n",
       "88646                     -1                -1            -1               -1   \n",
       "\n",
       "       qty_underline_file  qty_slash_file  qty_questionmark_file  \\\n",
       "0                       0               0                      0   \n",
       "1                       0               0                      0   \n",
       "2                       0               0                      0   \n",
       "3                       0               0                      0   \n",
       "4                      -1              -1                     -1   \n",
       "...                   ...             ...                    ...   \n",
       "88642                  -1              -1                     -1   \n",
       "88643                  -1              -1                     -1   \n",
       "88644                   0               0                      0   \n",
       "88645                   0               0                      0   \n",
       "88646                  -1              -1                     -1   \n",
       "\n",
       "       qty_equal_file  qty_at_file  qty_and_file  qty_exclamation_file  \\\n",
       "0                   0            0             0                     0   \n",
       "1                   0            0             0                     0   \n",
       "2                   0            0             0                     0   \n",
       "3                   0            0             0                     0   \n",
       "4                  -1           -1            -1                    -1   \n",
       "...               ...          ...           ...                   ...   \n",
       "88642              -1           -1            -1                    -1   \n",
       "88643              -1           -1            -1                    -1   \n",
       "88644               0            0             0                     0   \n",
       "88645               0            0             0                     0   \n",
       "88646              -1           -1            -1                    -1   \n",
       "\n",
       "       qty_space_file  qty_tilde_file  qty_comma_file  qty_plus_file  \\\n",
       "0                   0               0               0              0   \n",
       "1                   0               0               0              0   \n",
       "2                   0               0               0              0   \n",
       "3                   0               0               0              0   \n",
       "4                  -1              -1              -1             -1   \n",
       "...               ...             ...             ...            ...   \n",
       "88642              -1              -1              -1             -1   \n",
       "88643              -1              -1              -1             -1   \n",
       "88644               0               0               0              0   \n",
       "88645               0               0               0              0   \n",
       "88646              -1              -1              -1             -1   \n",
       "\n",
       "       qty_asterisk_file  qty_hashtag_file  qty_dollar_file  qty_percent_file  \\\n",
       "0                      0                 0                0                 0   \n",
       "1                      0                 0                0                 0   \n",
       "2                      0                 0                0                 0   \n",
       "3                      0                 0                0                 0   \n",
       "4                     -1                -1               -1                -1   \n",
       "...                  ...               ...              ...               ...   \n",
       "88642                 -1                -1               -1                -1   \n",
       "88643                 -1                -1               -1                -1   \n",
       "88644                  0                 0                0                 0   \n",
       "88645                  0                 0                0                 0   \n",
       "88646                 -1                -1               -1                -1   \n",
       "\n",
       "       file_length  qty_dot_params  qty_hyphen_params  qty_underline_params  \\\n",
       "0                7              -1                 -1                    -1   \n",
       "1                9               0                  0                     1   \n",
       "2                0              -1                 -1                    -1   \n",
       "3                9              -1                 -1                    -1   \n",
       "4               -1              -1                 -1                    -1   \n",
       "...            ...             ...                ...                   ...   \n",
       "88642           -1              -1                 -1                    -1   \n",
       "88643           -1              -1                 -1                    -1   \n",
       "88644           11              -1                 -1                    -1   \n",
       "88645            0              -1                 -1                    -1   \n",
       "88646           -1              -1                 -1                    -1   \n",
       "\n",
       "       qty_slash_params  qty_questionmark_params  qty_equal_params  \\\n",
       "0                    -1                       -1                -1   \n",
       "1                     0                        0                 3   \n",
       "2                    -1                       -1                -1   \n",
       "3                    -1                       -1                -1   \n",
       "4                    -1                       -1                -1   \n",
       "...                 ...                      ...               ...   \n",
       "88642                -1                       -1                -1   \n",
       "88643                -1                       -1                -1   \n",
       "88644                -1                       -1                -1   \n",
       "88645                -1                       -1                -1   \n",
       "88646                -1                       -1                -1   \n",
       "\n",
       "       qty_at_params  qty_and_params  qty_exclamation_params  \\\n",
       "0                 -1              -1                      -1   \n",
       "1                  0               2                       0   \n",
       "2                 -1              -1                      -1   \n",
       "3                 -1              -1                      -1   \n",
       "4                 -1              -1                      -1   \n",
       "...              ...             ...                     ...   \n",
       "88642             -1              -1                      -1   \n",
       "88643             -1              -1                      -1   \n",
       "88644             -1              -1                      -1   \n",
       "88645             -1              -1                      -1   \n",
       "88646             -1              -1                      -1   \n",
       "\n",
       "       qty_space_params  qty_tilde_params  qty_comma_params  qty_plus_params  \\\n",
       "0                    -1                -1                -1               -1   \n",
       "1                     0                 0                 0                0   \n",
       "2                    -1                -1                -1               -1   \n",
       "3                    -1                -1                -1               -1   \n",
       "4                    -1                -1                -1               -1   \n",
       "...                 ...               ...               ...              ...   \n",
       "88642                -1                -1                -1               -1   \n",
       "88643                -1                -1                -1               -1   \n",
       "88644                -1                -1                -1               -1   \n",
       "88645                -1                -1                -1               -1   \n",
       "88646                -1                -1                -1               -1   \n",
       "\n",
       "       qty_asterisk_params  qty_hashtag_params  qty_dollar_params  \\\n",
       "0                       -1                  -1                 -1   \n",
       "1                        0                   0                  0   \n",
       "2                       -1                  -1                 -1   \n",
       "3                       -1                  -1                 -1   \n",
       "4                       -1                  -1                 -1   \n",
       "...                    ...                 ...                ...   \n",
       "88642                   -1                  -1                 -1   \n",
       "88643                   -1                  -1                 -1   \n",
       "88644                   -1                  -1                 -1   \n",
       "88645                   -1                  -1                 -1   \n",
       "88646                   -1                  -1                 -1   \n",
       "\n",
       "       qty_percent_params  params_length  tld_present_params  qty_params  \\\n",
       "0                      -1             -1                  -1          -1   \n",
       "1                       0            165                   0           3   \n",
       "2                      -1             -1                  -1          -1   \n",
       "3                      -1             -1                  -1          -1   \n",
       "4                      -1             -1                  -1          -1   \n",
       "...                   ...            ...                 ...         ...   \n",
       "88642                  -1             -1                  -1          -1   \n",
       "88643                  -1             -1                  -1          -1   \n",
       "88644                  -1             -1                  -1          -1   \n",
       "88645                  -1             -1                  -1          -1   \n",
       "88646                  -1             -1                  -1          -1   \n",
       "\n",
       "       email_in_url  time_domain_activation  phishing  \n",
       "0                 0                      -1         1  \n",
       "1                 0                     579         1  \n",
       "2                 0                      -1         0  \n",
       "3                 0                      -1         1  \n",
       "4                 0                    6998         0  \n",
       "...             ...                     ...       ...  \n",
       "88642             0                    5509         0  \n",
       "88643             0                    5046         0  \n",
       "88644             0                    1844         1  \n",
       "88645             0                      -1         1  \n",
       "88646             0                     300         0  \n",
       "\n",
       "[88647 rows x 99 columns]"
      ]
     },
     "execution_count": 7,
     "metadata": {},
     "output_type": "execute_result"
    }
   ],
   "source": [
    "df"
   ]
  },
  {
   "cell_type": "markdown",
   "id": "5b8b9d10",
   "metadata": {},
   "source": [
    "# Create Train and Test Data (Using stratified Shuffle Split)"
   ]
  },
  {
   "cell_type": "code",
   "execution_count": 8,
   "id": "de005490",
   "metadata": {},
   "outputs": [],
   "source": [
    "split = StratifiedShuffleSplit(n_splits=1, test_size=0.2, random_state=42)"
   ]
  },
  {
   "cell_type": "code",
   "execution_count": 9,
   "id": "f23e5437",
   "metadata": {},
   "outputs": [
    {
     "name": "stdout",
     "output_type": "stream",
     "text": [
      "[81747 18230  9266 ... 52746 80226 27947] [18921 74673 19334 ... 68007 58349 38230]\n"
     ]
    }
   ],
   "source": [
    "for train_index,test_index in split.split(df, df['phishing']):\n",
    "    print(train_index,test_index)"
   ]
  },
  {
   "cell_type": "code",
   "execution_count": 10,
   "id": "811dbede",
   "metadata": {},
   "outputs": [],
   "source": [
    "for train_index,test_index in split.split(df, df['phishing']):\n",
    "    X_train = df.loc[train_index]\n",
    "    X_test = df.loc[test_index]"
   ]
  },
  {
   "cell_type": "code",
   "execution_count": 11,
   "id": "9c955c47",
   "metadata": {},
   "outputs": [],
   "source": [
    "X_train, y_train = X_train.drop(['phishing'],axis = 1),X_train['phishing']"
   ]
  },
  {
   "cell_type": "code",
   "execution_count": 12,
   "id": "e9169f65",
   "metadata": {},
   "outputs": [],
   "source": [
    "X_test, y_test = X_test.drop(['phishing'],axis = 1),X_test['phishing']"
   ]
  },
  {
   "cell_type": "markdown",
   "id": "d3d6aef5",
   "metadata": {},
   "source": [
    "# Standardization"
   ]
  },
  {
   "cell_type": "code",
   "execution_count": 13,
   "id": "4d6f523e",
   "metadata": {},
   "outputs": [],
   "source": [
    "sc = StandardScaler()"
   ]
  },
  {
   "cell_type": "code",
   "execution_count": 14,
   "id": "500240a7",
   "metadata": {},
   "outputs": [],
   "source": [
    "X_train = sc.fit_transform(X_train)"
   ]
  },
  {
   "cell_type": "code",
   "execution_count": 15,
   "id": "c764dc16",
   "metadata": {},
   "outputs": [],
   "source": [
    "X_test = sc.transform(X_test)"
   ]
  },
  {
   "cell_type": "code",
   "execution_count": 16,
   "id": "45a3419b",
   "metadata": {},
   "outputs": [],
   "source": [
    "cols = df.drop(['phishing'],axis=1).columns"
   ]
  },
  {
   "cell_type": "code",
   "execution_count": 17,
   "id": "6212fff4",
   "metadata": {},
   "outputs": [],
   "source": [
    "X_train = pd.DataFrame(X_train, columns=cols)"
   ]
  },
  {
   "cell_type": "code",
   "execution_count": 18,
   "id": "d4d515cd",
   "metadata": {},
   "outputs": [],
   "source": [
    "X_test = pd.DataFrame(X_test, columns=cols)"
   ]
  },
  {
   "cell_type": "code",
   "execution_count": null,
   "id": "6bc1d54a",
   "metadata": {},
   "outputs": [],
   "source": []
  },
  {
   "cell_type": "markdown",
   "id": "80405ace",
   "metadata": {},
   "source": [
    "# 1. Dropping Constant features - Variance Threshold"
   ]
  },
  {
   "cell_type": "markdown",
   "id": "287889c5",
   "metadata": {},
   "source": [
    "In this step we will be removing the features which have constant features which are actually not important for solving the problem statement.\n",
    "\n",
    "We remove those features, which have very minimal variance. That simply means that these features are constant"
   ]
  },
  {
   "cell_type": "code",
   "execution_count": 19,
   "id": "f308a040",
   "metadata": {},
   "outputs": [],
   "source": [
    "from sklearn.feature_selection import VarianceThreshold"
   ]
  },
  {
   "cell_type": "code",
   "execution_count": 20,
   "id": "c91fb0f8",
   "metadata": {},
   "outputs": [],
   "source": [
    "var_thresh_obj = VarianceThreshold(threshold=0)"
   ]
  },
  {
   "cell_type": "code",
   "execution_count": 21,
   "id": "6d31196b",
   "metadata": {},
   "outputs": [
    {
     "data": {
      "text/html": [
       "<style>#sk-container-id-1 {color: black;background-color: white;}#sk-container-id-1 pre{padding: 0;}#sk-container-id-1 div.sk-toggleable {background-color: white;}#sk-container-id-1 label.sk-toggleable__label {cursor: pointer;display: block;width: 100%;margin-bottom: 0;padding: 0.3em;box-sizing: border-box;text-align: center;}#sk-container-id-1 label.sk-toggleable__label-arrow:before {content: \"▸\";float: left;margin-right: 0.25em;color: #696969;}#sk-container-id-1 label.sk-toggleable__label-arrow:hover:before {color: black;}#sk-container-id-1 div.sk-estimator:hover label.sk-toggleable__label-arrow:before {color: black;}#sk-container-id-1 div.sk-toggleable__content {max-height: 0;max-width: 0;overflow: hidden;text-align: left;background-color: #f0f8ff;}#sk-container-id-1 div.sk-toggleable__content pre {margin: 0.2em;color: black;border-radius: 0.25em;background-color: #f0f8ff;}#sk-container-id-1 input.sk-toggleable__control:checked~div.sk-toggleable__content {max-height: 200px;max-width: 100%;overflow: auto;}#sk-container-id-1 input.sk-toggleable__control:checked~label.sk-toggleable__label-arrow:before {content: \"▾\";}#sk-container-id-1 div.sk-estimator input.sk-toggleable__control:checked~label.sk-toggleable__label {background-color: #d4ebff;}#sk-container-id-1 div.sk-label input.sk-toggleable__control:checked~label.sk-toggleable__label {background-color: #d4ebff;}#sk-container-id-1 input.sk-hidden--visually {border: 0;clip: rect(1px 1px 1px 1px);clip: rect(1px, 1px, 1px, 1px);height: 1px;margin: -1px;overflow: hidden;padding: 0;position: absolute;width: 1px;}#sk-container-id-1 div.sk-estimator {font-family: monospace;background-color: #f0f8ff;border: 1px dotted black;border-radius: 0.25em;box-sizing: border-box;margin-bottom: 0.5em;}#sk-container-id-1 div.sk-estimator:hover {background-color: #d4ebff;}#sk-container-id-1 div.sk-parallel-item::after {content: \"\";width: 100%;border-bottom: 1px solid gray;flex-grow: 1;}#sk-container-id-1 div.sk-label:hover label.sk-toggleable__label {background-color: #d4ebff;}#sk-container-id-1 div.sk-serial::before {content: \"\";position: absolute;border-left: 1px solid gray;box-sizing: border-box;top: 0;bottom: 0;left: 50%;z-index: 0;}#sk-container-id-1 div.sk-serial {display: flex;flex-direction: column;align-items: center;background-color: white;padding-right: 0.2em;padding-left: 0.2em;position: relative;}#sk-container-id-1 div.sk-item {position: relative;z-index: 1;}#sk-container-id-1 div.sk-parallel {display: flex;align-items: stretch;justify-content: center;background-color: white;position: relative;}#sk-container-id-1 div.sk-item::before, #sk-container-id-1 div.sk-parallel-item::before {content: \"\";position: absolute;border-left: 1px solid gray;box-sizing: border-box;top: 0;bottom: 0;left: 50%;z-index: -1;}#sk-container-id-1 div.sk-parallel-item {display: flex;flex-direction: column;z-index: 1;position: relative;background-color: white;}#sk-container-id-1 div.sk-parallel-item:first-child::after {align-self: flex-end;width: 50%;}#sk-container-id-1 div.sk-parallel-item:last-child::after {align-self: flex-start;width: 50%;}#sk-container-id-1 div.sk-parallel-item:only-child::after {width: 0;}#sk-container-id-1 div.sk-dashed-wrapped {border: 1px dashed gray;margin: 0 0.4em 0.5em 0.4em;box-sizing: border-box;padding-bottom: 0.4em;background-color: white;}#sk-container-id-1 div.sk-label label {font-family: monospace;font-weight: bold;display: inline-block;line-height: 1.2em;}#sk-container-id-1 div.sk-label-container {text-align: center;}#sk-container-id-1 div.sk-container {/* jupyter's `normalize.less` sets `[hidden] { display: none; }` but bootstrap.min.css set `[hidden] { display: none !important; }` so we also need the `!important` here to be able to override the default hidden behavior on the sphinx rendered scikit-learn.org. See: https://github.com/scikit-learn/scikit-learn/issues/21755 */display: inline-block !important;position: relative;}#sk-container-id-1 div.sk-text-repr-fallback {display: none;}</style><div id=\"sk-container-id-1\" class=\"sk-top-container\"><div class=\"sk-text-repr-fallback\"><pre>VarianceThreshold(threshold=0)</pre><b>In a Jupyter environment, please rerun this cell to show the HTML representation or trust the notebook. <br />On GitHub, the HTML representation is unable to render, please try loading this page with nbviewer.org.</b></div><div class=\"sk-container\" hidden><div class=\"sk-item\"><div class=\"sk-estimator sk-toggleable\"><input class=\"sk-toggleable__control sk-hidden--visually\" id=\"sk-estimator-id-1\" type=\"checkbox\" checked><label for=\"sk-estimator-id-1\" class=\"sk-toggleable__label sk-toggleable__label-arrow\">VarianceThreshold</label><div class=\"sk-toggleable__content\"><pre>VarianceThreshold(threshold=0)</pre></div></div></div></div></div>"
      ],
      "text/plain": [
       "VarianceThreshold(threshold=0)"
      ]
     },
     "execution_count": 21,
     "metadata": {},
     "output_type": "execute_result"
    }
   ],
   "source": [
    "var_thresh_obj.fit(X_train)"
   ]
  },
  {
   "cell_type": "code",
   "execution_count": 22,
   "id": "178bc168",
   "metadata": {},
   "outputs": [
    {
     "data": {
      "text/plain": [
       "array([ True,  True,  True,  True,  True,  True,  True,  True,  True,\n",
       "        True,  True,  True,  True,  True,  True,  True,  True,  True,\n",
       "        True,  True,  True,  True, False, False, False,  True, False,\n",
       "       False, False, False, False, False, False, False, False, False,\n",
       "        True,  True,  True,  True,  True,  True,  True,  True,  True,\n",
       "        True,  True,  True,  True,  True,  True,  True,  True,  True,\n",
       "        True,  True,  True,  True,  True,  True,  True,  True,  True,\n",
       "        True,  True,  True,  True,  True,  True,  True,  True,  True,\n",
       "        True,  True,  True,  True,  True,  True,  True,  True,  True,\n",
       "        True,  True,  True,  True,  True,  True,  True,  True,  True,\n",
       "        True,  True,  True,  True,  True,  True,  True,  True])"
      ]
     },
     "execution_count": 22,
     "metadata": {},
     "output_type": "execute_result"
    }
   ],
   "source": [
    "var_thresh_obj.get_support()"
   ]
  },
  {
   "cell_type": "code",
   "execution_count": 23,
   "id": "ba0470dd",
   "metadata": {},
   "outputs": [],
   "source": [
    "constant_columns = [column for column in X_train.columns if column not in set(X_train.columns[var_thresh_obj.get_support()])]"
   ]
  },
  {
   "cell_type": "code",
   "execution_count": 24,
   "id": "65d3b50b",
   "metadata": {},
   "outputs": [
    {
     "data": {
      "text/plain": [
       "['qty_slash_domain',\n",
       " 'qty_questionmark_domain',\n",
       " 'qty_equal_domain',\n",
       " 'qty_and_domain',\n",
       " 'qty_exclamation_domain',\n",
       " 'qty_space_domain',\n",
       " 'qty_tilde_domain',\n",
       " 'qty_comma_domain',\n",
       " 'qty_plus_domain',\n",
       " 'qty_asterisk_domain',\n",
       " 'qty_hashtag_domain',\n",
       " 'qty_dollar_domain',\n",
       " 'qty_percent_domain']"
      ]
     },
     "execution_count": 24,
     "metadata": {},
     "output_type": "execute_result"
    }
   ],
   "source": [
    "constant_columns"
   ]
  },
  {
   "cell_type": "markdown",
   "id": "729b40bd",
   "metadata": {},
   "source": [
    "#### We are not going to use these features and we will drop these"
   ]
  },
  {
   "cell_type": "markdown",
   "id": "bdfe31da",
   "metadata": {},
   "source": [
    "# 2. Corelation Analysis"
   ]
  },
  {
   "cell_type": "markdown",
   "id": "2f5e6dd5",
   "metadata": {},
   "source": [
    "******\n",
    "If an Independant feature and dependant feature are corelated, that is desireable\n",
    "\n",
    "If 2 independant features are corelated, we can easily drop one as it reduces Curse of Dimesnionality, also reduces Multi Colinearity\n",
    "\n",
    "******"
   ]
  },
  {
   "cell_type": "code",
   "execution_count": 25,
   "id": "b40418b7",
   "metadata": {},
   "outputs": [
    {
     "data": {
      "image/png": "[encoded data removed]",
      "text/plain": [
       "<Figure size 864x720 with 2 Axes>"
      ]
     },
     "metadata": {
      "needs_background": "light"
     },
     "output_type": "display_data"
    }
   ],
   "source": [
    "plt.figure(figsize=(12,10))\n",
    "cor = X_train.corr()\n",
    "sns.heatmap(cor, cmap=plt.cm.CMRmap_r)\n",
    "plt.show()"
   ]
  },
  {
   "cell_type": "markdown",
   "id": "27cacb7b",
   "metadata": {},
   "source": [
    "I will give more emphasis on removing last 18 features, they are coming from external sites and might be hard for us to build the features from raw domains"
   ]
  },
  {
   "cell_type": "code",
   "execution_count": 26,
   "id": "1c6e7420",
   "metadata": {},
   "outputs": [],
   "source": [
    "## We set a corelation threshold (probably 0.85)\n",
    "## We iterate on corelation matrix and see if 2 features have this much or greater corelation.\n",
    "## If they have, we will remove one of the features.\n",
    "\n",
    "def get_high_correlation_feature(dataset, threshold):\n",
    "    col_corr = set() ## set of column names to be dropped\n",
    "    corr_matrix = dataset.corr()\n",
    "    \n",
    "    for i in range(len(corr_matrix.columns)-1,-1,-1):\n",
    "        for j in range(i-1,-1,-1):\n",
    "            if abs(corr_matrix.iloc[i,j]) > threshold:\n",
    "                colname = corr_matrix.columns[i] ## getting the column name\n",
    "                #print(corr_matrix.columns[i],\"-----\" ,corr_matrix.columns[j], \"====\", corr_matrix.iloc[i,j])\n",
    "                col_corr.add(colname)\n",
    "    return(col_corr)\n",
    "            "
   ]
  },
  {
   "cell_type": "code",
   "execution_count": 27,
   "id": "45a9ac50",
   "metadata": {},
   "outputs": [],
   "source": [
    "corelated_features = get_high_correlation_feature(X_train,0.85)"
   ]
  },
  {
   "cell_type": "code",
   "execution_count": 28,
   "id": "eb242dd4",
   "metadata": {},
   "outputs": [
    {
     "data": {
      "text/plain": [
       "{'qty_and_directory',\n",
       " 'qty_and_file',\n",
       " 'qty_and_params',\n",
       " 'qty_and_url',\n",
       " 'qty_asterisk_directory',\n",
       " 'qty_asterisk_file',\n",
       " 'qty_asterisk_params',\n",
       " 'qty_at_directory',\n",
       " 'qty_at_file',\n",
       " 'qty_at_params',\n",
       " 'qty_comma_directory',\n",
       " 'qty_comma_file',\n",
       " 'qty_comma_params',\n",
       " 'qty_dollar_directory',\n",
       " 'qty_dollar_file',\n",
       " 'qty_dollar_params',\n",
       " 'qty_dot_file',\n",
       " 'qty_equal_directory',\n",
       " 'qty_equal_file',\n",
       " 'qty_equal_params',\n",
       " 'qty_exclamation_directory',\n",
       " 'qty_exclamation_file',\n",
       " 'qty_exclamation_params',\n",
       " 'qty_hashtag_directory',\n",
       " 'qty_hashtag_file',\n",
       " 'qty_hashtag_params',\n",
       " 'qty_params',\n",
       " 'qty_percent_file',\n",
       " 'qty_plus_directory',\n",
       " 'qty_plus_file',\n",
       " 'qty_plus_params',\n",
       " 'qty_questionmark_file',\n",
       " 'qty_slash_directory',\n",
       " 'qty_slash_file',\n",
       " 'qty_space_directory',\n",
       " 'qty_space_file',\n",
       " 'qty_space_params',\n",
       " 'qty_tilde_directory',\n",
       " 'qty_tilde_file',\n",
       " 'qty_tilde_params',\n",
       " 'qty_underline_file',\n",
       " 'tld_present_params'}"
      ]
     },
     "execution_count": 28,
     "metadata": {},
     "output_type": "execute_result"
    }
   ],
   "source": [
    "corelated_features"
   ]
  },
  {
   "cell_type": "markdown",
   "id": "4df87c47",
   "metadata": {},
   "source": [
    "# Information Gain (Mutual Information)"
   ]
  },
  {
   "cell_type": "markdown",
   "id": "628d7908",
   "metadata": {},
   "source": [
    "#### Mutual Information: A non negative value, that measures the dependancy b/w the variables. It quantifies the \"amount of information\" (in units such as shannons (bits), nats or hartleys) obtained about one random variable by observing the other random variable..\n",
    "\n",
    "\n",
    "Higher the value, more important the feature is"
   ]
  },
  {
   "cell_type": "code",
   "execution_count": 29,
   "id": "9aa093c2",
   "metadata": {},
   "outputs": [],
   "source": [
    "from sklearn.feature_selection import mutual_info_classif"
   ]
  },
  {
   "cell_type": "code",
   "execution_count": 30,
   "id": "ae8b5e06",
   "metadata": {},
   "outputs": [],
   "source": [
    "mutual_info = mutual_info_classif(X_train,y_train)"
   ]
  },
  {
   "cell_type": "code",
   "execution_count": 31,
   "id": "2eeacf4b",
   "metadata": {},
   "outputs": [],
   "source": [
    "mutual_info = pd.Series(mutual_info)"
   ]
  },
  {
   "cell_type": "code",
   "execution_count": 32,
   "id": "0813bb82",
   "metadata": {},
   "outputs": [],
   "source": [
    "mutual_info.index = X_train.columns"
   ]
  },
  {
   "cell_type": "code",
   "execution_count": 33,
   "id": "474f16cc",
   "metadata": {},
   "outputs": [
    {
     "data": {
      "text/plain": [
       "directory_length       0.382156\n",
       "qty_slash_url          0.377896\n",
       "qty_slash_directory    0.373035\n",
       "qty_dot_directory      0.352077\n",
       "file_length            0.349897\n",
       "                         ...   \n",
       "qty_tilde_domain       0.000000\n",
       "qty_equal_domain       0.000000\n",
       "qty_hashtag_domain     0.000000\n",
       "qty_dollar_domain      0.000000\n",
       "qty_comma_url          0.000000\n",
       "Length: 98, dtype: float64"
      ]
     },
     "execution_count": 33,
     "metadata": {},
     "output_type": "execute_result"
    }
   ],
   "source": [
    "mutual_info.sort_values(ascending=False)"
   ]
  },
  {
   "cell_type": "markdown",
   "id": "5facdccb",
   "metadata": {},
   "source": [
    "#### Selecting the K best from MI"
   ]
  },
  {
   "cell_type": "code",
   "execution_count": 34,
   "id": "ed38b332",
   "metadata": {},
   "outputs": [],
   "source": [
    "from sklearn.feature_selection import SelectKBest"
   ]
  },
  {
   "cell_type": "code",
   "execution_count": 35,
   "id": "b31859a2",
   "metadata": {},
   "outputs": [
    {
     "data": {
      "text/html": [
       "<style>#sk-container-id-2 {color: black;background-color: white;}#sk-container-id-2 pre{padding: 0;}#sk-container-id-2 div.sk-toggleable {background-color: white;}#sk-container-id-2 label.sk-toggleable__label {cursor: pointer;display: block;width: 100%;margin-bottom: 0;padding: 0.3em;box-sizing: border-box;text-align: center;}#sk-container-id-2 label.sk-toggleable__label-arrow:before {content: \"▸\";float: left;margin-right: 0.25em;color: #696969;}#sk-container-id-2 label.sk-toggleable__label-arrow:hover:before {color: black;}#sk-container-id-2 div.sk-estimator:hover label.sk-toggleable__label-arrow:before {color: black;}#sk-container-id-2 div.sk-toggleable__content {max-height: 0;max-width: 0;overflow: hidden;text-align: left;background-color: #f0f8ff;}#sk-container-id-2 div.sk-toggleable__content pre {margin: 0.2em;color: black;border-radius: 0.25em;background-color: #f0f8ff;}#sk-container-id-2 input.sk-toggleable__control:checked~div.sk-toggleable__content {max-height: 200px;max-width: 100%;overflow: auto;}#sk-container-id-2 input.sk-toggleable__control:checked~label.sk-toggleable__label-arrow:before {content: \"▾\";}#sk-container-id-2 div.sk-estimator input.sk-toggleable__control:checked~label.sk-toggleable__label {background-color: #d4ebff;}#sk-container-id-2 div.sk-label input.sk-toggleable__control:checked~label.sk-toggleable__label {background-color: #d4ebff;}#sk-container-id-2 input.sk-hidden--visually {border: 0;clip: rect(1px 1px 1px 1px);clip: rect(1px, 1px, 1px, 1px);height: 1px;margin: -1px;overflow: hidden;padding: 0;position: absolute;width: 1px;}#sk-container-id-2 div.sk-estimator {font-family: monospace;background-color: #f0f8ff;border: 1px dotted black;border-radius: 0.25em;box-sizing: border-box;margin-bottom: 0.5em;}#sk-container-id-2 div.sk-estimator:hover {background-color: #d4ebff;}#sk-container-id-2 div.sk-parallel-item::after {content: \"\";width: 100%;border-bottom: 1px solid gray;flex-grow: 1;}#sk-container-id-2 div.sk-label:hover label.sk-toggleable__label {background-color: #d4ebff;}#sk-container-id-2 div.sk-serial::before {content: \"\";position: absolute;border-left: 1px solid gray;box-sizing: border-box;top: 0;bottom: 0;left: 50%;z-index: 0;}#sk-container-id-2 div.sk-serial {display: flex;flex-direction: column;align-items: center;background-color: white;padding-right: 0.2em;padding-left: 0.2em;position: relative;}#sk-container-id-2 div.sk-item {position: relative;z-index: 1;}#sk-container-id-2 div.sk-parallel {display: flex;align-items: stretch;justify-content: center;background-color: white;position: relative;}#sk-container-id-2 div.sk-item::before, #sk-container-id-2 div.sk-parallel-item::before {content: \"\";position: absolute;border-left: 1px solid gray;box-sizing: border-box;top: 0;bottom: 0;left: 50%;z-index: -1;}#sk-container-id-2 div.sk-parallel-item {display: flex;flex-direction: column;z-index: 1;position: relative;background-color: white;}#sk-container-id-2 div.sk-parallel-item:first-child::after {align-self: flex-end;width: 50%;}#sk-container-id-2 div.sk-parallel-item:last-child::after {align-self: flex-start;width: 50%;}#sk-container-id-2 div.sk-parallel-item:only-child::after {width: 0;}#sk-container-id-2 div.sk-dashed-wrapped {border: 1px dashed gray;margin: 0 0.4em 0.5em 0.4em;box-sizing: border-box;padding-bottom: 0.4em;background-color: white;}#sk-container-id-2 div.sk-label label {font-family: monospace;font-weight: bold;display: inline-block;line-height: 1.2em;}#sk-container-id-2 div.sk-label-container {text-align: center;}#sk-container-id-2 div.sk-container {/* jupyter's `normalize.less` sets `[hidden] { display: none; }` but bootstrap.min.css set `[hidden] { display: none !important; }` so we also need the `!important` here to be able to override the default hidden behavior on the sphinx rendered scikit-learn.org. See: https://github.com/scikit-learn/scikit-learn/issues/21755 */display: inline-block !important;position: relative;}#sk-container-id-2 div.sk-text-repr-fallback {display: none;}</style><div id=\"sk-container-id-2\" class=\"sk-top-container\"><div class=\"sk-text-repr-fallback\"><pre>SelectKBest(k=50,\n",
       "            score_func=&lt;function mutual_info_classif at 0x000001666F0D4790&gt;)</pre><b>In a Jupyter environment, please rerun this cell to show the HTML representation or trust the notebook. <br />On GitHub, the HTML representation is unable to render, please try loading this page with nbviewer.org.</b></div><div class=\"sk-container\" hidden><div class=\"sk-item\"><div class=\"sk-estimator sk-toggleable\"><input class=\"sk-toggleable__control sk-hidden--visually\" id=\"sk-estimator-id-2\" type=\"checkbox\" checked><label for=\"sk-estimator-id-2\" class=\"sk-toggleable__label sk-toggleable__label-arrow\">SelectKBest</label><div class=\"sk-toggleable__content\"><pre>SelectKBest(k=50,\n",
       "            score_func=&lt;function mutual_info_classif at 0x000001666F0D4790&gt;)</pre></div></div></div></div></div>"
      ],
      "text/plain": [
       "SelectKBest(k=50,\n",
       "            score_func=<function mutual_info_classif at 0x000001666F0D4790>)"
      ]
     },
     "execution_count": 35,
     "metadata": {},
     "output_type": "execute_result"
    }
   ],
   "source": [
    "sel_cols = SelectKBest(mutual_info_classif, k = 50)\n",
    "sel_cols.fit(X_train,y_train)"
   ]
  },
  {
   "cell_type": "code",
   "execution_count": 36,
   "id": "98c27d34",
   "metadata": {},
   "outputs": [
    {
     "data": {
      "text/plain": [
       "Index(['qty_slash_url', 'length_url', 'qty_dot_directory',\n",
       "       'qty_hyphen_directory', 'qty_underline_directory',\n",
       "       'qty_slash_directory', 'qty_questionmark_directory',\n",
       "       'qty_equal_directory', 'qty_at_directory', 'qty_and_directory',\n",
       "       'qty_exclamation_directory', 'qty_space_directory',\n",
       "       'qty_tilde_directory', 'qty_comma_directory', 'qty_plus_directory',\n",
       "       'qty_asterisk_directory', 'qty_hashtag_directory',\n",
       "       'qty_dollar_directory', 'qty_percent_directory', 'directory_length',\n",
       "       'qty_dot_file', 'qty_hyphen_file', 'qty_underline_file',\n",
       "       'qty_slash_file', 'qty_questionmark_file', 'qty_equal_file',\n",
       "       'qty_at_file', 'qty_and_file', 'qty_exclamation_file', 'qty_space_file',\n",
       "       'qty_tilde_file', 'qty_comma_file', 'qty_plus_file',\n",
       "       'qty_asterisk_file', 'qty_hashtag_file', 'qty_dollar_file',\n",
       "       'qty_percent_file', 'file_length', 'qty_dot_params', 'qty_slash_params',\n",
       "       'qty_questionmark_params', 'qty_equal_params', 'qty_exclamation_params',\n",
       "       'qty_space_params', 'qty_tilde_params', 'qty_plus_params',\n",
       "       'qty_hashtag_params', 'params_length', 'qty_params',\n",
       "       'time_domain_activation'],\n",
       "      dtype='object')"
      ]
     },
     "execution_count": 36,
     "metadata": {},
     "output_type": "execute_result"
    }
   ],
   "source": [
    "X_train.columns[sel_cols.get_support()]"
   ]
  },
  {
   "cell_type": "markdown",
   "id": "46aca841",
   "metadata": {},
   "source": [
    "# Top k will be a hyperparamter, fiddle with it in model selection"
   ]
  },
  {
   "cell_type": "markdown",
   "id": "b2f257f2",
   "metadata": {},
   "source": [
    "# Model Based methods"
   ]
  },
  {
   "cell_type": "code",
   "execution_count": 37,
   "id": "770e2c99",
   "metadata": {},
   "outputs": [],
   "source": [
    "from sklearn.ensemble import RandomForestClassifier"
   ]
  },
  {
   "cell_type": "code",
   "execution_count": 38,
   "id": "3b37503c",
   "metadata": {},
   "outputs": [],
   "source": [
    "rf = RandomForestClassifier()"
   ]
  },
  {
   "cell_type": "code",
   "execution_count": 39,
   "id": "d3e311e6",
   "metadata": {},
   "outputs": [
    {
     "data": {
      "text/html": [
       "<style>#sk-container-id-3 {color: black;background-color: white;}#sk-container-id-3 pre{padding: 0;}#sk-container-id-3 div.sk-toggleable {background-color: white;}#sk-container-id-3 label.sk-toggleable__label {cursor: pointer;display: block;width: 100%;margin-bottom: 0;padding: 0.3em;box-sizing: border-box;text-align: center;}#sk-container-id-3 label.sk-toggleable__label-arrow:before {content: \"▸\";float: left;margin-right: 0.25em;color: #696969;}#sk-container-id-3 label.sk-toggleable__label-arrow:hover:before {color: black;}#sk-container-id-3 div.sk-estimator:hover label.sk-toggleable__label-arrow:before {color: black;}#sk-container-id-3 div.sk-toggleable__content {max-height: 0;max-width: 0;overflow: hidden;text-align: left;background-color: #f0f8ff;}#sk-container-id-3 div.sk-toggleable__content pre {margin: 0.2em;color: black;border-radius: 0.25em;background-color: #f0f8ff;}#sk-container-id-3 input.sk-toggleable__control:checked~div.sk-toggleable__content {max-height: 200px;max-width: 100%;overflow: auto;}#sk-container-id-3 input.sk-toggleable__control:checked~label.sk-toggleable__label-arrow:before {content: \"▾\";}#sk-container-id-3 div.sk-estimator input.sk-toggleable__control:checked~label.sk-toggleable__label {background-color: #d4ebff;}#sk-container-id-3 div.sk-label input.sk-toggleable__control:checked~label.sk-toggleable__label {background-color: #d4ebff;}#sk-container-id-3 input.sk-hidden--visually {border: 0;clip: rect(1px 1px 1px 1px);clip: rect(1px, 1px, 1px, 1px);height: 1px;margin: -1px;overflow: hidden;padding: 0;position: absolute;width: 1px;}#sk-container-id-3 div.sk-estimator {font-family: monospace;background-color: #f0f8ff;border: 1px dotted black;border-radius: 0.25em;box-sizing: border-box;margin-bottom: 0.5em;}#sk-container-id-3 div.sk-estimator:hover {background-color: #d4ebff;}#sk-container-id-3 div.sk-parallel-item::after {content: \"\";width: 100%;border-bottom: 1px solid gray;flex-grow: 1;}#sk-container-id-3 div.sk-label:hover label.sk-toggleable__label {background-color: #d4ebff;}#sk-container-id-3 div.sk-serial::before {content: \"\";position: absolute;border-left: 1px solid gray;box-sizing: border-box;top: 0;bottom: 0;left: 50%;z-index: 0;}#sk-container-id-3 div.sk-serial {display: flex;flex-direction: column;align-items: center;background-color: white;padding-right: 0.2em;padding-left: 0.2em;position: relative;}#sk-container-id-3 div.sk-item {position: relative;z-index: 1;}#sk-container-id-3 div.sk-parallel {display: flex;align-items: stretch;justify-content: center;background-color: white;position: relative;}#sk-container-id-3 div.sk-item::before, #sk-container-id-3 div.sk-parallel-item::before {content: \"\";position: absolute;border-left: 1px solid gray;box-sizing: border-box;top: 0;bottom: 0;left: 50%;z-index: -1;}#sk-container-id-3 div.sk-parallel-item {display: flex;flex-direction: column;z-index: 1;position: relative;background-color: white;}#sk-container-id-3 div.sk-parallel-item:first-child::after {align-self: flex-end;width: 50%;}#sk-container-id-3 div.sk-parallel-item:last-child::after {align-self: flex-start;width: 50%;}#sk-container-id-3 div.sk-parallel-item:only-child::after {width: 0;}#sk-container-id-3 div.sk-dashed-wrapped {border: 1px dashed gray;margin: 0 0.4em 0.5em 0.4em;box-sizing: border-box;padding-bottom: 0.4em;background-color: white;}#sk-container-id-3 div.sk-label label {font-family: monospace;font-weight: bold;display: inline-block;line-height: 1.2em;}#sk-container-id-3 div.sk-label-container {text-align: center;}#sk-container-id-3 div.sk-container {/* jupyter's `normalize.less` sets `[hidden] { display: none; }` but bootstrap.min.css set `[hidden] { display: none !important; }` so we also need the `!important` here to be able to override the default hidden behavior on the sphinx rendered scikit-learn.org. See: https://github.com/scikit-learn/scikit-learn/issues/21755 */display: inline-block !important;position: relative;}#sk-container-id-3 div.sk-text-repr-fallback {display: none;}</style><div id=\"sk-container-id-3\" class=\"sk-top-container\"><div class=\"sk-text-repr-fallback\"><pre>RandomForestClassifier()</pre><b>In a Jupyter environment, please rerun this cell to show the HTML representation or trust the notebook. <br />On GitHub, the HTML representation is unable to render, please try loading this page with nbviewer.org.</b></div><div class=\"sk-container\" hidden><div class=\"sk-item\"><div class=\"sk-estimator sk-toggleable\"><input class=\"sk-toggleable__control sk-hidden--visually\" id=\"sk-estimator-id-3\" type=\"checkbox\" checked><label for=\"sk-estimator-id-3\" class=\"sk-toggleable__label sk-toggleable__label-arrow\">RandomForestClassifier</label><div class=\"sk-toggleable__content\"><pre>RandomForestClassifier()</pre></div></div></div></div></div>"
      ],
      "text/plain": [
       "RandomForestClassifier()"
      ]
     },
     "execution_count": 39,
     "metadata": {},
     "output_type": "execute_result"
    }
   ],
   "source": [
    "rf.fit(X_train,y_train)"
   ]
  },
  {
   "cell_type": "code",
   "execution_count": 40,
   "id": "a396a81d",
   "metadata": {},
   "outputs": [],
   "source": [
    "imp = rf.feature_importances_"
   ]
  },
  {
   "cell_type": "code",
   "execution_count": 41,
   "id": "2b92b043",
   "metadata": {},
   "outputs": [],
   "source": [
    "imp = pd.Series(imp)\n",
    "imp.index = X_train.columns\n"
   ]
  },
  {
   "cell_type": "code",
   "execution_count": 42,
   "id": "7ab3ccc1",
   "metadata": {},
   "outputs": [
    {
     "data": {
      "text/plain": [
       "time_domain_activation     0.111907\n",
       "directory_length           0.100789\n",
       "qty_slash_url              0.054360\n",
       "qty_tilde_file             0.051794\n",
       "qty_slash_directory        0.046919\n",
       "                             ...   \n",
       "qty_slash_domain           0.000000\n",
       "qty_percent_domain         0.000000\n",
       "qty_dollar_domain          0.000000\n",
       "qty_hashtag_domain         0.000000\n",
       "qty_questionmark_domain    0.000000\n",
       "Length: 98, dtype: float64"
      ]
     },
     "execution_count": 42,
     "metadata": {},
     "output_type": "execute_result"
    }
   ],
   "source": [
    "imp.sort_values(ascending=False)"
   ]
  },
  {
   "cell_type": "code",
   "execution_count": 43,
   "id": "1468e2aa",
   "metadata": {},
   "outputs": [],
   "source": [
    "cum_sum = np.cumsum(imp.sort_values(ascending=False))"
   ]
  },
  {
   "cell_type": "code",
   "execution_count": 44,
   "id": "71f6c3dd",
   "metadata": {},
   "outputs": [
    {
     "data": {
      "image/png": "[encoded data removed]",
      "text/plain": [
       "<Figure size 864x864 with 1 Axes>"
      ]
     },
     "metadata": {
      "needs_background": "light"
     },
     "output_type": "display_data"
    }
   ],
   "source": [
    "plt.figure(figsize=(12,12))\n",
    "plt.plot(np.cumsum(imp.sort_values(ascending=False)))\n",
    "plt.xticks(rotation = '90')\n",
    "plt.yticks(np.arange(0,1.1,0.1))\n",
    "plt.grid()\n",
    "plt.show()"
   ]
  },
  {
   "cell_type": "code",
   "execution_count": 45,
   "id": "a78cc2d0",
   "metadata": {},
   "outputs": [
    {
     "data": {
      "text/plain": [
       "0.9803512725143186"
      ]
     },
     "execution_count": 45,
     "metadata": {},
     "output_type": "execute_result"
    }
   ],
   "source": [
    "cum_sum['qty_comma_params']"
   ]
  },
  {
   "cell_type": "code",
   "execution_count": 46,
   "id": "fcaddc2d",
   "metadata": {},
   "outputs": [
    {
     "data": {
      "text/plain": [
       "44"
      ]
     },
     "execution_count": 46,
     "metadata": {},
     "output_type": "execute_result"
    }
   ],
   "source": [
    "list(cum_sum.index).index('qty_comma_params')"
   ]
  },
  {
   "cell_type": "code",
   "execution_count": 47,
   "id": "5abee001",
   "metadata": {},
   "outputs": [
    {
     "data": {
      "text/plain": [
       "time_domain_activation        0.111907\n",
       "directory_length              0.212696\n",
       "qty_slash_url                 0.267056\n",
       "qty_tilde_file                0.318850\n",
       "qty_slash_directory           0.365769\n",
       "file_length                   0.408579\n",
       "length_url                    0.449617\n",
       "domain_length                 0.480419\n",
       "qty_vowels_domain             0.511013\n",
       "qty_percent_directory         0.540458\n",
       "qty_hyphen_directory          0.564499\n",
       "qty_questionmark_file         0.587964\n",
       "qty_dollar_file               0.611364\n",
       "qty_comma_directory           0.634385\n",
       "qty_asterisk_directory        0.657365\n",
       "qty_hashtag_directory         0.679197\n",
       "qty_dot_file                  0.700754\n",
       "qty_dot_directory             0.719265\n",
       "qty_dot_domain                0.737726\n",
       "qty_plus_directory            0.755564\n",
       "qty_asterisk_file             0.772850\n",
       "qty_hashtag_file              0.790114\n",
       "qty_space_directory           0.807342\n",
       "qty_underline_file            0.821167\n",
       "qty_at_directory              0.833353\n",
       "qty_exclamation_directory     0.845419\n",
       "qty_plus_file                 0.857462\n",
       "qty_dollar_directory          0.869432\n",
       "qty_equal_directory           0.881260\n",
       "qty_exclamation_file          0.892760\n",
       "qty_dot_url                   0.904239\n",
       "qty_questionmark_directory    0.915713\n",
       "qty_at_file                   0.927183\n",
       "qty_hyphen_url                0.936094\n",
       "qty_hyphen_file               0.944893\n",
       "qty_equal_file                0.951158\n",
       "qty_space_file                0.956911\n",
       "qty_and_directory             0.962639\n",
       "qty_hyphen_domain             0.967018\n",
       "params_length                 0.969965\n",
       "dtype: float64"
      ]
     },
     "execution_count": 47,
     "metadata": {},
     "output_type": "execute_result"
    }
   ],
   "source": [
    "cum_sum[:40]"
   ]
  },
  {
   "cell_type": "code",
   "execution_count": 48,
   "id": "3ec93b7c",
   "metadata": {},
   "outputs": [],
   "source": [
    "from sklearn.metrics import classification_report"
   ]
  },
  {
   "cell_type": "code",
   "execution_count": 49,
   "id": "58920db8",
   "metadata": {},
   "outputs": [],
   "source": [
    "predictions = rf.predict(X_test)"
   ]
  },
  {
   "cell_type": "code",
   "execution_count": 50,
   "id": "6a415c63",
   "metadata": {},
   "outputs": [
    {
     "name": "stdout",
     "output_type": "stream",
     "text": [
      "              precision    recall  f1-score   support\n",
      "\n",
      "           0       0.97      0.96      0.96     11600\n",
      "           1       0.93      0.94      0.93      6130\n",
      "\n",
      "    accuracy                           0.95     17730\n",
      "   macro avg       0.95      0.95      0.95     17730\n",
      "weighted avg       0.95      0.95      0.95     17730\n",
      "\n"
     ]
    }
   ],
   "source": [
    "print(classification_report(y_test,predictions))"
   ]
  },
  {
   "cell_type": "markdown",
   "id": "41ff5e44",
   "metadata": {},
   "source": [
    "### Let's see how many features to keep"
   ]
  },
  {
   "cell_type": "code",
   "execution_count": 51,
   "id": "c5fb447d",
   "metadata": {},
   "outputs": [],
   "source": [
    "features_to_keep = [40,50,60,70]"
   ]
  },
  {
   "cell_type": "code",
   "execution_count": 52,
   "id": "b65c916e",
   "metadata": {},
   "outputs": [],
   "source": [
    "temp = X_train[cum_sum.index[0:features_to_keep[2]]]"
   ]
  },
  {
   "cell_type": "code",
   "execution_count": 53,
   "id": "200ac459",
   "metadata": {},
   "outputs": [
    {
     "data": {
      "text/html": [
       "<style>#sk-container-id-4 {color: black;background-color: white;}#sk-container-id-4 pre{padding: 0;}#sk-container-id-4 div.sk-toggleable {background-color: white;}#sk-container-id-4 label.sk-toggleable__label {cursor: pointer;display: block;width: 100%;margin-bottom: 0;padding: 0.3em;box-sizing: border-box;text-align: center;}#sk-container-id-4 label.sk-toggleable__label-arrow:before {content: \"▸\";float: left;margin-right: 0.25em;color: #696969;}#sk-container-id-4 label.sk-toggleable__label-arrow:hover:before {color: black;}#sk-container-id-4 div.sk-estimator:hover label.sk-toggleable__label-arrow:before {color: black;}#sk-container-id-4 div.sk-toggleable__content {max-height: 0;max-width: 0;overflow: hidden;text-align: left;background-color: #f0f8ff;}#sk-container-id-4 div.sk-toggleable__content pre {margin: 0.2em;color: black;border-radius: 0.25em;background-color: #f0f8ff;}#sk-container-id-4 input.sk-toggleable__control:checked~div.sk-toggleable__content {max-height: 200px;max-width: 100%;overflow: auto;}#sk-container-id-4 input.sk-toggleable__control:checked~label.sk-toggleable__label-arrow:before {content: \"▾\";}#sk-container-id-4 div.sk-estimator input.sk-toggleable__control:checked~label.sk-toggleable__label {background-color: #d4ebff;}#sk-container-id-4 div.sk-label input.sk-toggleable__control:checked~label.sk-toggleable__label {background-color: #d4ebff;}#sk-container-id-4 input.sk-hidden--visually {border: 0;clip: rect(1px 1px 1px 1px);clip: rect(1px, 1px, 1px, 1px);height: 1px;margin: -1px;overflow: hidden;padding: 0;position: absolute;width: 1px;}#sk-container-id-4 div.sk-estimator {font-family: monospace;background-color: #f0f8ff;border: 1px dotted black;border-radius: 0.25em;box-sizing: border-box;margin-bottom: 0.5em;}#sk-container-id-4 div.sk-estimator:hover {background-color: #d4ebff;}#sk-container-id-4 div.sk-parallel-item::after {content: \"\";width: 100%;border-bottom: 1px solid gray;flex-grow: 1;}#sk-container-id-4 div.sk-label:hover label.sk-toggleable__label {background-color: #d4ebff;}#sk-container-id-4 div.sk-serial::before {content: \"\";position: absolute;border-left: 1px solid gray;box-sizing: border-box;top: 0;bottom: 0;left: 50%;z-index: 0;}#sk-container-id-4 div.sk-serial {display: flex;flex-direction: column;align-items: center;background-color: white;padding-right: 0.2em;padding-left: 0.2em;position: relative;}#sk-container-id-4 div.sk-item {position: relative;z-index: 1;}#sk-container-id-4 div.sk-parallel {display: flex;align-items: stretch;justify-content: center;background-color: white;position: relative;}#sk-container-id-4 div.sk-item::before, #sk-container-id-4 div.sk-parallel-item::before {content: \"\";position: absolute;border-left: 1px solid gray;box-sizing: border-box;top: 0;bottom: 0;left: 50%;z-index: -1;}#sk-container-id-4 div.sk-parallel-item {display: flex;flex-direction: column;z-index: 1;position: relative;background-color: white;}#sk-container-id-4 div.sk-parallel-item:first-child::after {align-self: flex-end;width: 50%;}#sk-container-id-4 div.sk-parallel-item:last-child::after {align-self: flex-start;width: 50%;}#sk-container-id-4 div.sk-parallel-item:only-child::after {width: 0;}#sk-container-id-4 div.sk-dashed-wrapped {border: 1px dashed gray;margin: 0 0.4em 0.5em 0.4em;box-sizing: border-box;padding-bottom: 0.4em;background-color: white;}#sk-container-id-4 div.sk-label label {font-family: monospace;font-weight: bold;display: inline-block;line-height: 1.2em;}#sk-container-id-4 div.sk-label-container {text-align: center;}#sk-container-id-4 div.sk-container {/* jupyter's `normalize.less` sets `[hidden] { display: none; }` but bootstrap.min.css set `[hidden] { display: none !important; }` so we also need the `!important` here to be able to override the default hidden behavior on the sphinx rendered scikit-learn.org. See: https://github.com/scikit-learn/scikit-learn/issues/21755 */display: inline-block !important;position: relative;}#sk-container-id-4 div.sk-text-repr-fallback {display: none;}</style><div id=\"sk-container-id-4\" class=\"sk-top-container\"><div class=\"sk-text-repr-fallback\"><pre>RandomForestClassifier()</pre><b>In a Jupyter environment, please rerun this cell to show the HTML representation or trust the notebook. <br />On GitHub, the HTML representation is unable to render, please try loading this page with nbviewer.org.</b></div><div class=\"sk-container\" hidden><div class=\"sk-item\"><div class=\"sk-estimator sk-toggleable\"><input class=\"sk-toggleable__control sk-hidden--visually\" id=\"sk-estimator-id-4\" type=\"checkbox\" checked><label for=\"sk-estimator-id-4\" class=\"sk-toggleable__label sk-toggleable__label-arrow\">RandomForestClassifier</label><div class=\"sk-toggleable__content\"><pre>RandomForestClassifier()</pre></div></div></div></div></div>"
      ],
      "text/plain": [
       "RandomForestClassifier()"
      ]
     },
     "execution_count": 53,
     "metadata": {},
     "output_type": "execute_result"
    }
   ],
   "source": [
    "rf = RandomForestClassifier()\n",
    "rf.fit(temp,y_train)"
   ]
  },
  {
   "cell_type": "code",
   "execution_count": 54,
   "id": "5e7d6c18",
   "metadata": {},
   "outputs": [
    {
     "name": "stdout",
     "output_type": "stream",
     "text": [
      "              precision    recall  f1-score   support\n",
      "\n",
      "           0       0.97      0.97      0.97     11600\n",
      "           1       0.93      0.94      0.93      6130\n",
      "\n",
      "    accuracy                           0.95     17730\n",
      "   macro avg       0.95      0.95      0.95     17730\n",
      "weighted avg       0.96      0.95      0.96     17730\n",
      "\n"
     ]
    }
   ],
   "source": [
    "predictions = rf.predict(X_test[cum_sum.index[0:features_to_keep[2]]])\n",
    "print(classification_report(y_test,predictions))"
   ]
  },
  {
   "cell_type": "code",
   "execution_count": 55,
   "id": "676f8a2c",
   "metadata": {},
   "outputs": [
    {
     "data": {
      "text/plain": [
       "time_domain_activation        0.111907\n",
       "directory_length              0.212696\n",
       "qty_slash_url                 0.267056\n",
       "qty_tilde_file                0.318850\n",
       "qty_slash_directory           0.365769\n",
       "file_length                   0.408579\n",
       "length_url                    0.449617\n",
       "domain_length                 0.480419\n",
       "qty_vowels_domain             0.511013\n",
       "qty_percent_directory         0.540458\n",
       "qty_hyphen_directory          0.564499\n",
       "qty_questionmark_file         0.587964\n",
       "qty_dollar_file               0.611364\n",
       "qty_comma_directory           0.634385\n",
       "qty_asterisk_directory        0.657365\n",
       "qty_hashtag_directory         0.679197\n",
       "qty_dot_file                  0.700754\n",
       "qty_dot_directory             0.719265\n",
       "qty_dot_domain                0.737726\n",
       "qty_plus_directory            0.755564\n",
       "qty_asterisk_file             0.772850\n",
       "qty_hashtag_file              0.790114\n",
       "qty_space_directory           0.807342\n",
       "qty_underline_file            0.821167\n",
       "qty_at_directory              0.833353\n",
       "qty_exclamation_directory     0.845419\n",
       "qty_plus_file                 0.857462\n",
       "qty_dollar_directory          0.869432\n",
       "qty_equal_directory           0.881260\n",
       "qty_exclamation_file          0.892760\n",
       "qty_dot_url                   0.904239\n",
       "qty_questionmark_directory    0.915713\n",
       "qty_at_file                   0.927183\n",
       "qty_hyphen_url                0.936094\n",
       "qty_hyphen_file               0.944893\n",
       "qty_equal_file                0.951158\n",
       "qty_space_file                0.956911\n",
       "qty_and_directory             0.962639\n",
       "qty_hyphen_domain             0.967018\n",
       "params_length                 0.969965\n",
       "qty_underline_url             0.972609\n",
       "qty_underline_directory       0.974901\n",
       "qty_tld_url                   0.976913\n",
       "qty_asterisk_params           0.978671\n",
       "qty_comma_params              0.980351\n",
       "qty_dot_params                0.981828\n",
       "qty_percent_url               0.983215\n",
       "qty_params                    0.984595\n",
       "qty_percent_params            0.985919\n",
       "qty_equal_params              0.987033\n",
       "qty_equal_url                 0.988017\n",
       "qty_underline_params          0.988957\n",
       "qty_questionmark_params       0.989871\n",
       "qty_percent_file              0.990674\n",
       "qty_and_params                0.991427\n",
       "qty_slash_params              0.992098\n",
       "qty_dollar_params             0.992761\n",
       "qty_hashtag_params            0.993408\n",
       "qty_space_params              0.994041\n",
       "qty_hyphen_params             0.994648\n",
       "dtype: float64"
      ]
     },
     "execution_count": 55,
     "metadata": {},
     "output_type": "execute_result"
    }
   ],
   "source": [
    "cum_sum[0:60]"
   ]
  },
  {
   "cell_type": "markdown",
   "id": "e55d9a34",
   "metadata": {},
   "source": [
    "# We will keep top 60 features as they seem to be enough to get us good precision and recall"
   ]
  },
  {
   "cell_type": "markdown",
   "id": "659cc4e4",
   "metadata": {},
   "source": [
    "### Among the last 18 features for which we need to rely on external sites, I have decided to keep only time_domain_activation as it is one of the most important features"
   ]
  },
  {
   "cell_type": "markdown",
   "id": "14e07c02",
   "metadata": {},
   "source": [
    "# Extracting important features "
   ]
  },
  {
   "cell_type": "code",
   "execution_count": 56,
   "id": "1096afb3",
   "metadata": {},
   "outputs": [],
   "source": [
    "example_domain = \"https://zvento.com/secure/vpass/id/\""
   ]
  },
  {
   "cell_type": "code",
   "execution_count": null,
   "id": "0977ff3a",
   "metadata": {},
   "outputs": [],
   "source": []
  },
  {
   "cell_type": "markdown",
   "id": "615057e7",
   "metadata": {},
   "source": [
    "#### Domain Activation Time"
   ]
  },
  {
   "cell_type": "code",
   "execution_count": 57,
   "id": "18508d78",
   "metadata": {},
   "outputs": [],
   "source": [
    "import whois\n",
    "def get_time_domain_activation(domain):\n",
    "    try:\n",
    "        res = whois.whois(example_domain)\n",
    "        days= (datetime.datetime.now()-d).days\n",
    "        return days\n",
    "    except:\n",
    "        return -1"
   ]
  },
  {
   "cell_type": "code",
   "execution_count": 58,
   "id": "48ec8009",
   "metadata": {},
   "outputs": [
    {
     "data": {
      "text/plain": [
       "-1"
      ]
     },
     "execution_count": 58,
     "metadata": {},
     "output_type": "execute_result"
    }
   ],
   "source": [
    "get_time_domain_activation(example_domain)"
   ]
  },
  {
   "cell_type": "markdown",
   "id": "63f346ea",
   "metadata": {},
   "source": [
    "# TTl hostname"
   ]
  },
  {
   "cell_type": "code",
   "execution_count": null,
   "id": "eecd9486",
   "metadata": {},
   "outputs": [],
   "source": []
  },
  {
   "cell_type": "code",
   "execution_count": 59,
   "id": "fdfaba50",
   "metadata": {},
   "outputs": [],
   "source": [
    "import subprocess\n",
    "import re\n",
    "def get_ttl(domain):\n",
    "    try:\n",
    "        p = subprocess.Popen([\"ping\",domain], stdout=subprocess.PIPE)\n",
    "        res=p.communicate()[0]\n",
    "        pattern = re.compile('TTL=\\d*')\n",
    "        ttl =  pattern.search(str(res)).group()\n",
    "        return float(ttl.split(\"=\")[1])\n",
    "    except:\n",
    "        return -1"
   ]
  },
  {
   "cell_type": "code",
   "execution_count": 60,
   "id": "8420d83b",
   "metadata": {},
   "outputs": [
    {
     "data": {
      "text/plain": [
       "-1"
      ]
     },
     "execution_count": 60,
     "metadata": {},
     "output_type": "execute_result"
    }
   ],
   "source": [
    "get_ttl(example_domain)"
   ]
  },
  {
   "cell_type": "code",
   "execution_count": null,
   "id": "52f44481",
   "metadata": {},
   "outputs": [],
   "source": []
  },
  {
   "cell_type": "markdown",
   "id": "779e9990",
   "metadata": {},
   "source": [
    "### Final Feature Selection and deciding which features to keep"
   ]
  },
  {
   "cell_type": "code",
   "execution_count": 61,
   "id": "d64a0754",
   "metadata": {},
   "outputs": [
    {
     "data": {
      "text/plain": [
       "time_domain_activation        0.111907\n",
       "directory_length              0.212696\n",
       "qty_slash_url                 0.267056\n",
       "qty_tilde_file                0.318850\n",
       "qty_slash_directory           0.365769\n",
       "file_length                   0.408579\n",
       "length_url                    0.449617\n",
       "domain_length                 0.480419\n",
       "qty_vowels_domain             0.511013\n",
       "qty_percent_directory         0.540458\n",
       "qty_hyphen_directory          0.564499\n",
       "qty_questionmark_file         0.587964\n",
       "qty_dollar_file               0.611364\n",
       "qty_comma_directory           0.634385\n",
       "qty_asterisk_directory        0.657365\n",
       "qty_hashtag_directory         0.679197\n",
       "qty_dot_file                  0.700754\n",
       "qty_dot_directory             0.719265\n",
       "qty_dot_domain                0.737726\n",
       "qty_plus_directory            0.755564\n",
       "qty_asterisk_file             0.772850\n",
       "qty_hashtag_file              0.790114\n",
       "qty_space_directory           0.807342\n",
       "qty_underline_file            0.821167\n",
       "qty_at_directory              0.833353\n",
       "qty_exclamation_directory     0.845419\n",
       "qty_plus_file                 0.857462\n",
       "qty_dollar_directory          0.869432\n",
       "qty_equal_directory           0.881260\n",
       "qty_exclamation_file          0.892760\n",
       "qty_dot_url                   0.904239\n",
       "qty_questionmark_directory    0.915713\n",
       "qty_at_file                   0.927183\n",
       "qty_hyphen_url                0.936094\n",
       "qty_hyphen_file               0.944893\n",
       "qty_equal_file                0.951158\n",
       "qty_space_file                0.956911\n",
       "qty_and_directory             0.962639\n",
       "qty_hyphen_domain             0.967018\n",
       "params_length                 0.969965\n",
       "qty_underline_url             0.972609\n",
       "qty_underline_directory       0.974901\n",
       "qty_tld_url                   0.976913\n",
       "qty_asterisk_params           0.978671\n",
       "qty_comma_params              0.980351\n",
       "qty_dot_params                0.981828\n",
       "qty_percent_url               0.983215\n",
       "qty_params                    0.984595\n",
       "qty_percent_params            0.985919\n",
       "qty_equal_params              0.987033\n",
       "qty_equal_url                 0.988017\n",
       "qty_underline_params          0.988957\n",
       "qty_questionmark_params       0.989871\n",
       "qty_percent_file              0.990674\n",
       "qty_and_params                0.991427\n",
       "qty_slash_params              0.992098\n",
       "qty_dollar_params             0.992761\n",
       "qty_hashtag_params            0.993408\n",
       "qty_space_params              0.994041\n",
       "qty_hyphen_params             0.994648\n",
       "dtype: float64"
      ]
     },
     "execution_count": 61,
     "metadata": {},
     "output_type": "execute_result"
    }
   ],
   "source": [
    "cum_sum[0:60]"
   ]
  },
  {
   "cell_type": "code",
   "execution_count": 62,
   "id": "343452e7",
   "metadata": {},
   "outputs": [],
   "source": [
    "top_60_features = cum_sum.index[0:60]"
   ]
  },
  {
   "cell_type": "code",
   "execution_count": 63,
   "id": "8fa7cb65",
   "metadata": {},
   "outputs": [
    {
     "data": {
      "text/plain": [
       "Index(['time_domain_activation', 'directory_length', 'qty_slash_url',\n",
       "       'qty_tilde_file', 'qty_slash_directory', 'file_length', 'length_url',\n",
       "       'domain_length', 'qty_vowels_domain', 'qty_percent_directory',\n",
       "       'qty_hyphen_directory', 'qty_questionmark_file', 'qty_dollar_file',\n",
       "       'qty_comma_directory', 'qty_asterisk_directory',\n",
       "       'qty_hashtag_directory', 'qty_dot_file', 'qty_dot_directory',\n",
       "       'qty_dot_domain', 'qty_plus_directory', 'qty_asterisk_file',\n",
       "       'qty_hashtag_file', 'qty_space_directory', 'qty_underline_file',\n",
       "       'qty_at_directory', 'qty_exclamation_directory', 'qty_plus_file',\n",
       "       'qty_dollar_directory', 'qty_equal_directory', 'qty_exclamation_file',\n",
       "       'qty_dot_url', 'qty_questionmark_directory', 'qty_at_file',\n",
       "       'qty_hyphen_url', 'qty_hyphen_file', 'qty_equal_file', 'qty_space_file',\n",
       "       'qty_and_directory', 'qty_hyphen_domain', 'params_length',\n",
       "       'qty_underline_url', 'qty_underline_directory', 'qty_tld_url',\n",
       "       'qty_asterisk_params', 'qty_comma_params', 'qty_dot_params',\n",
       "       'qty_percent_url', 'qty_params', 'qty_percent_params',\n",
       "       'qty_equal_params', 'qty_equal_url', 'qty_underline_params',\n",
       "       'qty_questionmark_params', 'qty_percent_file', 'qty_and_params',\n",
       "       'qty_slash_params', 'qty_dollar_params', 'qty_hashtag_params',\n",
       "       'qty_space_params', 'qty_hyphen_params'],\n",
       "      dtype='object')"
      ]
     },
     "execution_count": 63,
     "metadata": {},
     "output_type": "execute_result"
    }
   ],
   "source": [
    "top_60_features"
   ]
  },
  {
   "cell_type": "code",
   "execution_count": 64,
   "id": "e9298c36",
   "metadata": {},
   "outputs": [
    {
     "data": {
      "text/plain": [
       "{'qty_and_directory',\n",
       " 'qty_and_file',\n",
       " 'qty_and_params',\n",
       " 'qty_and_url',\n",
       " 'qty_asterisk_directory',\n",
       " 'qty_asterisk_file',\n",
       " 'qty_asterisk_params',\n",
       " 'qty_at_directory',\n",
       " 'qty_at_file',\n",
       " 'qty_at_params',\n",
       " 'qty_comma_directory',\n",
       " 'qty_comma_file',\n",
       " 'qty_comma_params',\n",
       " 'qty_dollar_directory',\n",
       " 'qty_dollar_file',\n",
       " 'qty_dollar_params',\n",
       " 'qty_dot_file',\n",
       " 'qty_equal_directory',\n",
       " 'qty_equal_file',\n",
       " 'qty_equal_params',\n",
       " 'qty_exclamation_directory',\n",
       " 'qty_exclamation_file',\n",
       " 'qty_exclamation_params',\n",
       " 'qty_hashtag_directory',\n",
       " 'qty_hashtag_file',\n",
       " 'qty_hashtag_params',\n",
       " 'qty_params',\n",
       " 'qty_percent_file',\n",
       " 'qty_plus_directory',\n",
       " 'qty_plus_file',\n",
       " 'qty_plus_params',\n",
       " 'qty_questionmark_file',\n",
       " 'qty_slash_directory',\n",
       " 'qty_slash_file',\n",
       " 'qty_space_directory',\n",
       " 'qty_space_file',\n",
       " 'qty_space_params',\n",
       " 'qty_tilde_directory',\n",
       " 'qty_tilde_file',\n",
       " 'qty_tilde_params',\n",
       " 'qty_underline_file',\n",
       " 'tld_present_params'}"
      ]
     },
     "execution_count": 64,
     "metadata": {},
     "output_type": "execute_result"
    }
   ],
   "source": [
    "corelated_features"
   ]
  },
  {
   "cell_type": "code",
   "execution_count": 65,
   "id": "2b380dfa",
   "metadata": {},
   "outputs": [
    {
     "data": {
      "text/plain": [
       "['qty_slash_domain',\n",
       " 'qty_questionmark_domain',\n",
       " 'qty_equal_domain',\n",
       " 'qty_and_domain',\n",
       " 'qty_exclamation_domain',\n",
       " 'qty_space_domain',\n",
       " 'qty_tilde_domain',\n",
       " 'qty_comma_domain',\n",
       " 'qty_plus_domain',\n",
       " 'qty_asterisk_domain',\n",
       " 'qty_hashtag_domain',\n",
       " 'qty_dollar_domain',\n",
       " 'qty_percent_domain']"
      ]
     },
     "execution_count": 65,
     "metadata": {},
     "output_type": "execute_result"
    }
   ],
   "source": [
    "constant_columns"
   ]
  },
  {
   "cell_type": "markdown",
   "id": "b6ff1705",
   "metadata": {},
   "source": [
    "## Constant Columns that are part of top 60 features"
   ]
  },
  {
   "cell_type": "code",
   "execution_count": 66,
   "id": "635e24a8",
   "metadata": {},
   "outputs": [
    {
     "data": {
      "text/plain": [
       "set()"
      ]
     },
     "execution_count": 66,
     "metadata": {},
     "output_type": "execute_result"
    }
   ],
   "source": [
    "set(constant_columns).intersection(set(top_60_features))"
   ]
  },
  {
   "cell_type": "markdown",
   "id": "0b78a1dc",
   "metadata": {},
   "source": [
    "There is no constant feature in top 60 features"
   ]
  },
  {
   "cell_type": "markdown",
   "id": "4f9838f9",
   "metadata": {},
   "source": [
    "## Corelation analysis on top 60 features"
   ]
  },
  {
   "cell_type": "code",
   "execution_count": 67,
   "id": "e4e2b2bc",
   "metadata": {},
   "outputs": [],
   "source": [
    "X_train_top_60 = X_train[top_60_features]"
   ]
  },
  {
   "cell_type": "code",
   "execution_count": 68,
   "id": "af6e202b",
   "metadata": {},
   "outputs": [
    {
     "data": {
      "image/png": "[encoded data removed]",
      "text/plain": [
       "<Figure size 864x720 with 2 Axes>"
      ]
     },
     "metadata": {
      "needs_background": "light"
     },
     "output_type": "display_data"
    }
   ],
   "source": [
    "plt.figure(figsize=(12,10))\n",
    "cor = X_train_top_60.corr()\n",
    "sns.heatmap(cor, cmap=plt.cm.CMRmap_r)\n",
    "plt.show()"
   ]
  },
  {
   "cell_type": "code",
   "execution_count": 69,
   "id": "d7a7e1e9",
   "metadata": {},
   "outputs": [],
   "source": [
    "top_60_corelated_features = get_high_correlation_feature(X_train_top_60,0.85)"
   ]
  },
  {
   "cell_type": "code",
   "execution_count": 70,
   "id": "bb422e3a",
   "metadata": {},
   "outputs": [
    {
     "data": {
      "text/plain": [
       "34"
      ]
     },
     "execution_count": 70,
     "metadata": {},
     "output_type": "execute_result"
    }
   ],
   "source": [
    "len(top_60_corelated_features)"
   ]
  },
  {
   "cell_type": "code",
   "execution_count": 71,
   "id": "c006faab",
   "metadata": {},
   "outputs": [
    {
     "name": "stderr",
     "output_type": "stream",
     "text": [
      "C:\\Users\\rachi\\anaconda3\\lib\\site-packages\\pandas\\core\\frame.py:4308: SettingWithCopyWarning: \n",
      "A value is trying to be set on a copy of a slice from a DataFrame\n",
      "\n",
      "See the caveats in the documentation: https://pandas.pydata.org/pandas-docs/stable/user_guide/indexing.html#returning-a-view-versus-a-copy\n",
      "  return super().drop(\n"
     ]
    }
   ],
   "source": [
    "X_train_top_60.drop(top_60_corelated_features,axis=1,inplace=True)"
   ]
  },
  {
   "cell_type": "code",
   "execution_count": 72,
   "id": "0098b6d2",
   "metadata": {},
   "outputs": [],
   "source": [
    "X_test_top_60 = X_test[X_train_top_60.columns]"
   ]
  },
  {
   "cell_type": "code",
   "execution_count": null,
   "id": "1cfe5048",
   "metadata": {},
   "outputs": [],
   "source": []
  },
  {
   "cell_type": "code",
   "execution_count": null,
   "id": "a8838c9c",
   "metadata": {},
   "outputs": [],
   "source": []
  },
  {
   "cell_type": "code",
   "execution_count": 73,
   "id": "a1445ecc",
   "metadata": {},
   "outputs": [
    {
     "data": {
      "text/html": [
       "<style>#sk-container-id-5 {color: black;background-color: white;}#sk-container-id-5 pre{padding: 0;}#sk-container-id-5 div.sk-toggleable {background-color: white;}#sk-container-id-5 label.sk-toggleable__label {cursor: pointer;display: block;width: 100%;margin-bottom: 0;padding: 0.3em;box-sizing: border-box;text-align: center;}#sk-container-id-5 label.sk-toggleable__label-arrow:before {content: \"▸\";float: left;margin-right: 0.25em;color: #696969;}#sk-container-id-5 label.sk-toggleable__label-arrow:hover:before {color: black;}#sk-container-id-5 div.sk-estimator:hover label.sk-toggleable__label-arrow:before {color: black;}#sk-container-id-5 div.sk-toggleable__content {max-height: 0;max-width: 0;overflow: hidden;text-align: left;background-color: #f0f8ff;}#sk-container-id-5 div.sk-toggleable__content pre {margin: 0.2em;color: black;border-radius: 0.25em;background-color: #f0f8ff;}#sk-container-id-5 input.sk-toggleable__control:checked~div.sk-toggleable__content {max-height: 200px;max-width: 100%;overflow: auto;}#sk-container-id-5 input.sk-toggleable__control:checked~label.sk-toggleable__label-arrow:before {content: \"▾\";}#sk-container-id-5 div.sk-estimator input.sk-toggleable__control:checked~label.sk-toggleable__label {background-color: #d4ebff;}#sk-container-id-5 div.sk-label input.sk-toggleable__control:checked~label.sk-toggleable__label {background-color: #d4ebff;}#sk-container-id-5 input.sk-hidden--visually {border: 0;clip: rect(1px 1px 1px 1px);clip: rect(1px, 1px, 1px, 1px);height: 1px;margin: -1px;overflow: hidden;padding: 0;position: absolute;width: 1px;}#sk-container-id-5 div.sk-estimator {font-family: monospace;background-color: #f0f8ff;border: 1px dotted black;border-radius: 0.25em;box-sizing: border-box;margin-bottom: 0.5em;}#sk-container-id-5 div.sk-estimator:hover {background-color: #d4ebff;}#sk-container-id-5 div.sk-parallel-item::after {content: \"\";width: 100%;border-bottom: 1px solid gray;flex-grow: 1;}#sk-container-id-5 div.sk-label:hover label.sk-toggleable__label {background-color: #d4ebff;}#sk-container-id-5 div.sk-serial::before {content: \"\";position: absolute;border-left: 1px solid gray;box-sizing: border-box;top: 0;bottom: 0;left: 50%;z-index: 0;}#sk-container-id-5 div.sk-serial {display: flex;flex-direction: column;align-items: center;background-color: white;padding-right: 0.2em;padding-left: 0.2em;position: relative;}#sk-container-id-5 div.sk-item {position: relative;z-index: 1;}#sk-container-id-5 div.sk-parallel {display: flex;align-items: stretch;justify-content: center;background-color: white;position: relative;}#sk-container-id-5 div.sk-item::before, #sk-container-id-5 div.sk-parallel-item::before {content: \"\";position: absolute;border-left: 1px solid gray;box-sizing: border-box;top: 0;bottom: 0;left: 50%;z-index: -1;}#sk-container-id-5 div.sk-parallel-item {display: flex;flex-direction: column;z-index: 1;position: relative;background-color: white;}#sk-container-id-5 div.sk-parallel-item:first-child::after {align-self: flex-end;width: 50%;}#sk-container-id-5 div.sk-parallel-item:last-child::after {align-self: flex-start;width: 50%;}#sk-container-id-5 div.sk-parallel-item:only-child::after {width: 0;}#sk-container-id-5 div.sk-dashed-wrapped {border: 1px dashed gray;margin: 0 0.4em 0.5em 0.4em;box-sizing: border-box;padding-bottom: 0.4em;background-color: white;}#sk-container-id-5 div.sk-label label {font-family: monospace;font-weight: bold;display: inline-block;line-height: 1.2em;}#sk-container-id-5 div.sk-label-container {text-align: center;}#sk-container-id-5 div.sk-container {/* jupyter's `normalize.less` sets `[hidden] { display: none; }` but bootstrap.min.css set `[hidden] { display: none !important; }` so we also need the `!important` here to be able to override the default hidden behavior on the sphinx rendered scikit-learn.org. See: https://github.com/scikit-learn/scikit-learn/issues/21755 */display: inline-block !important;position: relative;}#sk-container-id-5 div.sk-text-repr-fallback {display: none;}</style><div id=\"sk-container-id-5\" class=\"sk-top-container\"><div class=\"sk-text-repr-fallback\"><pre>RandomForestClassifier()</pre><b>In a Jupyter environment, please rerun this cell to show the HTML representation or trust the notebook. <br />On GitHub, the HTML representation is unable to render, please try loading this page with nbviewer.org.</b></div><div class=\"sk-container\" hidden><div class=\"sk-item\"><div class=\"sk-estimator sk-toggleable\"><input class=\"sk-toggleable__control sk-hidden--visually\" id=\"sk-estimator-id-5\" type=\"checkbox\" checked><label for=\"sk-estimator-id-5\" class=\"sk-toggleable__label sk-toggleable__label-arrow\">RandomForestClassifier</label><div class=\"sk-toggleable__content\"><pre>RandomForestClassifier()</pre></div></div></div></div></div>"
      ],
      "text/plain": [
       "RandomForestClassifier()"
      ]
     },
     "execution_count": 73,
     "metadata": {},
     "output_type": "execute_result"
    }
   ],
   "source": [
    "rf = RandomForestClassifier()\n",
    "rf.fit(X_train_top_60,y_train)\n"
   ]
  },
  {
   "cell_type": "code",
   "execution_count": 74,
   "id": "def8f12c",
   "metadata": {},
   "outputs": [
    {
     "name": "stdout",
     "output_type": "stream",
     "text": [
      "              precision    recall  f1-score   support\n",
      "\n",
      "           0       0.97      0.96      0.96     11600\n",
      "           1       0.93      0.94      0.93      6130\n",
      "\n",
      "    accuracy                           0.95     17730\n",
      "   macro avg       0.95      0.95      0.95     17730\n",
      "weighted avg       0.95      0.95      0.95     17730\n",
      "\n"
     ]
    }
   ],
   "source": [
    "predictions = rf.predict(X_test_top_60)\n",
    "print(classification_report(y_test,predictions))"
   ]
  },
  {
   "cell_type": "markdown",
   "id": "b5956d7b",
   "metadata": {},
   "source": [
    "# We are getting good results even after dropping highly corelated features. So we can go ahead with the top 26 features itself"
   ]
  },
  {
   "cell_type": "code",
   "execution_count": 75,
   "id": "799305ca",
   "metadata": {},
   "outputs": [],
   "source": [
    "top_features = X_train_top_60.columns"
   ]
  },
  {
   "cell_type": "code",
   "execution_count": 76,
   "id": "8a907233",
   "metadata": {},
   "outputs": [
    {
     "data": {
      "text/plain": [
       "Index(['time_domain_activation', 'directory_length', 'qty_slash_url',\n",
       "       'qty_tilde_file', 'file_length', 'length_url', 'domain_length',\n",
       "       'qty_vowels_domain', 'qty_percent_directory', 'qty_hyphen_directory',\n",
       "       'qty_dot_domain', 'qty_dot_url', 'qty_hyphen_url', 'qty_hyphen_file',\n",
       "       'qty_hyphen_domain', 'params_length', 'qty_underline_url',\n",
       "       'qty_tld_url', 'qty_asterisk_params', 'qty_dot_params',\n",
       "       'qty_percent_url', 'qty_params', 'qty_percent_params',\n",
       "       'qty_underline_params', 'qty_slash_params', 'qty_hyphen_params'],\n",
       "      dtype='object')"
      ]
     },
     "execution_count": 76,
     "metadata": {},
     "output_type": "execute_result"
    }
   ],
   "source": [
    "top_features"
   ]
  },
  {
   "cell_type": "markdown",
   "id": "05e985a3",
   "metadata": {},
   "source": [
    "# Transformations on final features"
   ]
  },
  {
   "cell_type": "code",
   "execution_count": 77,
   "id": "bbbe8472",
   "metadata": {},
   "outputs": [],
   "source": [
    "numerical_features = [feature for feature in top_features if df[feature].dtype!='O']"
   ]
  },
  {
   "cell_type": "code",
   "execution_count": 78,
   "id": "45b6640b",
   "metadata": {},
   "outputs": [],
   "source": [
    "discrete_features = [feature for feature in top_features if len(df[feature].unique())<=25]"
   ]
  },
  {
   "cell_type": "code",
   "execution_count": 79,
   "id": "7b5c3c28",
   "metadata": {},
   "outputs": [],
   "source": [
    "continuous_features = list(set(numerical_features) - set(discrete_features))"
   ]
  },
  {
   "cell_type": "code",
   "execution_count": 80,
   "id": "8a115637",
   "metadata": {},
   "outputs": [
    {
     "data": {
      "text/plain": [
       "['domain_length',\n",
       " 'file_length',\n",
       " 'length_url',\n",
       " 'qty_percent_directory',\n",
       " 'qty_hyphen_url',\n",
       " 'params_length',\n",
       " 'qty_hyphen_params',\n",
       " 'qty_percent_url',\n",
       " 'directory_length',\n",
       " 'qty_percent_params',\n",
       " 'qty_vowels_domain',\n",
       " 'time_domain_activation']"
      ]
     },
     "execution_count": 80,
     "metadata": {},
     "output_type": "execute_result"
    }
   ],
   "source": [
    "continuous_features"
   ]
  },
  {
   "cell_type": "markdown",
   "id": "837bf1fc",
   "metadata": {},
   "source": [
    "##### Will use EDA to figure out which transformation to use for which feature"
   ]
  },
  {
   "cell_type": "markdown",
   "id": "bbb2f14d",
   "metadata": {},
   "source": [
    "## Transformation 1: Use Box Cox Transformation on length_url"
   ]
  },
  {
   "cell_type": "code",
   "execution_count": 81,
   "id": "1ad0ad5a",
   "metadata": {},
   "outputs": [
    {
     "data": {
      "text/plain": [
       "0         25\n",
       "1        223\n",
       "2         15\n",
       "3         81\n",
       "4         19\n",
       "        ... \n",
       "88642     23\n",
       "88643     34\n",
       "88644     70\n",
       "88645     28\n",
       "88646     16\n",
       "Name: length_url, Length: 88647, dtype: int64"
      ]
     },
     "execution_count": 81,
     "metadata": {},
     "output_type": "execute_result"
    }
   ],
   "source": [
    "df['length_url']"
   ]
  },
  {
   "cell_type": "code",
   "execution_count": 82,
   "id": "7b707884",
   "metadata": {},
   "outputs": [],
   "source": [
    "import scipy.stats as stat\n",
    "import pylab "
   ]
  },
  {
   "cell_type": "code",
   "execution_count": 83,
   "id": "cebefb9f",
   "metadata": {},
   "outputs": [
    {
     "name": "stderr",
     "output_type": "stream",
     "text": [
      "C:\\Users\\rachi\\anaconda3\\lib\\site-packages\\seaborn\\distributions.py:2557: FutureWarning: `distplot` is a deprecated function and will be removed in a future version. Please adapt your code to use either `displot` (a figure-level function with similar flexibility) or `histplot` (an axes-level function for histograms).\n",
      "  warnings.warn(msg, FutureWarning)\n"
     ]
    },
    {
     "data": {
      "image/png": "[encoded data removed]",
      "text/plain": [
       "<Figure size 432x288 with 1 Axes>"
      ]
     },
     "metadata": {
      "needs_background": "light"
     },
     "output_type": "display_data"
    },
    {
     "name": "stderr",
     "output_type": "stream",
     "text": [
      "C:\\Users\\rachi\\anaconda3\\lib\\site-packages\\seaborn\\distributions.py:2557: FutureWarning: `distplot` is a deprecated function and will be removed in a future version. Please adapt your code to use either `displot` (a figure-level function with similar flexibility) or `histplot` (an axes-level function for histograms).\n",
      "  warnings.warn(msg, FutureWarning)\n"
     ]
    },
    {
     "data": {
      "image/png": "[encoded data removed]",
      "text/plain": [
       "<Figure size 432x288 with 3 Axes>"
      ]
     },
     "metadata": {
      "needs_background": "light"
     },
     "output_type": "display_data"
    }
   ],
   "source": [
    "for feature in ['length_url']:\n",
    "    sns.distplot(df[feature])\n",
    "    plt.show()\n",
    "    if 0 in df[feature].unique():\n",
    "        pass\n",
    "    else:\n",
    "        try:\n",
    "            f, parameters =  stat.boxcox(df[feature])\n",
    "        except:\n",
    "            continue\n",
    "        plt.subplot(1,3,1)\n",
    "        plt.scatter(f,df['phishing'])\n",
    "        plt.xlabel(feature)\n",
    "        \n",
    "        plt.title(f\"{feature} vs phishing\")\n",
    "        plt.subplot(1,3,2)\n",
    "        stat.probplot(f,dist='norm',plot=pylab)\n",
    "        \n",
    "        plt.subplot(1,3,3)\n",
    "        sns.distplot(f)\n",
    "        \n",
    "        plt.show()"
   ]
  },
  {
   "cell_type": "markdown",
   "id": "6f244ce5",
   "metadata": {},
   "source": [
    "#### Clearly this feature is becoming normal now, so using this transformation"
   ]
  },
  {
   "cell_type": "markdown",
   "id": "40a11b35",
   "metadata": {},
   "source": [
    "### Other features are already normal or we are not able to make other features normal"
   ]
  },
  {
   "cell_type": "markdown",
   "id": "1c44cc7a",
   "metadata": {},
   "source": [
    "# Final Pipeline"
   ]
  },
  {
   "cell_type": "code",
   "execution_count": 84,
   "id": "c16801cc",
   "metadata": {},
   "outputs": [],
   "source": [
    "from sklearn.base import BaseEstimator, TransformerMixin"
   ]
  },
  {
   "cell_type": "code",
   "execution_count": 85,
   "id": "5cf3a264",
   "metadata": {},
   "outputs": [],
   "source": [
    "import scipy.stats as stat\n",
    "import pylab \n",
    "\n",
    "class box_cox_transformation(BaseEstimator, TransformerMixin):\n",
    "    \n",
    "    def __init__(self, features, flag):\n",
    "        self.features = features\n",
    "        self.flag = flag\n",
    "    \n",
    "    def fit(self, X, y=None):\n",
    "        return self\n",
    "    \n",
    "    def transform(self,X,y=None):\n",
    "        #df = X.copy()\n",
    "        if not self.flag:\n",
    "            return X\n",
    "        \n",
    "        for feature in self.features:\n",
    "            try:\n",
    "                # Apply box cox transformations\n",
    "                X[feature], parameter = stat.boxcox(X[feature])\n",
    "                print(X[feature])\n",
    "            except:\n",
    "                pass\n",
    "        return X\n",
    "            \n",
    "        "
   ]
  },
  {
   "cell_type": "code",
   "execution_count": 86,
   "id": "dd97ebe0",
   "metadata": {},
   "outputs": [],
   "source": [
    "from sklearn.pipeline import Pipeline"
   ]
  },
  {
   "cell_type": "code",
   "execution_count": 87,
   "id": "ff474d15",
   "metadata": {},
   "outputs": [],
   "source": [
    "pipeline = Pipeline([\n",
    "    ('imputer', SimpleImputer(strategy='median')),\n",
    "    ('box_cox_transformation', box_cox_transformation(['length_url'], False)),\n",
    "    ('std_scaler',StandardScaler())\n",
    "])"
   ]
  },
  {
   "cell_type": "markdown",
   "id": "903f66c6",
   "metadata": {},
   "source": [
    "#### Using pipeline"
   ]
  },
  {
   "cell_type": "code",
   "execution_count": 88,
   "id": "d6170341",
   "metadata": {},
   "outputs": [],
   "source": [
    "temp = pipeline.fit_transform(df[top_features])"
   ]
  },
  {
   "cell_type": "code",
   "execution_count": 89,
   "id": "770ec54a",
   "metadata": {},
   "outputs": [
    {
     "data": {
      "text/plain": [
       "array([[-1.11383416, -0.11734707, -0.14878176, ..., -0.20990297,\n",
       "        -0.20493599, -0.19169948],\n",
       "       [-0.9233047 ,  1.27881371,  0.90722979, ...,  2.83772108,\n",
       "         1.62696484,  1.3874831 ],\n",
       "       [-1.11383416, -0.40479193, -0.14878176, ..., -0.20990297,\n",
       "        -0.20493599, -0.19169948],\n",
       "       ...,\n",
       "       [-0.50775336,  1.52519502,  1.96324134, ..., -0.20990297,\n",
       "        -0.20493599, -0.19169948],\n",
       "       [-1.11383416, -0.40479193, -0.14878176, ..., -0.20990297,\n",
       "        -0.20493599, -0.19169948],\n",
       "       [-1.01495594, -0.48691904, -0.67678753, ..., -0.20990297,\n",
       "        -0.20493599, -0.19169948]])"
      ]
     },
     "execution_count": 89,
     "metadata": {},
     "output_type": "execute_result"
    }
   ],
   "source": [
    "temp"
   ]
  },
  {
   "cell_type": "code",
   "execution_count": 90,
   "id": "111c1d03",
   "metadata": {},
   "outputs": [],
   "source": [
    "temp = pd.DataFrame(temp, columns=top_features)"
   ]
  },
  {
   "cell_type": "code",
   "execution_count": 91,
   "id": "c6d0260f",
   "metadata": {},
   "outputs": [
    {
     "name": "stderr",
     "output_type": "stream",
     "text": [
      "C:\\Users\\rachi\\anaconda3\\lib\\site-packages\\seaborn\\distributions.py:2557: FutureWarning: `distplot` is a deprecated function and will be removed in a future version. Please adapt your code to use either `displot` (a figure-level function with similar flexibility) or `histplot` (an axes-level function for histograms).\n",
      "  warnings.warn(msg, FutureWarning)\n"
     ]
    },
    {
     "data": {
      "text/plain": [
       "<AxesSubplot:xlabel='length_url', ylabel='Density'>"
      ]
     },
     "execution_count": 91,
     "metadata": {},
     "output_type": "execute_result"
    },
    {
     "data": {
      "image/png": "[encoded data removed]",
      "text/plain": [
       "<Figure size 432x288 with 1 Axes>"
      ]
     },
     "metadata": {
      "needs_background": "light"
     },
     "output_type": "display_data"
    }
   ],
   "source": [
    "sns.distplot(temp['length_url'])"
   ]
  },
  {
   "cell_type": "markdown",
   "id": "f6a43fdf",
   "metadata": {},
   "source": [
    "Now from here on, we can simply use this pipeline to do pre-processing"
   ]
  },
  {
   "cell_type": "code",
   "execution_count": 477,
   "id": "bc1bc1bd",
   "metadata": {},
   "outputs": [],
   "source": []
  },
  {
   "cell_type": "code",
   "execution_count": 92,
   "id": "dba1bf24",
   "metadata": {},
   "outputs": [
    {
     "data": {
      "text/plain": [
       "['preprocess_pipeline.joblib']"
      ]
     },
     "execution_count": 92,
     "metadata": {},
     "output_type": "execute_result"
    }
   ],
   "source": [
    "joblib.dump(pipeline,'preprocess_pipeline.joblib')"
   ]
  },
  {
   "cell_type": "code",
   "execution_count": null,
   "id": "a7b11661",
   "metadata": {},
   "outputs": [],
   "source": []
  }
 ],
 "metadata": {
  "kernelspec": {
   "display_name": "Python 3",
   "language": "python",
   "name": "python3"
  },
  "language_info": {
   "codemirror_mode": {
    "name": "ipython",
    "version": 3
   },
   "file_extension": ".py",
   "mimetype": "text/x-python",
   "name": "python",
   "nbconvert_exporter": "python",
   "pygments_lexer": "ipython3",
   "version": "3.8.8"
  }
 },
 "nbformat": 4,
 "nbformat_minor": 5
}
