{
 "cells": [
  {
   "cell_type": "code",
   "execution_count": 1,
   "metadata": {},
   "outputs": [],
   "source": [
    "import os"
   ]
  },
  {
   "cell_type": "code",
   "execution_count": 2,
   "metadata": {},
   "outputs": [],
   "source": [
    "os.chdir(\"..\")"
   ]
  },
  {
   "cell_type": "code",
   "execution_count": 3,
   "metadata": {},
   "outputs": [],
   "source": [
    "from phishing_domain_detection.entity.feature_extractor import FeatureExtractor"
   ]
  },
  {
   "cell_type": "code",
   "execution_count": 4,
   "metadata": {},
   "outputs": [],
   "source": [
    "from phishing_domain_detection.logger import logging\n",
    "from phishing_domain_detection.exception import Phishing_Exception"
   ]
  },
  {
   "cell_type": "code",
   "execution_count": 5,
   "metadata": {},
   "outputs": [],
   "source": [
    "from phishing_domain_detection.util.util import load_object"
   ]
  },
  {
   "cell_type": "code",
   "execution_count": 6,
   "metadata": {},
   "outputs": [],
   "source": [
    "import os,sys"
   ]
  },
  {
   "cell_type": "code",
   "execution_count": 7,
   "metadata": {},
   "outputs": [],
   "source": [
    "extractor = FeatureExtractor()"
   ]
  },
  {
   "cell_type": "code",
   "execution_count": null,
   "metadata": {},
   "outputs": [],
   "source": []
  },
  {
   "cell_type": "code",
   "execution_count": 8,
   "metadata": {},
   "outputs": [],
   "source": [
    "model_directory = \"saved_models\""
   ]
  },
  {
   "cell_type": "code",
   "execution_count": 9,
   "metadata": {},
   "outputs": [
    {
     "data": {
      "text/plain": [
       "'20221002005943'"
      ]
     },
     "execution_count": 9,
     "metadata": {},
     "output_type": "execute_result"
    }
   ],
   "source": [
    "max(os.listdir(model_directory)) ## getting the latest model in production"
   ]
  },
  {
   "cell_type": "code",
   "execution_count": 10,
   "metadata": {},
   "outputs": [],
   "source": [
    "from typing import List"
   ]
  },
  {
   "cell_type": "code",
   "execution_count": 11,
   "metadata": {},
   "outputs": [],
   "source": [
    "class PhishingEstimator:\n",
    "    \"\"\"class responsible formaking final predictions\n",
    "    \"\"\"\n",
    "    def __init__(self, model_dir: str):\n",
    "        try:\n",
    "            self.model_dir = model_dir\n",
    "        except Exception as e:\n",
    "            raise Phishing_Exception(e,sys)\n",
    "        \n",
    "    def get_latest_model_path(self):\n",
    "        try:\n",
    "            folder_names = list(map(int, os.listdir(self.model_dir)))\n",
    "            latest_model_dir = os.path.join(self.model_dir, f\"{max(folder_names)}\")\n",
    "            file_name = os.listdir(latest_model_dir)[0]\n",
    "            latest_model_path = os.path.join(latest_model_dir, file_name)\n",
    "            return latest_model_path\n",
    "        except Exception as e:\n",
    "            raise Phishing_Exception(e,sys) from e\n",
    "        \n",
    "    def predict(self,url_list:List[str]):\n",
    "        try:\n",
    "            model_in_production_path = self.get_latest_model_path() ## The latest model is the model in production\n",
    "            extractor = FeatureExtractor()\n",
    "            features_from_url_df = extractor.generate_dataframe_from_urls(url_list)\n",
    "            model = load_object(model_in_production_path)\n",
    "            \n",
    "            return model.predict(features_from_url_df)\n",
    "            \n",
    "        except Exception as e:\n",
    "            raise Phishing_Exception(e,sys) from e\n",
    "        \n",
    "    def predict_proba(self,url_list:List[str]):\n",
    "        try:\n",
    "            model_in_production_path = self.get_latest_model_path() ## The latest model is the model in production\n",
    "            extractor = FeatureExtractor()\n",
    "            features_from_url_df = extractor.generate_dataframe_from_urls(url_list)\n",
    "            model = load_object(model_in_production_path)\n",
    "            \n",
    "            return model.predict_proba(features_from_url_df)\n",
    "            \n",
    "        except Exception as e:\n",
    "            raise Phishing_Exception(e,sys) from e\n",
    "        "
   ]
  },
  {
   "cell_type": "code",
   "execution_count": 12,
   "metadata": {},
   "outputs": [],
   "source": [
    "pe = PhishingEstimator(model_directory)"
   ]
  },
  {
   "cell_type": "code",
   "execution_count": 13,
   "metadata": {},
   "outputs": [],
   "source": [
    "urls = [\"https://bloqueioltau.site/Sublime_Sublime_1084356737/Risos_Mae_560734658/#&token=1810416138\",\"https://www.geeksforgeeks.com/\",\"https://ip-72-182-82-263.ip.gw-designs.de/index2.php\"]"
   ]
  },
  {
   "cell_type": "code",
   "execution_count": 14,
   "metadata": {},
   "outputs": [
    {
     "name": "stdout",
     "output_type": "stream",
     "text": [
      "Error trying to connect to socket: closing socket - [Errno 11001] getaddrinfo failed\n",
      "Error trying to connect to socket: closing socket - [Errno 11001] getaddrinfo failed\n",
      "Error trying to connect to socket: closing socket - timed out\n"
     ]
    },
    {
     "data": {
      "text/plain": [
       "array([1, 1, 1])"
      ]
     },
     "execution_count": 14,
     "metadata": {},
     "output_type": "execute_result"
    }
   ],
   "source": [
    "pe.predict(urls)"
   ]
  },
  {
   "cell_type": "code",
   "execution_count": null,
   "metadata": {},
   "outputs": [],
   "source": []
  }
 ],
 "metadata": {
  "kernelspec": {
   "display_name": "Python 3.7.0",
   "language": "python",
   "name": "python3"
  },
  "language_info": {
   "codemirror_mode": {
    "name": "ipython",
    "version": 3
   },
   "file_extension": ".py",
   "mimetype": "text/x-python",
   "name": "python",
   "nbconvert_exporter": "python",
   "pygments_lexer": "ipython3",
   "version": "3.7.0"
  },
  "orig_nbformat": 4,
  "vscode": {
   "interpreter": {
    "hash": "3076e57f7e845b049a649ef4bfee429470fec951874b133ec4bf7644af5a1074"
   }
  }
 },
 "nbformat": 4,
 "nbformat_minor": 2
}
