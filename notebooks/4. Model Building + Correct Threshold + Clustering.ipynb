{
 "cells": [
  {
   "cell_type": "code",
   "execution_count": 1,
   "id": "47652bdf",
   "metadata": {},
   "outputs": [],
   "source": [
    "base_url = \"..//dataset//\""
   ]
  },
  {
   "cell_type": "markdown",
   "id": "0896919a",
   "metadata": {},
   "source": [
    "# Loading libraries"
   ]
  },
  {
   "cell_type": "code",
   "execution_count": 2,
   "id": "c7050cc2",
   "metadata": {},
   "outputs": [],
   "source": [
    "import pandas as pd\n",
    "import numpy as np\n",
    "import matplotlib.pyplot as plt\n",
    "%matplotlib inline\n",
    "pd.pandas.set_option('display.max_columns',None)\n",
    "import seaborn as sns\n",
    "import scipy.stats as stat\n",
    "import pylab \n",
    "from sklearn.impute import SimpleImputer\n",
    "from sklearn.preprocessing import StandardScaler\n",
    "from sklearn.model_selection import StratifiedShuffleSplit\n",
    "import joblib\n",
    "from sklearn.metrics import classification_report\n",
    "from sklearn.base import BaseEstimator, TransformerMixin\n",
    "from sklearn.pipeline import Pipeline\n",
    "import scipy.stats as stat\n",
    "import pylab "
   ]
  },
  {
   "cell_type": "code",
   "execution_count": 3,
   "id": "734c850f",
   "metadata": {},
   "outputs": [],
   "source": [
    "from sklearn.metrics import roc_auc_score, roc_curve"
   ]
  },
  {
   "cell_type": "markdown",
   "id": "5babe5fd",
   "metadata": {},
   "source": [
    "# Agenda:\n",
    "\n",
    "1. Get optimal threshold for doing classification\n",
    "2. Clustering (Skipping for now as already getting very good results)\n",
    "3. Test different models\n",
    "4. Hyperparameter Tuning"
   ]
  },
  {
   "cell_type": "markdown",
   "id": "57024620",
   "metadata": {},
   "source": [
    "# Loading the Data"
   ]
  },
  {
   "cell_type": "code",
   "execution_count": 4,
   "id": "cd522b3b",
   "metadata": {},
   "outputs": [],
   "source": [
    "df = pd.read_csv(base_url+'phishing_full.csv')"
   ]
  },
  {
   "cell_type": "code",
   "execution_count": 5,
   "id": "ab2189dc",
   "metadata": {},
   "outputs": [],
   "source": [
    "top_features = ['directory_length', 'time_domain_activation', 'length_url',\n",
    "       'file_length', 'qty_slash_url', 'qty_plus_directory', 'domain_length',\n",
    "       'qty_vowels_domain', 'qty_asterisk_directory', 'qty_hyphen_directory',\n",
    "       'qty_dot_domain', 'qty_underline_directory', 'qty_percent_directory',\n",
    "       'qty_dot_url', 'qty_hyphen_url', 'qty_hyphen_file', 'qty_hyphen_domain',\n",
    "       'params_length', 'qty_underline_url', 'qty_tld_url', 'qty_plus_params',\n",
    "       'qty_percent_url', 'qty_equal_params', 'qty_dot_params',\n",
    "       'qty_percent_params', 'qty_underline_params']\n",
    "top_features.append('phishing')"
   ]
  },
  {
   "cell_type": "code",
   "execution_count": 6,
   "id": "c3734077",
   "metadata": {},
   "outputs": [],
   "source": [
    "df = df[top_features]"
   ]
  },
  {
   "cell_type": "code",
   "execution_count": 7,
   "id": "cd921c38",
   "metadata": {},
   "outputs": [
    {
     "data": {
      "text/html": [
       "<div>\n",
       "<style scoped>\n",
       "    .dataframe tbody tr th:only-of-type {\n",
       "        vertical-align: middle;\n",
       "    }\n",
       "\n",
       "    .dataframe tbody tr th {\n",
       "        vertical-align: top;\n",
       "    }\n",
       "\n",
       "    .dataframe thead th {\n",
       "        text-align: right;\n",
       "    }\n",
       "</style>\n",
       "<table border=\"1\" class=\"dataframe\">\n",
       "  <thead>\n",
       "    <tr style=\"text-align: right;\">\n",
       "      <th></th>\n",
       "      <th>directory_length</th>\n",
       "      <th>time_domain_activation</th>\n",
       "      <th>length_url</th>\n",
       "      <th>file_length</th>\n",
       "      <th>qty_slash_url</th>\n",
       "      <th>qty_plus_directory</th>\n",
       "      <th>domain_length</th>\n",
       "      <th>qty_vowels_domain</th>\n",
       "      <th>qty_asterisk_directory</th>\n",
       "      <th>qty_hyphen_directory</th>\n",
       "      <th>qty_dot_domain</th>\n",
       "      <th>qty_underline_directory</th>\n",
       "      <th>qty_percent_directory</th>\n",
       "      <th>qty_dot_url</th>\n",
       "      <th>qty_hyphen_url</th>\n",
       "      <th>qty_hyphen_file</th>\n",
       "      <th>qty_hyphen_domain</th>\n",
       "      <th>params_length</th>\n",
       "      <th>qty_underline_url</th>\n",
       "      <th>qty_tld_url</th>\n",
       "      <th>qty_plus_params</th>\n",
       "      <th>qty_percent_url</th>\n",
       "      <th>qty_equal_params</th>\n",
       "      <th>qty_dot_params</th>\n",
       "      <th>qty_percent_params</th>\n",
       "      <th>qty_underline_params</th>\n",
       "      <th>phishing</th>\n",
       "    </tr>\n",
       "  </thead>\n",
       "  <tbody>\n",
       "    <tr>\n",
       "      <th>0</th>\n",
       "      <td>8</td>\n",
       "      <td>-1</td>\n",
       "      <td>25</td>\n",
       "      <td>7</td>\n",
       "      <td>1</td>\n",
       "      <td>0</td>\n",
       "      <td>17</td>\n",
       "      <td>4</td>\n",
       "      <td>0</td>\n",
       "      <td>0</td>\n",
       "      <td>2</td>\n",
       "      <td>0</td>\n",
       "      <td>0</td>\n",
       "      <td>3</td>\n",
       "      <td>0</td>\n",
       "      <td>0</td>\n",
       "      <td>0</td>\n",
       "      <td>-1</td>\n",
       "      <td>0</td>\n",
       "      <td>1</td>\n",
       "      <td>-1</td>\n",
       "      <td>0</td>\n",
       "      <td>-1</td>\n",
       "      <td>-1</td>\n",
       "      <td>-1</td>\n",
       "      <td>-1</td>\n",
       "      <td>1</td>\n",
       "    </tr>\n",
       "    <tr>\n",
       "      <th>1</th>\n",
       "      <td>42</td>\n",
       "      <td>579</td>\n",
       "      <td>223</td>\n",
       "      <td>9</td>\n",
       "      <td>3</td>\n",
       "      <td>0</td>\n",
       "      <td>16</td>\n",
       "      <td>5</td>\n",
       "      <td>0</td>\n",
       "      <td>0</td>\n",
       "      <td>2</td>\n",
       "      <td>0</td>\n",
       "      <td>0</td>\n",
       "      <td>5</td>\n",
       "      <td>0</td>\n",
       "      <td>0</td>\n",
       "      <td>0</td>\n",
       "      <td>165</td>\n",
       "      <td>1</td>\n",
       "      <td>3</td>\n",
       "      <td>0</td>\n",
       "      <td>0</td>\n",
       "      <td>3</td>\n",
       "      <td>0</td>\n",
       "      <td>0</td>\n",
       "      <td>1</td>\n",
       "      <td>1</td>\n",
       "    </tr>\n",
       "    <tr>\n",
       "      <th>2</th>\n",
       "      <td>1</td>\n",
       "      <td>-1</td>\n",
       "      <td>15</td>\n",
       "      <td>0</td>\n",
       "      <td>1</td>\n",
       "      <td>0</td>\n",
       "      <td>14</td>\n",
       "      <td>3</td>\n",
       "      <td>0</td>\n",
       "      <td>0</td>\n",
       "      <td>2</td>\n",
       "      <td>0</td>\n",
       "      <td>0</td>\n",
       "      <td>2</td>\n",
       "      <td>0</td>\n",
       "      <td>0</td>\n",
       "      <td>0</td>\n",
       "      <td>-1</td>\n",
       "      <td>0</td>\n",
       "      <td>1</td>\n",
       "      <td>-1</td>\n",
       "      <td>0</td>\n",
       "      <td>-1</td>\n",
       "      <td>-1</td>\n",
       "      <td>-1</td>\n",
       "      <td>-1</td>\n",
       "      <td>0</td>\n",
       "    </tr>\n",
       "    <tr>\n",
       "      <th>3</th>\n",
       "      <td>62</td>\n",
       "      <td>-1</td>\n",
       "      <td>81</td>\n",
       "      <td>9</td>\n",
       "      <td>5</td>\n",
       "      <td>0</td>\n",
       "      <td>19</td>\n",
       "      <td>7</td>\n",
       "      <td>0</td>\n",
       "      <td>0</td>\n",
       "      <td>2</td>\n",
       "      <td>2</td>\n",
       "      <td>0</td>\n",
       "      <td>4</td>\n",
       "      <td>0</td>\n",
       "      <td>0</td>\n",
       "      <td>0</td>\n",
       "      <td>-1</td>\n",
       "      <td>2</td>\n",
       "      <td>1</td>\n",
       "      <td>-1</td>\n",
       "      <td>0</td>\n",
       "      <td>-1</td>\n",
       "      <td>-1</td>\n",
       "      <td>-1</td>\n",
       "      <td>-1</td>\n",
       "      <td>1</td>\n",
       "    </tr>\n",
       "    <tr>\n",
       "      <th>4</th>\n",
       "      <td>-1</td>\n",
       "      <td>6998</td>\n",
       "      <td>19</td>\n",
       "      <td>-1</td>\n",
       "      <td>0</td>\n",
       "      <td>-1</td>\n",
       "      <td>19</td>\n",
       "      <td>5</td>\n",
       "      <td>-1</td>\n",
       "      <td>-1</td>\n",
       "      <td>2</td>\n",
       "      <td>-1</td>\n",
       "      <td>-1</td>\n",
       "      <td>2</td>\n",
       "      <td>0</td>\n",
       "      <td>-1</td>\n",
       "      <td>0</td>\n",
       "      <td>-1</td>\n",
       "      <td>0</td>\n",
       "      <td>1</td>\n",
       "      <td>-1</td>\n",
       "      <td>0</td>\n",
       "      <td>-1</td>\n",
       "      <td>-1</td>\n",
       "      <td>-1</td>\n",
       "      <td>-1</td>\n",
       "      <td>0</td>\n",
       "    </tr>\n",
       "    <tr>\n",
       "      <th>...</th>\n",
       "      <td>...</td>\n",
       "      <td>...</td>\n",
       "      <td>...</td>\n",
       "      <td>...</td>\n",
       "      <td>...</td>\n",
       "      <td>...</td>\n",
       "      <td>...</td>\n",
       "      <td>...</td>\n",
       "      <td>...</td>\n",
       "      <td>...</td>\n",
       "      <td>...</td>\n",
       "      <td>...</td>\n",
       "      <td>...</td>\n",
       "      <td>...</td>\n",
       "      <td>...</td>\n",
       "      <td>...</td>\n",
       "      <td>...</td>\n",
       "      <td>...</td>\n",
       "      <td>...</td>\n",
       "      <td>...</td>\n",
       "      <td>...</td>\n",
       "      <td>...</td>\n",
       "      <td>...</td>\n",
       "      <td>...</td>\n",
       "      <td>...</td>\n",
       "      <td>...</td>\n",
       "      <td>...</td>\n",
       "    </tr>\n",
       "    <tr>\n",
       "      <th>88642</th>\n",
       "      <td>-1</td>\n",
       "      <td>5509</td>\n",
       "      <td>23</td>\n",
       "      <td>-1</td>\n",
       "      <td>0</td>\n",
       "      <td>-1</td>\n",
       "      <td>23</td>\n",
       "      <td>5</td>\n",
       "      <td>-1</td>\n",
       "      <td>-1</td>\n",
       "      <td>3</td>\n",
       "      <td>-1</td>\n",
       "      <td>-1</td>\n",
       "      <td>3</td>\n",
       "      <td>1</td>\n",
       "      <td>-1</td>\n",
       "      <td>1</td>\n",
       "      <td>-1</td>\n",
       "      <td>0</td>\n",
       "      <td>2</td>\n",
       "      <td>-1</td>\n",
       "      <td>0</td>\n",
       "      <td>-1</td>\n",
       "      <td>-1</td>\n",
       "      <td>-1</td>\n",
       "      <td>-1</td>\n",
       "      <td>0</td>\n",
       "    </tr>\n",
       "    <tr>\n",
       "      <th>88643</th>\n",
       "      <td>-1</td>\n",
       "      <td>5046</td>\n",
       "      <td>34</td>\n",
       "      <td>-1</td>\n",
       "      <td>0</td>\n",
       "      <td>-1</td>\n",
       "      <td>34</td>\n",
       "      <td>14</td>\n",
       "      <td>-1</td>\n",
       "      <td>-1</td>\n",
       "      <td>2</td>\n",
       "      <td>-1</td>\n",
       "      <td>-1</td>\n",
       "      <td>2</td>\n",
       "      <td>0</td>\n",
       "      <td>-1</td>\n",
       "      <td>0</td>\n",
       "      <td>-1</td>\n",
       "      <td>0</td>\n",
       "      <td>1</td>\n",
       "      <td>-1</td>\n",
       "      <td>0</td>\n",
       "      <td>-1</td>\n",
       "      <td>-1</td>\n",
       "      <td>-1</td>\n",
       "      <td>-1</td>\n",
       "      <td>0</td>\n",
       "    </tr>\n",
       "    <tr>\n",
       "      <th>88644</th>\n",
       "      <td>48</td>\n",
       "      <td>1844</td>\n",
       "      <td>70</td>\n",
       "      <td>11</td>\n",
       "      <td>5</td>\n",
       "      <td>0</td>\n",
       "      <td>22</td>\n",
       "      <td>6</td>\n",
       "      <td>0</td>\n",
       "      <td>1</td>\n",
       "      <td>1</td>\n",
       "      <td>0</td>\n",
       "      <td>0</td>\n",
       "      <td>2</td>\n",
       "      <td>1</td>\n",
       "      <td>0</td>\n",
       "      <td>0</td>\n",
       "      <td>-1</td>\n",
       "      <td>0</td>\n",
       "      <td>1</td>\n",
       "      <td>-1</td>\n",
       "      <td>0</td>\n",
       "      <td>-1</td>\n",
       "      <td>-1</td>\n",
       "      <td>-1</td>\n",
       "      <td>-1</td>\n",
       "      <td>1</td>\n",
       "    </tr>\n",
       "    <tr>\n",
       "      <th>88645</th>\n",
       "      <td>1</td>\n",
       "      <td>-1</td>\n",
       "      <td>28</td>\n",
       "      <td>0</td>\n",
       "      <td>1</td>\n",
       "      <td>0</td>\n",
       "      <td>27</td>\n",
       "      <td>5</td>\n",
       "      <td>0</td>\n",
       "      <td>0</td>\n",
       "      <td>2</td>\n",
       "      <td>0</td>\n",
       "      <td>0</td>\n",
       "      <td>2</td>\n",
       "      <td>0</td>\n",
       "      <td>0</td>\n",
       "      <td>0</td>\n",
       "      <td>-1</td>\n",
       "      <td>0</td>\n",
       "      <td>1</td>\n",
       "      <td>-1</td>\n",
       "      <td>0</td>\n",
       "      <td>-1</td>\n",
       "      <td>-1</td>\n",
       "      <td>-1</td>\n",
       "      <td>-1</td>\n",
       "      <td>1</td>\n",
       "    </tr>\n",
       "    <tr>\n",
       "      <th>88646</th>\n",
       "      <td>-1</td>\n",
       "      <td>300</td>\n",
       "      <td>16</td>\n",
       "      <td>-1</td>\n",
       "      <td>0</td>\n",
       "      <td>-1</td>\n",
       "      <td>16</td>\n",
       "      <td>4</td>\n",
       "      <td>-1</td>\n",
       "      <td>-1</td>\n",
       "      <td>2</td>\n",
       "      <td>-1</td>\n",
       "      <td>-1</td>\n",
       "      <td>2</td>\n",
       "      <td>0</td>\n",
       "      <td>-1</td>\n",
       "      <td>0</td>\n",
       "      <td>-1</td>\n",
       "      <td>0</td>\n",
       "      <td>1</td>\n",
       "      <td>-1</td>\n",
       "      <td>0</td>\n",
       "      <td>-1</td>\n",
       "      <td>-1</td>\n",
       "      <td>-1</td>\n",
       "      <td>-1</td>\n",
       "      <td>0</td>\n",
       "    </tr>\n",
       "  </tbody>\n",
       "</table>\n",
       "<p>88647 rows × 27 columns</p>\n",
       "</div>"
      ],
      "text/plain": [
       "       directory_length  time_domain_activation  length_url  file_length  \\\n",
       "0                     8                      -1          25            7   \n",
       "1                    42                     579         223            9   \n",
       "2                     1                      -1          15            0   \n",
       "3                    62                      -1          81            9   \n",
       "4                    -1                    6998          19           -1   \n",
       "...                 ...                     ...         ...          ...   \n",
       "88642                -1                    5509          23           -1   \n",
       "88643                -1                    5046          34           -1   \n",
       "88644                48                    1844          70           11   \n",
       "88645                 1                      -1          28            0   \n",
       "88646                -1                     300          16           -1   \n",
       "\n",
       "       qty_slash_url  qty_plus_directory  domain_length  qty_vowels_domain  \\\n",
       "0                  1                   0             17                  4   \n",
       "1                  3                   0             16                  5   \n",
       "2                  1                   0             14                  3   \n",
       "3                  5                   0             19                  7   \n",
       "4                  0                  -1             19                  5   \n",
       "...              ...                 ...            ...                ...   \n",
       "88642              0                  -1             23                  5   \n",
       "88643              0                  -1             34                 14   \n",
       "88644              5                   0             22                  6   \n",
       "88645              1                   0             27                  5   \n",
       "88646              0                  -1             16                  4   \n",
       "\n",
       "       qty_asterisk_directory  qty_hyphen_directory  qty_dot_domain  \\\n",
       "0                           0                     0               2   \n",
       "1                           0                     0               2   \n",
       "2                           0                     0               2   \n",
       "3                           0                     0               2   \n",
       "4                          -1                    -1               2   \n",
       "...                       ...                   ...             ...   \n",
       "88642                      -1                    -1               3   \n",
       "88643                      -1                    -1               2   \n",
       "88644                       0                     1               1   \n",
       "88645                       0                     0               2   \n",
       "88646                      -1                    -1               2   \n",
       "\n",
       "       qty_underline_directory  qty_percent_directory  qty_dot_url  \\\n",
       "0                            0                      0            3   \n",
       "1                            0                      0            5   \n",
       "2                            0                      0            2   \n",
       "3                            2                      0            4   \n",
       "4                           -1                     -1            2   \n",
       "...                        ...                    ...          ...   \n",
       "88642                       -1                     -1            3   \n",
       "88643                       -1                     -1            2   \n",
       "88644                        0                      0            2   \n",
       "88645                        0                      0            2   \n",
       "88646                       -1                     -1            2   \n",
       "\n",
       "       qty_hyphen_url  qty_hyphen_file  qty_hyphen_domain  params_length  \\\n",
       "0                   0                0                  0             -1   \n",
       "1                   0                0                  0            165   \n",
       "2                   0                0                  0             -1   \n",
       "3                   0                0                  0             -1   \n",
       "4                   0               -1                  0             -1   \n",
       "...               ...              ...                ...            ...   \n",
       "88642               1               -1                  1             -1   \n",
       "88643               0               -1                  0             -1   \n",
       "88644               1                0                  0             -1   \n",
       "88645               0                0                  0             -1   \n",
       "88646               0               -1                  0             -1   \n",
       "\n",
       "       qty_underline_url  qty_tld_url  qty_plus_params  qty_percent_url  \\\n",
       "0                      0            1               -1                0   \n",
       "1                      1            3                0                0   \n",
       "2                      0            1               -1                0   \n",
       "3                      2            1               -1                0   \n",
       "4                      0            1               -1                0   \n",
       "...                  ...          ...              ...              ...   \n",
       "88642                  0            2               -1                0   \n",
       "88643                  0            1               -1                0   \n",
       "88644                  0            1               -1                0   \n",
       "88645                  0            1               -1                0   \n",
       "88646                  0            1               -1                0   \n",
       "\n",
       "       qty_equal_params  qty_dot_params  qty_percent_params  \\\n",
       "0                    -1              -1                  -1   \n",
       "1                     3               0                   0   \n",
       "2                    -1              -1                  -1   \n",
       "3                    -1              -1                  -1   \n",
       "4                    -1              -1                  -1   \n",
       "...                 ...             ...                 ...   \n",
       "88642                -1              -1                  -1   \n",
       "88643                -1              -1                  -1   \n",
       "88644                -1              -1                  -1   \n",
       "88645                -1              -1                  -1   \n",
       "88646                -1              -1                  -1   \n",
       "\n",
       "       qty_underline_params  phishing  \n",
       "0                        -1         1  \n",
       "1                         1         1  \n",
       "2                        -1         0  \n",
       "3                        -1         1  \n",
       "4                        -1         0  \n",
       "...                     ...       ...  \n",
       "88642                    -1         0  \n",
       "88643                    -1         0  \n",
       "88644                    -1         1  \n",
       "88645                    -1         1  \n",
       "88646                    -1         0  \n",
       "\n",
       "[88647 rows x 27 columns]"
      ]
     },
     "execution_count": 7,
     "metadata": {},
     "output_type": "execute_result"
    }
   ],
   "source": [
    "df"
   ]
  },
  {
   "cell_type": "markdown",
   "id": "5fd37ba1",
   "metadata": {},
   "source": [
    "# Transformation Classes"
   ]
  },
  {
   "cell_type": "code",
   "execution_count": 8,
   "id": "a35bd4e0",
   "metadata": {},
   "outputs": [],
   "source": [
    "import scipy.stats as stat\n",
    "import pylab \n",
    "\n",
    "class box_cox_transformation(BaseEstimator, TransformerMixin):\n",
    "    \n",
    "    def __init__(self, features, flag=False):\n",
    "        self.features = features\n",
    "        self.flag = flag\n",
    "    \n",
    "    def fit(self, X, y=None):\n",
    "        return self\n",
    "    \n",
    "    def transform(self,X,y=None):\n",
    "        #df = X.copy()\n",
    "        if not self.flag:\n",
    "            return X\n",
    "        \n",
    "        for feature in self.features:\n",
    "            try:\n",
    "                # Apply box cox transformations\n",
    "                X[feature], parameter = stat.boxcox(X[feature])\n",
    "                print(X[feature])\n",
    "            except:\n",
    "                pass\n",
    "        return X\n",
    "            \n",
    "        "
   ]
  },
  {
   "cell_type": "code",
   "execution_count": 9,
   "id": "e30413a1",
   "metadata": {},
   "outputs": [
    {
     "name": "stderr",
     "output_type": "stream",
     "text": [
      "c:\\Users\\rachi\\Desktop\\inueuron\\PERSONAL PROJECTS\\Phishing-Domain-Detection-using-Machine-Learning\\venv\\lib\\site-packages\\sklearn\\base.py:338: UserWarning: Trying to unpickle estimator SimpleImputer from version 1.1.1 when using version 1.0.2. This might lead to breaking code or invalid results. Use at your own risk. For more info please refer to:\n",
      "https://scikit-learn.org/stable/modules/model_persistence.html#security-maintainability-limitations\n",
      "  UserWarning,\n",
      "c:\\Users\\rachi\\Desktop\\inueuron\\PERSONAL PROJECTS\\Phishing-Domain-Detection-using-Machine-Learning\\venv\\lib\\site-packages\\sklearn\\base.py:338: UserWarning: Trying to unpickle estimator StandardScaler from version 1.1.1 when using version 1.0.2. This might lead to breaking code or invalid results. Use at your own risk. For more info please refer to:\n",
      "https://scikit-learn.org/stable/modules/model_persistence.html#security-maintainability-limitations\n",
      "  UserWarning,\n",
      "c:\\Users\\rachi\\Desktop\\inueuron\\PERSONAL PROJECTS\\Phishing-Domain-Detection-using-Machine-Learning\\venv\\lib\\site-packages\\sklearn\\base.py:338: UserWarning: Trying to unpickle estimator Pipeline from version 1.1.1 when using version 1.0.2. This might lead to breaking code or invalid results. Use at your own risk. For more info please refer to:\n",
      "https://scikit-learn.org/stable/modules/model_persistence.html#security-maintainability-limitations\n",
      "  UserWarning,\n"
     ]
    }
   ],
   "source": [
    "preprocess_pipeline = joblib.load('preprocess_pipeline.joblib')"
   ]
  },
  {
   "cell_type": "code",
   "execution_count": 10,
   "id": "8e435bc2",
   "metadata": {},
   "outputs": [
    {
     "data": {
      "text/plain": [
       "Pipeline(steps=[('imputer',\n",
       "                 SimpleImputer(strategy='median', verbose='deprecated')),\n",
       "                ('box_cox_transformation',\n",
       "                 box_cox_transformation(features=['length_url'])),\n",
       "                ('std_scaler', StandardScaler())])"
      ]
     },
     "execution_count": 10,
     "metadata": {},
     "output_type": "execute_result"
    }
   ],
   "source": [
    "preprocess_pipeline"
   ]
  },
  {
   "cell_type": "markdown",
   "id": "303bf96a",
   "metadata": {},
   "source": [
    "# Create Train and Test Data (Using stratified Shuffle Split)"
   ]
  },
  {
   "cell_type": "code",
   "execution_count": 11,
   "id": "bf632799",
   "metadata": {},
   "outputs": [],
   "source": [
    "split = StratifiedShuffleSplit(n_splits=1, test_size=0.2, random_state=42)\n",
    "for train_index,test_index in split.split(df, df['phishing']):\n",
    "    X_train = df.loc[train_index]\n",
    "    X_test = df.loc[test_index]\n",
    "X_train, y_train = X_train.drop(['phishing'],axis = 1),X_train['phishing']\n",
    "X_test, y_test = X_test.drop(['phishing'],axis = 1),X_test['phishing']"
   ]
  },
  {
   "cell_type": "markdown",
   "id": "4e261f67",
   "metadata": {},
   "source": [
    "# Preprocessing"
   ]
  },
  {
   "cell_type": "code",
   "execution_count": 12,
   "id": "53187890",
   "metadata": {},
   "outputs": [],
   "source": [
    "X_train = preprocess_pipeline.fit_transform(X_train)"
   ]
  },
  {
   "cell_type": "code",
   "execution_count": 13,
   "id": "dd06b410",
   "metadata": {},
   "outputs": [],
   "source": [
    "X_test = preprocess_pipeline.transform(X_test)"
   ]
  },
  {
   "cell_type": "code",
   "execution_count": null,
   "id": "385fcb8f",
   "metadata": {},
   "outputs": [],
   "source": []
  },
  {
   "cell_type": "markdown",
   "id": "c673fbf9",
   "metadata": {},
   "source": [
    "# Selecting correct threshold\n",
    "\n",
    "In this problem:\n",
    "\n",
    "False Positive: Domain is not phishing but model predicted phishing\n",
    "\n",
    "False Negative: Domain is phishing but model predicted not phishing\n",
    "\n",
    "<strong>Clearly False Negatives are very deadly in this scenario. So I'll optimize the False Negatives and try to increase the recall</strong>"
   ]
  },
  {
   "cell_type": "markdown",
   "id": "c76c12d1",
   "metadata": {},
   "source": [
    "#### Using Random Forest"
   ]
  },
  {
   "cell_type": "code",
   "execution_count": 14,
   "id": "a215b6f2",
   "metadata": {},
   "outputs": [],
   "source": [
    "from sklearn.ensemble import RandomForestClassifier\n",
    "rf_model = RandomForestClassifier()"
   ]
  },
  {
   "cell_type": "code",
   "execution_count": 15,
   "id": "fa3dfe9f",
   "metadata": {},
   "outputs": [
    {
     "data": {
      "text/plain": [
       "RandomForestClassifier()"
      ]
     },
     "execution_count": 15,
     "metadata": {},
     "output_type": "execute_result"
    }
   ],
   "source": [
    "rf_model.fit(X_train,y_train)"
   ]
  },
  {
   "cell_type": "code",
   "execution_count": 16,
   "id": "185e73f2",
   "metadata": {},
   "outputs": [],
   "source": [
    "train_pred = rf_model.predict_proba(X_train)"
   ]
  },
  {
   "cell_type": "code",
   "execution_count": 17,
   "id": "0b077b9e",
   "metadata": {},
   "outputs": [
    {
     "name": "stdout",
     "output_type": "stream",
     "text": [
      "RF train roc-auc score: 0.998884766622175\n"
     ]
    }
   ],
   "source": [
    "print('RF train roc-auc score: {}'.format(roc_auc_score(y_train,train_pred[:,1])))"
   ]
  },
  {
   "cell_type": "code",
   "execution_count": null,
   "id": "2a885b77",
   "metadata": {},
   "outputs": [],
   "source": []
  },
  {
   "cell_type": "code",
   "execution_count": 18,
   "id": "9621b601",
   "metadata": {},
   "outputs": [],
   "source": [
    "# we only need the probabilities of class 1"
   ]
  },
  {
   "cell_type": "markdown",
   "id": "f336712e",
   "metadata": {},
   "source": [
    "#### Using Logistic Regression"
   ]
  },
  {
   "cell_type": "code",
   "execution_count": 19,
   "id": "0727cb7f",
   "metadata": {},
   "outputs": [],
   "source": [
    "from sklearn.linear_model import LogisticRegression\n",
    "lr_model = LogisticRegression(max_iter=10000)"
   ]
  },
  {
   "cell_type": "code",
   "execution_count": 20,
   "id": "7c48f7c7",
   "metadata": {},
   "outputs": [],
   "source": [
    "lr_model.fit(X_train,y_train)\n",
    "train_pred = lr_model.predict_proba(X_train)"
   ]
  },
  {
   "cell_type": "code",
   "execution_count": 21,
   "id": "971551c5",
   "metadata": {},
   "outputs": [
    {
     "name": "stdout",
     "output_type": "stream",
     "text": [
      "LR train roc-auc score: 0.975619792933967\n"
     ]
    }
   ],
   "source": [
    "print('LR train roc-auc score: {}'.format(roc_auc_score(y_train,train_pred[:,1])))"
   ]
  },
  {
   "cell_type": "markdown",
   "id": "c7bacfe4",
   "metadata": {},
   "source": [
    "#### Using Ada Boost"
   ]
  },
  {
   "cell_type": "code",
   "execution_count": 22,
   "id": "414a11b4",
   "metadata": {},
   "outputs": [],
   "source": [
    "from sklearn.ensemble import AdaBoostClassifier\n",
    "ada_model = AdaBoostClassifier()"
   ]
  },
  {
   "cell_type": "code",
   "execution_count": 23,
   "id": "a991d379",
   "metadata": {},
   "outputs": [],
   "source": [
    "ada_model.fit(X_train,y_train)\n",
    "train_pred = ada_model.predict_proba(X_train)"
   ]
  },
  {
   "cell_type": "code",
   "execution_count": 24,
   "id": "7b3b49a6",
   "metadata": {},
   "outputs": [
    {
     "name": "stdout",
     "output_type": "stream",
     "text": [
      "ADA train roc-auc score: 0.9819433151064779\n"
     ]
    }
   ],
   "source": [
    "print('ADA train roc-auc score: {}'.format(roc_auc_score(y_train,train_pred[:,1])))"
   ]
  },
  {
   "cell_type": "markdown",
   "id": "b28faf99",
   "metadata": {},
   "source": [
    "#### Using KNN"
   ]
  },
  {
   "cell_type": "code",
   "execution_count": 25,
   "id": "429f2e9e",
   "metadata": {},
   "outputs": [],
   "source": [
    "from sklearn.neighbors import KNeighborsClassifier\n",
    "knn_model = KNeighborsClassifier()"
   ]
  },
  {
   "cell_type": "code",
   "execution_count": 26,
   "id": "0ddc1986",
   "metadata": {},
   "outputs": [],
   "source": [
    "knn_model.fit(X_train,y_train)\n",
    "train_pred = knn_model.predict_proba(X_train)"
   ]
  },
  {
   "cell_type": "code",
   "execution_count": 27,
   "id": "9aad532f",
   "metadata": {},
   "outputs": [
    {
     "name": "stdout",
     "output_type": "stream",
     "text": [
      "KNN train roc-auc score: 0.9920205675372331\n"
     ]
    }
   ],
   "source": [
    "print('KNN train roc-auc score: {}'.format(roc_auc_score(y_train,train_pred[:,1])))"
   ]
  },
  {
   "cell_type": "markdown",
   "id": "7642a660",
   "metadata": {},
   "source": [
    "#### Now selecting the best threshold"
   ]
  },
  {
   "cell_type": "code",
   "execution_count": 28,
   "id": "ea719db2",
   "metadata": {},
   "outputs": [],
   "source": [
    "pred = []\n",
    "for model in [rf_model, lr_model,ada_model, knn_model]:\n",
    "    pred.append(pd.Series(model.predict_proba(X_test)[:,1]))"
   ]
  },
  {
   "cell_type": "code",
   "execution_count": 29,
   "id": "52ae8097",
   "metadata": {},
   "outputs": [],
   "source": [
    "final_pred = pd.concat(pred,axis = 1)"
   ]
  },
  {
   "cell_type": "code",
   "execution_count": 30,
   "id": "298aeca6",
   "metadata": {},
   "outputs": [
    {
     "data": {
      "text/html": [
       "<div>\n",
       "<style scoped>\n",
       "    .dataframe tbody tr th:only-of-type {\n",
       "        vertical-align: middle;\n",
       "    }\n",
       "\n",
       "    .dataframe tbody tr th {\n",
       "        vertical-align: top;\n",
       "    }\n",
       "\n",
       "    .dataframe thead th {\n",
       "        text-align: right;\n",
       "    }\n",
       "</style>\n",
       "<table border=\"1\" class=\"dataframe\">\n",
       "  <thead>\n",
       "    <tr style=\"text-align: right;\">\n",
       "      <th></th>\n",
       "      <th>0</th>\n",
       "      <th>1</th>\n",
       "      <th>2</th>\n",
       "      <th>3</th>\n",
       "    </tr>\n",
       "  </thead>\n",
       "  <tbody>\n",
       "    <tr>\n",
       "      <th>0</th>\n",
       "      <td>0.910000</td>\n",
       "      <td>0.903415</td>\n",
       "      <td>0.510341</td>\n",
       "      <td>1.0</td>\n",
       "    </tr>\n",
       "    <tr>\n",
       "      <th>1</th>\n",
       "      <td>0.000000</td>\n",
       "      <td>0.010711</td>\n",
       "      <td>0.475140</td>\n",
       "      <td>0.0</td>\n",
       "    </tr>\n",
       "    <tr>\n",
       "      <th>2</th>\n",
       "      <td>0.880000</td>\n",
       "      <td>0.977917</td>\n",
       "      <td>0.523289</td>\n",
       "      <td>1.0</td>\n",
       "    </tr>\n",
       "    <tr>\n",
       "      <th>3</th>\n",
       "      <td>0.000000</td>\n",
       "      <td>0.002060</td>\n",
       "      <td>0.460565</td>\n",
       "      <td>0.0</td>\n",
       "    </tr>\n",
       "    <tr>\n",
       "      <th>4</th>\n",
       "      <td>1.000000</td>\n",
       "      <td>0.999999</td>\n",
       "      <td>0.542273</td>\n",
       "      <td>1.0</td>\n",
       "    </tr>\n",
       "    <tr>\n",
       "      <th>...</th>\n",
       "      <td>...</td>\n",
       "      <td>...</td>\n",
       "      <td>...</td>\n",
       "      <td>...</td>\n",
       "    </tr>\n",
       "    <tr>\n",
       "      <th>17725</th>\n",
       "      <td>0.000000</td>\n",
       "      <td>0.002321</td>\n",
       "      <td>0.460565</td>\n",
       "      <td>0.0</td>\n",
       "    </tr>\n",
       "    <tr>\n",
       "      <th>17726</th>\n",
       "      <td>0.950000</td>\n",
       "      <td>0.936900</td>\n",
       "      <td>0.509331</td>\n",
       "      <td>1.0</td>\n",
       "    </tr>\n",
       "    <tr>\n",
       "      <th>17727</th>\n",
       "      <td>0.045536</td>\n",
       "      <td>0.019465</td>\n",
       "      <td>0.489351</td>\n",
       "      <td>0.0</td>\n",
       "    </tr>\n",
       "    <tr>\n",
       "      <th>17728</th>\n",
       "      <td>0.320000</td>\n",
       "      <td>0.226252</td>\n",
       "      <td>0.497768</td>\n",
       "      <td>0.4</td>\n",
       "    </tr>\n",
       "    <tr>\n",
       "      <th>17729</th>\n",
       "      <td>1.000000</td>\n",
       "      <td>0.999986</td>\n",
       "      <td>0.559800</td>\n",
       "      <td>1.0</td>\n",
       "    </tr>\n",
       "  </tbody>\n",
       "</table>\n",
       "<p>17730 rows × 4 columns</p>\n",
       "</div>"
      ],
      "text/plain": [
       "              0         1         2    3\n",
       "0      0.910000  0.903415  0.510341  1.0\n",
       "1      0.000000  0.010711  0.475140  0.0\n",
       "2      0.880000  0.977917  0.523289  1.0\n",
       "3      0.000000  0.002060  0.460565  0.0\n",
       "4      1.000000  0.999999  0.542273  1.0\n",
       "...         ...       ...       ...  ...\n",
       "17725  0.000000  0.002321  0.460565  0.0\n",
       "17726  0.950000  0.936900  0.509331  1.0\n",
       "17727  0.045536  0.019465  0.489351  0.0\n",
       "17728  0.320000  0.226252  0.497768  0.4\n",
       "17729  1.000000  0.999986  0.559800  1.0\n",
       "\n",
       "[17730 rows x 4 columns]"
      ]
     },
     "execution_count": 30,
     "metadata": {},
     "output_type": "execute_result"
    }
   ],
   "source": [
    "final_pred"
   ]
  },
  {
   "cell_type": "code",
   "execution_count": 31,
   "id": "01cd6d7b",
   "metadata": {},
   "outputs": [],
   "source": [
    "final_pred = pd.concat(pred,axis = 1).mean(axis=1)"
   ]
  },
  {
   "cell_type": "code",
   "execution_count": 32,
   "id": "e87f98d5",
   "metadata": {},
   "outputs": [
    {
     "data": {
      "text/plain": [
       "0        0.830939\n",
       "1        0.121463\n",
       "2        0.845301\n",
       "3        0.115656\n",
       "4        0.885568\n",
       "           ...   \n",
       "17725    0.115721\n",
       "17726    0.849058\n",
       "17727    0.138588\n",
       "17728    0.361005\n",
       "17729    0.889946\n",
       "Length: 17730, dtype: float64"
      ]
     },
     "execution_count": 32,
     "metadata": {},
     "output_type": "execute_result"
    }
   ],
   "source": [
    "final_pred"
   ]
  },
  {
   "cell_type": "code",
   "execution_count": 33,
   "id": "65d5ea21",
   "metadata": {},
   "outputs": [],
   "source": [
    "fpr, tpr, thresholds = roc_curve(y_test, final_pred)"
   ]
  },
  {
   "cell_type": "code",
   "execution_count": 34,
   "id": "b95817d8",
   "metadata": {},
   "outputs": [
    {
     "data": {
      "image/png": "[encoded data removed]",
      "text/plain": [
       "<Figure size 720x720 with 1 Axes>"
      ]
     },
     "metadata": {
      "needs_background": "light"
     },
     "output_type": "display_data"
    }
   ],
   "source": [
    "fpr, tpr, thresholds = roc_curve(y_test, final_pred)\n",
    "figure = plt.figure(figsize=(10,10))\n",
    "plt.plot(fpr, tpr, color='orange', label='ROC')\n",
    "plt.plot([0,1],[0,1], color='darkblue', linestyle='--')\n",
    "plt.xlabel('FPR')\n",
    "plt.ylabel('TPR')\n",
    "plt.legend()\n",
    "plt.grid()\n",
    "plt.show()\n"
   ]
  },
  {
   "cell_type": "code",
   "execution_count": 35,
   "id": "734355fa",
   "metadata": {},
   "outputs": [],
   "source": [
    "from sklearn.metrics import precision_recall_curve"
   ]
  },
  {
   "cell_type": "code",
   "execution_count": 36,
   "id": "55506858",
   "metadata": {},
   "outputs": [],
   "source": [
    "precision, recall, thresholds = precision_recall_curve(y_test,final_pred)\n"
   ]
  },
  {
   "cell_type": "code",
   "execution_count": 37,
   "id": "96e91957",
   "metadata": {},
   "outputs": [
    {
     "data": {
      "image/png": "[encoded data removed]",
      "text/plain": [
       "<Figure size 720x720 with 1 Axes>"
      ]
     },
     "metadata": {
      "needs_background": "light"
     },
     "output_type": "display_data"
    }
   ],
   "source": [
    "figure = plt.figure(figsize=(10,10))\n",
    "plt.plot(precision, recall, color='orange', label='precision-recall curve')\n",
    "#plt.plot([0,1],[0,1], color='darkblue', linestyle='--')\n",
    "plt.xlabel('precision')\n",
    "plt.ylabel('recall')\n",
    "plt.legend()\n",
    "plt.grid()\n",
    "plt.show()"
   ]
  },
  {
   "cell_type": "markdown",
   "id": "0894389d",
   "metadata": {},
   "source": [
    "## There is a steep fall in recall at 0.85 precision. We can select that threshold"
   ]
  },
  {
   "cell_type": "code",
   "execution_count": 38,
   "id": "11a3b982",
   "metadata": {},
   "outputs": [],
   "source": [
    "def get_threshold_with_precision(precisions, thresholds, min_desired_precision):\n",
    "    for index, precision in enumerate(precisions):\n",
    "        if precision>=min_desired_precision:\n",
    "            return thresholds[index]"
   ]
  },
  {
   "cell_type": "code",
   "execution_count": null,
   "id": "1057f830",
   "metadata": {},
   "outputs": [],
   "source": []
  },
  {
   "cell_type": "code",
   "execution_count": 39,
   "id": "405cdf14",
   "metadata": {},
   "outputs": [
    {
     "data": {
      "text/plain": [
       "0.3082419601684291"
      ]
     },
     "execution_count": 39,
     "metadata": {},
     "output_type": "execute_result"
    }
   ],
   "source": [
    "get_threshold_with_precision(precision,thresholds,0.85)"
   ]
  },
  {
   "cell_type": "code",
   "execution_count": null,
   "id": "f7f53093",
   "metadata": {},
   "outputs": [],
   "source": []
  },
  {
   "cell_type": "markdown",
   "id": "c6798df5",
   "metadata": {},
   "source": [
    "## We will use 0.3 as the threshold so that recall is high and False Negatives can be reduced"
   ]
  },
  {
   "cell_type": "code",
   "execution_count": 40,
   "id": "d77cb8de",
   "metadata": {},
   "outputs": [],
   "source": [
    "from sklearn.metrics import confusion_matrix"
   ]
  },
  {
   "cell_type": "code",
   "execution_count": 41,
   "id": "c4c5fd18",
   "metadata": {},
   "outputs": [],
   "source": [
    "rf = RandomForestClassifier()"
   ]
  },
  {
   "cell_type": "code",
   "execution_count": 42,
   "id": "48013cd4",
   "metadata": {},
   "outputs": [
    {
     "data": {
      "text/plain": [
       "RandomForestClassifier()"
      ]
     },
     "execution_count": 42,
     "metadata": {},
     "output_type": "execute_result"
    }
   ],
   "source": [
    "rf.fit(X_train,y_train)"
   ]
  },
  {
   "cell_type": "code",
   "execution_count": null,
   "id": "8234c1fc",
   "metadata": {},
   "outputs": [],
   "source": []
  },
  {
   "cell_type": "markdown",
   "id": "b79d85e1",
   "metadata": {},
   "source": [
    "#### Clearly False Negatives are quite less"
   ]
  },
  {
   "cell_type": "markdown",
   "id": "b869a2ec",
   "metadata": {},
   "source": [
    "### With 0.5 as threshold"
   ]
  },
  {
   "cell_type": "code",
   "execution_count": 43,
   "id": "7e177cc3",
   "metadata": {},
   "outputs": [],
   "source": [
    "predictions = rf.predict(X_test)"
   ]
  },
  {
   "cell_type": "code",
   "execution_count": 44,
   "id": "94ea7352",
   "metadata": {},
   "outputs": [
    {
     "data": {
      "text/plain": [
       "array([[11182,   418],\n",
       "       [  397,  5733]], dtype=int64)"
      ]
     },
     "execution_count": 44,
     "metadata": {},
     "output_type": "execute_result"
    }
   ],
   "source": [
    "confusion_matrix(y_test,predictions)"
   ]
  },
  {
   "cell_type": "markdown",
   "id": "147c0497",
   "metadata": {},
   "source": [
    "### With custom threshold"
   ]
  },
  {
   "cell_type": "code",
   "execution_count": 45,
   "id": "92c8abda",
   "metadata": {},
   "outputs": [],
   "source": [
    "probalities = rf.predict_proba(X_test)[:,1]"
   ]
  },
  {
   "cell_type": "code",
   "execution_count": 46,
   "id": "8a63239f",
   "metadata": {},
   "outputs": [],
   "source": [
    "predictions = np.where(probalities>0.3,1,0)"
   ]
  },
  {
   "cell_type": "code",
   "execution_count": 47,
   "id": "f65b8c6d",
   "metadata": {},
   "outputs": [
    {
     "data": {
      "text/plain": [
       "array([[10896,   704],\n",
       "       [  231,  5899]], dtype=int64)"
      ]
     },
     "execution_count": 47,
     "metadata": {},
     "output_type": "execute_result"
    }
   ],
   "source": [
    "confusion_matrix(y_test,predictions)"
   ]
  },
  {
   "cell_type": "markdown",
   "id": "9a9496d2",
   "metadata": {},
   "source": [
    "### Here: \n",
    "\n",
    "1. TN: 10908\n",
    "2. TP: 5898\n",
    "3. FP: 692\n",
    "4. FN: 232"
   ]
  },
  {
   "cell_type": "markdown",
   "id": "28dcacc5",
   "metadata": {},
   "source": [
    "## Clearly with this threshold, we have reduced the False Negatives"
   ]
  },
  {
   "cell_type": "code",
   "execution_count": 48,
   "id": "50501ee7",
   "metadata": {},
   "outputs": [],
   "source": [
    "custom_threshold = 0.3"
   ]
  },
  {
   "cell_type": "markdown",
   "id": "04b83cff",
   "metadata": {},
   "source": [
    "# Testing Different models"
   ]
  },
  {
   "cell_type": "markdown",
   "id": "71316d3b",
   "metadata": {},
   "source": [
    "#### Logistic Regression"
   ]
  },
  {
   "cell_type": "code",
   "execution_count": 49,
   "id": "abacba21",
   "metadata": {},
   "outputs": [],
   "source": [
    "from sklearn.linear_model import LogisticRegression"
   ]
  },
  {
   "cell_type": "code",
   "execution_count": 50,
   "id": "5addaae1",
   "metadata": {},
   "outputs": [],
   "source": [
    "lr = LogisticRegression(max_iter=10000)"
   ]
  },
  {
   "cell_type": "code",
   "execution_count": 51,
   "id": "ea5a6c9e",
   "metadata": {},
   "outputs": [
    {
     "data": {
      "text/plain": [
       "LogisticRegression(max_iter=10000)"
      ]
     },
     "execution_count": 51,
     "metadata": {},
     "output_type": "execute_result"
    }
   ],
   "source": [
    "lr.fit(X_train,y_train)"
   ]
  },
  {
   "cell_type": "code",
   "execution_count": 52,
   "id": "2ceed989",
   "metadata": {},
   "outputs": [],
   "source": [
    "predictions = lr.predict_proba(X_test)[:,1]"
   ]
  },
  {
   "cell_type": "code",
   "execution_count": 53,
   "id": "772c2f99",
   "metadata": {},
   "outputs": [],
   "source": [
    "predictions = np.where(predictions>custom_threshold,1,0)"
   ]
  },
  {
   "cell_type": "code",
   "execution_count": 54,
   "id": "86931ae9",
   "metadata": {},
   "outputs": [
    {
     "data": {
      "text/plain": [
       "array([[10319,  1281],\n",
       "       [  316,  5814]], dtype=int64)"
      ]
     },
     "execution_count": 54,
     "metadata": {},
     "output_type": "execute_result"
    }
   ],
   "source": [
    "confusion_matrix(y_test,predictions)"
   ]
  },
  {
   "cell_type": "code",
   "execution_count": 55,
   "id": "d366f98e",
   "metadata": {},
   "outputs": [
    {
     "data": {
      "text/plain": [
       "0.9190096051077234"
      ]
     },
     "execution_count": 55,
     "metadata": {},
     "output_type": "execute_result"
    }
   ],
   "source": [
    "roc_auc_score(y_test,predictions)"
   ]
  },
  {
   "cell_type": "code",
   "execution_count": 56,
   "id": "677c49e4",
   "metadata": {},
   "outputs": [
    {
     "name": "stdout",
     "output_type": "stream",
     "text": [
      "              precision    recall  f1-score   support\n",
      "\n",
      "           0       0.97      0.89      0.93     11600\n",
      "           1       0.82      0.95      0.88      6130\n",
      "\n",
      "    accuracy                           0.91     17730\n",
      "   macro avg       0.89      0.92      0.90     17730\n",
      "weighted avg       0.92      0.91      0.91     17730\n",
      "\n"
     ]
    }
   ],
   "source": [
    "print(classification_report(y_test,predictions))"
   ]
  },
  {
   "cell_type": "markdown",
   "id": "c960dfbe",
   "metadata": {},
   "source": [
    "#### KNN"
   ]
  },
  {
   "cell_type": "code",
   "execution_count": 57,
   "id": "15fd3e96",
   "metadata": {},
   "outputs": [],
   "source": [
    "from sklearn.neighbors import KNeighborsClassifier"
   ]
  },
  {
   "cell_type": "code",
   "execution_count": 58,
   "id": "005896a2",
   "metadata": {},
   "outputs": [],
   "source": [
    "knn = KNeighborsClassifier()"
   ]
  },
  {
   "cell_type": "code",
   "execution_count": 59,
   "id": "8de6fc68",
   "metadata": {},
   "outputs": [
    {
     "data": {
      "text/plain": [
       "KNeighborsClassifier()"
      ]
     },
     "execution_count": 59,
     "metadata": {},
     "output_type": "execute_result"
    }
   ],
   "source": [
    "knn.fit(X_train,y_train)"
   ]
  },
  {
   "cell_type": "code",
   "execution_count": 60,
   "id": "8f5145f2",
   "metadata": {},
   "outputs": [],
   "source": [
    "predictions = knn.predict_proba(X_test)[:,1]"
   ]
  },
  {
   "cell_type": "code",
   "execution_count": 61,
   "id": "8cfb12e5",
   "metadata": {},
   "outputs": [],
   "source": [
    "predictions = np.where(predictions>custom_threshold,1,0)"
   ]
  },
  {
   "cell_type": "code",
   "execution_count": 62,
   "id": "14b8e54c",
   "metadata": {},
   "outputs": [
    {
     "data": {
      "text/plain": [
       "array([[10868,   732],\n",
       "       [  326,  5804]], dtype=int64)"
      ]
     },
     "execution_count": 62,
     "metadata": {},
     "output_type": "execute_result"
    }
   ],
   "source": [
    "confusion_matrix(y_test,predictions)"
   ]
  },
  {
   "cell_type": "code",
   "execution_count": 63,
   "id": "33667b10",
   "metadata": {},
   "outputs": [
    {
     "data": {
      "text/plain": [
       "0.9418577375260166"
      ]
     },
     "execution_count": 63,
     "metadata": {},
     "output_type": "execute_result"
    }
   ],
   "source": [
    "roc_auc_score(y_test,predictions)"
   ]
  },
  {
   "cell_type": "code",
   "execution_count": 64,
   "id": "c602fe9b",
   "metadata": {},
   "outputs": [
    {
     "name": "stdout",
     "output_type": "stream",
     "text": [
      "              precision    recall  f1-score   support\n",
      "\n",
      "           0       0.97      0.94      0.95     11600\n",
      "           1       0.89      0.95      0.92      6130\n",
      "\n",
      "    accuracy                           0.94     17730\n",
      "   macro avg       0.93      0.94      0.94     17730\n",
      "weighted avg       0.94      0.94      0.94     17730\n",
      "\n"
     ]
    }
   ],
   "source": [
    "print(classification_report(y_test,predictions))"
   ]
  },
  {
   "cell_type": "code",
   "execution_count": null,
   "id": "b5f1630f",
   "metadata": {},
   "outputs": [],
   "source": []
  },
  {
   "cell_type": "markdown",
   "id": "f6fa3e77",
   "metadata": {},
   "source": [
    "#### Random Forest"
   ]
  },
  {
   "cell_type": "code",
   "execution_count": 65,
   "id": "bc1ecd1c",
   "metadata": {},
   "outputs": [],
   "source": [
    "rf = RandomForestClassifier()"
   ]
  },
  {
   "cell_type": "code",
   "execution_count": 66,
   "id": "1f191c5d",
   "metadata": {},
   "outputs": [
    {
     "data": {
      "text/plain": [
       "RandomForestClassifier()"
      ]
     },
     "execution_count": 66,
     "metadata": {},
     "output_type": "execute_result"
    }
   ],
   "source": [
    "rf.fit(X_train,y_train)"
   ]
  },
  {
   "cell_type": "code",
   "execution_count": 67,
   "id": "4d10fd71",
   "metadata": {},
   "outputs": [],
   "source": [
    "predictions = rf.predict_proba(X_test)[:,1]"
   ]
  },
  {
   "cell_type": "code",
   "execution_count": 68,
   "id": "82b7dbea",
   "metadata": {},
   "outputs": [],
   "source": [
    "predictions = np.where(predictions>custom_threshold,1,0)"
   ]
  },
  {
   "cell_type": "code",
   "execution_count": 69,
   "id": "e63916b6",
   "metadata": {},
   "outputs": [
    {
     "data": {
      "text/plain": [
       "array([[10903,   697],\n",
       "       [  234,  5896]], dtype=int64)"
      ]
     },
     "execution_count": 69,
     "metadata": {},
     "output_type": "execute_result"
    }
   ],
   "source": [
    "confusion_matrix(y_test,predictions)"
   ]
  },
  {
   "cell_type": "code",
   "execution_count": 70,
   "id": "03bbd11f",
   "metadata": {},
   "outputs": [
    {
     "data": {
      "text/plain": [
       "0.9508704365190978"
      ]
     },
     "execution_count": 70,
     "metadata": {},
     "output_type": "execute_result"
    }
   ],
   "source": [
    "roc_auc_score(y_test,predictions)"
   ]
  },
  {
   "cell_type": "code",
   "execution_count": 71,
   "id": "ee73f1ca",
   "metadata": {},
   "outputs": [
    {
     "name": "stdout",
     "output_type": "stream",
     "text": [
      "              precision    recall  f1-score   support\n",
      "\n",
      "           0       0.98      0.94      0.96     11600\n",
      "           1       0.89      0.96      0.93      6130\n",
      "\n",
      "    accuracy                           0.95     17730\n",
      "   macro avg       0.94      0.95      0.94     17730\n",
      "weighted avg       0.95      0.95      0.95     17730\n",
      "\n"
     ]
    }
   ],
   "source": [
    "print(classification_report(y_test,predictions))"
   ]
  },
  {
   "cell_type": "markdown",
   "id": "11c999e8",
   "metadata": {},
   "source": [
    "#### Extra Trees Classifier"
   ]
  },
  {
   "cell_type": "code",
   "execution_count": 72,
   "id": "84ac8cc5",
   "metadata": {},
   "outputs": [],
   "source": [
    "from sklearn.ensemble import ExtraTreesClassifier"
   ]
  },
  {
   "cell_type": "code",
   "execution_count": 73,
   "id": "6ec51ad9",
   "metadata": {},
   "outputs": [],
   "source": [
    "extra = ExtraTreesClassifier()"
   ]
  },
  {
   "cell_type": "code",
   "execution_count": 74,
   "id": "dea43410",
   "metadata": {},
   "outputs": [
    {
     "data": {
      "text/plain": [
       "ExtraTreesClassifier()"
      ]
     },
     "execution_count": 74,
     "metadata": {},
     "output_type": "execute_result"
    }
   ],
   "source": [
    "extra.fit(X_train,y_train)"
   ]
  },
  {
   "cell_type": "code",
   "execution_count": 75,
   "id": "53a1fdf1",
   "metadata": {},
   "outputs": [],
   "source": [
    "predictions = extra.predict_proba(X_test)[:,1]"
   ]
  },
  {
   "cell_type": "code",
   "execution_count": 76,
   "id": "b538db7c",
   "metadata": {},
   "outputs": [],
   "source": [
    "predictions = np.where(predictions>custom_threshold,1,0)"
   ]
  },
  {
   "cell_type": "code",
   "execution_count": 77,
   "id": "58cd4b32",
   "metadata": {},
   "outputs": [
    {
     "data": {
      "text/plain": [
       "array([[10905,   695],\n",
       "       [  241,  5889]], dtype=int64)"
      ]
     },
     "execution_count": 77,
     "metadata": {},
     "output_type": "execute_result"
    }
   ],
   "source": [
    "confusion_matrix(y_test,predictions)"
   ]
  },
  {
   "cell_type": "code",
   "execution_count": 78,
   "id": "25f135cd",
   "metadata": {},
   "outputs": [
    {
     "data": {
      "text/plain": [
       "0.950385680936041"
      ]
     },
     "execution_count": 78,
     "metadata": {},
     "output_type": "execute_result"
    }
   ],
   "source": [
    "roc_auc_score(y_test,predictions)"
   ]
  },
  {
   "cell_type": "code",
   "execution_count": 79,
   "id": "1db64f39",
   "metadata": {},
   "outputs": [
    {
     "name": "stdout",
     "output_type": "stream",
     "text": [
      "              precision    recall  f1-score   support\n",
      "\n",
      "           0       0.98      0.94      0.96     11600\n",
      "           1       0.89      0.96      0.93      6130\n",
      "\n",
      "    accuracy                           0.95     17730\n",
      "   macro avg       0.94      0.95      0.94     17730\n",
      "weighted avg       0.95      0.95      0.95     17730\n",
      "\n"
     ]
    }
   ],
   "source": [
    "print(classification_report(y_test,predictions))"
   ]
  },
  {
   "cell_type": "markdown",
   "id": "ed693e2c",
   "metadata": {},
   "source": [
    "#### Ada Boost"
   ]
  },
  {
   "cell_type": "code",
   "execution_count": 80,
   "id": "8137d924",
   "metadata": {},
   "outputs": [],
   "source": [
    "from sklearn.ensemble import AdaBoostClassifier"
   ]
  },
  {
   "cell_type": "code",
   "execution_count": 81,
   "id": "54d7a06b",
   "metadata": {},
   "outputs": [],
   "source": [
    "ada = AdaBoostClassifier()"
   ]
  },
  {
   "cell_type": "code",
   "execution_count": 82,
   "id": "9f35e2fa",
   "metadata": {},
   "outputs": [
    {
     "data": {
      "text/plain": [
       "AdaBoostClassifier()"
      ]
     },
     "execution_count": 82,
     "metadata": {},
     "output_type": "execute_result"
    }
   ],
   "source": [
    "ada.fit(X_train,y_train)"
   ]
  },
  {
   "cell_type": "code",
   "execution_count": 83,
   "id": "98c8b3d5",
   "metadata": {},
   "outputs": [],
   "source": [
    "predictions = ada.predict_proba(X_test)[:,1]"
   ]
  },
  {
   "cell_type": "code",
   "execution_count": 84,
   "id": "8ba04a72",
   "metadata": {},
   "outputs": [],
   "source": [
    "predictions = np.where(predictions>custom_threshold,1,0)"
   ]
  },
  {
   "cell_type": "code",
   "execution_count": 85,
   "id": "4a50c2a3",
   "metadata": {},
   "outputs": [
    {
     "data": {
      "text/plain": [
       "array([[    0, 11600],\n",
       "       [    0,  6130]], dtype=int64)"
      ]
     },
     "execution_count": 85,
     "metadata": {},
     "output_type": "execute_result"
    }
   ],
   "source": [
    "confusion_matrix(y_test,predictions)"
   ]
  },
  {
   "cell_type": "code",
   "execution_count": 86,
   "id": "acd35059",
   "metadata": {},
   "outputs": [
    {
     "data": {
      "text/plain": [
       "0.5"
      ]
     },
     "execution_count": 86,
     "metadata": {},
     "output_type": "execute_result"
    }
   ],
   "source": [
    "roc_auc_score(y_test,predictions)"
   ]
  },
  {
   "cell_type": "code",
   "execution_count": 87,
   "id": "6f15f450",
   "metadata": {},
   "outputs": [
    {
     "name": "stdout",
     "output_type": "stream",
     "text": [
      "              precision    recall  f1-score   support\n",
      "\n",
      "           0       0.00      0.00      0.00     11600\n",
      "           1       0.35      1.00      0.51      6130\n",
      "\n",
      "    accuracy                           0.35     17730\n",
      "   macro avg       0.17      0.50      0.26     17730\n",
      "weighted avg       0.12      0.35      0.18     17730\n",
      "\n"
     ]
    },
    {
     "name": "stderr",
     "output_type": "stream",
     "text": [
      "c:\\Users\\rachi\\Desktop\\inueuron\\PERSONAL PROJECTS\\Phishing-Domain-Detection-using-Machine-Learning\\venv\\lib\\site-packages\\sklearn\\metrics\\_classification.py:1318: UndefinedMetricWarning: Precision and F-score are ill-defined and being set to 0.0 in labels with no predicted samples. Use `zero_division` parameter to control this behavior.\n",
      "  _warn_prf(average, modifier, msg_start, len(result))\n",
      "c:\\Users\\rachi\\Desktop\\inueuron\\PERSONAL PROJECTS\\Phishing-Domain-Detection-using-Machine-Learning\\venv\\lib\\site-packages\\sklearn\\metrics\\_classification.py:1318: UndefinedMetricWarning: Precision and F-score are ill-defined and being set to 0.0 in labels with no predicted samples. Use `zero_division` parameter to control this behavior.\n",
      "  _warn_prf(average, modifier, msg_start, len(result))\n",
      "c:\\Users\\rachi\\Desktop\\inueuron\\PERSONAL PROJECTS\\Phishing-Domain-Detection-using-Machine-Learning\\venv\\lib\\site-packages\\sklearn\\metrics\\_classification.py:1318: UndefinedMetricWarning: Precision and F-score are ill-defined and being set to 0.0 in labels with no predicted samples. Use `zero_division` parameter to control this behavior.\n",
      "  _warn_prf(average, modifier, msg_start, len(result))\n"
     ]
    }
   ],
   "source": [
    "print(classification_report(y_test,predictions))"
   ]
  },
  {
   "cell_type": "markdown",
   "id": "3fa21c67",
   "metadata": {},
   "source": [
    "#### Gradient Boost"
   ]
  },
  {
   "cell_type": "code",
   "execution_count": 88,
   "id": "4bb860b5",
   "metadata": {},
   "outputs": [],
   "source": [
    "from sklearn.ensemble import GradientBoostingClassifier"
   ]
  },
  {
   "cell_type": "code",
   "execution_count": 89,
   "id": "0c986a6c",
   "metadata": {},
   "outputs": [],
   "source": [
    "gradient_clf = GradientBoostingClassifier()"
   ]
  },
  {
   "cell_type": "code",
   "execution_count": 90,
   "id": "4a192f71",
   "metadata": {},
   "outputs": [
    {
     "data": {
      "text/plain": [
       "GradientBoostingClassifier()"
      ]
     },
     "execution_count": 90,
     "metadata": {},
     "output_type": "execute_result"
    }
   ],
   "source": [
    "gradient_clf.fit(X_train,y_train)"
   ]
  },
  {
   "cell_type": "code",
   "execution_count": 91,
   "id": "39a08d53",
   "metadata": {},
   "outputs": [],
   "source": [
    "predictions = gradient_clf.predict_proba(X_test)[:,1]"
   ]
  },
  {
   "cell_type": "code",
   "execution_count": 92,
   "id": "c5660cc9",
   "metadata": {},
   "outputs": [],
   "source": [
    "predictions = np.where(predictions>custom_threshold,1,0)"
   ]
  },
  {
   "cell_type": "code",
   "execution_count": 93,
   "id": "0583952f",
   "metadata": {},
   "outputs": [
    {
     "data": {
      "text/plain": [
       "array([[10578,  1022],\n",
       "       [  198,  5932]], dtype=int64)"
      ]
     },
     "execution_count": 93,
     "metadata": {},
     "output_type": "execute_result"
    }
   ],
   "source": [
    "confusion_matrix(y_test,predictions)"
   ]
  },
  {
   "cell_type": "code",
   "execution_count": 94,
   "id": "f39fa966",
   "metadata": {},
   "outputs": [
    {
     "data": {
      "text/plain": [
       "0.9397981942960006"
      ]
     },
     "execution_count": 94,
     "metadata": {},
     "output_type": "execute_result"
    }
   ],
   "source": [
    "roc_auc_score(y_test,predictions)"
   ]
  },
  {
   "cell_type": "code",
   "execution_count": 95,
   "id": "0fe005fb",
   "metadata": {},
   "outputs": [
    {
     "name": "stdout",
     "output_type": "stream",
     "text": [
      "              precision    recall  f1-score   support\n",
      "\n",
      "           0       0.98      0.91      0.95     11600\n",
      "           1       0.85      0.97      0.91      6130\n",
      "\n",
      "    accuracy                           0.93     17730\n",
      "   macro avg       0.92      0.94      0.93     17730\n",
      "weighted avg       0.94      0.93      0.93     17730\n",
      "\n"
     ]
    }
   ],
   "source": [
    "print(classification_report(y_test,predictions))"
   ]
  },
  {
   "cell_type": "markdown",
   "id": "eb945cc0",
   "metadata": {},
   "source": [
    "#### Naive Bayes"
   ]
  },
  {
   "cell_type": "code",
   "execution_count": 96,
   "id": "a9190247",
   "metadata": {},
   "outputs": [],
   "source": [
    "from sklearn.naive_bayes import GaussianNB"
   ]
  },
  {
   "cell_type": "code",
   "execution_count": 97,
   "id": "fd51d78d",
   "metadata": {},
   "outputs": [],
   "source": [
    "nb = GaussianNB()"
   ]
  },
  {
   "cell_type": "code",
   "execution_count": 98,
   "id": "5a56db69",
   "metadata": {},
   "outputs": [
    {
     "data": {
      "text/plain": [
       "GaussianNB()"
      ]
     },
     "execution_count": 98,
     "metadata": {},
     "output_type": "execute_result"
    }
   ],
   "source": [
    "nb.fit(X_train,y_train)"
   ]
  },
  {
   "cell_type": "code",
   "execution_count": 99,
   "id": "50ca976a",
   "metadata": {},
   "outputs": [],
   "source": [
    "predictions = nb.predict_proba(X_test)[:,1]"
   ]
  },
  {
   "cell_type": "code",
   "execution_count": 100,
   "id": "09ddbcb7",
   "metadata": {},
   "outputs": [],
   "source": [
    "predictions = np.where(predictions > custom_threshold,1,0)"
   ]
  },
  {
   "cell_type": "code",
   "execution_count": 101,
   "id": "1b939071",
   "metadata": {},
   "outputs": [
    {
     "data": {
      "text/plain": [
       "array([0, 0, 1, ..., 1, 0, 1])"
      ]
     },
     "execution_count": 101,
     "metadata": {},
     "output_type": "execute_result"
    }
   ],
   "source": [
    "predictions"
   ]
  },
  {
   "cell_type": "code",
   "execution_count": 102,
   "id": "657f1573",
   "metadata": {},
   "outputs": [
    {
     "data": {
      "text/plain": [
       "array([[11078,   522],\n",
       "       [ 2632,  3498]], dtype=int64)"
      ]
     },
     "execution_count": 102,
     "metadata": {},
     "output_type": "execute_result"
    }
   ],
   "source": [
    "confusion_matrix(y_test,predictions)"
   ]
  },
  {
   "cell_type": "code",
   "execution_count": 103,
   "id": "3c2943b9",
   "metadata": {},
   "outputs": [
    {
     "data": {
      "text/plain": [
       "0.7628181076672104"
      ]
     },
     "execution_count": 103,
     "metadata": {},
     "output_type": "execute_result"
    }
   ],
   "source": [
    "roc_auc_score(y_test,predictions)"
   ]
  },
  {
   "cell_type": "code",
   "execution_count": 104,
   "id": "2fffffe7",
   "metadata": {},
   "outputs": [
    {
     "name": "stdout",
     "output_type": "stream",
     "text": [
      "              precision    recall  f1-score   support\n",
      "\n",
      "           0       0.81      0.95      0.88     11600\n",
      "           1       0.87      0.57      0.69      6130\n",
      "\n",
      "    accuracy                           0.82     17730\n",
      "   macro avg       0.84      0.76      0.78     17730\n",
      "weighted avg       0.83      0.82      0.81     17730\n",
      "\n"
     ]
    }
   ],
   "source": [
    "print(classification_report(y_test,predictions))"
   ]
  },
  {
   "cell_type": "markdown",
   "id": "9e945d3c",
   "metadata": {},
   "source": [
    "#### XG Boost"
   ]
  },
  {
   "cell_type": "code",
   "execution_count": 105,
   "id": "dfcb6b51",
   "metadata": {},
   "outputs": [],
   "source": [
    "from xgboost import XGBClassifier"
   ]
  },
  {
   "cell_type": "code",
   "execution_count": 106,
   "id": "91046059",
   "metadata": {},
   "outputs": [],
   "source": [
    "xgb = XGBClassifier()"
   ]
  },
  {
   "cell_type": "code",
   "execution_count": 107,
   "id": "9a5d9465",
   "metadata": {},
   "outputs": [
    {
     "data": {
      "text/plain": [
       "XGBClassifier(base_score=0.5, booster='gbtree', callbacks=None,\n",
       "              colsample_bylevel=1, colsample_bynode=1, colsample_bytree=1,\n",
       "              early_stopping_rounds=None, enable_categorical=False,\n",
       "              eval_metric=None, gamma=0, gpu_id=-1, grow_policy='depthwise',\n",
       "              importance_type=None, interaction_constraints='',\n",
       "              learning_rate=0.300000012, max_bin=256, max_cat_to_onehot=4,\n",
       "              max_delta_step=0, max_depth=6, max_leaves=0, min_child_weight=1,\n",
       "              missing=nan, monotone_constraints='()', n_estimators=100,\n",
       "              n_jobs=0, num_parallel_tree=1, predictor='auto', random_state=0,\n",
       "              reg_alpha=0, reg_lambda=1, ...)"
      ]
     },
     "execution_count": 107,
     "metadata": {},
     "output_type": "execute_result"
    }
   ],
   "source": [
    "xgb.fit(X_train,y_train)"
   ]
  },
  {
   "cell_type": "code",
   "execution_count": 108,
   "id": "a807eb08",
   "metadata": {},
   "outputs": [],
   "source": [
    "predictions = xgb.predict_proba(X_test)[:,1]"
   ]
  },
  {
   "cell_type": "code",
   "execution_count": 109,
   "id": "b32f5644",
   "metadata": {},
   "outputs": [],
   "source": [
    "predictions = np.where(predictions>custom_threshold,1,0)"
   ]
  },
  {
   "cell_type": "code",
   "execution_count": 110,
   "id": "1e2621bc",
   "metadata": {},
   "outputs": [
    {
     "data": {
      "text/plain": [
       "array([[10836,   764],\n",
       "       [  222,  5908]], dtype=int64)"
      ]
     },
     "execution_count": 110,
     "metadata": {},
     "output_type": "execute_result"
    }
   ],
   "source": [
    "confusion_matrix(y_test,predictions)"
   ]
  },
  {
   "cell_type": "code",
   "execution_count": 111,
   "id": "f3446d66",
   "metadata": {},
   "outputs": [
    {
     "data": {
      "text/plain": [
       "0.9489612983068009"
      ]
     },
     "execution_count": 111,
     "metadata": {},
     "output_type": "execute_result"
    }
   ],
   "source": [
    "roc_auc_score(y_test,predictions)"
   ]
  },
  {
   "cell_type": "code",
   "execution_count": 112,
   "id": "80c4e10f",
   "metadata": {},
   "outputs": [
    {
     "name": "stdout",
     "output_type": "stream",
     "text": [
      "              precision    recall  f1-score   support\n",
      "\n",
      "           0       0.98      0.93      0.96     11600\n",
      "           1       0.89      0.96      0.92      6130\n",
      "\n",
      "    accuracy                           0.94     17730\n",
      "   macro avg       0.93      0.95      0.94     17730\n",
      "weighted avg       0.95      0.94      0.94     17730\n",
      "\n"
     ]
    }
   ],
   "source": [
    "print(classification_report(y_test,predictions))"
   ]
  },
  {
   "cell_type": "markdown",
   "id": "5de4f5ff",
   "metadata": {},
   "source": [
    "#### XGBRF classifier"
   ]
  },
  {
   "cell_type": "code",
   "execution_count": 113,
   "id": "beb448c7",
   "metadata": {},
   "outputs": [],
   "source": [
    "from xgboost import XGBRFClassifier"
   ]
  },
  {
   "cell_type": "code",
   "execution_count": 114,
   "id": "cfde93a9",
   "metadata": {},
   "outputs": [],
   "source": [
    "xgbrf = XGBRFClassifier()"
   ]
  },
  {
   "cell_type": "code",
   "execution_count": 115,
   "id": "1e9f0d22",
   "metadata": {},
   "outputs": [
    {
     "data": {
      "text/plain": [
       "XGBRFClassifier(base_score=0.5, booster='gbtree', callbacks=None,\n",
       "                colsample_bylevel=1, colsample_bytree=1,\n",
       "                early_stopping_rounds=None, enable_categorical=False,\n",
       "                eval_metric=None, gamma=0, gpu_id=-1, grow_policy='depthwise',\n",
       "                importance_type=None, interaction_constraints='', max_bin=256,\n",
       "                max_cat_to_onehot=4, max_delta_step=0, max_depth=6,\n",
       "                max_leaves=0, min_child_weight=1, missing=nan,\n",
       "                monotone_constraints='()', n_estimators=100, n_jobs=0,\n",
       "                num_parallel_tree=100, objective='binary:logistic',\n",
       "                predictor='auto', random_state=0, reg_alpha=0,\n",
       "                sampling_method='uniform', scale_pos_weight=1, ...)"
      ]
     },
     "execution_count": 115,
     "metadata": {},
     "output_type": "execute_result"
    }
   ],
   "source": [
    "xgbrf.fit(X_train,y_train)"
   ]
  },
  {
   "cell_type": "code",
   "execution_count": 116,
   "id": "27e36ec0",
   "metadata": {},
   "outputs": [],
   "source": [
    "predictions = xgbrf.predict_proba(X_test)[:,1]"
   ]
  },
  {
   "cell_type": "code",
   "execution_count": 117,
   "id": "03003d30",
   "metadata": {},
   "outputs": [],
   "source": [
    "predictions = np.where(predictions>custom_threshold,1,0)"
   ]
  },
  {
   "cell_type": "code",
   "execution_count": 118,
   "id": "a7490b89",
   "metadata": {},
   "outputs": [
    {
     "data": {
      "text/plain": [
       "array([[10432,  1168],\n",
       "       [  182,  5948]], dtype=int64)"
      ]
     },
     "execution_count": 118,
     "metadata": {},
     "output_type": "execute_result"
    }
   ],
   "source": [
    "confusion_matrix(y_test,predictions)"
   ]
  },
  {
   "cell_type": "code",
   "execution_count": 119,
   "id": "88afe3c9",
   "metadata": {},
   "outputs": [
    {
     "data": {
      "text/plain": [
       "0.9348101479439725"
      ]
     },
     "execution_count": 119,
     "metadata": {},
     "output_type": "execute_result"
    }
   ],
   "source": [
    "roc_auc_score(y_test,predictions)"
   ]
  },
  {
   "cell_type": "code",
   "execution_count": 120,
   "id": "71062637",
   "metadata": {},
   "outputs": [
    {
     "name": "stdout",
     "output_type": "stream",
     "text": [
      "              precision    recall  f1-score   support\n",
      "\n",
      "           0       0.98      0.90      0.94     11600\n",
      "           1       0.84      0.97      0.90      6130\n",
      "\n",
      "    accuracy                           0.92     17730\n",
      "   macro avg       0.91      0.93      0.92     17730\n",
      "weighted avg       0.93      0.92      0.93     17730\n",
      "\n"
     ]
    }
   ],
   "source": [
    "print(classification_report(y_test,predictions))"
   ]
  },
  {
   "cell_type": "markdown",
   "id": "62b88435",
   "metadata": {},
   "source": [
    "# On high level testing, Random Forests and XG Boost seem to be giving best results"
   ]
  },
  {
   "cell_type": "markdown",
   "id": "b478e518",
   "metadata": {},
   "source": [
    "# Hyperparameter tuning"
   ]
  },
  {
   "cell_type": "code",
   "execution_count": 121,
   "id": "51d2271e",
   "metadata": {},
   "outputs": [],
   "source": [
    "rf = RandomForestClassifier()"
   ]
  },
  {
   "cell_type": "code",
   "execution_count": 122,
   "id": "2056bbfa",
   "metadata": {},
   "outputs": [],
   "source": [
    "parameters = {\n",
    "    'n_estimators':[100,200,500,1000],\n",
    "    'criterion':[\"gini\", \"entropy\", \"log_loss\"],\n",
    "    'min_samples_split':[2,4,6],\n",
    "    'max_features':['int','sqrt','log2'],\n",
    "    'bootstrap':[True,False],\n",
    "    \n",
    "}"
   ]
  },
  {
   "cell_type": "code",
   "execution_count": 123,
   "id": "366f166e",
   "metadata": {},
   "outputs": [],
   "source": [
    "from sklearn.model_selection import GridSearchCV"
   ]
  },
  {
   "cell_type": "code",
   "execution_count": 124,
   "id": "c0a4f7cf",
   "metadata": {},
   "outputs": [],
   "source": [
    "grid = GridSearchCV(rf, parameters,cv=3,verbose=10,n_jobs=-1, scoring='recall')"
   ]
  },
  {
   "cell_type": "code",
   "execution_count": 125,
   "id": "b64fe816",
   "metadata": {},
   "outputs": [
    {
     "name": "stdout",
     "output_type": "stream",
     "text": [
      "Fitting 3 folds for each of 216 candidates, totalling 648 fits\n"
     ]
    },
    {
     "name": "stderr",
     "output_type": "stream",
     "text": [
      "c:\\Users\\rachi\\Desktop\\inueuron\\PERSONAL PROJECTS\\Phishing-Domain-Detection-using-Machine-Learning\\venv\\lib\\site-packages\\sklearn\\model_selection\\_validation.py:372: FitFailedWarning: \n",
      "360 fits failed out of a total of 648.\n",
      "The score on these train-test partitions for these parameters will be set to nan.\n",
      "If these failures are not expected, you can try to debug them by setting error_score='raise'.\n",
      "\n",
      "Below are more details about the failures:\n",
      "--------------------------------------------------------------------------------\n",
      "108 fits failed with the following error:\n",
      "Traceback (most recent call last):\n",
      "  File \"c:\\Users\\rachi\\Desktop\\inueuron\\PERSONAL PROJECTS\\Phishing-Domain-Detection-using-Machine-Learning\\venv\\lib\\site-packages\\sklearn\\model_selection\\_validation.py\", line 680, in _fit_and_score\n",
      "    estimator.fit(X_train, y_train, **fit_params)\n",
      "  File \"c:\\Users\\rachi\\Desktop\\inueuron\\PERSONAL PROJECTS\\Phishing-Domain-Detection-using-Machine-Learning\\venv\\lib\\site-packages\\sklearn\\ensemble\\_forest.py\", line 467, in fit\n",
      "    for i, t in enumerate(trees)\n",
      "  File \"c:\\Users\\rachi\\Desktop\\inueuron\\PERSONAL PROJECTS\\Phishing-Domain-Detection-using-Machine-Learning\\venv\\lib\\site-packages\\joblib\\parallel.py\", line 1043, in __call__\n",
      "    if self.dispatch_one_batch(iterator):\n",
      "  File \"c:\\Users\\rachi\\Desktop\\inueuron\\PERSONAL PROJECTS\\Phishing-Domain-Detection-using-Machine-Learning\\venv\\lib\\site-packages\\joblib\\parallel.py\", line 861, in dispatch_one_batch\n",
      "    self._dispatch(tasks)\n",
      "  File \"c:\\Users\\rachi\\Desktop\\inueuron\\PERSONAL PROJECTS\\Phishing-Domain-Detection-using-Machine-Learning\\venv\\lib\\site-packages\\joblib\\parallel.py\", line 779, in _dispatch\n",
      "    job = self._backend.apply_async(batch, callback=cb)\n",
      "  File \"c:\\Users\\rachi\\Desktop\\inueuron\\PERSONAL PROJECTS\\Phishing-Domain-Detection-using-Machine-Learning\\venv\\lib\\site-packages\\joblib\\_parallel_backends.py\", line 208, in apply_async\n",
      "    result = ImmediateResult(func)\n",
      "  File \"c:\\Users\\rachi\\Desktop\\inueuron\\PERSONAL PROJECTS\\Phishing-Domain-Detection-using-Machine-Learning\\venv\\lib\\site-packages\\joblib\\_parallel_backends.py\", line 572, in __init__\n",
      "    self.results = batch()\n",
      "  File \"c:\\Users\\rachi\\Desktop\\inueuron\\PERSONAL PROJECTS\\Phishing-Domain-Detection-using-Machine-Learning\\venv\\lib\\site-packages\\joblib\\parallel.py\", line 263, in __call__\n",
      "    for func, args, kwargs in self.items]\n",
      "  File \"c:\\Users\\rachi\\Desktop\\inueuron\\PERSONAL PROJECTS\\Phishing-Domain-Detection-using-Machine-Learning\\venv\\lib\\site-packages\\joblib\\parallel.py\", line 263, in <listcomp>\n",
      "    for func, args, kwargs in self.items]\n",
      "  File \"c:\\Users\\rachi\\Desktop\\inueuron\\PERSONAL PROJECTS\\Phishing-Domain-Detection-using-Machine-Learning\\venv\\lib\\site-packages\\sklearn\\utils\\fixes.py\", line 216, in __call__\n",
      "    return self.function(*args, **kwargs)\n",
      "  File \"c:\\Users\\rachi\\Desktop\\inueuron\\PERSONAL PROJECTS\\Phishing-Domain-Detection-using-Machine-Learning\\venv\\lib\\site-packages\\sklearn\\ensemble\\_forest.py\", line 185, in _parallel_build_trees\n",
      "    tree.fit(X, y, sample_weight=curr_sample_weight, check_input=False)\n",
      "  File \"c:\\Users\\rachi\\Desktop\\inueuron\\PERSONAL PROJECTS\\Phishing-Domain-Detection-using-Machine-Learning\\venv\\lib\\site-packages\\sklearn\\tree\\_classes.py\", line 942, in fit\n",
      "    X_idx_sorted=X_idx_sorted,\n",
      "  File \"c:\\Users\\rachi\\Desktop\\inueuron\\PERSONAL PROJECTS\\Phishing-Domain-Detection-using-Machine-Learning\\venv\\lib\\site-packages\\sklearn\\tree\\_classes.py\", line 282, in fit\n",
      "    \"Invalid value for max_features. \"\n",
      "ValueError: Invalid value for max_features. Allowed string values are 'auto', 'sqrt' or 'log2'.\n",
      "\n",
      "--------------------------------------------------------------------------------\n",
      "72 fits failed with the following error:\n",
      "Traceback (most recent call last):\n",
      "  File \"c:\\Users\\rachi\\Desktop\\inueuron\\PERSONAL PROJECTS\\Phishing-Domain-Detection-using-Machine-Learning\\venv\\lib\\site-packages\\sklearn\\model_selection\\_validation.py\", line 680, in _fit_and_score\n",
      "    estimator.fit(X_train, y_train, **fit_params)\n",
      "  File \"c:\\Users\\rachi\\Desktop\\inueuron\\PERSONAL PROJECTS\\Phishing-Domain-Detection-using-Machine-Learning\\venv\\lib\\site-packages\\sklearn\\ensemble\\_forest.py\", line 467, in fit\n",
      "    for i, t in enumerate(trees)\n",
      "  File \"c:\\Users\\rachi\\Desktop\\inueuron\\PERSONAL PROJECTS\\Phishing-Domain-Detection-using-Machine-Learning\\venv\\lib\\site-packages\\joblib\\parallel.py\", line 1043, in __call__\n",
      "    if self.dispatch_one_batch(iterator):\n",
      "  File \"c:\\Users\\rachi\\Desktop\\inueuron\\PERSONAL PROJECTS\\Phishing-Domain-Detection-using-Machine-Learning\\venv\\lib\\site-packages\\joblib\\parallel.py\", line 861, in dispatch_one_batch\n",
      "    self._dispatch(tasks)\n",
      "  File \"c:\\Users\\rachi\\Desktop\\inueuron\\PERSONAL PROJECTS\\Phishing-Domain-Detection-using-Machine-Learning\\venv\\lib\\site-packages\\joblib\\parallel.py\", line 779, in _dispatch\n",
      "    job = self._backend.apply_async(batch, callback=cb)\n",
      "  File \"c:\\Users\\rachi\\Desktop\\inueuron\\PERSONAL PROJECTS\\Phishing-Domain-Detection-using-Machine-Learning\\venv\\lib\\site-packages\\joblib\\_parallel_backends.py\", line 208, in apply_async\n",
      "    result = ImmediateResult(func)\n",
      "  File \"c:\\Users\\rachi\\Desktop\\inueuron\\PERSONAL PROJECTS\\Phishing-Domain-Detection-using-Machine-Learning\\venv\\lib\\site-packages\\joblib\\_parallel_backends.py\", line 572, in __init__\n",
      "    self.results = batch()\n",
      "  File \"c:\\Users\\rachi\\Desktop\\inueuron\\PERSONAL PROJECTS\\Phishing-Domain-Detection-using-Machine-Learning\\venv\\lib\\site-packages\\joblib\\parallel.py\", line 263, in __call__\n",
      "    for func, args, kwargs in self.items]\n",
      "  File \"c:\\Users\\rachi\\Desktop\\inueuron\\PERSONAL PROJECTS\\Phishing-Domain-Detection-using-Machine-Learning\\venv\\lib\\site-packages\\joblib\\parallel.py\", line 263, in <listcomp>\n",
      "    for func, args, kwargs in self.items]\n",
      "  File \"c:\\Users\\rachi\\Desktop\\inueuron\\PERSONAL PROJECTS\\Phishing-Domain-Detection-using-Machine-Learning\\venv\\lib\\site-packages\\sklearn\\utils\\fixes.py\", line 216, in __call__\n",
      "    return self.function(*args, **kwargs)\n",
      "  File \"c:\\Users\\rachi\\Desktop\\inueuron\\PERSONAL PROJECTS\\Phishing-Domain-Detection-using-Machine-Learning\\venv\\lib\\site-packages\\sklearn\\ensemble\\_forest.py\", line 185, in _parallel_build_trees\n",
      "    tree.fit(X, y, sample_weight=curr_sample_weight, check_input=False)\n",
      "  File \"c:\\Users\\rachi\\Desktop\\inueuron\\PERSONAL PROJECTS\\Phishing-Domain-Detection-using-Machine-Learning\\venv\\lib\\site-packages\\sklearn\\tree\\_classes.py\", line 942, in fit\n",
      "    X_idx_sorted=X_idx_sorted,\n",
      "  File \"c:\\Users\\rachi\\Desktop\\inueuron\\PERSONAL PROJECTS\\Phishing-Domain-Detection-using-Machine-Learning\\venv\\lib\\site-packages\\sklearn\\tree\\_classes.py\", line 352, in fit\n",
      "    criterion = CRITERIA_CLF[self.criterion](\n",
      "KeyError: 'log_loss'\n",
      "\n",
      "--------------------------------------------------------------------------------\n",
      "108 fits failed with the following error:\n",
      "Traceback (most recent call last):\n",
      "  File \"c:\\Users\\rachi\\Desktop\\inueuron\\PERSONAL PROJECTS\\Phishing-Domain-Detection-using-Machine-Learning\\venv\\lib\\site-packages\\sklearn\\model_selection\\_validation.py\", line 680, in _fit_and_score\n",
      "    estimator.fit(X_train, y_train, **fit_params)\n",
      "  File \"c:\\Users\\rachi\\Desktop\\inueuron\\PERSONAL PROJECTS\\Phishing-Domain-Detection-using-Machine-Learning\\venv\\lib\\site-packages\\sklearn\\ensemble\\_forest.py\", line 467, in fit\n",
      "    for i, t in enumerate(trees)\n",
      "  File \"c:\\Users\\rachi\\Desktop\\inueuron\\PERSONAL PROJECTS\\Phishing-Domain-Detection-using-Machine-Learning\\venv\\lib\\site-packages\\joblib\\parallel.py\", line 1043, in __call__\n",
      "    if self.dispatch_one_batch(iterator):\n",
      "  File \"c:\\Users\\rachi\\Desktop\\inueuron\\PERSONAL PROJECTS\\Phishing-Domain-Detection-using-Machine-Learning\\venv\\lib\\site-packages\\joblib\\parallel.py\", line 861, in dispatch_one_batch\n",
      "    self._dispatch(tasks)\n",
      "  File \"c:\\Users\\rachi\\Desktop\\inueuron\\PERSONAL PROJECTS\\Phishing-Domain-Detection-using-Machine-Learning\\venv\\lib\\site-packages\\joblib\\parallel.py\", line 779, in _dispatch\n",
      "    job = self._backend.apply_async(batch, callback=cb)\n",
      "  File \"c:\\Users\\rachi\\Desktop\\inueuron\\PERSONAL PROJECTS\\Phishing-Domain-Detection-using-Machine-Learning\\venv\\lib\\site-packages\\joblib\\_parallel_backends.py\", line 208, in apply_async\n",
      "    result = ImmediateResult(func)\n",
      "  File \"c:\\Users\\rachi\\Desktop\\inueuron\\PERSONAL PROJECTS\\Phishing-Domain-Detection-using-Machine-Learning\\venv\\lib\\site-packages\\joblib\\_parallel_backends.py\", line 572, in __init__\n",
      "    self.results = batch()\n",
      "  File \"c:\\Users\\rachi\\Desktop\\inueuron\\PERSONAL PROJECTS\\Phishing-Domain-Detection-using-Machine-Learning\\venv\\lib\\site-packages\\joblib\\parallel.py\", line 263, in __call__\n",
      "    for func, args, kwargs in self.items]\n",
      "  File \"c:\\Users\\rachi\\Desktop\\inueuron\\PERSONAL PROJECTS\\Phishing-Domain-Detection-using-Machine-Learning\\venv\\lib\\site-packages\\joblib\\parallel.py\", line 263, in <listcomp>\n",
      "    for func, args, kwargs in self.items]\n",
      "  File \"c:\\Users\\rachi\\Desktop\\inueuron\\PERSONAL PROJECTS\\Phishing-Domain-Detection-using-Machine-Learning\\venv\\lib\\site-packages\\sklearn\\utils\\fixes.py\", line 216, in __call__\n",
      "    return self.function(*args, **kwargs)\n",
      "  File \"c:\\Users\\rachi\\Desktop\\inueuron\\PERSONAL PROJECTS\\Phishing-Domain-Detection-using-Machine-Learning\\venv\\lib\\site-packages\\sklearn\\ensemble\\_forest.py\", line 187, in _parallel_build_trees\n",
      "    tree.fit(X, y, sample_weight=sample_weight, check_input=False)\n",
      "  File \"c:\\Users\\rachi\\Desktop\\inueuron\\PERSONAL PROJECTS\\Phishing-Domain-Detection-using-Machine-Learning\\venv\\lib\\site-packages\\sklearn\\tree\\_classes.py\", line 942, in fit\n",
      "    X_idx_sorted=X_idx_sorted,\n",
      "  File \"c:\\Users\\rachi\\Desktop\\inueuron\\PERSONAL PROJECTS\\Phishing-Domain-Detection-using-Machine-Learning\\venv\\lib\\site-packages\\sklearn\\tree\\_classes.py\", line 282, in fit\n",
      "    \"Invalid value for max_features. \"\n",
      "ValueError: Invalid value for max_features. Allowed string values are 'auto', 'sqrt' or 'log2'.\n",
      "\n",
      "--------------------------------------------------------------------------------\n",
      "72 fits failed with the following error:\n",
      "Traceback (most recent call last):\n",
      "  File \"c:\\Users\\rachi\\Desktop\\inueuron\\PERSONAL PROJECTS\\Phishing-Domain-Detection-using-Machine-Learning\\venv\\lib\\site-packages\\sklearn\\model_selection\\_validation.py\", line 680, in _fit_and_score\n",
      "    estimator.fit(X_train, y_train, **fit_params)\n",
      "  File \"c:\\Users\\rachi\\Desktop\\inueuron\\PERSONAL PROJECTS\\Phishing-Domain-Detection-using-Machine-Learning\\venv\\lib\\site-packages\\sklearn\\ensemble\\_forest.py\", line 467, in fit\n",
      "    for i, t in enumerate(trees)\n",
      "  File \"c:\\Users\\rachi\\Desktop\\inueuron\\PERSONAL PROJECTS\\Phishing-Domain-Detection-using-Machine-Learning\\venv\\lib\\site-packages\\joblib\\parallel.py\", line 1043, in __call__\n",
      "    if self.dispatch_one_batch(iterator):\n",
      "  File \"c:\\Users\\rachi\\Desktop\\inueuron\\PERSONAL PROJECTS\\Phishing-Domain-Detection-using-Machine-Learning\\venv\\lib\\site-packages\\joblib\\parallel.py\", line 861, in dispatch_one_batch\n",
      "    self._dispatch(tasks)\n",
      "  File \"c:\\Users\\rachi\\Desktop\\inueuron\\PERSONAL PROJECTS\\Phishing-Domain-Detection-using-Machine-Learning\\venv\\lib\\site-packages\\joblib\\parallel.py\", line 779, in _dispatch\n",
      "    job = self._backend.apply_async(batch, callback=cb)\n",
      "  File \"c:\\Users\\rachi\\Desktop\\inueuron\\PERSONAL PROJECTS\\Phishing-Domain-Detection-using-Machine-Learning\\venv\\lib\\site-packages\\joblib\\_parallel_backends.py\", line 208, in apply_async\n",
      "    result = ImmediateResult(func)\n",
      "  File \"c:\\Users\\rachi\\Desktop\\inueuron\\PERSONAL PROJECTS\\Phishing-Domain-Detection-using-Machine-Learning\\venv\\lib\\site-packages\\joblib\\_parallel_backends.py\", line 572, in __init__\n",
      "    self.results = batch()\n",
      "  File \"c:\\Users\\rachi\\Desktop\\inueuron\\PERSONAL PROJECTS\\Phishing-Domain-Detection-using-Machine-Learning\\venv\\lib\\site-packages\\joblib\\parallel.py\", line 263, in __call__\n",
      "    for func, args, kwargs in self.items]\n",
      "  File \"c:\\Users\\rachi\\Desktop\\inueuron\\PERSONAL PROJECTS\\Phishing-Domain-Detection-using-Machine-Learning\\venv\\lib\\site-packages\\joblib\\parallel.py\", line 263, in <listcomp>\n",
      "    for func, args, kwargs in self.items]\n",
      "  File \"c:\\Users\\rachi\\Desktop\\inueuron\\PERSONAL PROJECTS\\Phishing-Domain-Detection-using-Machine-Learning\\venv\\lib\\site-packages\\sklearn\\utils\\fixes.py\", line 216, in __call__\n",
      "    return self.function(*args, **kwargs)\n",
      "  File \"c:\\Users\\rachi\\Desktop\\inueuron\\PERSONAL PROJECTS\\Phishing-Domain-Detection-using-Machine-Learning\\venv\\lib\\site-packages\\sklearn\\ensemble\\_forest.py\", line 187, in _parallel_build_trees\n",
      "    tree.fit(X, y, sample_weight=sample_weight, check_input=False)\n",
      "  File \"c:\\Users\\rachi\\Desktop\\inueuron\\PERSONAL PROJECTS\\Phishing-Domain-Detection-using-Machine-Learning\\venv\\lib\\site-packages\\sklearn\\tree\\_classes.py\", line 942, in fit\n",
      "    X_idx_sorted=X_idx_sorted,\n",
      "  File \"c:\\Users\\rachi\\Desktop\\inueuron\\PERSONAL PROJECTS\\Phishing-Domain-Detection-using-Machine-Learning\\venv\\lib\\site-packages\\sklearn\\tree\\_classes.py\", line 352, in fit\n",
      "    criterion = CRITERIA_CLF[self.criterion](\n",
      "KeyError: 'log_loss'\n",
      "\n",
      "  warnings.warn(some_fits_failed_message, FitFailedWarning)\n",
      "c:\\Users\\rachi\\Desktop\\inueuron\\PERSONAL PROJECTS\\Phishing-Domain-Detection-using-Machine-Learning\\venv\\lib\\site-packages\\sklearn\\model_selection\\_search.py:972: UserWarning: One or more of the test scores are non-finite: [       nan        nan        nan        nan        nan        nan\n",
      "        nan        nan        nan        nan        nan        nan\n",
      " 0.9351879  0.93498394 0.93616681 0.93661546 0.9373497  0.9372681\n",
      " 0.93841021 0.93767599 0.93857331 0.93922598 0.93861412 0.93849179\n",
      " 0.93441292 0.93588126 0.93669702 0.93698258 0.93706419 0.93869572\n",
      " 0.93873648 0.93841018 0.93853255 0.9383694  0.93987856 0.93930749\n",
      "        nan        nan        nan        nan        nan        nan\n",
      "        nan        nan        nan        nan        nan        nan\n",
      " 0.93478001 0.93465762 0.93559582 0.93628915 0.93763524 0.93706415\n",
      " 0.93620764 0.93743126 0.93816547 0.93783914 0.93816546 0.93853259\n",
      " 0.93547341 0.93661549 0.93632996 0.93673782 0.93792069 0.937472\n",
      " 0.93796149 0.93771679 0.93877728 0.93857332 0.93841021 0.93853254\n",
      "        nan        nan        nan        nan        nan        nan\n",
      "        nan        nan        nan        nan        nan        nan\n",
      "        nan        nan        nan        nan        nan        nan\n",
      "        nan        nan        nan        nan        nan        nan\n",
      "        nan        nan        nan        nan        nan        nan\n",
      "        nan        nan        nan        nan        nan        nan\n",
      "        nan        nan        nan        nan        nan        nan\n",
      "        nan        nan        nan        nan        nan        nan\n",
      " 0.93196563 0.9320064  0.93233269 0.93269982 0.93522868 0.93531026\n",
      " 0.93506551 0.93584049 0.93637076 0.93690101 0.93673787 0.93669705\n",
      " 0.93212878 0.93278141 0.93384187 0.93355639 0.93600361 0.93547342\n",
      " 0.93579971 0.9357997  0.93747204 0.9375128  0.9375128  0.93775752\n",
      "        nan        nan        nan        nan        nan        nan\n",
      "        nan        nan        nan        nan        nan        nan\n",
      " 0.93168012 0.93233277 0.932088   0.932088   0.93453532 0.93498399\n",
      " 0.93473923 0.93551421 0.93555499 0.9365747  0.93637079 0.93624843\n",
      " 0.93237354 0.9327814  0.93339324 0.93298534 0.93477999 0.93547342\n",
      " 0.93559575 0.93616679 0.93702335 0.93665628 0.93722731 0.93714574\n",
      "        nan        nan        nan        nan        nan        nan\n",
      "        nan        nan        nan        nan        nan        nan\n",
      "        nan        nan        nan        nan        nan        nan\n",
      "        nan        nan        nan        nan        nan        nan\n",
      "        nan        nan        nan        nan        nan        nan\n",
      "        nan        nan        nan        nan        nan        nan]\n",
      "  category=UserWarning,\n"
     ]
    },
    {
     "data": {
      "text/plain": [
       "GridSearchCV(cv=3, estimator=RandomForestClassifier(), n_jobs=-1,\n",
       "             param_grid={'bootstrap': [True, False],\n",
       "                         'criterion': ['gini', 'entropy', 'log_loss'],\n",
       "                         'max_features': ['int', 'sqrt', 'log2'],\n",
       "                         'min_samples_split': [2, 4, 6],\n",
       "                         'n_estimators': [100, 200, 500, 1000]},\n",
       "             scoring='recall', verbose=10)"
      ]
     },
     "execution_count": 125,
     "metadata": {},
     "output_type": "execute_result"
    }
   ],
   "source": [
    "grid.fit(X_train,y_train)"
   ]
  },
  {
   "cell_type": "code",
   "execution_count": 126,
   "id": "b08bbbfb",
   "metadata": {},
   "outputs": [],
   "source": [
    "best_estimator = grid.best_estimator_"
   ]
  },
  {
   "cell_type": "code",
   "execution_count": 127,
   "id": "2960a4b5",
   "metadata": {},
   "outputs": [],
   "source": [
    "predictions = best_estimator.predict_proba(X_test)[:,1]"
   ]
  },
  {
   "cell_type": "code",
   "execution_count": 128,
   "id": "642e9550",
   "metadata": {},
   "outputs": [],
   "source": [
    "predictions = np.where(predictions>custom_threshold,1,0)"
   ]
  },
  {
   "cell_type": "code",
   "execution_count": 129,
   "id": "9f852aec",
   "metadata": {},
   "outputs": [
    {
     "data": {
      "text/plain": [
       "array([[10837,   763],\n",
       "       [  215,  5915]], dtype=int64)"
      ]
     },
     "execution_count": 129,
     "metadata": {},
     "output_type": "execute_result"
    }
   ],
   "source": [
    "confusion_matrix(y_test,predictions)"
   ]
  },
  {
   "cell_type": "code",
   "execution_count": 130,
   "id": "89bbeaad",
   "metadata": {},
   "outputs": [
    {
     "data": {
      "text/plain": [
       "0.9495753642346854"
      ]
     },
     "execution_count": 130,
     "metadata": {},
     "output_type": "execute_result"
    }
   ],
   "source": [
    "roc_auc_score(y_test,predictions)"
   ]
  },
  {
   "cell_type": "code",
   "execution_count": 131,
   "id": "0addb71c",
   "metadata": {},
   "outputs": [
    {
     "name": "stdout",
     "output_type": "stream",
     "text": [
      "              precision    recall  f1-score   support\n",
      "\n",
      "           0       0.98      0.93      0.96     11600\n",
      "           1       0.89      0.96      0.92      6130\n",
      "\n",
      "    accuracy                           0.94     17730\n",
      "   macro avg       0.93      0.95      0.94     17730\n",
      "weighted avg       0.95      0.94      0.95     17730\n",
      "\n"
     ]
    }
   ],
   "source": [
    "print(classification_report(y_test,predictions))"
   ]
  },
  {
   "cell_type": "code",
   "execution_count": 132,
   "id": "424a997a",
   "metadata": {},
   "outputs": [
    {
     "data": {
      "text/plain": [
       "RandomForestClassifier(max_features='log2', min_samples_split=6,\n",
       "                       n_estimators=500)"
      ]
     },
     "execution_count": 132,
     "metadata": {},
     "output_type": "execute_result"
    }
   ],
   "source": [
    "best_estimator"
   ]
  },
  {
   "cell_type": "markdown",
   "id": "58f8f232",
   "metadata": {},
   "source": [
    "## We will use this estimator\n",
    "\n",
    "estimator: RandomForestClassifier <br>\n",
    "max_features: log2 <br>\n",
    "min_samples_split : 6 <br>\n",
    "n_estimators: 500\n"
   ]
  },
  {
   "cell_type": "markdown",
   "id": "00795ca7",
   "metadata": {},
   "source": [
    "### Let's just see on training dataset as well"
   ]
  },
  {
   "cell_type": "code",
   "execution_count": 133,
   "id": "61160dbf",
   "metadata": {},
   "outputs": [],
   "source": [
    "predictions_train = best_estimator.predict_proba(X_train)[:,1]"
   ]
  },
  {
   "cell_type": "code",
   "execution_count": 134,
   "id": "e1f042ff",
   "metadata": {},
   "outputs": [],
   "source": [
    "predictions_train = np.where(predictions_train>custom_threshold,1,0)"
   ]
  },
  {
   "cell_type": "code",
   "execution_count": 135,
   "id": "f3040883",
   "metadata": {},
   "outputs": [
    {
     "data": {
      "text/plain": [
       "array([[44356,  2044],\n",
       "       [  297, 24220]], dtype=int64)"
      ]
     },
     "execution_count": 135,
     "metadata": {},
     "output_type": "execute_result"
    }
   ],
   "source": [
    "confusion_matrix(y_train,predictions_train)"
   ]
  },
  {
   "cell_type": "code",
   "execution_count": 136,
   "id": "5dc4618e",
   "metadata": {},
   "outputs": [
    {
     "name": "stdout",
     "output_type": "stream",
     "text": [
      "              precision    recall  f1-score   support\n",
      "\n",
      "           0       0.99      0.96      0.97     46400\n",
      "           1       0.92      0.99      0.95     24517\n",
      "\n",
      "    accuracy                           0.97     70917\n",
      "   macro avg       0.96      0.97      0.96     70917\n",
      "weighted avg       0.97      0.97      0.97     70917\n",
      "\n"
     ]
    }
   ],
   "source": [
    "print(classification_report(y_train,predictions_train))"
   ]
  },
  {
   "cell_type": "code",
   "execution_count": null,
   "id": "5028623c",
   "metadata": {},
   "outputs": [],
   "source": []
  }
 ],
 "metadata": {
  "kernelspec": {
   "display_name": "Python 3.7.0 (conda)",
   "language": "python",
   "name": "python3"
  },
  "language_info": {
   "codemirror_mode": {
    "name": "ipython",
    "version": 3
   },
   "file_extension": ".py",
   "mimetype": "text/x-python",
   "name": "python",
   "nbconvert_exporter": "python",
   "pygments_lexer": "ipython3",
   "version": "3.7.0"
  },
  "vscode": {
   "interpreter": {
    "hash": "3076e57f7e845b049a649ef4bfee429470fec951874b133ec4bf7644af5a1074"
   }
  }
 },
 "nbformat": 4,
 "nbformat_minor": 5
}
