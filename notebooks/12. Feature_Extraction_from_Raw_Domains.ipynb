{
 "cells": [
  {
   "cell_type": "code",
   "execution_count": 1,
   "metadata": {},
   "outputs": [],
   "source": [
    "url = \"https://bloqueioltau.site/Sublime_Sublime_1084356737/Risos_Mae_560734658/#&token=1810416138\""
   ]
  },
  {
   "cell_type": "markdown",
   "metadata": {},
   "source": [
    "# Seperating different components"
   ]
  },
  {
   "cell_type": "code",
   "execution_count": 2,
   "metadata": {},
   "outputs": [],
   "source": [
    "url = url.split(\"//\")[1]"
   ]
  },
  {
   "cell_type": "code",
   "execution_count": 3,
   "metadata": {},
   "outputs": [
    {
     "data": {
      "text/plain": [
       "'bloqueioltau.site/Sublime_Sublime_1084356737/Risos_Mae_560734658/#&token=1810416138'"
      ]
     },
     "execution_count": 3,
     "metadata": {},
     "output_type": "execute_result"
    }
   ],
   "source": [
    "url"
   ]
  },
  {
   "cell_type": "code",
   "execution_count": 4,
   "metadata": {},
   "outputs": [],
   "source": [
    "split_url = url.split(\"/\")"
   ]
  },
  {
   "cell_type": "code",
   "execution_count": 5,
   "metadata": {},
   "outputs": [
    {
     "data": {
      "text/plain": [
       "['bloqueioltau.site',\n",
       " 'Sublime_Sublime_1084356737',\n",
       " 'Risos_Mae_560734658',\n",
       " '#&token=1810416138']"
      ]
     },
     "execution_count": 5,
     "metadata": {},
     "output_type": "execute_result"
    }
   ],
   "source": [
    "split_url"
   ]
  },
  {
   "cell_type": "code",
   "execution_count": 6,
   "metadata": {},
   "outputs": [],
   "source": [
    "domain = split_url[0]"
   ]
  },
  {
   "cell_type": "code",
   "execution_count": 7,
   "metadata": {},
   "outputs": [
    {
     "data": {
      "text/plain": [
       "'bloqueioltau.site'"
      ]
     },
     "execution_count": 7,
     "metadata": {},
     "output_type": "execute_result"
    }
   ],
   "source": [
    "domain"
   ]
  },
  {
   "cell_type": "code",
   "execution_count": 8,
   "metadata": {},
   "outputs": [],
   "source": [
    "directory = split_url[1]"
   ]
  },
  {
   "cell_type": "code",
   "execution_count": 9,
   "metadata": {},
   "outputs": [
    {
     "data": {
      "text/plain": [
       "'Sublime_Sublime_1084356737'"
      ]
     },
     "execution_count": 9,
     "metadata": {},
     "output_type": "execute_result"
    }
   ],
   "source": [
    "directory"
   ]
  },
  {
   "cell_type": "code",
   "execution_count": 10,
   "metadata": {},
   "outputs": [],
   "source": [
    "file = split_url[2]"
   ]
  },
  {
   "cell_type": "code",
   "execution_count": 11,
   "metadata": {},
   "outputs": [
    {
     "data": {
      "text/plain": [
       "'Risos_Mae_560734658'"
      ]
     },
     "execution_count": 11,
     "metadata": {},
     "output_type": "execute_result"
    }
   ],
   "source": [
    "file"
   ]
  },
  {
   "cell_type": "code",
   "execution_count": 12,
   "metadata": {},
   "outputs": [],
   "source": [
    "parameters = split_url[3]"
   ]
  },
  {
   "cell_type": "code",
   "execution_count": null,
   "metadata": {},
   "outputs": [],
   "source": []
  },
  {
   "cell_type": "markdown",
   "metadata": {},
   "source": [
    "## directory_length = Number of directory characters"
   ]
  },
  {
   "cell_type": "code",
   "execution_count": 13,
   "metadata": {},
   "outputs": [
    {
     "data": {
      "text/plain": [
       "'Sublime_Sublime_1084356737'"
      ]
     },
     "execution_count": 13,
     "metadata": {},
     "output_type": "execute_result"
    }
   ],
   "source": [
    "directory"
   ]
  },
  {
   "cell_type": "code",
   "execution_count": 14,
   "metadata": {},
   "outputs": [],
   "source": [
    "numeric_directory_chars = 0\n",
    "for char in directory:\n",
    "    \n",
    "    try:\n",
    "        char = int(char)\n",
    "        numeric_directory_chars+=1\n",
    "    except:\n",
    "        continue"
   ]
  },
  {
   "cell_type": "markdown",
   "metadata": {},
   "source": [
    "# time_domain_activation in days : How many days have passed from when this domain was created"
   ]
  },
  {
   "cell_type": "code",
   "execution_count": 15,
   "metadata": {},
   "outputs": [],
   "source": [
    "import datetime"
   ]
  },
  {
   "cell_type": "code",
   "execution_count": 16,
   "metadata": {},
   "outputs": [],
   "source": [
    "import whois"
   ]
  },
  {
   "cell_type": "code",
   "execution_count": 17,
   "metadata": {},
   "outputs": [],
   "source": [
    "def get_time_domain_activation(domain):\n",
    "    try:\n",
    "        \n",
    "        res = whois.whois(domain)\n",
    "        day_created = res['creation_date'][0]\n",
    "        days= (datetime.datetime.now()-day_created).days\n",
    "        return days\n",
    "    except:\n",
    "        return -1"
   ]
  },
  {
   "cell_type": "code",
   "execution_count": 18,
   "metadata": {},
   "outputs": [
    {
     "name": "stdout",
     "output_type": "stream",
     "text": [
      "Error trying to connect to socket: closing socket - [Errno 11001] getaddrinfo failed\n"
     ]
    }
   ],
   "source": [
    "r = get_time_domain_activation(url)"
   ]
  },
  {
   "cell_type": "code",
   "execution_count": 19,
   "metadata": {},
   "outputs": [
    {
     "data": {
      "text/plain": [
       "19"
      ]
     },
     "execution_count": 19,
     "metadata": {},
     "output_type": "execute_result"
    }
   ],
   "source": [
    "len(file)"
   ]
  },
  {
   "cell_type": "markdown",
   "metadata": {},
   "source": [
    "# length_url"
   ]
  },
  {
   "cell_type": "code",
   "execution_count": 20,
   "metadata": {},
   "outputs": [
    {
     "data": {
      "text/plain": [
       "'bloqueioltau.site/Sublime_Sublime_1084356737/Risos_Mae_560734658/#&token=1810416138'"
      ]
     },
     "execution_count": 20,
     "metadata": {},
     "output_type": "execute_result"
    }
   ],
   "source": [
    "url"
   ]
  },
  {
   "cell_type": "code",
   "execution_count": 21,
   "metadata": {},
   "outputs": [
    {
     "data": {
      "text/plain": [
       "83"
      ]
     },
     "execution_count": 21,
     "metadata": {},
     "output_type": "execute_result"
    }
   ],
   "source": [
    "len(url)"
   ]
  },
  {
   "cell_type": "markdown",
   "metadata": {},
   "source": [
    "# file_length"
   ]
  },
  {
   "cell_type": "code",
   "execution_count": 22,
   "metadata": {},
   "outputs": [],
   "source": [
    "file_length = len(file)"
   ]
  },
  {
   "cell_type": "code",
   "execution_count": 23,
   "metadata": {},
   "outputs": [
    {
     "data": {
      "text/plain": [
       "19"
      ]
     },
     "execution_count": 23,
     "metadata": {},
     "output_type": "execute_result"
    }
   ],
   "source": [
    "file_length "
   ]
  },
  {
   "cell_type": "markdown",
   "metadata": {},
   "source": [
    "# qty_slash_url"
   ]
  },
  {
   "cell_type": "code",
   "execution_count": 24,
   "metadata": {},
   "outputs": [
    {
     "data": {
      "text/plain": [
       "'bloqueioltau.site/Sublime_Sublime_1084356737/Risos_Mae_560734658/#&token=1810416138'"
      ]
     },
     "execution_count": 24,
     "metadata": {},
     "output_type": "execute_result"
    }
   ],
   "source": [
    "url"
   ]
  },
  {
   "cell_type": "code",
   "execution_count": 25,
   "metadata": {},
   "outputs": [
    {
     "data": {
      "text/plain": [
       "3"
      ]
     },
     "execution_count": 25,
     "metadata": {},
     "output_type": "execute_result"
    }
   ],
   "source": [
    "url.count(\"/\")"
   ]
  },
  {
   "cell_type": "markdown",
   "metadata": {},
   "source": [
    "# qty_plus_directory"
   ]
  },
  {
   "cell_type": "code",
   "execution_count": 26,
   "metadata": {},
   "outputs": [
    {
     "data": {
      "text/plain": [
       "'Sublime_Sublime_1084356737'"
      ]
     },
     "execution_count": 26,
     "metadata": {},
     "output_type": "execute_result"
    }
   ],
   "source": [
    "directory"
   ]
  },
  {
   "cell_type": "code",
   "execution_count": 27,
   "metadata": {},
   "outputs": [],
   "source": [
    "qty_plus_directory = directory.count(\"+\")"
   ]
  },
  {
   "cell_type": "code",
   "execution_count": 28,
   "metadata": {},
   "outputs": [
    {
     "data": {
      "text/plain": [
       "0"
      ]
     },
     "execution_count": 28,
     "metadata": {},
     "output_type": "execute_result"
    }
   ],
   "source": [
    "qty_plus_directory"
   ]
  },
  {
   "cell_type": "markdown",
   "metadata": {},
   "source": [
    "# domain_length"
   ]
  },
  {
   "cell_type": "code",
   "execution_count": 29,
   "metadata": {},
   "outputs": [
    {
     "data": {
      "text/plain": [
       "'bloqueioltau.site'"
      ]
     },
     "execution_count": 29,
     "metadata": {},
     "output_type": "execute_result"
    }
   ],
   "source": [
    "domain"
   ]
  },
  {
   "cell_type": "code",
   "execution_count": 30,
   "metadata": {},
   "outputs": [
    {
     "data": {
      "text/plain": [
       "17"
      ]
     },
     "execution_count": 30,
     "metadata": {},
     "output_type": "execute_result"
    }
   ],
   "source": [
    "len(domain)"
   ]
  },
  {
   "cell_type": "markdown",
   "metadata": {},
   "source": [
    "# qty_vowels_domain"
   ]
  },
  {
   "cell_type": "code",
   "execution_count": 31,
   "metadata": {},
   "outputs": [],
   "source": [
    "qty_vowels_domain = 0\n",
    "for i in domain:\n",
    "    if i in {\"a\",\"e\",\"i\",\"o\",\"u\"}:\n",
    "        qty_vowels_domain+=1"
   ]
  },
  {
   "cell_type": "code",
   "execution_count": 32,
   "metadata": {},
   "outputs": [
    {
     "data": {
      "text/plain": [
       "9"
      ]
     },
     "execution_count": 32,
     "metadata": {},
     "output_type": "execute_result"
    }
   ],
   "source": [
    "qty_vowels_domain"
   ]
  },
  {
   "cell_type": "markdown",
   "metadata": {},
   "source": [
    "# qty_asterisk_directory"
   ]
  },
  {
   "cell_type": "code",
   "execution_count": 33,
   "metadata": {},
   "outputs": [],
   "source": [
    "qty_asterisk_directory = directory.count(\"*\")"
   ]
  },
  {
   "cell_type": "code",
   "execution_count": 34,
   "metadata": {},
   "outputs": [
    {
     "data": {
      "text/plain": [
       "0"
      ]
     },
     "execution_count": 34,
     "metadata": {},
     "output_type": "execute_result"
    }
   ],
   "source": [
    "qty_asterisk_directory"
   ]
  },
  {
   "cell_type": "code",
   "execution_count": 35,
   "metadata": {},
   "outputs": [
    {
     "data": {
      "text/plain": [
       "'Sublime_Sublime_1084356737'"
      ]
     },
     "execution_count": 35,
     "metadata": {},
     "output_type": "execute_result"
    }
   ],
   "source": [
    "directory"
   ]
  },
  {
   "cell_type": "markdown",
   "metadata": {},
   "source": [
    "# qty_hyphen_directory"
   ]
  },
  {
   "cell_type": "code",
   "execution_count": 36,
   "metadata": {},
   "outputs": [],
   "source": [
    "qty_hyphen_directory = directory.count(\"-\")"
   ]
  },
  {
   "cell_type": "code",
   "execution_count": 37,
   "metadata": {},
   "outputs": [
    {
     "data": {
      "text/plain": [
       "0"
      ]
     },
     "execution_count": 37,
     "metadata": {},
     "output_type": "execute_result"
    }
   ],
   "source": [
    "qty_hyphen_directory"
   ]
  },
  {
   "cell_type": "code",
   "execution_count": 38,
   "metadata": {},
   "outputs": [
    {
     "data": {
      "text/plain": [
       "'Sublime_Sublime_1084356737'"
      ]
     },
     "execution_count": 38,
     "metadata": {},
     "output_type": "execute_result"
    }
   ],
   "source": [
    "directory"
   ]
  },
  {
   "cell_type": "markdown",
   "metadata": {},
   "source": [
    "# qty_dot_domain"
   ]
  },
  {
   "cell_type": "code",
   "execution_count": 39,
   "metadata": {},
   "outputs": [],
   "source": [
    "qty_dot_domain = domain.count(\".\")"
   ]
  },
  {
   "cell_type": "code",
   "execution_count": 40,
   "metadata": {},
   "outputs": [
    {
     "data": {
      "text/plain": [
       "1"
      ]
     },
     "execution_count": 40,
     "metadata": {},
     "output_type": "execute_result"
    }
   ],
   "source": [
    "qty_dot_domain"
   ]
  },
  {
   "cell_type": "markdown",
   "metadata": {},
   "source": [
    "# qty_underline_directory"
   ]
  },
  {
   "cell_type": "code",
   "execution_count": 41,
   "metadata": {},
   "outputs": [],
   "source": [
    "qty_underline_directory = directory.count(\"_\")"
   ]
  },
  {
   "cell_type": "code",
   "execution_count": 42,
   "metadata": {},
   "outputs": [
    {
     "data": {
      "text/plain": [
       "2"
      ]
     },
     "execution_count": 42,
     "metadata": {},
     "output_type": "execute_result"
    }
   ],
   "source": [
    "qty_underline_directory"
   ]
  },
  {
   "cell_type": "code",
   "execution_count": 43,
   "metadata": {},
   "outputs": [
    {
     "data": {
      "text/plain": [
       "'Sublime_Sublime_1084356737'"
      ]
     },
     "execution_count": 43,
     "metadata": {},
     "output_type": "execute_result"
    }
   ],
   "source": [
    "directory"
   ]
  },
  {
   "cell_type": "markdown",
   "metadata": {},
   "source": [
    "# qty_percent_directory"
   ]
  },
  {
   "cell_type": "code",
   "execution_count": 44,
   "metadata": {},
   "outputs": [],
   "source": [
    "qty_percent_directory = directory.count(\"%\")"
   ]
  },
  {
   "cell_type": "code",
   "execution_count": 45,
   "metadata": {},
   "outputs": [
    {
     "data": {
      "text/plain": [
       "0"
      ]
     },
     "execution_count": 45,
     "metadata": {},
     "output_type": "execute_result"
    }
   ],
   "source": [
    "qty_percent_directory"
   ]
  },
  {
   "cell_type": "markdown",
   "metadata": {},
   "source": [
    "# qty_dot_url"
   ]
  },
  {
   "cell_type": "code",
   "execution_count": 46,
   "metadata": {},
   "outputs": [],
   "source": [
    "qty_dot_url = url.count(\".\")"
   ]
  },
  {
   "cell_type": "code",
   "execution_count": 47,
   "metadata": {},
   "outputs": [
    {
     "data": {
      "text/plain": [
       "1"
      ]
     },
     "execution_count": 47,
     "metadata": {},
     "output_type": "execute_result"
    }
   ],
   "source": [
    "qty_dot_url"
   ]
  },
  {
   "cell_type": "markdown",
   "metadata": {},
   "source": [
    "# qty_hyphen_url"
   ]
  },
  {
   "cell_type": "code",
   "execution_count": 48,
   "metadata": {},
   "outputs": [],
   "source": [
    "qty_hyphen_url = url.count(\"-\")"
   ]
  },
  {
   "cell_type": "code",
   "execution_count": 49,
   "metadata": {},
   "outputs": [
    {
     "data": {
      "text/plain": [
       "0"
      ]
     },
     "execution_count": 49,
     "metadata": {},
     "output_type": "execute_result"
    }
   ],
   "source": [
    "qty_hyphen_url"
   ]
  },
  {
   "cell_type": "markdown",
   "metadata": {},
   "source": [
    "# qty_hyphen_file"
   ]
  },
  {
   "cell_type": "code",
   "execution_count": 50,
   "metadata": {},
   "outputs": [],
   "source": [
    "qty_hyphen_file = file.count(\"-\")"
   ]
  },
  {
   "cell_type": "code",
   "execution_count": 51,
   "metadata": {},
   "outputs": [
    {
     "data": {
      "text/plain": [
       "0"
      ]
     },
     "execution_count": 51,
     "metadata": {},
     "output_type": "execute_result"
    }
   ],
   "source": [
    "qty_hyphen_file"
   ]
  },
  {
   "cell_type": "markdown",
   "metadata": {},
   "source": [
    "# qty_hyphen_domain"
   ]
  },
  {
   "cell_type": "code",
   "execution_count": 52,
   "metadata": {},
   "outputs": [],
   "source": [
    "qty_hyphen_domain = domain.count(\"-\")"
   ]
  },
  {
   "cell_type": "code",
   "execution_count": 53,
   "metadata": {},
   "outputs": [
    {
     "data": {
      "text/plain": [
       "0"
      ]
     },
     "execution_count": 53,
     "metadata": {},
     "output_type": "execute_result"
    }
   ],
   "source": [
    "qty_hyphen_domain"
   ]
  },
  {
   "cell_type": "markdown",
   "metadata": {},
   "source": [
    "# params_length"
   ]
  },
  {
   "cell_type": "code",
   "execution_count": 54,
   "metadata": {},
   "outputs": [],
   "source": [
    "params_length = len(parameters)"
   ]
  },
  {
   "cell_type": "code",
   "execution_count": 55,
   "metadata": {},
   "outputs": [
    {
     "data": {
      "text/plain": [
       "18"
      ]
     },
     "execution_count": 55,
     "metadata": {},
     "output_type": "execute_result"
    }
   ],
   "source": [
    "params_length"
   ]
  },
  {
   "cell_type": "markdown",
   "metadata": {},
   "source": [
    "# qty_underline_url"
   ]
  },
  {
   "cell_type": "code",
   "execution_count": 56,
   "metadata": {},
   "outputs": [],
   "source": [
    "qty_underline_url = url.count(\"_\")"
   ]
  },
  {
   "cell_type": "code",
   "execution_count": 57,
   "metadata": {},
   "outputs": [
    {
     "data": {
      "text/plain": [
       "4"
      ]
     },
     "execution_count": 57,
     "metadata": {},
     "output_type": "execute_result"
    }
   ],
   "source": [
    "qty_underline_url"
   ]
  },
  {
   "cell_type": "markdown",
   "metadata": {},
   "source": [
    "# qty_tld_url"
   ]
  },
  {
   "cell_type": "code",
   "execution_count": 58,
   "metadata": {},
   "outputs": [],
   "source": [
    "top_level_domain = domain.split(\".\")[-1]"
   ]
  },
  {
   "cell_type": "code",
   "execution_count": 59,
   "metadata": {},
   "outputs": [
    {
     "data": {
      "text/plain": [
       "'site'"
      ]
     },
     "execution_count": 59,
     "metadata": {},
     "output_type": "execute_result"
    }
   ],
   "source": [
    "top_level_domain"
   ]
  },
  {
   "cell_type": "code",
   "execution_count": 60,
   "metadata": {},
   "outputs": [],
   "source": [
    "qty_tld_url = len(top_level_domain)"
   ]
  },
  {
   "cell_type": "code",
   "execution_count": 61,
   "metadata": {},
   "outputs": [
    {
     "data": {
      "text/plain": [
       "4"
      ]
     },
     "execution_count": 61,
     "metadata": {},
     "output_type": "execute_result"
    }
   ],
   "source": [
    "qty_tld_url"
   ]
  },
  {
   "cell_type": "markdown",
   "metadata": {},
   "source": [
    "# qty_plus_params"
   ]
  },
  {
   "cell_type": "code",
   "execution_count": 62,
   "metadata": {},
   "outputs": [],
   "source": [
    "qty_plus_params = parameters.count(\"+\")"
   ]
  },
  {
   "cell_type": "code",
   "execution_count": 63,
   "metadata": {},
   "outputs": [
    {
     "data": {
      "text/plain": [
       "0"
      ]
     },
     "execution_count": 63,
     "metadata": {},
     "output_type": "execute_result"
    }
   ],
   "source": [
    "qty_plus_params"
   ]
  },
  {
   "cell_type": "markdown",
   "metadata": {},
   "source": [
    "# qty_percent_url"
   ]
  },
  {
   "cell_type": "code",
   "execution_count": 64,
   "metadata": {},
   "outputs": [],
   "source": [
    "qty_percent_url = url.count(\"%\")"
   ]
  },
  {
   "cell_type": "code",
   "execution_count": 65,
   "metadata": {},
   "outputs": [
    {
     "data": {
      "text/plain": [
       "0"
      ]
     },
     "execution_count": 65,
     "metadata": {},
     "output_type": "execute_result"
    }
   ],
   "source": [
    "qty_percent_url"
   ]
  },
  {
   "cell_type": "markdown",
   "metadata": {},
   "source": [
    "# qty_equal_params"
   ]
  },
  {
   "cell_type": "code",
   "execution_count": 66,
   "metadata": {},
   "outputs": [],
   "source": [
    "qty_equal_params = parameters.count(\"=\")"
   ]
  },
  {
   "cell_type": "code",
   "execution_count": 67,
   "metadata": {},
   "outputs": [
    {
     "data": {
      "text/plain": [
       "1"
      ]
     },
     "execution_count": 67,
     "metadata": {},
     "output_type": "execute_result"
    }
   ],
   "source": [
    "qty_equal_params"
   ]
  },
  {
   "cell_type": "markdown",
   "metadata": {},
   "source": [
    "# qty_dot_params"
   ]
  },
  {
   "cell_type": "code",
   "execution_count": 68,
   "metadata": {},
   "outputs": [],
   "source": [
    "qty_dot_params = parameters.count(\".\")"
   ]
  },
  {
   "cell_type": "code",
   "execution_count": 69,
   "metadata": {},
   "outputs": [
    {
     "data": {
      "text/plain": [
       "0"
      ]
     },
     "execution_count": 69,
     "metadata": {},
     "output_type": "execute_result"
    }
   ],
   "source": [
    "qty_dot_params"
   ]
  },
  {
   "cell_type": "markdown",
   "metadata": {},
   "source": [
    "# qty_underline_params"
   ]
  },
  {
   "cell_type": "code",
   "execution_count": 70,
   "metadata": {},
   "outputs": [],
   "source": [
    "qty_underline_params = parameters.count(\"_\")"
   ]
  },
  {
   "cell_type": "code",
   "execution_count": 71,
   "metadata": {},
   "outputs": [
    {
     "data": {
      "text/plain": [
       "0"
      ]
     },
     "execution_count": 71,
     "metadata": {},
     "output_type": "execute_result"
    }
   ],
   "source": [
    "qty_underline_params"
   ]
  },
  {
   "cell_type": "code",
   "execution_count": null,
   "metadata": {},
   "outputs": [],
   "source": []
  },
  {
   "cell_type": "markdown",
   "metadata": {},
   "source": [
    "# Final Class"
   ]
  },
  {
   "cell_type": "code",
   "execution_count": 72,
   "metadata": {},
   "outputs": [],
   "source": [
    "import os"
   ]
  },
  {
   "cell_type": "code",
   "execution_count": 73,
   "metadata": {},
   "outputs": [],
   "source": [
    "os.chdir(\"..\")"
   ]
  },
  {
   "cell_type": "code",
   "execution_count": 74,
   "metadata": {},
   "outputs": [],
   "source": [
    "from phishing_domain_detection.util import read_yaml_file"
   ]
  },
  {
   "cell_type": "code",
   "execution_count": 75,
   "metadata": {},
   "outputs": [],
   "source": [
    "from phishing_domain_detection.constants import *"
   ]
  },
  {
   "cell_type": "code",
   "execution_count": 76,
   "metadata": {},
   "outputs": [],
   "source": [
    "config  = read_yaml_file(CONFIG_FILE_PATH)"
   ]
  },
  {
   "cell_type": "code",
   "execution_count": 77,
   "metadata": {},
   "outputs": [],
   "source": [
    "features = config[DATA_INGESTION_CONFIG_KEY][DATA_INGESTION_TOP_FEATURES_KEY]"
   ]
  },
  {
   "cell_type": "code",
   "execution_count": 78,
   "metadata": {},
   "outputs": [
    {
     "data": {
      "text/plain": [
       "'phishing'"
      ]
     },
     "execution_count": 78,
     "metadata": {},
     "output_type": "execute_result"
    }
   ],
   "source": [
    "features.pop()"
   ]
  },
  {
   "cell_type": "code",
   "execution_count": 79,
   "metadata": {},
   "outputs": [],
   "source": [
    "from typing import List\n",
    "import pandas as pd"
   ]
  },
  {
   "cell_type": "code",
   "execution_count": 80,
   "metadata": {},
   "outputs": [],
   "source": [
    "import pandas as pd\n",
    "import numpy as np\n",
    "import datetime \n",
    "\n",
    "class FeatureExtractor:\n",
    "    def __init__(self, columns):\n",
    "       self.columns = columns\n",
    "    \n",
    "    @staticmethod\n",
    "    def __extract_domain(url):\n",
    "        try:\n",
    "            return url.split(\"//\")[1].split(\"/\")[0]\n",
    "        except Exception as e:\n",
    "            return \"\"\n",
    "    \n",
    "    @staticmethod\n",
    "    def __extract_directory(url):\n",
    "        try:\n",
    "            return url.split(\"//\")[1].split(\"/\")[1]\n",
    "        except Exception as e:\n",
    "            return \"\"\n",
    "        \n",
    "    @staticmethod\n",
    "    def __extract_file(url):\n",
    "        try:\n",
    "            return url.split(\"//\")[1].split(\"/\")[2]\n",
    "        except Exception as e:\n",
    "            return \"\"\n",
    "    \n",
    "    @staticmethod\n",
    "    def __extract_parameters(url):\n",
    "        try:\n",
    "            return url.split(\"//\")[1].split(\"/\")[3]\n",
    "        except Exception as e:\n",
    "            return \"\"\n",
    "    \n",
    "    @staticmethod\n",
    "    def __extract_directory_length(directory):\n",
    "        if directory == \"\":\n",
    "            return -1\n",
    "        return len(directory)\n",
    "    \n",
    "    @staticmethod\n",
    "    def __extract_time_domain_activation(url):\n",
    "        try:\n",
    "            res = whois.whois(url)\n",
    "            day_created = res['creation_date'][0]\n",
    "            days= (datetime.datetime.now()-day_created).days\n",
    "            return days\n",
    "        except:\n",
    "            return -1\n",
    "    \n",
    "    \n",
    "    @staticmethod\n",
    "    def __extract_length_url(url):\n",
    "        return len(url)\n",
    "    \n",
    "    @staticmethod\n",
    "    def __extract_file_length(file):\n",
    "        \n",
    "        if file == \"\":\n",
    "            return -1\n",
    "        \n",
    "        return len(file)\n",
    "    \n",
    "    @staticmethod\n",
    "    def __extract_qty_slash_url(url):\n",
    "        return url.count(\"/\")\n",
    "    \n",
    "    @staticmethod\n",
    "    def __extract_qty_plus_directory(directory):\n",
    "        return directory.count(\"+\")\n",
    "    \n",
    "    @staticmethod\n",
    "    def __extract_qty_vowels_domain(domain):\n",
    "        qty_vowels_domain = 0\n",
    "        for i in domain:\n",
    "            if i in {\"a\",\"e\",\"i\",\"o\",\"u\"}:\n",
    "                qty_vowels_domain+=1\n",
    "        \n",
    "        return qty_vowels_domain\n",
    "    \n",
    "    @staticmethod\n",
    "    def __extract_qty_asterik_directory(directory):\n",
    "        if directory == \"\":\n",
    "            return -1\n",
    "        \n",
    "        return directory.count(\"*\")\n",
    "    \n",
    "    @staticmethod\n",
    "    def __extract_qty_hyphen_directory(directory):\n",
    "        if directory == \"\":\n",
    "            return  -1\n",
    "        return directory.count(\"-\")\n",
    "    \n",
    "    @staticmethod\n",
    "    def __extract_qty_underline_directory(directory):\n",
    "        if directory == \"\":\n",
    "            return -1\n",
    "        \n",
    "        return directory.count(\"_\")\n",
    "    \n",
    "    \n",
    "    @staticmethod\n",
    "    def __extract_qty_percent_directory(directory):\n",
    "        if directory == \"\":\n",
    "            return -1\n",
    "        return directory.count(\"%\")\n",
    "    \n",
    "    \n",
    "    @staticmethod\n",
    "    def __extract_qty_hyphen_file(file):\n",
    "        if file == \"\":  \n",
    "            return -1\n",
    "        return file.count(\"-\")\n",
    "    \n",
    "    @staticmethod\n",
    "    def __extract_params_length(parameters):\n",
    "        if parameters == \"\":\n",
    "            return -1\n",
    "        return len(parameters)\n",
    "    \n",
    "    @staticmethod\n",
    "    def __extract_qty_tld_url(domain):\n",
    "        try:\n",
    "            \n",
    "            top_level_domain = domain.split(\".\")[-1]\n",
    "            \n",
    "            return len(top_level_domain)\n",
    "\n",
    "        except Exception as e:\n",
    "            return 1\n",
    "    \n",
    "    @staticmethod\n",
    "    def __extract_qty_plus_params(parameters):\n",
    "        if parameters == \"\":\n",
    "            return -1\n",
    "        \n",
    "        return parameters.count(\"+\")\n",
    "    \n",
    "    @staticmethod\n",
    "    def __extract_qty_equal_params(parameters):\n",
    "        if parameters == \"\":\n",
    "            return -1\n",
    "        \n",
    "        return parameters.count(\"=\")\n",
    "    \n",
    "    @staticmethod\n",
    "    def __extract_qty_dot_params(parameters):\n",
    "        if parameters == \"\":    \n",
    "            return -1\n",
    "        \n",
    "        return parameters.count(\".\")\n",
    "    \n",
    "    \n",
    "    @staticmethod\n",
    "    def __extract_qty_percent_params(parameters):\n",
    "        if parameters == \"\":\n",
    "            return -1\n",
    "        return parameters.count(\"%\")\n",
    "    \n",
    "    @staticmethod\n",
    "    def __extract_qty_underline_params(parameters):\n",
    "        if parameters == \"\":\n",
    "            return -1\n",
    "        return parameters.count(\"_\")\n",
    "    \n",
    "    def __generate_dataframe_from_url(self, url:str):\n",
    "        \n",
    "        domain = FeatureExtractor.__extract_domain(url)\n",
    "        directory = FeatureExtractor.__extract_directory(url)\n",
    "        file = FeatureExtractor.__extract_file(url)\n",
    "        parameters = FeatureExtractor.__extract_parameters(url)\n",
    "        \n",
    "        \n",
    "        directory_length = FeatureExtractor.__extract_directory_length(directory)\n",
    "        time_domain_activation = FeatureExtractor.__extract_time_domain_activation(url)\n",
    "        length_url = FeatureExtractor.__extract_length_url(url)\n",
    "        file_length = FeatureExtractor.__extract_file_length(file)\n",
    "        qty_slash_url = FeatureExtractor.__extract_qty_slash_url(url)\n",
    "        qty_plus_directory = FeatureExtractor.__extract_qty_plus_directory(directory)\n",
    "        \n",
    "        domain_length = len(domain)\n",
    "        qty_vowels_domain = FeatureExtractor.__extract_qty_vowels_domain(domain)\n",
    "        qty_asterisk_directory = FeatureExtractor.__extract_qty_asterik_directory(directory)\n",
    "        qty_hyphen_directory = FeatureExtractor.__extract_qty_hyphen_directory(directory)\n",
    "        \n",
    "        qty_dot_domain = domain.count(\".\")\n",
    "        qty_underline_directory = FeatureExtractor.__extract_qty_underline_directory(directory)\n",
    "        qty_percent_directory = FeatureExtractor.__extract_qty_percent_directory(directory)\n",
    "        \n",
    "        qty_dot_url = url.count(\".\")\n",
    "        qty_hyphen_url = url.count(\"-\")\n",
    "        qty_hyphen_file = FeatureExtractor.__extract_qty_hyphen_file(file)\n",
    "        \n",
    "        \n",
    "        qty_hyphen_domain = domain.count(\"-\")\n",
    "        qty_params_length = FeatureExtractor.__extract_params_length(parameters)\n",
    "        \n",
    "        qty_underline_url = url.count(\"_\")\n",
    "        qty_tld_url = FeatureExtractor.__extract_qty_tld_url(domain)\n",
    "        \n",
    "        qty_plus_params = FeatureExtractor.__extract_qty_plus_params(parameters)\n",
    "        \n",
    "        \n",
    "        qty_percent_url = url.count(\"%\")\n",
    "        \n",
    "        \n",
    "        qty_equal_params = FeatureExtractor.__extract_qty_equal_params(parameters)\n",
    "        qty_dot_params = FeatureExtractor.__extract_qty_dot_params(parameters)\n",
    "        \n",
    "        qty_percent_params = FeatureExtractor.__extract_qty_percent_params(parameters)\n",
    "        qty_underline_params = FeatureExtractor.__extract_qty_underline_params(parameters)\n",
    "        \n",
    "        df_row_array = np.array([directory_length, time_domain_activation, length_url,\n",
    "                  file_length, qty_slash_url, qty_plus_directory, \n",
    "                  domain_length, qty_vowels_domain, qty_asterisk_directory,qty_hyphen_directory,\n",
    "                  qty_dot_domain, qty_underline_directory, qty_percent_directory,\n",
    "                  qty_dot_url, qty_hyphen_url, qty_hyphen_file, qty_hyphen_domain, qty_params_length,\n",
    "                  qty_underline_url,qty_tld_url, qty_plus_params,qty_percent_url,qty_equal_params, \n",
    "                  qty_dot_params, qty_percent_params, qty_underline_params])\n",
    "        \n",
    "        \n",
    "        \n",
    "        df_row = pd.DataFrame(df_row_array.reshape(1,-1), columns = self.columns)\n",
    "        \n",
    "        # print(df_row_array)\n",
    "        return df_row\n",
    "        \n",
    "    \n",
    "    def generate_dataframe_from_urls(self, url_list:List[str]):\n",
    "        df = pd.DataFrame(columns=self.columns)\n",
    "        for url in url_list:\n",
    "            df_row = self.__generate_dataframe_from_url(url)\n",
    "            df = pd.concat([df, df_row])\n",
    "        return df"
   ]
  },
  {
   "cell_type": "code",
   "execution_count": 81,
   "metadata": {},
   "outputs": [],
   "source": [
    "https_url = \"https://tinyurl.com/3e5smywh\""
   ]
  },
  {
   "cell_type": "code",
   "execution_count": 82,
   "metadata": {},
   "outputs": [],
   "source": [
    "fe = FeatureExtractor(features)"
   ]
  },
  {
   "cell_type": "code",
   "execution_count": 83,
   "metadata": {},
   "outputs": [
    {
     "name": "stdout",
     "output_type": "stream",
     "text": [
      "Error trying to connect to socket: closing socket - [Errno 11001] getaddrinfo failed\n"
     ]
    }
   ],
   "source": [
    "temp = fe.generate_dataframe_from_urls([https_url,\"https://bloqueioltau.site/Sublime_Sublime_1084356737/Risos_Mae_560734658/#&token=1810416138\",\"https://www.geeksforgeeks.com/\",\"https://ip-72-182-82-263.ip.gw-designs.de/index2.php\"])"
   ]
  },
  {
   "cell_type": "code",
   "execution_count": 84,
   "metadata": {},
   "outputs": [
    {
     "data": {
      "text/html": [
       "<div>\n",
       "<style scoped>\n",
       "    .dataframe tbody tr th:only-of-type {\n",
       "        vertical-align: middle;\n",
       "    }\n",
       "\n",
       "    .dataframe tbody tr th {\n",
       "        vertical-align: top;\n",
       "    }\n",
       "\n",
       "    .dataframe thead th {\n",
       "        text-align: right;\n",
       "    }\n",
       "</style>\n",
       "<table border=\"1\" class=\"dataframe\">\n",
       "  <thead>\n",
       "    <tr style=\"text-align: right;\">\n",
       "      <th></th>\n",
       "      <th>directory_length</th>\n",
       "      <th>time_domain_activation</th>\n",
       "      <th>length_url</th>\n",
       "      <th>file_length</th>\n",
       "      <th>qty_slash_url</th>\n",
       "      <th>qty_plus_directory</th>\n",
       "      <th>domain_length</th>\n",
       "      <th>qty_vowels_domain</th>\n",
       "      <th>qty_asterisk_directory</th>\n",
       "      <th>qty_hyphen_directory</th>\n",
       "      <th>...</th>\n",
       "      <th>qty_hyphen_domain</th>\n",
       "      <th>params_length</th>\n",
       "      <th>qty_underline_url</th>\n",
       "      <th>qty_tld_url</th>\n",
       "      <th>qty_plus_params</th>\n",
       "      <th>qty_percent_url</th>\n",
       "      <th>qty_equal_params</th>\n",
       "      <th>qty_dot_params</th>\n",
       "      <th>qty_percent_params</th>\n",
       "      <th>qty_underline_params</th>\n",
       "    </tr>\n",
       "  </thead>\n",
       "  <tbody>\n",
       "    <tr>\n",
       "      <th>0</th>\n",
       "      <td>8</td>\n",
       "      <td>-1</td>\n",
       "      <td>28</td>\n",
       "      <td>-1</td>\n",
       "      <td>3</td>\n",
       "      <td>0</td>\n",
       "      <td>11</td>\n",
       "      <td>3</td>\n",
       "      <td>0</td>\n",
       "      <td>0</td>\n",
       "      <td>...</td>\n",
       "      <td>0</td>\n",
       "      <td>-1</td>\n",
       "      <td>0</td>\n",
       "      <td>3</td>\n",
       "      <td>-1</td>\n",
       "      <td>0</td>\n",
       "      <td>-1</td>\n",
       "      <td>-1</td>\n",
       "      <td>-1</td>\n",
       "      <td>-1</td>\n",
       "    </tr>\n",
       "    <tr>\n",
       "      <th>0</th>\n",
       "      <td>26</td>\n",
       "      <td>-1</td>\n",
       "      <td>91</td>\n",
       "      <td>19</td>\n",
       "      <td>5</td>\n",
       "      <td>0</td>\n",
       "      <td>17</td>\n",
       "      <td>9</td>\n",
       "      <td>0</td>\n",
       "      <td>0</td>\n",
       "      <td>...</td>\n",
       "      <td>0</td>\n",
       "      <td>18</td>\n",
       "      <td>4</td>\n",
       "      <td>4</td>\n",
       "      <td>0</td>\n",
       "      <td>0</td>\n",
       "      <td>1</td>\n",
       "      <td>0</td>\n",
       "      <td>0</td>\n",
       "      <td>0</td>\n",
       "    </tr>\n",
       "    <tr>\n",
       "      <th>0</th>\n",
       "      <td>-1</td>\n",
       "      <td>4864</td>\n",
       "      <td>30</td>\n",
       "      <td>-1</td>\n",
       "      <td>3</td>\n",
       "      <td>0</td>\n",
       "      <td>21</td>\n",
       "      <td>6</td>\n",
       "      <td>-1</td>\n",
       "      <td>-1</td>\n",
       "      <td>...</td>\n",
       "      <td>0</td>\n",
       "      <td>-1</td>\n",
       "      <td>0</td>\n",
       "      <td>3</td>\n",
       "      <td>-1</td>\n",
       "      <td>0</td>\n",
       "      <td>-1</td>\n",
       "      <td>-1</td>\n",
       "      <td>-1</td>\n",
       "      <td>-1</td>\n",
       "    </tr>\n",
       "    <tr>\n",
       "      <th>0</th>\n",
       "      <td>10</td>\n",
       "      <td>-1</td>\n",
       "      <td>52</td>\n",
       "      <td>-1</td>\n",
       "      <td>3</td>\n",
       "      <td>0</td>\n",
       "      <td>33</td>\n",
       "      <td>5</td>\n",
       "      <td>0</td>\n",
       "      <td>0</td>\n",
       "      <td>...</td>\n",
       "      <td>5</td>\n",
       "      <td>-1</td>\n",
       "      <td>0</td>\n",
       "      <td>2</td>\n",
       "      <td>-1</td>\n",
       "      <td>0</td>\n",
       "      <td>-1</td>\n",
       "      <td>-1</td>\n",
       "      <td>-1</td>\n",
       "      <td>-1</td>\n",
       "    </tr>\n",
       "  </tbody>\n",
       "</table>\n",
       "<p>4 rows × 26 columns</p>\n",
       "</div>"
      ],
      "text/plain": [
       "  directory_length time_domain_activation length_url file_length  \\\n",
       "0                8                     -1         28          -1   \n",
       "0               26                     -1         91          19   \n",
       "0               -1                   4864         30          -1   \n",
       "0               10                     -1         52          -1   \n",
       "\n",
       "  qty_slash_url qty_plus_directory domain_length qty_vowels_domain  \\\n",
       "0             3                  0            11                 3   \n",
       "0             5                  0            17                 9   \n",
       "0             3                  0            21                 6   \n",
       "0             3                  0            33                 5   \n",
       "\n",
       "  qty_asterisk_directory qty_hyphen_directory  ... qty_hyphen_domain  \\\n",
       "0                      0                    0  ...                 0   \n",
       "0                      0                    0  ...                 0   \n",
       "0                     -1                   -1  ...                 0   \n",
       "0                      0                    0  ...                 5   \n",
       "\n",
       "  params_length qty_underline_url qty_tld_url qty_plus_params qty_percent_url  \\\n",
       "0            -1                 0           3              -1               0   \n",
       "0            18                 4           4               0               0   \n",
       "0            -1                 0           3              -1               0   \n",
       "0            -1                 0           2              -1               0   \n",
       "\n",
       "  qty_equal_params qty_dot_params qty_percent_params qty_underline_params  \n",
       "0               -1             -1                 -1                   -1  \n",
       "0                1              0                  0                    0  \n",
       "0               -1             -1                 -1                   -1  \n",
       "0               -1             -1                 -1                   -1  \n",
       "\n",
       "[4 rows x 26 columns]"
      ]
     },
     "execution_count": 84,
     "metadata": {},
     "output_type": "execute_result"
    }
   ],
   "source": [
    "temp"
   ]
  },
  {
   "cell_type": "code",
   "execution_count": null,
   "metadata": {},
   "outputs": [],
   "source": []
  },
  {
   "cell_type": "code",
   "execution_count": 85,
   "metadata": {},
   "outputs": [],
   "source": [
    "model_path = \"saved_models\\\\20220922011709\\\\model.joblib\""
   ]
  },
  {
   "cell_type": "code",
   "execution_count": 86,
   "metadata": {},
   "outputs": [],
   "source": [
    "import joblib"
   ]
  },
  {
   "cell_type": "code",
   "execution_count": 87,
   "metadata": {},
   "outputs": [],
   "source": [
    "from phishing_domain_detection.component.model_trainer import PhishingEstimator"
   ]
  },
  {
   "cell_type": "code",
   "execution_count": 88,
   "metadata": {},
   "outputs": [],
   "source": [
    "model = joblib.load(model_path)"
   ]
  },
  {
   "cell_type": "code",
   "execution_count": 89,
   "metadata": {},
   "outputs": [
    {
     "data": {
      "text/plain": [
       "RandomForestClassifier()"
      ]
     },
     "execution_count": 89,
     "metadata": {},
     "output_type": "execute_result"
    }
   ],
   "source": [
    "model"
   ]
  },
  {
   "cell_type": "code",
   "execution_count": 90,
   "metadata": {},
   "outputs": [
    {
     "data": {
      "text/plain": [
       "array([1, 1, 0, 1])"
      ]
     },
     "execution_count": 90,
     "metadata": {},
     "output_type": "execute_result"
    }
   ],
   "source": [
    "np.where(model.predict_proba(temp)[:,1]>model.custom_threshold,1,0)"
   ]
  },
  {
   "cell_type": "code",
   "execution_count": 91,
   "metadata": {},
   "outputs": [
    {
     "data": {
      "text/plain": [
       "array([1, 1, 0, 1])"
      ]
     },
     "execution_count": 91,
     "metadata": {},
     "output_type": "execute_result"
    }
   ],
   "source": [
    "model.predict(temp)"
   ]
  },
  {
   "cell_type": "code",
   "execution_count": 92,
   "metadata": {},
   "outputs": [
    {
     "data": {
      "text/plain": [
       "0.3"
      ]
     },
     "execution_count": 92,
     "metadata": {},
     "output_type": "execute_result"
    }
   ],
   "source": [
    "model.custom_threshold"
   ]
  },
  {
   "cell_type": "code",
   "execution_count": 93,
   "metadata": {},
   "outputs": [
    {
     "data": {
      "text/plain": [
       "array([[0.15175758, 0.84824242],\n",
       "       [0.0215    , 0.9785    ],\n",
       "       [0.89595238, 0.10404762],\n",
       "       [0.14488528, 0.85511472]])"
      ]
     },
     "execution_count": 93,
     "metadata": {},
     "output_type": "execute_result"
    }
   ],
   "source": [
    "model.predict_proba(temp)"
   ]
  },
  {
   "cell_type": "code",
   "execution_count": null,
   "metadata": {},
   "outputs": [],
   "source": []
  },
  {
   "cell_type": "markdown",
   "metadata": {},
   "source": [
    "# Testing feature extractor class"
   ]
  },
  {
   "cell_type": "code",
   "execution_count": 94,
   "metadata": {},
   "outputs": [],
   "source": [
    "from phishing_domain_detection.entity.feature_extractor import FeatureExtractor"
   ]
  },
  {
   "cell_type": "code",
   "execution_count": 95,
   "metadata": {},
   "outputs": [],
   "source": [
    "fe = FeatureExtractor()"
   ]
  },
  {
   "cell_type": "code",
   "execution_count": 104,
   "metadata": {},
   "outputs": [],
   "source": [
    "urls = [https_url,\"https://bloqueioltau.site/Sublime_Sublime_1084356737/Risos_Mae_560734658/#&token=1810416138\",\"https://www.geeksforgeeks.com/\",\"https://ip-72-182-82-263.ip.gw-designs.de/index2.php\",\"adadasrfsrwrw4wrwsdsdfsddada\"]"
   ]
  },
  {
   "cell_type": "code",
   "execution_count": 105,
   "metadata": {},
   "outputs": [
    {
     "name": "stdout",
     "output_type": "stream",
     "text": [
      "Error trying to connect to socket: closing socket - [Errno 11001] getaddrinfo failed\n"
     ]
    }
   ],
   "source": [
    "temp = fe.generate_dataframe_from_urls(urls)"
   ]
  },
  {
   "cell_type": "code",
   "execution_count": 106,
   "metadata": {},
   "outputs": [
    {
     "data": {
      "text/html": [
       "<div>\n",
       "<style scoped>\n",
       "    .dataframe tbody tr th:only-of-type {\n",
       "        vertical-align: middle;\n",
       "    }\n",
       "\n",
       "    .dataframe tbody tr th {\n",
       "        vertical-align: top;\n",
       "    }\n",
       "\n",
       "    .dataframe thead th {\n",
       "        text-align: right;\n",
       "    }\n",
       "</style>\n",
       "<table border=\"1\" class=\"dataframe\">\n",
       "  <thead>\n",
       "    <tr style=\"text-align: right;\">\n",
       "      <th></th>\n",
       "      <th>directory_length</th>\n",
       "      <th>time_domain_activation</th>\n",
       "      <th>length_url</th>\n",
       "      <th>file_length</th>\n",
       "      <th>qty_slash_url</th>\n",
       "      <th>qty_plus_directory</th>\n",
       "      <th>domain_length</th>\n",
       "      <th>qty_vowels_domain</th>\n",
       "      <th>qty_asterisk_directory</th>\n",
       "      <th>qty_hyphen_directory</th>\n",
       "      <th>...</th>\n",
       "      <th>qty_hyphen_domain</th>\n",
       "      <th>params_length</th>\n",
       "      <th>qty_underline_url</th>\n",
       "      <th>qty_tld_url</th>\n",
       "      <th>qty_plus_params</th>\n",
       "      <th>qty_percent_url</th>\n",
       "      <th>qty_equal_params</th>\n",
       "      <th>qty_dot_params</th>\n",
       "      <th>qty_percent_params</th>\n",
       "      <th>qty_underline_params</th>\n",
       "    </tr>\n",
       "  </thead>\n",
       "  <tbody>\n",
       "    <tr>\n",
       "      <th>0</th>\n",
       "      <td>8</td>\n",
       "      <td>-1</td>\n",
       "      <td>28</td>\n",
       "      <td>-1</td>\n",
       "      <td>3</td>\n",
       "      <td>0</td>\n",
       "      <td>11</td>\n",
       "      <td>3</td>\n",
       "      <td>0</td>\n",
       "      <td>0</td>\n",
       "      <td>...</td>\n",
       "      <td>0</td>\n",
       "      <td>-1</td>\n",
       "      <td>0</td>\n",
       "      <td>3</td>\n",
       "      <td>-1</td>\n",
       "      <td>0</td>\n",
       "      <td>-1</td>\n",
       "      <td>-1</td>\n",
       "      <td>-1</td>\n",
       "      <td>-1</td>\n",
       "    </tr>\n",
       "    <tr>\n",
       "      <th>0</th>\n",
       "      <td>26</td>\n",
       "      <td>-1</td>\n",
       "      <td>91</td>\n",
       "      <td>19</td>\n",
       "      <td>5</td>\n",
       "      <td>0</td>\n",
       "      <td>17</td>\n",
       "      <td>9</td>\n",
       "      <td>0</td>\n",
       "      <td>0</td>\n",
       "      <td>...</td>\n",
       "      <td>0</td>\n",
       "      <td>18</td>\n",
       "      <td>4</td>\n",
       "      <td>4</td>\n",
       "      <td>0</td>\n",
       "      <td>0</td>\n",
       "      <td>1</td>\n",
       "      <td>0</td>\n",
       "      <td>0</td>\n",
       "      <td>0</td>\n",
       "    </tr>\n",
       "    <tr>\n",
       "      <th>0</th>\n",
       "      <td>-1</td>\n",
       "      <td>4864</td>\n",
       "      <td>30</td>\n",
       "      <td>-1</td>\n",
       "      <td>3</td>\n",
       "      <td>0</td>\n",
       "      <td>21</td>\n",
       "      <td>6</td>\n",
       "      <td>-1</td>\n",
       "      <td>-1</td>\n",
       "      <td>...</td>\n",
       "      <td>0</td>\n",
       "      <td>-1</td>\n",
       "      <td>0</td>\n",
       "      <td>3</td>\n",
       "      <td>-1</td>\n",
       "      <td>0</td>\n",
       "      <td>-1</td>\n",
       "      <td>-1</td>\n",
       "      <td>-1</td>\n",
       "      <td>-1</td>\n",
       "    </tr>\n",
       "    <tr>\n",
       "      <th>0</th>\n",
       "      <td>10</td>\n",
       "      <td>-1</td>\n",
       "      <td>52</td>\n",
       "      <td>-1</td>\n",
       "      <td>3</td>\n",
       "      <td>0</td>\n",
       "      <td>33</td>\n",
       "      <td>5</td>\n",
       "      <td>0</td>\n",
       "      <td>0</td>\n",
       "      <td>...</td>\n",
       "      <td>5</td>\n",
       "      <td>-1</td>\n",
       "      <td>0</td>\n",
       "      <td>2</td>\n",
       "      <td>-1</td>\n",
       "      <td>0</td>\n",
       "      <td>-1</td>\n",
       "      <td>-1</td>\n",
       "      <td>-1</td>\n",
       "      <td>-1</td>\n",
       "    </tr>\n",
       "    <tr>\n",
       "      <th>0</th>\n",
       "      <td>-1</td>\n",
       "      <td>-1</td>\n",
       "      <td>28</td>\n",
       "      <td>-1</td>\n",
       "      <td>0</td>\n",
       "      <td>0</td>\n",
       "      <td>0</td>\n",
       "      <td>0</td>\n",
       "      <td>-1</td>\n",
       "      <td>-1</td>\n",
       "      <td>...</td>\n",
       "      <td>0</td>\n",
       "      <td>-1</td>\n",
       "      <td>0</td>\n",
       "      <td>0</td>\n",
       "      <td>-1</td>\n",
       "      <td>0</td>\n",
       "      <td>-1</td>\n",
       "      <td>-1</td>\n",
       "      <td>-1</td>\n",
       "      <td>-1</td>\n",
       "    </tr>\n",
       "  </tbody>\n",
       "</table>\n",
       "<p>5 rows × 26 columns</p>\n",
       "</div>"
      ],
      "text/plain": [
       "  directory_length time_domain_activation length_url file_length  \\\n",
       "0                8                     -1         28          -1   \n",
       "0               26                     -1         91          19   \n",
       "0               -1                   4864         30          -1   \n",
       "0               10                     -1         52          -1   \n",
       "0               -1                     -1         28          -1   \n",
       "\n",
       "  qty_slash_url qty_plus_directory domain_length qty_vowels_domain  \\\n",
       "0             3                  0            11                 3   \n",
       "0             5                  0            17                 9   \n",
       "0             3                  0            21                 6   \n",
       "0             3                  0            33                 5   \n",
       "0             0                  0             0                 0   \n",
       "\n",
       "  qty_asterisk_directory qty_hyphen_directory  ... qty_hyphen_domain  \\\n",
       "0                      0                    0  ...                 0   \n",
       "0                      0                    0  ...                 0   \n",
       "0                     -1                   -1  ...                 0   \n",
       "0                      0                    0  ...                 5   \n",
       "0                     -1                   -1  ...                 0   \n",
       "\n",
       "  params_length qty_underline_url qty_tld_url qty_plus_params qty_percent_url  \\\n",
       "0            -1                 0           3              -1               0   \n",
       "0            18                 4           4               0               0   \n",
       "0            -1                 0           3              -1               0   \n",
       "0            -1                 0           2              -1               0   \n",
       "0            -1                 0           0              -1               0   \n",
       "\n",
       "  qty_equal_params qty_dot_params qty_percent_params qty_underline_params  \n",
       "0               -1             -1                 -1                   -1  \n",
       "0                1              0                  0                    0  \n",
       "0               -1             -1                 -1                   -1  \n",
       "0               -1             -1                 -1                   -1  \n",
       "0               -1             -1                 -1                   -1  \n",
       "\n",
       "[5 rows x 26 columns]"
      ]
     },
     "execution_count": 106,
     "metadata": {},
     "output_type": "execute_result"
    }
   ],
   "source": [
    "temp"
   ]
  },
  {
   "cell_type": "code",
   "execution_count": 107,
   "metadata": {},
   "outputs": [
    {
     "data": {
      "text/plain": [
       "array([1, 1, 0, 1, 0])"
      ]
     },
     "execution_count": 107,
     "metadata": {},
     "output_type": "execute_result"
    }
   ],
   "source": [
    "model.predict(temp)"
   ]
  },
  {
   "cell_type": "code",
   "execution_count": 108,
   "metadata": {},
   "outputs": [
    {
     "data": {
      "text/plain": [
       "array([[0.15175758, 0.84824242],\n",
       "       [0.0215    , 0.9785    ],\n",
       "       [0.89595238, 0.10404762],\n",
       "       [0.14488528, 0.85511472],\n",
       "       [0.72594048, 0.27405952]])"
      ]
     },
     "execution_count": 108,
     "metadata": {},
     "output_type": "execute_result"
    }
   ],
   "source": [
    "model.predict_proba(temp)"
   ]
  },
  {
   "cell_type": "code",
   "execution_count": null,
   "metadata": {},
   "outputs": [],
   "source": []
  }
 ],
 "metadata": {
  "kernelspec": {
   "display_name": "Python 3.7.0 (conda)",
   "language": "python",
   "name": "python3"
  },
  "language_info": {
   "codemirror_mode": {
    "name": "ipython",
    "version": 3
   },
   "file_extension": ".py",
   "mimetype": "text/x-python",
   "name": "python",
   "nbconvert_exporter": "python",
   "pygments_lexer": "ipython3",
   "version": "3.7.0"
  },
  "orig_nbformat": 4,
  "vscode": {
   "interpreter": {
    "hash": "3076e57f7e845b049a649ef4bfee429470fec951874b133ec4bf7644af5a1074"
   }
  }
 },
 "nbformat": 4,
 "nbformat_minor": 2
}
