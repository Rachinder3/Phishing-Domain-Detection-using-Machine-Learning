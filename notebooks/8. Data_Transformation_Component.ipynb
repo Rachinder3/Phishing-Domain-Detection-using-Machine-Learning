{
 "cells": [
  {
   "cell_type": "markdown",
   "metadata": {},
   "source": [
    "# Checking Data Transformation Config"
   ]
  },
  {
   "cell_type": "code",
   "execution_count": 1,
   "metadata": {},
   "outputs": [],
   "source": [
    "import os"
   ]
  },
  {
   "cell_type": "code",
   "execution_count": 2,
   "metadata": {},
   "outputs": [],
   "source": [
    "os.chdir('..')"
   ]
  },
  {
   "cell_type": "code",
   "execution_count": 3,
   "metadata": {},
   "outputs": [],
   "source": [
    "from phishing_domain_detection.config.configuration import Configuration"
   ]
  },
  {
   "cell_type": "code",
   "execution_count": 4,
   "metadata": {},
   "outputs": [],
   "source": [
    "config = Configuration()"
   ]
  },
  {
   "cell_type": "code",
   "execution_count": 5,
   "metadata": {},
   "outputs": [
    {
     "data": {
      "text/plain": [
       "DataTransformationConfig(use_box_cox_transformation=False, transformed_train_dir='c:\\\\Users\\\\rachi\\\\Desktop\\\\inueuron\\\\PERSONAL PROJECTS\\\\Phishing-Domain-Detection-using-Machine-Learning\\\\phishing_domain_detection\\\\artifacts\\\\data_transformation\\\\2022-08-18_17-55-55\\\\transformed_data\\\\train', transformed_test_dir='c:\\\\Users\\\\rachi\\\\Desktop\\\\inueuron\\\\PERSONAL PROJECTS\\\\Phishing-Domain-Detection-using-Machine-Learning\\\\phishing_domain_detection\\\\artifacts\\\\data_transformation\\\\2022-08-18_17-55-55\\\\transformed_data\\\\test', preprocessed_object_file_path='c:\\\\Users\\\\rachi\\\\Desktop\\\\inueuron\\\\PERSONAL PROJECTS\\\\Phishing-Domain-Detection-using-Machine-Learning\\\\phishing_domain_detection\\\\artifacts\\\\data_transformation\\\\2022-08-18_17-55-55\\\\preprocessed\\\\preprocessed.joblib')"
      ]
     },
     "execution_count": 5,
     "metadata": {},
     "output_type": "execute_result"
    }
   ],
   "source": [
    "config.get_data_transformation_config()"
   ]
  },
  {
   "cell_type": "markdown",
   "metadata": {},
   "source": [
    "# Load function"
   ]
  },
  {
   "cell_type": "code",
   "execution_count": 6,
   "metadata": {},
   "outputs": [],
   "source": [
    "schema_file_path = \"config\\\\schema.yaml\""
   ]
  },
  {
   "cell_type": "markdown",
   "metadata": {},
   "source": []
  },
  {
   "cell_type": "code",
   "execution_count": 7,
   "metadata": {},
   "outputs": [],
   "source": [
    "file_path = \"phishing_domain_detection\\\\artifacts\\\\data_ingestion\\\\2022-08-17_17-34-13\\\\ingested_data\\\\train\\\\phishing_full\""
   ]
  },
  {
   "cell_type": "code",
   "execution_count": 8,
   "metadata": {},
   "outputs": [],
   "source": [
    "from phishing_domain_detection.util.util import *"
   ]
  },
  {
   "cell_type": "code",
   "execution_count": 9,
   "metadata": {},
   "outputs": [],
   "source": [
    "from phishing_domain_detection.util import *"
   ]
  },
  {
   "cell_type": "code",
   "execution_count": 10,
   "metadata": {},
   "outputs": [
    {
     "name": "stdout",
     "output_type": "stream",
     "text": [
      "{'directory_length': 'int64', 'domain_length': 'int64', 'file_length': 'int64', 'length_url': 'int64', 'params_length': 'int64', 'qty_asterisk_directory': 'int64', 'qty_dot_domain': 'int64', 'qty_dot_params': 'int64', 'qty_dot_url': 'int64', 'qty_equal_params': 'int64', 'qty_hyphen_directory': 'int64', 'qty_hyphen_domain': 'int64', 'qty_hyphen_file': 'int64', 'qty_hyphen_url': 'int64', 'qty_percent_directory': 'int64', 'qty_percent_params': 'int64', 'qty_percent_url': 'int64', 'qty_plus_directory': 'int64', 'qty_plus_params': 'int64', 'qty_slash_url': 'int64', 'qty_tld_url': 'int64', 'qty_underline_directory': 'int64', 'qty_underline_params': 'int64', 'qty_underline_url': 'int64', 'qty_vowels_domain': 'int64', 'time_domain_activation': 'int64', 'phishing': 'int64'}\n"
     ]
    },
    {
     "data": {
      "text/html": [
       "<div>\n",
       "<style scoped>\n",
       "    .dataframe tbody tr th:only-of-type {\n",
       "        vertical-align: middle;\n",
       "    }\n",
       "\n",
       "    .dataframe tbody tr th {\n",
       "        vertical-align: top;\n",
       "    }\n",
       "\n",
       "    .dataframe thead th {\n",
       "        text-align: right;\n",
       "    }\n",
       "</style>\n",
       "<table border=\"1\" class=\"dataframe\">\n",
       "  <thead>\n",
       "    <tr style=\"text-align: right;\">\n",
       "      <th></th>\n",
       "      <th>directory_length</th>\n",
       "      <th>time_domain_activation</th>\n",
       "      <th>length_url</th>\n",
       "      <th>file_length</th>\n",
       "      <th>qty_slash_url</th>\n",
       "      <th>qty_plus_directory</th>\n",
       "      <th>domain_length</th>\n",
       "      <th>qty_vowels_domain</th>\n",
       "      <th>qty_asterisk_directory</th>\n",
       "      <th>qty_hyphen_directory</th>\n",
       "      <th>...</th>\n",
       "      <th>params_length</th>\n",
       "      <th>qty_underline_url</th>\n",
       "      <th>qty_tld_url</th>\n",
       "      <th>qty_plus_params</th>\n",
       "      <th>qty_percent_url</th>\n",
       "      <th>qty_equal_params</th>\n",
       "      <th>qty_dot_params</th>\n",
       "      <th>qty_percent_params</th>\n",
       "      <th>qty_underline_params</th>\n",
       "      <th>phishing</th>\n",
       "    </tr>\n",
       "  </thead>\n",
       "  <tbody>\n",
       "    <tr>\n",
       "      <th>0</th>\n",
       "      <td>-1</td>\n",
       "      <td>6659</td>\n",
       "      <td>26</td>\n",
       "      <td>-1</td>\n",
       "      <td>0</td>\n",
       "      <td>-1</td>\n",
       "      <td>26</td>\n",
       "      <td>7</td>\n",
       "      <td>-1</td>\n",
       "      <td>-1</td>\n",
       "      <td>...</td>\n",
       "      <td>-1</td>\n",
       "      <td>0</td>\n",
       "      <td>1</td>\n",
       "      <td>-1</td>\n",
       "      <td>0</td>\n",
       "      <td>-1</td>\n",
       "      <td>-1</td>\n",
       "      <td>-1</td>\n",
       "      <td>-1</td>\n",
       "      <td>0</td>\n",
       "    </tr>\n",
       "    <tr>\n",
       "      <th>1</th>\n",
       "      <td>1</td>\n",
       "      <td>7078</td>\n",
       "      <td>19</td>\n",
       "      <td>0</td>\n",
       "      <td>1</td>\n",
       "      <td>0</td>\n",
       "      <td>18</td>\n",
       "      <td>5</td>\n",
       "      <td>0</td>\n",
       "      <td>0</td>\n",
       "      <td>...</td>\n",
       "      <td>-1</td>\n",
       "      <td>0</td>\n",
       "      <td>1</td>\n",
       "      <td>-1</td>\n",
       "      <td>0</td>\n",
       "      <td>-1</td>\n",
       "      <td>-1</td>\n",
       "      <td>-1</td>\n",
       "      <td>-1</td>\n",
       "      <td>0</td>\n",
       "    </tr>\n",
       "    <tr>\n",
       "      <th>2</th>\n",
       "      <td>19</td>\n",
       "      <td>1233</td>\n",
       "      <td>32</td>\n",
       "      <td>0</td>\n",
       "      <td>4</td>\n",
       "      <td>0</td>\n",
       "      <td>13</td>\n",
       "      <td>6</td>\n",
       "      <td>0</td>\n",
       "      <td>0</td>\n",
       "      <td>...</td>\n",
       "      <td>-1</td>\n",
       "      <td>0</td>\n",
       "      <td>1</td>\n",
       "      <td>-1</td>\n",
       "      <td>0</td>\n",
       "      <td>-1</td>\n",
       "      <td>-1</td>\n",
       "      <td>-1</td>\n",
       "      <td>-1</td>\n",
       "      <td>1</td>\n",
       "    </tr>\n",
       "    <tr>\n",
       "      <th>3</th>\n",
       "      <td>1</td>\n",
       "      <td>3519</td>\n",
       "      <td>14</td>\n",
       "      <td>0</td>\n",
       "      <td>1</td>\n",
       "      <td>0</td>\n",
       "      <td>13</td>\n",
       "      <td>4</td>\n",
       "      <td>0</td>\n",
       "      <td>0</td>\n",
       "      <td>...</td>\n",
       "      <td>-1</td>\n",
       "      <td>0</td>\n",
       "      <td>1</td>\n",
       "      <td>-1</td>\n",
       "      <td>0</td>\n",
       "      <td>-1</td>\n",
       "      <td>-1</td>\n",
       "      <td>-1</td>\n",
       "      <td>-1</td>\n",
       "      <td>0</td>\n",
       "    </tr>\n",
       "    <tr>\n",
       "      <th>4</th>\n",
       "      <td>1</td>\n",
       "      <td>3460</td>\n",
       "      <td>27</td>\n",
       "      <td>0</td>\n",
       "      <td>1</td>\n",
       "      <td>0</td>\n",
       "      <td>26</td>\n",
       "      <td>8</td>\n",
       "      <td>0</td>\n",
       "      <td>0</td>\n",
       "      <td>...</td>\n",
       "      <td>-1</td>\n",
       "      <td>0</td>\n",
       "      <td>1</td>\n",
       "      <td>-1</td>\n",
       "      <td>0</td>\n",
       "      <td>-1</td>\n",
       "      <td>-1</td>\n",
       "      <td>-1</td>\n",
       "      <td>-1</td>\n",
       "      <td>0</td>\n",
       "    </tr>\n",
       "    <tr>\n",
       "      <th>...</th>\n",
       "      <td>...</td>\n",
       "      <td>...</td>\n",
       "      <td>...</td>\n",
       "      <td>...</td>\n",
       "      <td>...</td>\n",
       "      <td>...</td>\n",
       "      <td>...</td>\n",
       "      <td>...</td>\n",
       "      <td>...</td>\n",
       "      <td>...</td>\n",
       "      <td>...</td>\n",
       "      <td>...</td>\n",
       "      <td>...</td>\n",
       "      <td>...</td>\n",
       "      <td>...</td>\n",
       "      <td>...</td>\n",
       "      <td>...</td>\n",
       "      <td>...</td>\n",
       "      <td>...</td>\n",
       "      <td>...</td>\n",
       "      <td>...</td>\n",
       "    </tr>\n",
       "    <tr>\n",
       "      <th>70912</th>\n",
       "      <td>1</td>\n",
       "      <td>-1</td>\n",
       "      <td>15</td>\n",
       "      <td>0</td>\n",
       "      <td>1</td>\n",
       "      <td>0</td>\n",
       "      <td>14</td>\n",
       "      <td>5</td>\n",
       "      <td>0</td>\n",
       "      <td>0</td>\n",
       "      <td>...</td>\n",
       "      <td>-1</td>\n",
       "      <td>0</td>\n",
       "      <td>1</td>\n",
       "      <td>-1</td>\n",
       "      <td>0</td>\n",
       "      <td>-1</td>\n",
       "      <td>-1</td>\n",
       "      <td>-1</td>\n",
       "      <td>-1</td>\n",
       "      <td>0</td>\n",
       "    </tr>\n",
       "    <tr>\n",
       "      <th>70913</th>\n",
       "      <td>-1</td>\n",
       "      <td>6767</td>\n",
       "      <td>15</td>\n",
       "      <td>-1</td>\n",
       "      <td>0</td>\n",
       "      <td>-1</td>\n",
       "      <td>15</td>\n",
       "      <td>4</td>\n",
       "      <td>-1</td>\n",
       "      <td>-1</td>\n",
       "      <td>...</td>\n",
       "      <td>-1</td>\n",
       "      <td>0</td>\n",
       "      <td>1</td>\n",
       "      <td>-1</td>\n",
       "      <td>0</td>\n",
       "      <td>-1</td>\n",
       "      <td>-1</td>\n",
       "      <td>-1</td>\n",
       "      <td>-1</td>\n",
       "      <td>0</td>\n",
       "    </tr>\n",
       "    <tr>\n",
       "      <th>70914</th>\n",
       "      <td>56</td>\n",
       "      <td>88</td>\n",
       "      <td>77</td>\n",
       "      <td>0</td>\n",
       "      <td>6</td>\n",
       "      <td>0</td>\n",
       "      <td>21</td>\n",
       "      <td>6</td>\n",
       "      <td>0</td>\n",
       "      <td>3</td>\n",
       "      <td>...</td>\n",
       "      <td>-1</td>\n",
       "      <td>0</td>\n",
       "      <td>1</td>\n",
       "      <td>-1</td>\n",
       "      <td>0</td>\n",
       "      <td>-1</td>\n",
       "      <td>-1</td>\n",
       "      <td>-1</td>\n",
       "      <td>-1</td>\n",
       "      <td>1</td>\n",
       "    </tr>\n",
       "    <tr>\n",
       "      <th>70915</th>\n",
       "      <td>28</td>\n",
       "      <td>1914</td>\n",
       "      <td>48</td>\n",
       "      <td>9</td>\n",
       "      <td>5</td>\n",
       "      <td>0</td>\n",
       "      <td>20</td>\n",
       "      <td>6</td>\n",
       "      <td>0</td>\n",
       "      <td>0</td>\n",
       "      <td>...</td>\n",
       "      <td>-1</td>\n",
       "      <td>0</td>\n",
       "      <td>1</td>\n",
       "      <td>-1</td>\n",
       "      <td>0</td>\n",
       "      <td>-1</td>\n",
       "      <td>-1</td>\n",
       "      <td>-1</td>\n",
       "      <td>-1</td>\n",
       "      <td>1</td>\n",
       "    </tr>\n",
       "    <tr>\n",
       "      <th>70916</th>\n",
       "      <td>17</td>\n",
       "      <td>1891</td>\n",
       "      <td>54</td>\n",
       "      <td>10</td>\n",
       "      <td>2</td>\n",
       "      <td>0</td>\n",
       "      <td>21</td>\n",
       "      <td>5</td>\n",
       "      <td>0</td>\n",
       "      <td>0</td>\n",
       "      <td>...</td>\n",
       "      <td>16</td>\n",
       "      <td>1</td>\n",
       "      <td>1</td>\n",
       "      <td>0</td>\n",
       "      <td>0</td>\n",
       "      <td>1</td>\n",
       "      <td>0</td>\n",
       "      <td>0</td>\n",
       "      <td>1</td>\n",
       "      <td>1</td>\n",
       "    </tr>\n",
       "  </tbody>\n",
       "</table>\n",
       "<p>70917 rows × 27 columns</p>\n",
       "</div>"
      ],
      "text/plain": [
       "       directory_length  time_domain_activation  length_url  file_length  \\\n",
       "0                    -1                    6659          26           -1   \n",
       "1                     1                    7078          19            0   \n",
       "2                    19                    1233          32            0   \n",
       "3                     1                    3519          14            0   \n",
       "4                     1                    3460          27            0   \n",
       "...                 ...                     ...         ...          ...   \n",
       "70912                 1                      -1          15            0   \n",
       "70913                -1                    6767          15           -1   \n",
       "70914                56                      88          77            0   \n",
       "70915                28                    1914          48            9   \n",
       "70916                17                    1891          54           10   \n",
       "\n",
       "       qty_slash_url  qty_plus_directory  domain_length  qty_vowels_domain  \\\n",
       "0                  0                  -1             26                  7   \n",
       "1                  1                   0             18                  5   \n",
       "2                  4                   0             13                  6   \n",
       "3                  1                   0             13                  4   \n",
       "4                  1                   0             26                  8   \n",
       "...              ...                 ...            ...                ...   \n",
       "70912              1                   0             14                  5   \n",
       "70913              0                  -1             15                  4   \n",
       "70914              6                   0             21                  6   \n",
       "70915              5                   0             20                  6   \n",
       "70916              2                   0             21                  5   \n",
       "\n",
       "       qty_asterisk_directory  qty_hyphen_directory  ...  params_length  \\\n",
       "0                          -1                    -1  ...             -1   \n",
       "1                           0                     0  ...             -1   \n",
       "2                           0                     0  ...             -1   \n",
       "3                           0                     0  ...             -1   \n",
       "4                           0                     0  ...             -1   \n",
       "...                       ...                   ...  ...            ...   \n",
       "70912                       0                     0  ...             -1   \n",
       "70913                      -1                    -1  ...             -1   \n",
       "70914                       0                     3  ...             -1   \n",
       "70915                       0                     0  ...             -1   \n",
       "70916                       0                     0  ...             16   \n",
       "\n",
       "       qty_underline_url  qty_tld_url  qty_plus_params  qty_percent_url  \\\n",
       "0                      0            1               -1                0   \n",
       "1                      0            1               -1                0   \n",
       "2                      0            1               -1                0   \n",
       "3                      0            1               -1                0   \n",
       "4                      0            1               -1                0   \n",
       "...                  ...          ...              ...              ...   \n",
       "70912                  0            1               -1                0   \n",
       "70913                  0            1               -1                0   \n",
       "70914                  0            1               -1                0   \n",
       "70915                  0            1               -1                0   \n",
       "70916                  1            1                0                0   \n",
       "\n",
       "       qty_equal_params  qty_dot_params  qty_percent_params  \\\n",
       "0                    -1              -1                  -1   \n",
       "1                    -1              -1                  -1   \n",
       "2                    -1              -1                  -1   \n",
       "3                    -1              -1                  -1   \n",
       "4                    -1              -1                  -1   \n",
       "...                 ...             ...                 ...   \n",
       "70912                -1              -1                  -1   \n",
       "70913                -1              -1                  -1   \n",
       "70914                -1              -1                  -1   \n",
       "70915                -1              -1                  -1   \n",
       "70916                 1               0                   0   \n",
       "\n",
       "       qty_underline_params  phishing  \n",
       "0                        -1         0  \n",
       "1                        -1         0  \n",
       "2                        -1         1  \n",
       "3                        -1         0  \n",
       "4                        -1         0  \n",
       "...                     ...       ...  \n",
       "70912                    -1         0  \n",
       "70913                    -1         0  \n",
       "70914                    -1         1  \n",
       "70915                    -1         1  \n",
       "70916                     1         1  \n",
       "\n",
       "[70917 rows x 27 columns]"
      ]
     },
     "execution_count": 10,
     "metadata": {},
     "output_type": "execute_result"
    }
   ],
   "source": [
    "load_data(file_path,schema_file_path)"
   ]
  },
  {
   "cell_type": "markdown",
   "metadata": {},
   "source": [
    "# Save and Load Functions"
   ]
  },
  {
   "cell_type": "code",
   "execution_count": 11,
   "metadata": {},
   "outputs": [],
   "source": [
    "import numpy as np"
   ]
  },
  {
   "cell_type": "code",
   "execution_count": 12,
   "metadata": {},
   "outputs": [],
   "source": [
    "x = np.arange(10)"
   ]
  },
  {
   "cell_type": "code",
   "execution_count": null,
   "metadata": {},
   "outputs": [],
   "source": []
  },
  {
   "cell_type": "code",
   "execution_count": 14,
   "metadata": {},
   "outputs": [],
   "source": [
    "save_numpy_array_data(\"temp\\\\temp.npz\",x)"
   ]
  },
  {
   "cell_type": "code",
   "execution_count": 15,
   "metadata": {},
   "outputs": [
    {
     "data": {
      "text/plain": [
       "array([0, 1, 2, 3, 4, 5, 6, 7, 8, 9])"
      ]
     },
     "execution_count": 15,
     "metadata": {},
     "output_type": "execute_result"
    }
   ],
   "source": [
    "load_numpy_array_data(\"temp\\\\temp.npz\")"
   ]
  },
  {
   "cell_type": "markdown",
   "metadata": {},
   "source": [
    "## Final Function"
   ]
  },
  {
   "cell_type": "code",
   "execution_count": 16,
   "metadata": {},
   "outputs": [],
   "source": [
    "path = \"c:\\\\Users\\\\rachi\\\\Desktop\\\\inueuron\\\\PERSONAL PROJECTS\\\\Phishing-Domain-Detection-using-Machine-Learning\\\\phishing_domain_detection\\\\artifacts\\\\data_ingestion\\\\2022-08-15_01-06-17\\\\ingested_data\\\\train\\\\phishing_full\""
   ]
  },
  {
   "cell_type": "code",
   "execution_count": 18,
   "metadata": {},
   "outputs": [
    {
     "data": {
      "text/plain": [
       "'phishing_full.npz'"
      ]
     },
     "execution_count": 18,
     "metadata": {},
     "output_type": "execute_result"
    }
   ],
   "source": [
    "os.path.basename(path)+\".npz\""
   ]
  },
  {
   "cell_type": "code",
   "execution_count": 19,
   "metadata": {},
   "outputs": [],
   "source": [
    "from phishing_domain_detection.config.configuration import Configuration"
   ]
  },
  {
   "cell_type": "code",
   "execution_count": 21,
   "metadata": {},
   "outputs": [],
   "source": [
    "config = Configuration()"
   ]
  },
  {
   "cell_type": "code",
   "execution_count": 22,
   "metadata": {},
   "outputs": [
    {
     "data": {
      "text/plain": [
       "DataTransformationConfig(use_box_cox_transformation=False, transformed_train_dir='c:\\\\Users\\\\rachi\\\\Desktop\\\\inueuron\\\\PERSONAL PROJECTS\\\\Phishing-Domain-Detection-using-Machine-Learning\\\\phishing_domain_detection\\\\artifacts\\\\data_transformation\\\\2022-08-18_17-55-55\\\\transformed_data\\\\train', transformed_test_dir='c:\\\\Users\\\\rachi\\\\Desktop\\\\inueuron\\\\PERSONAL PROJECTS\\\\Phishing-Domain-Detection-using-Machine-Learning\\\\phishing_domain_detection\\\\artifacts\\\\data_transformation\\\\2022-08-18_17-55-55\\\\transformed_data\\\\test', preprocessed_object_file_path='c:\\\\Users\\\\rachi\\\\Desktop\\\\inueuron\\\\PERSONAL PROJECTS\\\\Phishing-Domain-Detection-using-Machine-Learning\\\\phishing_domain_detection\\\\artifacts\\\\data_transformation\\\\2022-08-18_17-55-55\\\\preprocessed\\\\preprocessed.joblib')"
      ]
     },
     "execution_count": 22,
     "metadata": {},
     "output_type": "execute_result"
    }
   ],
   "source": [
    "config.get_data_transformation_config()"
   ]
  },
  {
   "cell_type": "code",
   "execution_count": null,
   "metadata": {},
   "outputs": [],
   "source": []
  }
 ],
 "metadata": {
  "kernelspec": {
   "display_name": "Python 3.7.0 (conda)",
   "language": "python",
   "name": "python3"
  },
  "language_info": {
   "codemirror_mode": {
    "name": "ipython",
    "version": 3
   },
   "file_extension": ".py",
   "mimetype": "text/x-python",
   "name": "python",
   "nbconvert_exporter": "python",
   "pygments_lexer": "ipython3",
   "version": "3.7.0"
  },
  "orig_nbformat": 4,
  "vscode": {
   "interpreter": {
    "hash": "3076e57f7e845b049a649ef4bfee429470fec951874b133ec4bf7644af5a1074"
   }
  }
 },
 "nbformat": 4,
 "nbformat_minor": 2
}
